{
 "cells": [
  {
   "cell_type": "code",
   "execution_count": 1,
   "id": "lined-conditions",
   "metadata": {},
   "outputs": [],
   "source": [
    "import pandas as pd\n",
    "import numpy as np\n",
    "from scipy.io import mmread\n",
    "import scipy.sparse as sparse"
   ]
  },
  {
   "cell_type": "code",
   "execution_count": 2,
   "id": "assumed-truck",
   "metadata": {},
   "outputs": [],
   "source": [
    "%load_ext py5\n",
    "%gui osx\n",
    "%load_ext autoreload\n",
    "%autoreload 2"
   ]
  },
  {
   "cell_type": "raw",
   "id": "037c507d-4383-42b3-b3b0-fa2677c3dc1c",
   "metadata": {
    "tags": []
   },
   "source": [
    "print('DOWNLOADING AND EXTRACTING EXAMPLE DATA')\n",
    "! mkdir -p ../data\n",
    "! wget https://www.dropbox.com/s/n3dbhu03845qwmb/Tcell50K_expression_log2TP10K_20210409.barcodes.tsv -O ../../data/Tcell50K_expression_log2TP10K_20210409.barcodes.tsv\n",
    "! wget https://www.dropbox.com/s/8df9uc5yzxv8zob/Tcell50K_expression_log2TP10K_20210409.genes.tsv -O ../../data/Tcell50K_expression_log2TP10K_20210409.genes.tsv\n",
    "! wget https://www.dropbox.com/s/w0iklq4uifsyljn/Tcell50K_expression_log2TP10K_20210409.umap.tsv -O ../../data/Tcell50K_expression_log2TP10K_20210409.umap.tsv\n",
    "! wget https://www.dropbox.com/s/zewzv04mrfoggix/Tcell50K_expression_log2TP10K_20210409.mtx -O ../data/../Tcell50K_expression_log2TP10K_20210409.mtx"
   ]
  },
  {
   "cell_type": "code",
   "execution_count": 5,
   "id": "solar-linux",
   "metadata": {},
   "outputs": [
    {
     "name": "stdout",
     "output_type": "stream",
     "text": [
      "LOADING UMAP DATA...\n"
     ]
    },
    {
     "data": {
      "text/html": [
       "<div>\n",
       "<style scoped>\n",
       "    .dataframe tbody tr th:only-of-type {\n",
       "        vertical-align: middle;\n",
       "    }\n",
       "\n",
       "    .dataframe tbody tr th {\n",
       "        vertical-align: top;\n",
       "    }\n",
       "\n",
       "    .dataframe thead th {\n",
       "        text-align: right;\n",
       "    }\n",
       "</style>\n",
       "<table border=\"1\" class=\"dataframe\">\n",
       "  <thead>\n",
       "    <tr style=\"text-align: right;\">\n",
       "      <th></th>\n",
       "      <th>UMAP_1</th>\n",
       "      <th>UMAP_2</th>\n",
       "    </tr>\n",
       "  </thead>\n",
       "  <tbody>\n",
       "    <tr>\n",
       "      <th>AAACATACACCCAA-1</th>\n",
       "      <td>3.975246</td>\n",
       "      <td>10.370767</td>\n",
       "    </tr>\n",
       "    <tr>\n",
       "      <th>AAACATACCCCTCA-1</th>\n",
       "      <td>9.388674</td>\n",
       "      <td>1.431675</td>\n",
       "    </tr>\n",
       "    <tr>\n",
       "      <th>AAACATACCGGAGA-1</th>\n",
       "      <td>12.206055</td>\n",
       "      <td>11.943375</td>\n",
       "    </tr>\n",
       "    <tr>\n",
       "      <th>AAACATACTCTTCA-1</th>\n",
       "      <td>15.312049</td>\n",
       "      <td>-2.373958</td>\n",
       "    </tr>\n",
       "    <tr>\n",
       "      <th>AAACATACTGGATC-1</th>\n",
       "      <td>10.571509</td>\n",
       "      <td>-6.149192</td>\n",
       "    </tr>\n",
       "  </tbody>\n",
       "</table>\n",
       "</div>"
      ],
      "text/plain": [
       "                     UMAP_1     UMAP_2\n",
       "AAACATACACCCAA-1   3.975246  10.370767\n",
       "AAACATACCCCTCA-1   9.388674   1.431675\n",
       "AAACATACCGGAGA-1  12.206055  11.943375\n",
       "AAACATACTCTTCA-1  15.312049  -2.373958\n",
       "AAACATACTGGATC-1  10.571509  -6.149192"
      ]
     },
     "execution_count": 5,
     "metadata": {},
     "output_type": "execute_result"
    }
   ],
   "source": [
    "print(\"LOADING UMAP DATA...\")\n",
    "\n",
    "umap = pd.read_csv('../../data/Tcell50K_expression_log2TP10K_20210409.umap.tsv', sep='\\t', index_col=0)\n",
    "umap.head()"
   ]
  },
  {
   "cell_type": "code",
   "execution_count": 6,
   "id": "fourth-switzerland",
   "metadata": {},
   "outputs": [
    {
     "name": "stdout",
     "output_type": "stream",
     "text": [
      "LOADING GENE EXPRESSION DATA...\n"
     ]
    },
    {
     "data": {
      "text/plain": [
       "<52899x12563 sparse matrix of type '<class 'numpy.float64'>'\n",
       "\twith 28209469 stored elements in Compressed Sparse Column format>"
      ]
     },
     "execution_count": 6,
     "metadata": {},
     "output_type": "execute_result"
    }
   ],
   "source": [
    "print(\"LOADING GENE EXPRESSION DATA...\")\n",
    "\n",
    "expr_sparse = mmread('../../data/Tcell50K_expression_log2TP10K_20210409.mtx')\n",
    "expr_sparse = sparse.csc_matrix(expr_sparse)\n",
    "expr_sparse"
   ]
  },
  {
   "cell_type": "code",
   "execution_count": 7,
   "id": "champion-innocent",
   "metadata": {},
   "outputs": [],
   "source": [
    "genes = list(pd.read_csv('../../data/Tcell50K_expression_log2TP10K_20210409.genes.tsv', sep='\\t', header=None)[0])\n",
    "barcodes = list(pd.read_csv('../../data/Tcell50K_expression_log2TP10K_20210409.barcodes.tsv', sep='\\t', header=None)[0])"
   ]
  },
  {
   "cell_type": "code",
   "execution_count": 8,
   "id": "herbal-census",
   "metadata": {},
   "outputs": [
    {
     "name": "stdout",
     "output_type": "stream",
     "text": [
      "The autoreload extension is already loaded. To reload it, use:\n",
      "  %reload_ext autoreload\n",
      "1.6444332599639893 seconds to select and project cells\n",
      "Selected 5516 cells\n",
      "Calculating differential expression...\n",
      "0.3175079822540283 seconds to calculate genesums. Sparsity:  True\n",
      "1.414849042892456 seconds to calculate squared genesums. Sparsity:  True\n",
      "3.810309886932373 seconds to calculate differential expression. Sparsity:  True\n",
      "Selected gene NKG7\n",
      "Min/max expression level for gene NKG7 0.0 5.463\n",
      "Selected gene GNLY\n",
      "Min/max expression level for gene GNLY 0.0 6.0092\n",
      "Selected gene CCL5\n",
      "Min/max expression level for gene CCL5 0.0 5.743\n",
      "Selected gene GZMH\n",
      "Min/max expression level for gene GZMH 0.0 5.0314\n",
      "4.360908031463623 seconds to select and project cells\n",
      "Selected 38208 cells\n",
      "Calculating differential expression...\n",
      "1.8779041767120361 seconds to calculate differential expression. Sparsity:  True\n",
      "Selected gene LTB\n",
      "Min/max expression level for gene LTB 0.0 5.9866\n",
      "Selected gene LDHB\n",
      "Min/max expression level for gene LDHB 0.0 5.0228\n",
      "Selected gene RPL11\n",
      "Min/max expression level for gene RPL11 0.0 5.7148\n",
      "Selected gene RPL32\n",
      "Min/max expression level for gene RPL32 0.0 5.6152\n",
      "Selected gene CCR7\n",
      "Min/max expression level for gene CCR7 0.0 4.4797\n",
      "Selected gene CCL5\n",
      "Min/max expression level for gene CCL5 0.0 5.743\n",
      "Selected gene NKG7\n",
      "Min/max expression level for gene NKG7 0.0 5.463\n",
      "Selected gene GZMA\n",
      "Min/max expression level for gene GZMA 0.0 4.8103\n",
      "1.619863748550415 seconds to select and project cells\n",
      "Selected 11256 cells\n",
      "Calculating correlations...\n",
      "2.67238187789917 seconds to calculate correlations. Sparsity:  True\n",
      "Selected gene IER2\n",
      "Min/max expression level for gene IER2 0.0 5.083\n",
      "Selected gene MALAT1\n",
      "Min/max expression level for gene MALAT1 2.7251 7.1203\n",
      "2.909346103668213 seconds to select and project cells\n",
      "Selected 15985 cells\n",
      "Calculating correlations...\n",
      "2.203153133392334 seconds to calculate correlations. Sparsity:  True\n",
      "Selected gene IER2\n",
      "Min/max expression level for gene IER2 0.0 5.083\n",
      "Selected gene JUNB\n",
      "Min/max expression level for gene JUNB 0.0 5.2753\n",
      "Selected gene JUN\n",
      "Min/max expression level for gene JUN 0.0 5.1607\n",
      "Selected gene CD8B\n",
      "Min/max expression level for gene CD8B 0.0 4.8472\n",
      "3.002016067504883 seconds to select and project cells\n",
      "Selected 19026 cells\n",
      "Calculating correlations...\n",
      "1.685210943222046 seconds to calculate correlations. Sparsity:  True\n",
      "Selected gene CD8B\n",
      "Min/max expression level for gene CD8B 0.0 4.8472\n",
      "Selected gene CD8A\n",
      "Min/max expression level for gene CD8A 0.0 4.414\n",
      "Selected gene CD8B\n",
      "Min/max expression level for gene CD8B 0.0 4.8472\n",
      "1.7715699672698975 seconds to select and project cells\n",
      "Selected 9723 cells\n",
      "Calculating correlations...\n",
      "2.0189268589019775 seconds to calculate correlations. Sparsity:  True\n",
      "Selected gene NKG7\n",
      "Min/max expression level for gene NKG7 0.0 5.463\n",
      "Selected gene CCL5\n",
      "Min/max expression level for gene CCL5 0.0 5.743\n",
      "Selected gene GNLY\n",
      "Min/max expression level for gene GNLY 0.0 6.0092\n",
      "Selected gene GZMH\n",
      "Min/max expression level for gene GZMH 0.0 5.0314\n",
      "Selected gene GZMB\n",
      "Min/max expression level for gene GZMB 0.0 4.8742\n",
      "Selected gene GZMA\n",
      "Min/max expression level for gene GZMA 0.0 4.8103\n",
      "Selected gene LTB\n",
      "Min/max expression level for gene LTB 0.0 5.9866\n",
      "Selected gene CD27\n",
      "Min/max expression level for gene CD27 0.0 4.3316\n",
      "1.8274497985839844 seconds to select and project cells\n",
      "Selected 13031 cells\n",
      "Calculating differential expression...\n",
      "2.4963581562042236 seconds to calculate differential expression. Sparsity:  True\n",
      "Selected gene CCL5\n",
      "Min/max expression level for gene CCL5 0.0 5.743\n",
      "Selected gene NKG7\n",
      "Min/max expression level for gene NKG7 0.0 5.463\n",
      "Selected gene GZMA\n",
      "Min/max expression level for gene GZMA 0.0 4.8103\n",
      "Selected gene HLA-B\n",
      "Min/max expression level for gene HLA-B 0.0 5.5796\n",
      "Selected gene LTB\n",
      "Min/max expression level for gene LTB 0.0 5.9866\n",
      "Selected gene LDHB\n",
      "Min/max expression level for gene LDHB 0.0 5.0228\n",
      "Selected gene CCR7\n",
      "Min/max expression level for gene CCR7 0.0 4.4797\n"
     ]
    }
   ],
   "source": [
    "%load_ext autoreload\n",
    "%autoreload 2\n",
    "import sys\n",
    "sys.path.insert(0, '../../sciviewer')\n",
    "from sciviewer import SCIViewer\n",
    "\n",
    "## Remove the relative import . module imports in sciviewer.py and gui.py for this to work\n",
    "\n",
    "## This try / except block doesn't seem to close the sketch\n",
    "## on crashing for some reason\n",
    "\n",
    "try:\n",
    "    svobj = SCIViewer(umap, expr_sparse, gene_names=genes,\n",
    "                    cell_names=barcodes)\n",
    "    svobj.explore_data()\n",
    "except:\n",
    "    svobj.renderer.exit_sketch()   "
   ]
  },
  {
   "cell_type": "code",
   "execution_count": 23,
   "id": "intimate-chest",
   "metadata": {},
   "outputs": [
    {
     "data": {
      "text/html": [
       "<div>\n",
       "<style scoped>\n",
       "    .dataframe tbody tr th:only-of-type {\n",
       "        vertical-align: middle;\n",
       "    }\n",
       "\n",
       "    .dataframe tbody tr th {\n",
       "        vertical-align: top;\n",
       "    }\n",
       "\n",
       "    .dataframe thead th {\n",
       "        text-align: right;\n",
       "    }\n",
       "</style>\n",
       "<table border=\"1\" class=\"dataframe\">\n",
       "  <thead>\n",
       "    <tr style=\"text-align: right;\">\n",
       "      <th></th>\n",
       "      <th>R</th>\n",
       "      <th>P</th>\n",
       "    </tr>\n",
       "  </thead>\n",
       "  <tbody>\n",
       "    <tr>\n",
       "      <th>S100A4</th>\n",
       "      <td>-205.189633</td>\n",
       "      <td>0.0</td>\n",
       "    </tr>\n",
       "    <tr>\n",
       "      <th>IL32</th>\n",
       "      <td>-170.047202</td>\n",
       "      <td>0.0</td>\n",
       "    </tr>\n",
       "    <tr>\n",
       "      <th>CCL5</th>\n",
       "      <td>-168.797463</td>\n",
       "      <td>0.0</td>\n",
       "    </tr>\n",
       "    <tr>\n",
       "      <th>NKG7</th>\n",
       "      <td>-139.371245</td>\n",
       "      <td>0.0</td>\n",
       "    </tr>\n",
       "    <tr>\n",
       "      <th>B2M</th>\n",
       "      <td>-138.914805</td>\n",
       "      <td>0.0</td>\n",
       "    </tr>\n",
       "  </tbody>\n",
       "</table>\n",
       "</div>"
      ],
      "text/plain": [
       "                 R    P\n",
       "S100A4 -205.189633  0.0\n",
       "IL32   -170.047202  0.0\n",
       "CCL5   -168.797463  0.0\n",
       "NKG7   -139.371245  0.0\n",
       "B2M    -138.914805  0.0"
      ]
     },
     "execution_count": 23,
     "metadata": {},
     "output_type": "execute_result"
    }
   ],
   "source": [
    "svobj.significant_genes.head()"
   ]
  },
  {
   "cell_type": "code",
   "execution_count": 25,
   "id": "dated-bargain",
   "metadata": {},
   "outputs": [],
   "source": [
    "expr_dense = pd.DataFrame(expr_sparse.todense(), columns=genes, index=barcodes)"
   ]
  },
  {
   "cell_type": "code",
   "execution_count": 26,
   "id": "conscious-liberal",
   "metadata": {},
   "outputs": [
    {
     "data": {
      "text/html": [
       "<div>\n",
       "<style scoped>\n",
       "    .dataframe tbody tr th:only-of-type {\n",
       "        vertical-align: middle;\n",
       "    }\n",
       "\n",
       "    .dataframe tbody tr th {\n",
       "        vertical-align: top;\n",
       "    }\n",
       "\n",
       "    .dataframe thead th {\n",
       "        text-align: right;\n",
       "    }\n",
       "</style>\n",
       "<table border=\"1\" class=\"dataframe\">\n",
       "  <thead>\n",
       "    <tr style=\"text-align: right;\">\n",
       "      <th></th>\n",
       "      <th>LINC00115</th>\n",
       "      <th>FAM41C</th>\n",
       "      <th>NOC2L</th>\n",
       "      <th>KLHL17</th>\n",
       "      <th>PLEKHN1</th>\n",
       "    </tr>\n",
       "  </thead>\n",
       "  <tbody>\n",
       "    <tr>\n",
       "      <th>AAACATACACCCAA-1</th>\n",
       "      <td>0.0</td>\n",
       "      <td>0.0</td>\n",
       "      <td>0.0</td>\n",
       "      <td>0.0</td>\n",
       "      <td>0.0</td>\n",
       "    </tr>\n",
       "    <tr>\n",
       "      <th>AAACATACCCCTCA-1</th>\n",
       "      <td>0.0</td>\n",
       "      <td>0.0</td>\n",
       "      <td>0.0</td>\n",
       "      <td>0.0</td>\n",
       "      <td>0.0</td>\n",
       "    </tr>\n",
       "    <tr>\n",
       "      <th>AAACATACCGGAGA-1</th>\n",
       "      <td>0.0</td>\n",
       "      <td>0.0</td>\n",
       "      <td>0.0</td>\n",
       "      <td>0.0</td>\n",
       "      <td>0.0</td>\n",
       "    </tr>\n",
       "    <tr>\n",
       "      <th>AAACATACTCTTCA-1</th>\n",
       "      <td>0.0</td>\n",
       "      <td>0.0</td>\n",
       "      <td>0.0</td>\n",
       "      <td>0.0</td>\n",
       "      <td>0.0</td>\n",
       "    </tr>\n",
       "    <tr>\n",
       "      <th>AAACATACTGGATC-1</th>\n",
       "      <td>0.0</td>\n",
       "      <td>0.0</td>\n",
       "      <td>0.0</td>\n",
       "      <td>0.0</td>\n",
       "      <td>0.0</td>\n",
       "    </tr>\n",
       "  </tbody>\n",
       "</table>\n",
       "</div>"
      ],
      "text/plain": [
       "                  LINC00115  FAM41C  NOC2L  KLHL17  PLEKHN1\n",
       "AAACATACACCCAA-1        0.0     0.0    0.0     0.0      0.0\n",
       "AAACATACCCCTCA-1        0.0     0.0    0.0     0.0      0.0\n",
       "AAACATACCGGAGA-1        0.0     0.0    0.0     0.0      0.0\n",
       "AAACATACTCTTCA-1        0.0     0.0    0.0     0.0      0.0\n",
       "AAACATACTGGATC-1        0.0     0.0    0.0     0.0      0.0"
      ]
     },
     "execution_count": 26,
     "metadata": {},
     "output_type": "execute_result"
    }
   ],
   "source": [
    "expr_dense.iloc[:5, :5]"
   ]
  },
  {
   "cell_type": "code",
   "execution_count": 27,
   "id": "lightweight-arnold",
   "metadata": {},
   "outputs": [
    {
     "data": {
      "text/plain": [
       "(52899, 12563)"
      ]
     },
     "execution_count": 27,
     "metadata": {},
     "output_type": "execute_result"
    }
   ],
   "source": [
    "expr_dense.shape"
   ]
  },
  {
   "cell_type": "code",
   "execution_count": 28,
   "id": "driven-turner",
   "metadata": {},
   "outputs": [
    {
     "name": "stdout",
     "output_type": "stream",
     "text": [
      "0.39404726028442383 seconds to select and project cells\n",
      "Selected 344 cells\n",
      "Calculating correlations...\n"
     ]
    },
    {
     "name": "stderr",
     "output_type": "stream",
     "text": [
      "../umap_explorer/umap_explorer.py:501: RuntimeWarning: invalid value encountered in true_divide\n",
      "  rs = np.dot(DP, DO) / np.sqrt(np.sum(DO ** 2, 0) * np.sum(DP ** 2))\n"
     ]
    },
    {
     "name": "stdout",
     "output_type": "stream",
     "text": [
      "9.00390338897705 seconds to calculate correlations. Sparsity:  False\n",
      "0.9730532169342041 seconds to select and project cells\n",
      "Selected 5412 cells\n",
      "Calculating correlations...\n",
      "16.529144048690796 seconds to calculate correlations. Sparsity:  False\n",
      "Selected mode 2\n",
      "0.6109471321105957 seconds to select and project cells\n",
      "Selected 375 cells\n",
      "Calculating differential expression...\n",
      "8.504546165466309 seconds to calculate genesums. Sparsity:  False\n",
      "20.941229104995728 seconds to calculate squared genesums. Sparsity:  False\n",
      "45.02797794342041 seconds to calculate differential expression. Sparsity:  False\n",
      "0.9342422485351562 seconds to select and project cells\n",
      "Selected 5562 cells\n",
      "Calculating differential expression...\n"
     ]
    },
    {
     "name": "stderr",
     "output_type": "stream",
     "text": [
      "../umap_explorer/umap_explorer.py:463: RuntimeWarning: invalid value encountered in sqrt\n",
      "  remainder_stds = np.sqrt((self.gene_sqsum - selected_stds - (remainder_N*remainder_means**2)) / (remainder_N -1))\n"
     ]
    },
    {
     "name": "stdout",
     "output_type": "stream",
     "text": [
      "29.00832200050354 seconds to calculate differential expression. Sparsity:  False\n",
      "2.678100347518921 seconds to select and project cells\n",
      "Selected 23513 cells\n",
      "Calculating differential expression...\n",
      "60.34158396720886 seconds to calculate differential expression. Sparsity:  False\n",
      "EXPORTING DATA...\n",
      "BYE\n"
     ]
    }
   ],
   "source": [
    "test_dense = UMAPexplorer(umap, expr_dense)\n",
    "test_dense.explore_data()"
   ]
  }
 ],
 "metadata": {
  "kernelspec": {
   "display_name": "Python 3",
   "language": "python",
   "name": "python3"
  },
  "language_info": {
   "codemirror_mode": {
    "name": "ipython",
    "version": 3
   },
   "file_extension": ".py",
   "mimetype": "text/x-python",
   "name": "python",
   "nbconvert_exporter": "python",
   "pygments_lexer": "ipython3",
   "version": "3.8.8"
  }
 },
 "nbformat": 4,
 "nbformat_minor": 5
}
