{
 "cells": [
  {
   "cell_type": "code",
   "execution_count": 1,
   "id": "lined-conditions",
   "metadata": {},
   "outputs": [],
   "source": [
    "import pandas as pd\n",
    "import numpy as np\n",
    "from scipy.io import mmread\n",
    "import scipy.sparse as sparse\n",
    "import scanpy as sc"
   ]
  },
  {
   "cell_type": "code",
   "execution_count": 2,
   "id": "assumed-truck",
   "metadata": {},
   "outputs": [],
   "source": [
    "%load_ext py5\n",
    "%gui osx\n",
    "%load_ext autoreload\n",
    "%autoreload 2"
   ]
  },
  {
   "cell_type": "raw",
   "id": "037c507d-4383-42b3-b3b0-fa2677c3dc1c",
   "metadata": {
    "tags": []
   },
   "source": [
    "print('DOWNLOADING AND EXTRACTING EXAMPLE DATA')\n",
    "! mkdir -p ../data\n",
    "! wget https://www.dropbox.com/s/srzk17uvnhhhsgi/Tcells50k.h5ad -O ../data/Tcells50k.h5ad"
   ]
  },
  {
   "cell_type": "code",
   "execution_count": 3,
   "id": "solar-linux",
   "metadata": {},
   "outputs": [],
   "source": [
    "data = sc.read('../../data/Tcells50k.h5ad')"
   ]
  },
  {
   "cell_type": "code",
   "execution_count": 4,
   "id": "52428fcf-83a3-4074-bd22-61ee885cf94b",
   "metadata": {},
   "outputs": [
    {
     "data": {
      "text/plain": [
       "<52899x12563 sparse matrix of type '<class 'numpy.float32'>'\n",
       "\twith 28209469 stored elements in Compressed Sparse Row format>"
      ]
     },
     "execution_count": 4,
     "metadata": {},
     "output_type": "execute_result"
    }
   ],
   "source": [
    "data.X"
   ]
  },
  {
   "cell_type": "code",
   "execution_count": 5,
   "id": "94115ea1-fda4-4497-b921-27b4f0ae83f6",
   "metadata": {},
   "outputs": [],
   "source": [
    "data.X = sparse.csc.csc_matrix(data.X)"
   ]
  },
  {
   "cell_type": "code",
   "execution_count": 6,
   "id": "3b39305c-4e76-46cf-8d52-bade8c7d043a",
   "metadata": {},
   "outputs": [
    {
     "data": {
      "text/plain": [
       "<52899x12563 sparse matrix of type '<class 'numpy.float32'>'\n",
       "\twith 28209469 stored elements in Compressed Sparse Column format>"
      ]
     },
     "execution_count": 6,
     "metadata": {},
     "output_type": "execute_result"
    }
   ],
   "source": [
    "data.X"
   ]
  },
  {
   "cell_type": "code",
   "execution_count": 8,
   "id": "herbal-census",
   "metadata": {},
   "outputs": [
    {
     "name": "stdout",
     "output_type": "stream",
     "text": [
      "The autoreload extension is already loaded. To reload it, use:\n",
      "  %reload_ext autoreload\n",
      "Create renderer\n",
      "Start thread\n",
      "Setting up...\n",
      "Finish thread\n"
     ]
    }
   ],
   "source": [
    "%load_ext autoreload\n",
    "%autoreload 2\n",
    "import sys\n",
    "sys.path.insert(0, '../../sciviewer')\n",
    "from sciviewer import SCIViewer\n",
    "\n",
    "## Remove the relative import . module imports in sciviewer.py and gui.py for this to work\n",
    "\n",
    "## This try / except block doesn't seem to close the sketch\n",
    "## on crashing for some reason\n",
    "\n",
    "try:\n",
    "    svobj = SCIViewer(data)\n",
    "    svobj.explore_data()\n",
    "except:\n",
    "    svobj.renderer.exit_sketch()   "
   ]
  },
  {
   "cell_type": "code",
   "execution_count": 27,
   "id": "a479d04c-66a6-4785-9224-ebf1f6118b30",
   "metadata": {},
   "outputs": [
    {
     "data": {
      "text/html": [
       "<div>\n",
       "<style scoped>\n",
       "    .dataframe tbody tr th:only-of-type {\n",
       "        vertical-align: middle;\n",
       "    }\n",
       "\n",
       "    .dataframe tbody tr th {\n",
       "        vertical-align: top;\n",
       "    }\n",
       "\n",
       "    .dataframe thead th {\n",
       "        text-align: right;\n",
       "    }\n",
       "</style>\n",
       "<table border=\"1\" class=\"dataframe\">\n",
       "  <thead>\n",
       "    <tr style=\"text-align: right;\">\n",
       "      <th></th>\n",
       "      <th>T</th>\n",
       "      <th>P</th>\n",
       "    </tr>\n",
       "  </thead>\n",
       "  <tbody>\n",
       "    <tr>\n",
       "      <th>LINC00115</th>\n",
       "      <td>inf</td>\n",
       "      <td>0.0</td>\n",
       "    </tr>\n",
       "    <tr>\n",
       "      <th>WDFY2</th>\n",
       "      <td>-inf</td>\n",
       "      <td>0.0</td>\n",
       "    </tr>\n",
       "    <tr>\n",
       "      <th>DHRS12</th>\n",
       "      <td>-inf</td>\n",
       "      <td>0.0</td>\n",
       "    </tr>\n",
       "    <tr>\n",
       "      <th>ALG11</th>\n",
       "      <td>inf</td>\n",
       "      <td>0.0</td>\n",
       "    </tr>\n",
       "    <tr>\n",
       "      <th>UTP14C</th>\n",
       "      <td>inf</td>\n",
       "      <td>0.0</td>\n",
       "    </tr>\n",
       "    <tr>\n",
       "      <th>...</th>\n",
       "      <td>...</td>\n",
       "      <td>...</td>\n",
       "    </tr>\n",
       "    <tr>\n",
       "      <th>KIAA1586</th>\n",
       "      <td>-inf</td>\n",
       "      <td>0.0</td>\n",
       "    </tr>\n",
       "    <tr>\n",
       "      <th>ZNF451</th>\n",
       "      <td>-inf</td>\n",
       "      <td>0.0</td>\n",
       "    </tr>\n",
       "    <tr>\n",
       "      <th>BAG2</th>\n",
       "      <td>inf</td>\n",
       "      <td>0.0</td>\n",
       "    </tr>\n",
       "    <tr>\n",
       "      <th>PRIM2</th>\n",
       "      <td>inf</td>\n",
       "      <td>0.0</td>\n",
       "    </tr>\n",
       "    <tr>\n",
       "      <th>SRSF10-1</th>\n",
       "      <td>-inf</td>\n",
       "      <td>0.0</td>\n",
       "    </tr>\n",
       "  </tbody>\n",
       "</table>\n",
       "<p>12563 rows × 2 columns</p>\n",
       "</div>"
      ],
      "text/plain": [
       "             T    P\n",
       "LINC00115  inf  0.0\n",
       "WDFY2     -inf  0.0\n",
       "DHRS12    -inf  0.0\n",
       "ALG11      inf  0.0\n",
       "UTP14C     inf  0.0\n",
       "...        ...  ...\n",
       "KIAA1586  -inf  0.0\n",
       "ZNF451    -inf  0.0\n",
       "BAG2       inf  0.0\n",
       "PRIM2      inf  0.0\n",
       "SRSF10-1  -inf  0.0\n",
       "\n",
       "[12563 rows x 2 columns]"
      ]
     },
     "execution_count": 27,
     "metadata": {},
     "output_type": "execute_result"
    }
   ],
   "source": [
    "svobj.results_diffexpr.sort_values(by='P')"
   ]
  }
 ],
 "metadata": {
  "kernelspec": {
   "display_name": "Python 3 (ipykernel)",
   "language": "python",
   "name": "python3"
  },
  "language_info": {
   "codemirror_mode": {
    "name": "ipython",
    "version": 3
   },
   "file_extension": ".py",
   "mimetype": "text/x-python",
   "name": "python",
   "nbconvert_exporter": "python",
   "pygments_lexer": "ipython3",
   "version": "3.8.10"
  }
 },
 "nbformat": 4,
 "nbformat_minor": 5
}
