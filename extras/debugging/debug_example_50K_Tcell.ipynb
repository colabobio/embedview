{
 "cells": [
  {
   "cell_type": "code",
   "execution_count": 3,
   "id": "lined-conditions",
   "metadata": {},
   "outputs": [
    {
     "name": "stdout",
     "output_type": "stream",
     "text": [
      "The py5 extension is already loaded. To reload it, use:\n",
      "  %reload_ext py5\n"
     ]
    }
   ],
   "source": [
    "## This extension is needed only if running Sciviewer on a Mac OSX computer\n",
    "%gui osx\n",
    "\n",
    "## This extension is needed for any Jupyter notebook running Sciviewer\n",
    "%load_ext py5"
   ]
  },
  {
   "cell_type": "code",
   "execution_count": 4,
   "id": "94df3ac3-8a27-42d8-88ce-eb3501cee3fd",
   "metadata": {},
   "outputs": [],
   "source": [
    "import pandas as pd\n",
    "import numpy as np\n",
    "from scipy.io import mmread\n",
    "import scipy.sparse as sparse\n",
    "import scanpy as sc"
   ]
  },
  {
   "cell_type": "code",
   "execution_count": 5,
   "id": "assumed-truck",
   "metadata": {},
   "outputs": [
    {
     "name": "stdout",
     "output_type": "stream",
     "text": [
      "The autoreload extension is already loaded. To reload it, use:\n",
      "  %reload_ext autoreload\n"
     ]
    }
   ],
   "source": [
    "%load_ext autoreload\n",
    "%autoreload 2"
   ]
  },
  {
   "cell_type": "raw",
   "id": "a45fad23-366e-433a-9c8c-aa4122d96e4a",
   "metadata": {
    "tags": []
   },
   "source": [
    "print('DOWNLOADING AND EXTRACTING EXAMPLE DATA')\n",
    "! mkdir -p ../data\n",
    "! wget https://www.dropbox.com/s/srzk17uvnhhhsgi/Tcells50k.h5ad -O ../../data/Tcells50k.h5ad"
   ]
  },
  {
   "cell_type": "code",
   "execution_count": 8,
   "id": "solar-linux",
   "metadata": {},
   "outputs": [],
   "source": [
    "data = sc.read('../../data/Tcells50k.h5ad')"
   ]
  },
  {
   "cell_type": "code",
   "execution_count": 9,
   "id": "52428fcf-83a3-4074-bd22-61ee885cf94b",
   "metadata": {},
   "outputs": [
    {
     "data": {
      "text/plain": [
       "<52899x12563 sparse matrix of type '<class 'numpy.float32'>'\n",
       "\twith 28209469 stored elements in Compressed Sparse Row format>"
      ]
     },
     "execution_count": 9,
     "metadata": {},
     "output_type": "execute_result"
    }
   ],
   "source": [
    "data.X"
   ]
  },
  {
   "cell_type": "code",
   "execution_count": 10,
   "id": "94115ea1-fda4-4497-b921-27b4f0ae83f6",
   "metadata": {},
   "outputs": [],
   "source": [
    "data.X = sparse.csc_matrix(data.X)"
   ]
  },
  {
   "cell_type": "code",
   "execution_count": 11,
   "id": "3b39305c-4e76-46cf-8d52-bade8c7d043a",
   "metadata": {},
   "outputs": [
    {
     "data": {
      "text/plain": [
       "<52899x12563 sparse matrix of type '<class 'numpy.float32'>'\n",
       "\twith 28209469 stored elements in Compressed Sparse Column format>"
      ]
     },
     "execution_count": 11,
     "metadata": {},
     "output_type": "execute_result"
    }
   ],
   "source": [
    "data.X"
   ]
  },
  {
   "cell_type": "code",
   "execution_count": 12,
   "id": "herbal-census",
   "metadata": {},
   "outputs": [
    {
     "name": "stdout",
     "output_type": "stream",
     "text": [
      "Create renderer\n",
      "Start loading\n",
      "Finish loading\n",
      "Setting up...\n",
      "0.3461918830871582 seconds to select and project cells\n",
      "Selected 3166 cells\n",
      "Calculating correlations...\n",
      "0.5084190368652344 seconds to calculate correlations. Sparsity:  True\n",
      "Selected gene GZMK\n",
      "Min/max expression level for gene GZMK 0.0 4.9921474\n"
     ]
    }
   ],
   "source": [
    "import sys\n",
    "sys.path.insert(0, '../../sciviewer')\n",
    "from sciviewer import SCIViewer\n",
    "\n",
    "## Remove the relative import . module imports in sciviewer.py and gui.py for this to work\n",
    "\n",
    "## This try / except block doesn't seem to close the sketch\n",
    "## on crashing for some reason\n",
    "\n",
    "try:\n",
    "    svobj = SCIViewer(data)\n",
    "    svobj.explore_data()\n",
    "except:\n",
    "    svobj.renderer.exit_sketch()   "
   ]
  },
  {
   "cell_type": "code",
   "execution_count": 14,
   "id": "a479d04c-66a6-4785-9224-ebf1f6118b30",
   "metadata": {},
   "outputs": [
    {
     "data": {
      "text/html": [
       "<div>\n",
       "<style scoped>\n",
       "    .dataframe tbody tr th:only-of-type {\n",
       "        vertical-align: middle;\n",
       "    }\n",
       "\n",
       "    .dataframe tbody tr th {\n",
       "        vertical-align: top;\n",
       "    }\n",
       "\n",
       "    .dataframe thead th {\n",
       "        text-align: right;\n",
       "    }\n",
       "</style>\n",
       "<table border=\"1\" class=\"dataframe\">\n",
       "  <thead>\n",
       "    <tr style=\"text-align: right;\">\n",
       "      <th></th>\n",
       "      <th>T</th>\n",
       "      <th>P</th>\n",
       "    </tr>\n",
       "  </thead>\n",
       "  <tbody>\n",
       "    <tr>\n",
       "      <th>ADTRP</th>\n",
       "      <td>15.418520</td>\n",
       "      <td>0.000000</td>\n",
       "    </tr>\n",
       "    <tr>\n",
       "      <th>RPLP0</th>\n",
       "      <td>20.054316</td>\n",
       "      <td>0.000000</td>\n",
       "    </tr>\n",
       "    <tr>\n",
       "      <th>RPL37</th>\n",
       "      <td>21.981207</td>\n",
       "      <td>0.000000</td>\n",
       "    </tr>\n",
       "    <tr>\n",
       "      <th>UBA52</th>\n",
       "      <td>15.864112</td>\n",
       "      <td>0.000000</td>\n",
       "    </tr>\n",
       "    <tr>\n",
       "      <th>RPL6</th>\n",
       "      <td>26.601969</td>\n",
       "      <td>0.000000</td>\n",
       "    </tr>\n",
       "    <tr>\n",
       "      <th>...</th>\n",
       "      <td>...</td>\n",
       "      <td>...</td>\n",
       "    </tr>\n",
       "    <tr>\n",
       "      <th>ZNF582-AS1</th>\n",
       "      <td>-0.000811</td>\n",
       "      <td>0.999353</td>\n",
       "    </tr>\n",
       "    <tr>\n",
       "      <th>FOCAD</th>\n",
       "      <td>-0.000306</td>\n",
       "      <td>0.999756</td>\n",
       "    </tr>\n",
       "    <tr>\n",
       "      <th>ABCB8</th>\n",
       "      <td>0.000295</td>\n",
       "      <td>0.999765</td>\n",
       "    </tr>\n",
       "    <tr>\n",
       "      <th>PRDM2</th>\n",
       "      <td>-0.000193</td>\n",
       "      <td>0.999846</td>\n",
       "    </tr>\n",
       "    <tr>\n",
       "      <th>CA11</th>\n",
       "      <td>0.000019</td>\n",
       "      <td>0.999985</td>\n",
       "    </tr>\n",
       "  </tbody>\n",
       "</table>\n",
       "<p>12563 rows × 2 columns</p>\n",
       "</div>"
      ],
      "text/plain": [
       "                    T         P\n",
       "ADTRP       15.418520  0.000000\n",
       "RPLP0       20.054316  0.000000\n",
       "RPL37       21.981207  0.000000\n",
       "UBA52       15.864112  0.000000\n",
       "RPL6        26.601969  0.000000\n",
       "...               ...       ...\n",
       "ZNF582-AS1  -0.000811  0.999353\n",
       "FOCAD       -0.000306  0.999756\n",
       "ABCB8        0.000295  0.999765\n",
       "PRDM2       -0.000193  0.999846\n",
       "CA11         0.000019  0.999985\n",
       "\n",
       "[12563 rows x 2 columns]"
      ]
     },
     "execution_count": 14,
     "metadata": {},
     "output_type": "execute_result"
    }
   ],
   "source": [
    "svobj.results_diffexpr.sort_values(by='P')"
   ]
  }
 ],
 "metadata": {
  "kernelspec": {
   "display_name": "Python 3 (ipykernel)",
   "language": "python",
   "name": "python3"
  },
  "language_info": {
   "codemirror_mode": {
    "name": "ipython",
    "version": 3
   },
   "file_extension": ".py",
   "mimetype": "text/x-python",
   "name": "python",
   "nbconvert_exporter": "python",
   "pygments_lexer": "ipython3",
   "version": "3.8.13"
  }
 },
 "nbformat": 4,
 "nbformat_minor": 5
}
