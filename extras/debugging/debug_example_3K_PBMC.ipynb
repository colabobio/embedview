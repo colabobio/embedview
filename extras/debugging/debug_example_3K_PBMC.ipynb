{
 "cells": [
  {
   "cell_type": "code",
   "execution_count": 1,
   "id": "0b16b17a",
   "metadata": {},
   "outputs": [],
   "source": [
    "## This extension is needed only if running Sciviewer on a Mac OSX computer\n",
    "%gui osx\n",
    "\n",
    "## This extension is needed for any Jupyter notebook running Sciviewer\n",
    "%load_ext py5"
   ]
  },
  {
   "cell_type": "code",
   "execution_count": 2,
   "id": "a8c48604",
   "metadata": {},
   "outputs": [],
   "source": [
    "import pandas as pd\n",
    "import numpy as np\n",
    "import scanpy as sc\n",
    "\n",
    "%load_ext autoreload\n",
    "%autoreload 2\n",
    "import sys\n",
    "sys.path.insert(0, '../../sciviewer')\n",
    "from sciviewer import SCIViewer"
   ]
  },
  {
   "cell_type": "raw",
   "id": "d5d3afc7-78bc-4aff-bec6-2468d8d6e79c",
   "metadata": {},
   "source": [
    "print('DOWNLOADING AND EXTRACTING EXAMPLE DATA')\n",
    "! mkdir -p ../../data\n",
    "! wget https://www.dropbox.com/s/llw9i7i0gum090z/pbmc3k_umap_20210420.tsv -O ../../data/pbmc3k_umap_20210420.tsv\n",
    "! wget https://www.dropbox.com/s/rijo547isu3dhel/pbmc3k_expression_log2TP10K_20210420.tsv -O ../../data/pbmc3k_expression_log2TP10K_20210420.tsv\n",
    "! wget https://www.dropbox.com/s/3309a3tydsnqwi0/pbmc3k_20210420.h5ad -O ../../data/pbmc3k_20210420.h5ad\n",
    "! ls ../../data/"
   ]
  },
  {
   "cell_type": "markdown",
   "id": "a506ad39",
   "metadata": {},
   "source": [
    "## Here we illustrate how to run Sciviewer with several potential input types.\n",
    "- [passing in the 2D embedding data and the gene expression data as Pandas DataFrames](#dataframe)\n",
    "- [passing a Scanpy AnnData object with dense data ](#denseadata)\n",
    "- [passing a Scanpy AnnData object with sparse data ](#sparseadata)\n",
    "- [passing a sparse csc_matrix](#sparse_matrix)\n"
   ]
  },
  {
   "cell_type": "markdown",
   "id": "7a057741",
   "metadata": {},
   "source": [
    "<a id=\"dataframe\"></a>"
   ]
  },
  {
   "cell_type": "markdown",
   "id": "83d0f4e0",
   "metadata": {},
   "source": [
    "## Dense Pandas DataFrame\n",
    "\n",
    "A simple way to pass the data is with Pandas DataFrames. The cell names are learned from the rows and the gene names are learned from the columns. The ordering of the cells in the 2D embedding and the gene expression matrix are assumed to match"
   ]
  },
  {
   "cell_type": "code",
   "execution_count": 3,
   "id": "191a0749",
   "metadata": {},
   "outputs": [
    {
     "name": "stdout",
     "output_type": "stream",
     "text": [
      "LOADING UMAP DATA...\n"
     ]
    },
    {
     "data": {
      "text/html": [
       "<div>\n",
       "<style scoped>\n",
       "    .dataframe tbody tr th:only-of-type {\n",
       "        vertical-align: middle;\n",
       "    }\n",
       "\n",
       "    .dataframe tbody tr th {\n",
       "        vertical-align: top;\n",
       "    }\n",
       "\n",
       "    .dataframe thead th {\n",
       "        text-align: right;\n",
       "    }\n",
       "</style>\n",
       "<table border=\"1\" class=\"dataframe\">\n",
       "  <thead>\n",
       "    <tr style=\"text-align: right;\">\n",
       "      <th></th>\n",
       "      <th>UMAP_1</th>\n",
       "      <th>UMAP_2</th>\n",
       "    </tr>\n",
       "  </thead>\n",
       "  <tbody>\n",
       "    <tr>\n",
       "      <th>AAACATACAACCAC-1</th>\n",
       "      <td>9.728817</td>\n",
       "      <td>4.212151</td>\n",
       "    </tr>\n",
       "    <tr>\n",
       "      <th>AAACATTGAGCTAC-1</th>\n",
       "      <td>3.799765</td>\n",
       "      <td>10.181845</td>\n",
       "    </tr>\n",
       "    <tr>\n",
       "      <th>AAACATTGATCAGC-1</th>\n",
       "      <td>7.023628</td>\n",
       "      <td>4.829623</td>\n",
       "    </tr>\n",
       "    <tr>\n",
       "      <th>AAACCGTGCTTCCG-1</th>\n",
       "      <td>-0.298523</td>\n",
       "      <td>2.024061</td>\n",
       "    </tr>\n",
       "    <tr>\n",
       "      <th>AAACCGTGTATGCG-1</th>\n",
       "      <td>8.018503</td>\n",
       "      <td>-0.300426</td>\n",
       "    </tr>\n",
       "  </tbody>\n",
       "</table>\n",
       "</div>"
      ],
      "text/plain": [
       "                    UMAP_1     UMAP_2\n",
       "AAACATACAACCAC-1  9.728817   4.212151\n",
       "AAACATTGAGCTAC-1  3.799765  10.181845\n",
       "AAACATTGATCAGC-1  7.023628   4.829623\n",
       "AAACCGTGCTTCCG-1 -0.298523   2.024061\n",
       "AAACCGTGTATGCG-1  8.018503  -0.300426"
      ]
     },
     "execution_count": 3,
     "metadata": {},
     "output_type": "execute_result"
    }
   ],
   "source": [
    "print(\"LOADING UMAP DATA...\")\n",
    "\n",
    "umap = pd.read_csv('../../data/pbmc3k_umap_20210420.tsv', sep='\\t', index_col=0)\n",
    "umap.head() "
   ]
  },
  {
   "cell_type": "code",
   "execution_count": 4,
   "id": "6db5b056",
   "metadata": {},
   "outputs": [
    {
     "name": "stdout",
     "output_type": "stream",
     "text": [
      "LOADING GENE EXPRESSION DATA...\n"
     ]
    },
    {
     "data": {
      "text/html": [
       "<div>\n",
       "<style scoped>\n",
       "    .dataframe tbody tr th:only-of-type {\n",
       "        vertical-align: middle;\n",
       "    }\n",
       "\n",
       "    .dataframe tbody tr th {\n",
       "        vertical-align: top;\n",
       "    }\n",
       "\n",
       "    .dataframe thead th {\n",
       "        text-align: right;\n",
       "    }\n",
       "</style>\n",
       "<table border=\"1\" class=\"dataframe\">\n",
       "  <thead>\n",
       "    <tr style=\"text-align: right;\">\n",
       "      <th></th>\n",
       "      <th>AL627309.1</th>\n",
       "      <th>AP006222.2</th>\n",
       "      <th>RP11-206L10.2</th>\n",
       "      <th>RP11-206L10.9</th>\n",
       "      <th>LINC00115</th>\n",
       "    </tr>\n",
       "  </thead>\n",
       "  <tbody>\n",
       "    <tr>\n",
       "      <th>AAACATACAACCAC-1</th>\n",
       "      <td>0.0</td>\n",
       "      <td>0.0</td>\n",
       "      <td>0.0</td>\n",
       "      <td>0.0</td>\n",
       "      <td>0.0</td>\n",
       "    </tr>\n",
       "    <tr>\n",
       "      <th>AAACATTGAGCTAC-1</th>\n",
       "      <td>0.0</td>\n",
       "      <td>0.0</td>\n",
       "      <td>0.0</td>\n",
       "      <td>0.0</td>\n",
       "      <td>0.0</td>\n",
       "    </tr>\n",
       "    <tr>\n",
       "      <th>AAACATTGATCAGC-1</th>\n",
       "      <td>0.0</td>\n",
       "      <td>0.0</td>\n",
       "      <td>0.0</td>\n",
       "      <td>0.0</td>\n",
       "      <td>0.0</td>\n",
       "    </tr>\n",
       "    <tr>\n",
       "      <th>AAACCGTGCTTCCG-1</th>\n",
       "      <td>0.0</td>\n",
       "      <td>0.0</td>\n",
       "      <td>0.0</td>\n",
       "      <td>0.0</td>\n",
       "      <td>0.0</td>\n",
       "    </tr>\n",
       "    <tr>\n",
       "      <th>AAACCGTGTATGCG-1</th>\n",
       "      <td>0.0</td>\n",
       "      <td>0.0</td>\n",
       "      <td>0.0</td>\n",
       "      <td>0.0</td>\n",
       "      <td>0.0</td>\n",
       "    </tr>\n",
       "  </tbody>\n",
       "</table>\n",
       "</div>"
      ],
      "text/plain": [
       "                  AL627309.1  AP006222.2  RP11-206L10.2  RP11-206L10.9  \\\n",
       "AAACATACAACCAC-1         0.0         0.0            0.0            0.0   \n",
       "AAACATTGAGCTAC-1         0.0         0.0            0.0            0.0   \n",
       "AAACATTGATCAGC-1         0.0         0.0            0.0            0.0   \n",
       "AAACCGTGCTTCCG-1         0.0         0.0            0.0            0.0   \n",
       "AAACCGTGTATGCG-1         0.0         0.0            0.0            0.0   \n",
       "\n",
       "                  LINC00115  \n",
       "AAACATACAACCAC-1        0.0  \n",
       "AAACATTGAGCTAC-1        0.0  \n",
       "AAACATTGATCAGC-1        0.0  \n",
       "AAACCGTGCTTCCG-1        0.0  \n",
       "AAACCGTGTATGCG-1        0.0  "
      ]
     },
     "execution_count": 4,
     "metadata": {},
     "output_type": "execute_result"
    }
   ],
   "source": [
    "print(\"LOADING GENE EXPRESSION DATA...\")\n",
    "\n",
    "expr = pd.read_csv('../../data/pbmc3k_expression_log2TP10K_20210420.tsv', sep='\\t', index_col=0)\n",
    "expr.iloc[:5,:5]"
   ]
  },
  {
   "cell_type": "code",
   "execution_count": 6,
   "id": "ff835450",
   "metadata": {},
   "outputs": [
    {
     "name": "stdout",
     "output_type": "stream",
     "text": [
      "Create renderer\n",
      "Start thread\n",
      "Finish thread\n",
      "Setting up...\n",
      "Setting up...\n",
      "0.017865896224975586 seconds to select and project cells\n",
      "Selected 160 cells\n",
      "Calculating correlations...\n",
      "0.4768638610839844 seconds to calculate correlations. Sparsity:  False\n",
      "Selected gene FCER1A\n",
      "Min/max expression level for gene FCER1A 0.0 4.3631954\n"
     ]
    }
   ],
   "source": [
    "svobj = SCIViewer(expr, umap)\n",
    "svobj.explore_data()"
   ]
  },
  {
   "cell_type": "code",
   "execution_count": 9,
   "id": "69b2eaef-9662-4a61-bbdf-73598fa108c3",
   "metadata": {},
   "outputs": [
    {
     "data": {
      "text/html": [
       "<div>\n",
       "<style scoped>\n",
       "    .dataframe tbody tr th:only-of-type {\n",
       "        vertical-align: middle;\n",
       "    }\n",
       "\n",
       "    .dataframe tbody tr th {\n",
       "        vertical-align: top;\n",
       "    }\n",
       "\n",
       "    .dataframe thead th {\n",
       "        text-align: right;\n",
       "    }\n",
       "</style>\n",
       "<table border=\"1\" class=\"dataframe\">\n",
       "  <thead>\n",
       "    <tr style=\"text-align: right;\">\n",
       "      <th></th>\n",
       "      <th>R</th>\n",
       "      <th>P</th>\n",
       "    </tr>\n",
       "  </thead>\n",
       "  <tbody>\n",
       "    <tr>\n",
       "      <th>TCL1A</th>\n",
       "      <td>-0.427525</td>\n",
       "      <td>2.807571e-11</td>\n",
       "    </tr>\n",
       "    <tr>\n",
       "      <th>AIM2</th>\n",
       "      <td>0.339990</td>\n",
       "      <td>2.073196e-07</td>\n",
       "    </tr>\n",
       "    <tr>\n",
       "      <th>CD27</th>\n",
       "      <td>0.335986</td>\n",
       "      <td>2.933639e-07</td>\n",
       "    </tr>\n",
       "    <tr>\n",
       "      <th>RP5-887A10.1</th>\n",
       "      <td>0.326839</td>\n",
       "      <td>6.366942e-07</td>\n",
       "    </tr>\n",
       "    <tr>\n",
       "      <th>FCER2</th>\n",
       "      <td>-0.320034</td>\n",
       "      <td>1.114949e-06</td>\n",
       "    </tr>\n",
       "  </tbody>\n",
       "</table>\n",
       "</div>"
      ],
      "text/plain": [
       "                     R             P\n",
       "TCL1A        -0.427525  2.807571e-11\n",
       "AIM2          0.339990  2.073196e-07\n",
       "CD27          0.335986  2.933639e-07\n",
       "RP5-887A10.1  0.326839  6.366942e-07\n",
       "FCER2        -0.320034  1.114949e-06"
      ]
     },
     "execution_count": 9,
     "metadata": {},
     "output_type": "execute_result"
    }
   ],
   "source": [
    "## This gets updated in real time when cells are selected in directional mode\n",
    "svobj.results_proj_correlation.sort_values(by='P', ascending=True).head()"
   ]
  },
  {
   "cell_type": "markdown",
   "id": "060f5989",
   "metadata": {},
   "source": [
    "#### The class attributes below get populated in real time and thus can be accessed when the interactive viewer is running"
   ]
  },
  {
   "cell_type": "code",
   "execution_count": 10,
   "id": "4cfcfe3b",
   "metadata": {},
   "outputs": [
    {
     "data": {
      "text/html": [
       "<div>\n",
       "<style scoped>\n",
       "    .dataframe tbody tr th:only-of-type {\n",
       "        vertical-align: middle;\n",
       "    }\n",
       "\n",
       "    .dataframe tbody tr th {\n",
       "        vertical-align: top;\n",
       "    }\n",
       "\n",
       "    .dataframe thead th {\n",
       "        text-align: right;\n",
       "    }\n",
       "</style>\n",
       "<table border=\"1\" class=\"dataframe\">\n",
       "  <thead>\n",
       "    <tr style=\"text-align: right;\">\n",
       "      <th></th>\n",
       "      <th>index</th>\n",
       "      <th>cell_name</th>\n",
       "      <th>projection</th>\n",
       "    </tr>\n",
       "  </thead>\n",
       "  <tbody>\n",
       "    <tr>\n",
       "      <th>0</th>\n",
       "      <td>20</td>\n",
       "      <td>AAAGTTTGGGGTGA-1</td>\n",
       "      <td>0.602639</td>\n",
       "    </tr>\n",
       "    <tr>\n",
       "      <th>1</th>\n",
       "      <td>23</td>\n",
       "      <td>AAATCAACAATGCC-1</td>\n",
       "      <td>0.738593</td>\n",
       "    </tr>\n",
       "    <tr>\n",
       "      <th>2</th>\n",
       "      <td>31</td>\n",
       "      <td>AAATCCCTGCTATG-1</td>\n",
       "      <td>0.331177</td>\n",
       "    </tr>\n",
       "    <tr>\n",
       "      <th>3</th>\n",
       "      <td>55</td>\n",
       "      <td>AACCGATGGTCATG-1</td>\n",
       "      <td>0.364138</td>\n",
       "    </tr>\n",
       "    <tr>\n",
       "      <th>4</th>\n",
       "      <td>75</td>\n",
       "      <td>AACGTGTGGCGGAA-1</td>\n",
       "      <td>0.744749</td>\n",
       "    </tr>\n",
       "  </tbody>\n",
       "</table>\n",
       "</div>"
      ],
      "text/plain": [
       "   index         cell_name  projection\n",
       "0     20  AAAGTTTGGGGTGA-1    0.602639\n",
       "1     23  AAATCAACAATGCC-1    0.738593\n",
       "2     31  AAATCCCTGCTATG-1    0.331177\n",
       "3     55  AACCGATGGTCATG-1    0.364138\n",
       "4     75  AACGTGTGGCGGAA-1    0.744749"
      ]
     },
     "execution_count": 10,
     "metadata": {},
     "output_type": "execute_result"
    }
   ],
   "source": [
    "## This attribute get updated in real time whenever cells are selected\n",
    "svobj.selected_cells.head()"
   ]
  },
  {
   "cell_type": "code",
   "execution_count": 11,
   "id": "7e48d4ec",
   "metadata": {},
   "outputs": [
    {
     "data": {
      "text/html": [
       "<div>\n",
       "<style scoped>\n",
       "    .dataframe tbody tr th:only-of-type {\n",
       "        vertical-align: middle;\n",
       "    }\n",
       "\n",
       "    .dataframe tbody tr th {\n",
       "        vertical-align: top;\n",
       "    }\n",
       "\n",
       "    .dataframe thead th {\n",
       "        text-align: right;\n",
       "    }\n",
       "</style>\n",
       "<table border=\"1\" class=\"dataframe\">\n",
       "  <thead>\n",
       "    <tr style=\"text-align: right;\">\n",
       "      <th></th>\n",
       "      <th>R</th>\n",
       "      <th>P</th>\n",
       "    </tr>\n",
       "  </thead>\n",
       "  <tbody>\n",
       "    <tr>\n",
       "      <th>TCL1A</th>\n",
       "      <td>-0.427525</td>\n",
       "      <td>2.807571e-11</td>\n",
       "    </tr>\n",
       "    <tr>\n",
       "      <th>AIM2</th>\n",
       "      <td>0.339990</td>\n",
       "      <td>2.073196e-07</td>\n",
       "    </tr>\n",
       "    <tr>\n",
       "      <th>CD27</th>\n",
       "      <td>0.335986</td>\n",
       "      <td>2.933639e-07</td>\n",
       "    </tr>\n",
       "    <tr>\n",
       "      <th>RP5-887A10.1</th>\n",
       "      <td>0.326839</td>\n",
       "      <td>6.366942e-07</td>\n",
       "    </tr>\n",
       "    <tr>\n",
       "      <th>FCER2</th>\n",
       "      <td>-0.320034</td>\n",
       "      <td>1.114949e-06</td>\n",
       "    </tr>\n",
       "  </tbody>\n",
       "</table>\n",
       "</div>"
      ],
      "text/plain": [
       "                     R             P\n",
       "TCL1A        -0.427525  2.807571e-11\n",
       "AIM2          0.339990  2.073196e-07\n",
       "CD27          0.335986  2.933639e-07\n",
       "RP5-887A10.1  0.326839  6.366942e-07\n",
       "FCER2        -0.320034  1.114949e-06"
      ]
     },
     "execution_count": 11,
     "metadata": {},
     "output_type": "execute_result"
    }
   ],
   "source": [
    "## This gets updated in real time when cells are selected in directional mode\n",
    "svobj.results_proj_correlation.sort_values(by='P').head()"
   ]
  },
  {
   "cell_type": "code",
   "execution_count": 12,
   "id": "80591100-0796-4761-b5d5-3c3c32e41129",
   "metadata": {},
   "outputs": [
    {
     "data": {
      "text/html": [
       "<div>\n",
       "<style scoped>\n",
       "    .dataframe tbody tr th:only-of-type {\n",
       "        vertical-align: middle;\n",
       "    }\n",
       "\n",
       "    .dataframe tbody tr th {\n",
       "        vertical-align: top;\n",
       "    }\n",
       "\n",
       "    .dataframe thead th {\n",
       "        text-align: right;\n",
       "    }\n",
       "</style>\n",
       "<table border=\"1\" class=\"dataframe\">\n",
       "  <thead>\n",
       "    <tr style=\"text-align: right;\">\n",
       "      <th></th>\n",
       "      <th>R</th>\n",
       "      <th>P</th>\n",
       "    </tr>\n",
       "  </thead>\n",
       "  <tbody>\n",
       "    <tr>\n",
       "      <th>TCL1A</th>\n",
       "      <td>-0.427525</td>\n",
       "      <td>2.807571e-11</td>\n",
       "    </tr>\n",
       "    <tr>\n",
       "      <th>FCER2</th>\n",
       "      <td>-0.320034</td>\n",
       "      <td>1.114949e-06</td>\n",
       "    </tr>\n",
       "    <tr>\n",
       "      <th>SNX29P2</th>\n",
       "      <td>-0.284348</td>\n",
       "      <td>1.693367e-05</td>\n",
       "    </tr>\n",
       "    <tr>\n",
       "      <th>CD72</th>\n",
       "      <td>-0.276116</td>\n",
       "      <td>3.016605e-05</td>\n",
       "    </tr>\n",
       "    <tr>\n",
       "      <th>CD74</th>\n",
       "      <td>-0.264308</td>\n",
       "      <td>6.691133e-05</td>\n",
       "    </tr>\n",
       "  </tbody>\n",
       "</table>\n",
       "</div>"
      ],
      "text/plain": [
       "                R             P\n",
       "TCL1A   -0.427525  2.807571e-11\n",
       "FCER2   -0.320034  1.114949e-06\n",
       "SNX29P2 -0.284348  1.693367e-05\n",
       "CD72    -0.276116  3.016605e-05\n",
       "CD74    -0.264308  6.691133e-05"
      ]
     },
     "execution_count": 12,
     "metadata": {},
     "output_type": "execute_result"
    }
   ],
   "source": [
    "svobj.results_proj_correlation.sort_values(by='R', ascending=True).head()"
   ]
  },
  {
   "cell_type": "code",
   "execution_count": 14,
   "id": "af98ec7d-88dc-4918-954f-a4de3f48db74",
   "metadata": {},
   "outputs": [
    {
     "data": {
      "text/html": [
       "<div>\n",
       "<style scoped>\n",
       "    .dataframe tbody tr th:only-of-type {\n",
       "        vertical-align: middle;\n",
       "    }\n",
       "\n",
       "    .dataframe tbody tr th {\n",
       "        vertical-align: top;\n",
       "    }\n",
       "\n",
       "    .dataframe thead th {\n",
       "        text-align: right;\n",
       "    }\n",
       "</style>\n",
       "<table border=\"1\" class=\"dataframe\">\n",
       "  <thead>\n",
       "    <tr style=\"text-align: right;\">\n",
       "      <th></th>\n",
       "      <th>T</th>\n",
       "      <th>P</th>\n",
       "    </tr>\n",
       "  </thead>\n",
       "  <tbody>\n",
       "    <tr>\n",
       "      <th>FTH1</th>\n",
       "      <td>61.822418</td>\n",
       "      <td>0.000000e+00</td>\n",
       "    </tr>\n",
       "    <tr>\n",
       "      <th>CST3</th>\n",
       "      <td>81.813329</td>\n",
       "      <td>0.000000e+00</td>\n",
       "    </tr>\n",
       "    <tr>\n",
       "      <th>FTL</th>\n",
       "      <td>77.185153</td>\n",
       "      <td>0.000000e+00</td>\n",
       "    </tr>\n",
       "    <tr>\n",
       "      <th>TYROBP</th>\n",
       "      <td>75.131370</td>\n",
       "      <td>0.000000e+00</td>\n",
       "    </tr>\n",
       "    <tr>\n",
       "      <th>S100A4</th>\n",
       "      <td>45.770895</td>\n",
       "      <td>2.473470e-306</td>\n",
       "    </tr>\n",
       "  </tbody>\n",
       "</table>\n",
       "</div>"
      ],
      "text/plain": [
       "                T              P\n",
       "FTH1    61.822418   0.000000e+00\n",
       "CST3    81.813329   0.000000e+00\n",
       "FTL     77.185153   0.000000e+00\n",
       "TYROBP  75.131370   0.000000e+00\n",
       "S100A4  45.770895  2.473470e-306"
      ]
     },
     "execution_count": 14,
     "metadata": {},
     "output_type": "execute_result"
    }
   ],
   "source": [
    "## This gets updated in real time when cells are selected in differential mode\n",
    "svobj.results_diffexpr.sort_values(by='P').head()"
   ]
  },
  {
   "cell_type": "markdown",
   "id": "c442c410",
   "metadata": {},
   "source": [
    "<a id=\"denseadata\"></a>"
   ]
  },
  {
   "cell_type": "markdown",
   "id": "a9cb5e9a",
   "metadata": {},
   "source": [
    "## AnnData with dense input matrix\n",
    "Alternatively, the data can be passed as a Scanpy AnnData object. By default the expression data is read from the .X attribute and the umap data is read from .obsm with the key 'X_umap'. However alternative embeddings can be provided with the `embedding_name` argument and the expression data can be read from the .raw.X attribute by setting the use_raw attribute to True"
   ]
  },
  {
   "cell_type": "code",
   "execution_count": 16,
   "id": "9a90c0a9",
   "metadata": {},
   "outputs": [
    {
     "data": {
      "text/plain": [
       "AnnData object with n_obs × n_vars = 2638 × 1838\n",
       "    obs: 'n_genes', 'n_genes_by_counts', 'total_counts', 'total_counts_mt', 'pct_counts_mt'\n",
       "    var: 'gene_ids', 'n_cells', 'mt', 'n_cells_by_counts', 'mean_counts', 'pct_dropout_by_counts', 'total_counts', 'highly_variable', 'means', 'dispersions', 'dispersions_norm', 'mean', 'std'\n",
       "    uns: 'hvg', 'neighbors', 'pca', 'umap'\n",
       "    obsm: 'X_pca', 'X_umap'\n",
       "    varm: 'PCs'\n",
       "    obsp: 'connectivities', 'distances'"
      ]
     },
     "execution_count": 16,
     "metadata": {},
     "output_type": "execute_result"
    }
   ],
   "source": [
    "data = sc.read('../../data/pbmc3k_20210420.h5ad')\n",
    "data"
   ]
  },
  {
   "cell_type": "markdown",
   "id": "a4adb86f",
   "metadata": {},
   "source": [
    "#### Here the data in data.X is dense and the data in data.raw.X is sparse. We first illustrate the method with the dense data and subsequently with the sparse data"
   ]
  },
  {
   "cell_type": "code",
   "execution_count": 17,
   "id": "acf75834",
   "metadata": {},
   "outputs": [
    {
     "name": "stdout",
     "output_type": "stream",
     "text": [
      "Create renderer\n",
      "Start thread\n",
      "Finish thread\n",
      "Setting up...\n",
      "0.03204011917114258 seconds to select and project cells\n",
      "Selected 475 cells\n",
      "Calculating correlations...\n",
      "0.05255699157714844 seconds to calculate correlations. Sparsity:  False\n"
     ]
    }
   ],
   "source": [
    "svobj = SCIViewer(data, embedding_name='X_umap', use_raw=False)\n",
    "svobj.explore_data()"
   ]
  },
  {
   "cell_type": "code",
   "execution_count": 18,
   "id": "ebbbc595-d0b8-4582-a425-c78cf4296aee",
   "metadata": {},
   "outputs": [
    {
     "data": {
      "text/html": [
       "<div>\n",
       "<style scoped>\n",
       "    .dataframe tbody tr th:only-of-type {\n",
       "        vertical-align: middle;\n",
       "    }\n",
       "\n",
       "    .dataframe tbody tr th {\n",
       "        vertical-align: top;\n",
       "    }\n",
       "\n",
       "    .dataframe thead th {\n",
       "        text-align: right;\n",
       "    }\n",
       "</style>\n",
       "<table border=\"1\" class=\"dataframe\">\n",
       "  <thead>\n",
       "    <tr style=\"text-align: right;\">\n",
       "      <th></th>\n",
       "      <th>R</th>\n",
       "      <th>P</th>\n",
       "    </tr>\n",
       "  </thead>\n",
       "  <tbody>\n",
       "    <tr>\n",
       "      <th>LTB</th>\n",
       "      <td>0.555617</td>\n",
       "      <td>7.890236e-40</td>\n",
       "    </tr>\n",
       "    <tr>\n",
       "      <th>MAL</th>\n",
       "      <td>0.342726</td>\n",
       "      <td>1.544537e-14</td>\n",
       "    </tr>\n",
       "    <tr>\n",
       "      <th>TRABD2A</th>\n",
       "      <td>0.258347</td>\n",
       "      <td>1.110187e-08</td>\n",
       "    </tr>\n",
       "    <tr>\n",
       "      <th>LDLRAP1</th>\n",
       "      <td>0.229241</td>\n",
       "      <td>4.408213e-07</td>\n",
       "    </tr>\n",
       "    <tr>\n",
       "      <th>SRSF5</th>\n",
       "      <td>0.210494</td>\n",
       "      <td>3.701575e-06</td>\n",
       "    </tr>\n",
       "    <tr>\n",
       "      <th>...</th>\n",
       "      <td>...</td>\n",
       "      <td>...</td>\n",
       "    </tr>\n",
       "    <tr>\n",
       "      <th>BACE2</th>\n",
       "      <td>NaN</td>\n",
       "      <td>NaN</td>\n",
       "    </tr>\n",
       "    <tr>\n",
       "      <th>SIK1</th>\n",
       "      <td>NaN</td>\n",
       "      <td>NaN</td>\n",
       "    </tr>\n",
       "    <tr>\n",
       "      <th>ICOSLG</th>\n",
       "      <td>NaN</td>\n",
       "      <td>NaN</td>\n",
       "    </tr>\n",
       "    <tr>\n",
       "      <th>SLC19A1</th>\n",
       "      <td>NaN</td>\n",
       "      <td>NaN</td>\n",
       "    </tr>\n",
       "    <tr>\n",
       "      <th>S100B</th>\n",
       "      <td>NaN</td>\n",
       "      <td>NaN</td>\n",
       "    </tr>\n",
       "  </tbody>\n",
       "</table>\n",
       "<p>1838 rows × 2 columns</p>\n",
       "</div>"
      ],
      "text/plain": [
       "                R             P\n",
       "LTB      0.555617  7.890236e-40\n",
       "MAL      0.342726  1.544537e-14\n",
       "TRABD2A  0.258347  1.110187e-08\n",
       "LDLRAP1  0.229241  4.408213e-07\n",
       "SRSF5    0.210494  3.701575e-06\n",
       "...           ...           ...\n",
       "BACE2         NaN           NaN\n",
       "SIK1          NaN           NaN\n",
       "ICOSLG        NaN           NaN\n",
       "SLC19A1       NaN           NaN\n",
       "S100B         NaN           NaN\n",
       "\n",
       "[1838 rows x 2 columns]"
      ]
     },
     "execution_count": 18,
     "metadata": {},
     "output_type": "execute_result"
    }
   ],
   "source": [
    "svobj.results_proj_correlation.sort_values(by='R', ascending=False)"
   ]
  },
  {
   "cell_type": "markdown",
   "id": "941bb965",
   "metadata": {},
   "source": [
    "<a id=\"sparseadata\"></a>"
   ]
  },
  {
   "cell_type": "markdown",
   "id": "c22266eb",
   "metadata": {},
   "source": [
    "## AnnData with sparse input matrix\n"
   ]
  },
  {
   "cell_type": "code",
   "execution_count": 19,
   "id": "2649aed4",
   "metadata": {},
   "outputs": [
    {
     "data": {
      "text/plain": [
       "<2638x13714 sparse matrix of type '<class 'numpy.float32'>'\n",
       "\twith 2238732 stored elements in Compressed Sparse Row format>"
      ]
     },
     "execution_count": 19,
     "metadata": {},
     "output_type": "execute_result"
    }
   ],
   "source": [
    "data.raw.X"
   ]
  },
  {
   "cell_type": "markdown",
   "id": "872b3dea",
   "metadata": {},
   "source": [
    "#### This data is sparse but is in compressed sparse row format (csr_matrix) rather than csc_matrix, so we need to convert it to csc_matrix format"
   ]
  },
  {
   "cell_type": "code",
   "execution_count": 20,
   "id": "1d375108",
   "metadata": {},
   "outputs": [],
   "source": [
    "import scipy.sparse as sp"
   ]
  },
  {
   "cell_type": "code",
   "execution_count": 22,
   "id": "dfd91e99",
   "metadata": {},
   "outputs": [],
   "source": [
    "z = sp.csc_matrix(data.raw.X)"
   ]
  },
  {
   "cell_type": "code",
   "execution_count": 23,
   "id": "cfd78222",
   "metadata": {},
   "outputs": [],
   "source": [
    "data.raw = sc.AnnData(z, var=data.raw.var, obs=data.obs)"
   ]
  },
  {
   "cell_type": "code",
   "execution_count": 24,
   "id": "39d92a03",
   "metadata": {},
   "outputs": [
    {
     "data": {
      "text/plain": [
       "<2638x13714 sparse matrix of type '<class 'numpy.float32'>'\n",
       "\twith 2238732 stored elements in Compressed Sparse Column format>"
      ]
     },
     "execution_count": 24,
     "metadata": {},
     "output_type": "execute_result"
    }
   ],
   "source": [
    "data.raw.X"
   ]
  },
  {
   "cell_type": "markdown",
   "id": "2bb9e23e",
   "metadata": {},
   "source": [
    "#### Now that data.raw.X is in csc_matrix format, it can be passed to sciviewer"
   ]
  },
  {
   "cell_type": "code",
   "execution_count": 26,
   "id": "aaabd8e5-4c2f-41fe-85c6-a477f5eb9078",
   "metadata": {},
   "outputs": [
    {
     "name": "stdout",
     "output_type": "stream",
     "text": [
      "Create renderer\n",
      "Start thread\n",
      "Finish thread\n",
      "Setting up...\n"
     ]
    }
   ],
   "source": [
    "svobj = SCIViewer(data, embedding_name='X_umap', use_raw=True)\n",
    "svobj.explore_data()"
   ]
  },
  {
   "cell_type": "markdown",
   "id": "e2c918cf",
   "metadata": {},
   "source": [
    "<a id=\"sparse_matrix\"></a>"
   ]
  },
  {
   "cell_type": "markdown",
   "id": "c20ca5bc",
   "metadata": {},
   "source": [
    "## Passing a sparse matrix directly\n",
    "\n",
    "We can also pass a sparse matrix directly. Since no information is provided about the gene and cell names, we pass those as separate arguments"
   ]
  },
  {
   "cell_type": "code",
   "execution_count": 27,
   "id": "67eb764e",
   "metadata": {},
   "outputs": [
    {
     "data": {
      "text/html": [
       "<div>\n",
       "<style scoped>\n",
       "    .dataframe tbody tr th:only-of-type {\n",
       "        vertical-align: middle;\n",
       "    }\n",
       "\n",
       "    .dataframe tbody tr th {\n",
       "        vertical-align: top;\n",
       "    }\n",
       "\n",
       "    .dataframe thead th {\n",
       "        text-align: right;\n",
       "    }\n",
       "</style>\n",
       "<table border=\"1\" class=\"dataframe\">\n",
       "  <thead>\n",
       "    <tr style=\"text-align: right;\">\n",
       "      <th></th>\n",
       "      <th>UMAP_1</th>\n",
       "      <th>UMAP_2</th>\n",
       "    </tr>\n",
       "  </thead>\n",
       "  <tbody>\n",
       "    <tr>\n",
       "      <th>AAACATACAACCAC-1</th>\n",
       "      <td>9.728817</td>\n",
       "      <td>4.212151</td>\n",
       "    </tr>\n",
       "    <tr>\n",
       "      <th>AAACATTGAGCTAC-1</th>\n",
       "      <td>3.799765</td>\n",
       "      <td>10.181845</td>\n",
       "    </tr>\n",
       "    <tr>\n",
       "      <th>AAACATTGATCAGC-1</th>\n",
       "      <td>7.023628</td>\n",
       "      <td>4.829623</td>\n",
       "    </tr>\n",
       "    <tr>\n",
       "      <th>AAACCGTGCTTCCG-1</th>\n",
       "      <td>-0.298523</td>\n",
       "      <td>2.024061</td>\n",
       "    </tr>\n",
       "    <tr>\n",
       "      <th>AAACCGTGTATGCG-1</th>\n",
       "      <td>8.018503</td>\n",
       "      <td>-0.300426</td>\n",
       "    </tr>\n",
       "  </tbody>\n",
       "</table>\n",
       "</div>"
      ],
      "text/plain": [
       "                    UMAP_1     UMAP_2\n",
       "AAACATACAACCAC-1  9.728817   4.212151\n",
       "AAACATTGAGCTAC-1  3.799765  10.181845\n",
       "AAACATTGATCAGC-1  7.023628   4.829623\n",
       "AAACCGTGCTTCCG-1 -0.298523   2.024061\n",
       "AAACCGTGTATGCG-1  8.018503  -0.300426"
      ]
     },
     "execution_count": 27,
     "metadata": {},
     "output_type": "execute_result"
    }
   ],
   "source": [
    "umap = pd.DataFrame(data.obsm['X_umap'], index=data.obs.index, columns=['UMAP_1', 'UMAP_2'])\n",
    "umap.head()"
   ]
  },
  {
   "cell_type": "code",
   "execution_count": 28,
   "id": "aaee6dfb",
   "metadata": {},
   "outputs": [
    {
     "data": {
      "text/plain": [
       "['AAACATACAACCAC-1',\n",
       " 'AAACATTGAGCTAC-1',\n",
       " 'AAACATTGATCAGC-1',\n",
       " 'AAACCGTGCTTCCG-1',\n",
       " 'AAACCGTGTATGCG-1']"
      ]
     },
     "execution_count": 28,
     "metadata": {},
     "output_type": "execute_result"
    }
   ],
   "source": [
    "cell_names = list(data.obs.index)\n",
    "cell_names[:5]"
   ]
  },
  {
   "cell_type": "code",
   "execution_count": 29,
   "id": "5b04a3fa",
   "metadata": {},
   "outputs": [
    {
     "data": {
      "text/plain": [
       "['AL627309.1', 'AP006222.2', 'RP11-206L10.2', 'RP11-206L10.9', 'LINC00115']"
      ]
     },
     "execution_count": 29,
     "metadata": {},
     "output_type": "execute_result"
    }
   ],
   "source": [
    "gene_names = list(data.raw.var.index)\n",
    "gene_names[:5]"
   ]
  },
  {
   "cell_type": "code",
   "execution_count": 30,
   "id": "3f53b123",
   "metadata": {},
   "outputs": [],
   "source": [
    "expr = data.raw.X"
   ]
  },
  {
   "cell_type": "code",
   "execution_count": 31,
   "id": "f6f611da-a995-438a-af6e-fea70fed3f40",
   "metadata": {},
   "outputs": [
    {
     "data": {
      "text/plain": [
       "<2638x13714 sparse matrix of type '<class 'numpy.float32'>'\n",
       "\twith 2238732 stored elements in Compressed Sparse Column format>"
      ]
     },
     "execution_count": 31,
     "metadata": {},
     "output_type": "execute_result"
    }
   ],
   "source": [
    "expr"
   ]
  },
  {
   "cell_type": "code",
   "execution_count": 32,
   "id": "d9de887b",
   "metadata": {},
   "outputs": [
    {
     "name": "stdout",
     "output_type": "stream",
     "text": [
      "Create renderer\n",
      "Start thread\n",
      "Finish thread\n",
      "Setting up...\n",
      "EXPORTING DATA...\n",
      "BYE\n"
     ]
    },
    {
     "name": "stderr",
     "output_type": "stream",
     "text": [
      "2022-09-05 18:35:00.043 python[48357:1303094] NewtNSView::dealloc: softLock still hold @ dealloc!\n"
     ]
    }
   ],
   "source": [
    "svobj = SCIViewer(expr, umap, gene_names=gene_names, cell_names=cell_names)\n",
    "svobj.explore_data()"
   ]
  },
  {
   "cell_type": "code",
   "execution_count": null,
   "id": "cd3b4c72",
   "metadata": {},
   "outputs": [],
   "source": []
  }
 ],
 "metadata": {
  "kernelspec": {
   "display_name": "Python 3 (ipykernel)",
   "language": "python",
   "name": "python3"
  },
  "language_info": {
   "codemirror_mode": {
    "name": "ipython",
    "version": 3
   },
   "file_extension": ".py",
   "mimetype": "text/x-python",
   "name": "python",
   "nbconvert_exporter": "python",
   "pygments_lexer": "ipython3",
   "version": "3.8.13"
  }
 },
 "nbformat": 4,
 "nbformat_minor": 5
}
