{
 "cells": [
  {
   "cell_type": "code",
   "execution_count": 1,
   "id": "0b16b17a",
   "metadata": {},
   "outputs": [],
   "source": [
    "## This extension is needed only if running Sciviewer on a Mac OSX computer\n",
    "%gui osx\n",
    "\n",
    "## This extension is needed for any Jupyter notebook running Sciviewer\n",
    "%load_ext py5"
   ]
  },
  {
   "cell_type": "code",
   "execution_count": 2,
   "id": "a8c48604",
   "metadata": {},
   "outputs": [],
   "source": [
    "import pandas as pd\n",
    "import numpy as np\n",
    "import scanpy as sc\n",
    "\n",
    "%load_ext autoreload\n",
    "%autoreload 2\n",
    "import sys\n",
    "sys.path.insert(0, '../../sciviewer')\n",
    "from sciviewer import SCIViewer"
   ]
  },
  {
   "cell_type": "raw",
   "id": "b59ac327-b828-4efc-9530-9bbd964b8d0d",
   "metadata": {},
   "source": [
    "print('DOWNLOADING AND EXTRACTING EXAMPLE DATA')\n",
    "! mkdir -p ../data\n",
    "! wget https://www.dropbox.com/s/gx9y42m4knyi1cl/pbmc3k_umap_20210420.tsv -O ../data/pbmc3k_umap_20210420.tsv\n",
    "! wget https://www.dropbox.com/s/afnc6cbedvsez75/pbmc3k_expression_log2TP10K_20210420.tsv -O ../data/pbmc3k_expression_log2TP10K_20210420.tsv\n",
    "! wget https://www.dropbox.com/s/kmryxbttn7e0wh3/pbmc3k_20210420.h5ad -O ../data/pbmc3k_20210420.h5ad\n",
    "! ls ../data"
   ]
  },
  {
   "cell_type": "markdown",
   "id": "a506ad39",
   "metadata": {},
   "source": [
    "## Here we illustrate how to run Sciviewer with several potential input types.\n",
    "- [passing in the 2D embedding data and the gene expression data as Pandas DataFrames](#dataframe)\n",
    "- [passing a Scanpy AnnData object with dense data ](#denseadata)\n",
    "- [passing a Scanpy AnnData object with sparse data ](#sparseadata)\n",
    "- [passing a sparse csc_matrix](#sparse_matrix)\n"
   ]
  },
  {
   "cell_type": "markdown",
   "id": "7a057741",
   "metadata": {},
   "source": [
    "<a id=\"dataframe\"></a>"
   ]
  },
  {
   "cell_type": "markdown",
   "id": "83d0f4e0",
   "metadata": {},
   "source": [
    "## Dense Pandas DataFrame\n",
    "\n",
    "A simple way to pass the data is with Pandas DataFrames. The cell names are learned from the rows and the gene names are learned from the columns. The ordering of the cells in the 2D embedding and the gene expression matrix are assumed to match"
   ]
  },
  {
   "cell_type": "code",
   "execution_count": 3,
   "id": "191a0749",
   "metadata": {},
   "outputs": [
    {
     "name": "stdout",
     "output_type": "stream",
     "text": [
      "LOADING UMAP DATA...\n"
     ]
    },
    {
     "data": {
      "text/html": [
       "<div>\n",
       "<style scoped>\n",
       "    .dataframe tbody tr th:only-of-type {\n",
       "        vertical-align: middle;\n",
       "    }\n",
       "\n",
       "    .dataframe tbody tr th {\n",
       "        vertical-align: top;\n",
       "    }\n",
       "\n",
       "    .dataframe thead th {\n",
       "        text-align: right;\n",
       "    }\n",
       "</style>\n",
       "<table border=\"1\" class=\"dataframe\">\n",
       "  <thead>\n",
       "    <tr style=\"text-align: right;\">\n",
       "      <th></th>\n",
       "      <th>UMAP_1</th>\n",
       "      <th>UMAP_2</th>\n",
       "    </tr>\n",
       "  </thead>\n",
       "  <tbody>\n",
       "    <tr>\n",
       "      <th>AAACATACAACCAC-1</th>\n",
       "      <td>9.728817</td>\n",
       "      <td>4.212151</td>\n",
       "    </tr>\n",
       "    <tr>\n",
       "      <th>AAACATTGAGCTAC-1</th>\n",
       "      <td>3.799765</td>\n",
       "      <td>10.181845</td>\n",
       "    </tr>\n",
       "    <tr>\n",
       "      <th>AAACATTGATCAGC-1</th>\n",
       "      <td>7.023628</td>\n",
       "      <td>4.829623</td>\n",
       "    </tr>\n",
       "    <tr>\n",
       "      <th>AAACCGTGCTTCCG-1</th>\n",
       "      <td>-0.298523</td>\n",
       "      <td>2.024061</td>\n",
       "    </tr>\n",
       "    <tr>\n",
       "      <th>AAACCGTGTATGCG-1</th>\n",
       "      <td>8.018503</td>\n",
       "      <td>-0.300426</td>\n",
       "    </tr>\n",
       "  </tbody>\n",
       "</table>\n",
       "</div>"
      ],
      "text/plain": [
       "                    UMAP_1     UMAP_2\n",
       "AAACATACAACCAC-1  9.728817   4.212151\n",
       "AAACATTGAGCTAC-1  3.799765  10.181845\n",
       "AAACATTGATCAGC-1  7.023628   4.829623\n",
       "AAACCGTGCTTCCG-1 -0.298523   2.024061\n",
       "AAACCGTGTATGCG-1  8.018503  -0.300426"
      ]
     },
     "execution_count": 3,
     "metadata": {},
     "output_type": "execute_result"
    }
   ],
   "source": [
    "print(\"LOADING UMAP DATA...\")\n",
    "\n",
    "umap = pd.read_csv('../../data/pbmc3k_umap_20210420.tsv', sep='\\t', index_col=0)\n",
    "umap.head() "
   ]
  },
  {
   "cell_type": "code",
   "execution_count": 5,
   "id": "6db5b056",
   "metadata": {},
   "outputs": [
    {
     "name": "stdout",
     "output_type": "stream",
     "text": [
      "LOADING GENE EXPRESSION DATA...\n"
     ]
    },
    {
     "data": {
      "text/html": [
       "<div>\n",
       "<style scoped>\n",
       "    .dataframe tbody tr th:only-of-type {\n",
       "        vertical-align: middle;\n",
       "    }\n",
       "\n",
       "    .dataframe tbody tr th {\n",
       "        vertical-align: top;\n",
       "    }\n",
       "\n",
       "    .dataframe thead th {\n",
       "        text-align: right;\n",
       "    }\n",
       "</style>\n",
       "<table border=\"1\" class=\"dataframe\">\n",
       "  <thead>\n",
       "    <tr style=\"text-align: right;\">\n",
       "      <th></th>\n",
       "      <th>AL627309.1</th>\n",
       "      <th>AP006222.2</th>\n",
       "      <th>RP11-206L10.2</th>\n",
       "      <th>RP11-206L10.9</th>\n",
       "      <th>LINC00115</th>\n",
       "    </tr>\n",
       "  </thead>\n",
       "  <tbody>\n",
       "    <tr>\n",
       "      <th>AAACATACAACCAC-1</th>\n",
       "      <td>0.0</td>\n",
       "      <td>0.0</td>\n",
       "      <td>0.0</td>\n",
       "      <td>0.0</td>\n",
       "      <td>0.0</td>\n",
       "    </tr>\n",
       "    <tr>\n",
       "      <th>AAACATTGAGCTAC-1</th>\n",
       "      <td>0.0</td>\n",
       "      <td>0.0</td>\n",
       "      <td>0.0</td>\n",
       "      <td>0.0</td>\n",
       "      <td>0.0</td>\n",
       "    </tr>\n",
       "    <tr>\n",
       "      <th>AAACATTGATCAGC-1</th>\n",
       "      <td>0.0</td>\n",
       "      <td>0.0</td>\n",
       "      <td>0.0</td>\n",
       "      <td>0.0</td>\n",
       "      <td>0.0</td>\n",
       "    </tr>\n",
       "    <tr>\n",
       "      <th>AAACCGTGCTTCCG-1</th>\n",
       "      <td>0.0</td>\n",
       "      <td>0.0</td>\n",
       "      <td>0.0</td>\n",
       "      <td>0.0</td>\n",
       "      <td>0.0</td>\n",
       "    </tr>\n",
       "    <tr>\n",
       "      <th>AAACCGTGTATGCG-1</th>\n",
       "      <td>0.0</td>\n",
       "      <td>0.0</td>\n",
       "      <td>0.0</td>\n",
       "      <td>0.0</td>\n",
       "      <td>0.0</td>\n",
       "    </tr>\n",
       "  </tbody>\n",
       "</table>\n",
       "</div>"
      ],
      "text/plain": [
       "                  AL627309.1  AP006222.2  RP11-206L10.2  RP11-206L10.9  \\\n",
       "AAACATACAACCAC-1         0.0         0.0            0.0            0.0   \n",
       "AAACATTGAGCTAC-1         0.0         0.0            0.0            0.0   \n",
       "AAACATTGATCAGC-1         0.0         0.0            0.0            0.0   \n",
       "AAACCGTGCTTCCG-1         0.0         0.0            0.0            0.0   \n",
       "AAACCGTGTATGCG-1         0.0         0.0            0.0            0.0   \n",
       "\n",
       "                  LINC00115  \n",
       "AAACATACAACCAC-1        0.0  \n",
       "AAACATTGAGCTAC-1        0.0  \n",
       "AAACATTGATCAGC-1        0.0  \n",
       "AAACCGTGCTTCCG-1        0.0  \n",
       "AAACCGTGTATGCG-1        0.0  "
      ]
     },
     "execution_count": 5,
     "metadata": {},
     "output_type": "execute_result"
    }
   ],
   "source": [
    "print(\"LOADING GENE EXPRESSION DATA...\")\n",
    "\n",
    "expr = pd.read_csv('../../data/pbmc3k_expression_log2TP10K_20210420.tsv', sep='\\t', index_col=0)\n",
    "expr.iloc[:5,:5]"
   ]
  },
  {
   "cell_type": "code",
   "execution_count": 6,
   "id": "ff835450",
   "metadata": {},
   "outputs": [
    {
     "name": "stdout",
     "output_type": "stream",
     "text": [
      "Create renderer\n",
      "Start thread\n",
      "Finish thread\n",
      "Setting up...\n",
      "0.17818689346313477 seconds to select and project cells\n",
      "Selected 1599 cells\n",
      "Calculating correlations...\n",
      "3.857682943344116 seconds to calculate correlations. Sparsity:  False\n",
      "Selected gene RPL32\n",
      "Min/max expression level for gene RPL32 0.0 5.7993245\n",
      "Selected gene RPS12\n",
      "Min/max expression level for gene RPS12 0.0 6.1948423\n",
      "Selected gene RPL13\n",
      "Min/max expression level for gene RPL13 0.0 6.4361143\n",
      "Selected gene RPS27\n",
      "Min/max expression level for gene RPS27 0.0 5.374052\n",
      "0.05393576622009277 seconds to select and project cells\n",
      "Selected 341 cells\n",
      "Calculating differential expression...\n",
      "0.04273104667663574 seconds to calculate genesums. Sparsity:  False\n",
      "0.4628751277923584 seconds to calculate squared genesums. Sparsity:  False\n"
     ]
    },
    {
     "name": "stderr",
     "output_type": "stream",
     "text": [
      "/Users/dylankotliar/Dropbox (MIT)/projects/sciviewer/extras/debugging/../../sciviewer/sciviewer.py:714: RuntimeWarning: invalid value encountered in sqrt\n",
      "  remainder_stds = np.sqrt(rem_val)\n"
     ]
    },
    {
     "name": "stdout",
     "output_type": "stream",
     "text": [
      "1.5150940418243408 seconds to calculate differential expression. Sparsity:  False\n",
      "Selected gene CD74\n",
      "Min/max expression level for gene CD74 0.0 6.048452\n",
      "Selected gene CD3D\n",
      "Min/max expression level for gene CD3D 0.0 5.092196\n",
      "Selected gene IL32\n",
      "Min/max expression level for gene IL32 0.0 5.5627327\n",
      "0.07646989822387695 seconds to select and project cells\n",
      "Selected 609 cells\n",
      "Calculating correlations...\n",
      "1.4149577617645264 seconds to calculate correlations. Sparsity:  False\n",
      "Selected gene FCGR3A\n",
      "Min/max expression level for gene FCGR3A 0.0 4.1987143\n",
      "0.024641036987304688 seconds to select and project cells\n",
      "Selected 37 cells\n",
      "Calculating differential expression...\n",
      "0.676246166229248 seconds to calculate differential expression. Sparsity:  False\n",
      "Selected gene HLA-DRA\n",
      "Min/max expression level for gene HLA-DRA 0.0 5.969516\n",
      "EXPORTING DATA...\n",
      "BYE\n"
     ]
    },
    {
     "name": "stderr",
     "output_type": "stream",
     "text": [
      "2021-08-02 13:33:14.197 python[11651:460073] NewtNSView::dealloc: softLock still hold @ dealloc!\n"
     ]
    }
   ],
   "source": [
    "svobj = SCIViewer(expr, umap)\n",
    "svobj.explore_data()"
   ]
  },
  {
   "cell_type": "code",
   "execution_count": 7,
   "id": "69b2eaef-9662-4a61-bbdf-73598fa108c3",
   "metadata": {},
   "outputs": [
    {
     "data": {
      "text/html": [
       "<div>\n",
       "<style scoped>\n",
       "    .dataframe tbody tr th:only-of-type {\n",
       "        vertical-align: middle;\n",
       "    }\n",
       "\n",
       "    .dataframe tbody tr th {\n",
       "        vertical-align: top;\n",
       "    }\n",
       "\n",
       "    .dataframe thead th {\n",
       "        text-align: right;\n",
       "    }\n",
       "</style>\n",
       "<table border=\"1\" class=\"dataframe\">\n",
       "  <thead>\n",
       "    <tr style=\"text-align: right;\">\n",
       "      <th></th>\n",
       "      <th>R</th>\n",
       "      <th>P</th>\n",
       "    </tr>\n",
       "  </thead>\n",
       "  <tbody>\n",
       "    <tr>\n",
       "      <th>S100A8</th>\n",
       "      <td>-0.804243</td>\n",
       "      <td>2.668235e-139</td>\n",
       "    </tr>\n",
       "    <tr>\n",
       "      <th>FCGR3A</th>\n",
       "      <td>0.803007</td>\n",
       "      <td>1.465832e-138</td>\n",
       "    </tr>\n",
       "    <tr>\n",
       "      <th>LYZ</th>\n",
       "      <td>-0.786903</td>\n",
       "      <td>2.237323e-129</td>\n",
       "    </tr>\n",
       "    <tr>\n",
       "      <th>S100A9</th>\n",
       "      <td>-0.774451</td>\n",
       "      <td>8.319297e-123</td>\n",
       "    </tr>\n",
       "    <tr>\n",
       "      <th>RHOC</th>\n",
       "      <td>0.666671</td>\n",
       "      <td>1.617039e-79</td>\n",
       "    </tr>\n",
       "  </tbody>\n",
       "</table>\n",
       "</div>"
      ],
      "text/plain": [
       "               R              P\n",
       "S100A8 -0.804243  2.668235e-139\n",
       "FCGR3A  0.803007  1.465832e-138\n",
       "LYZ    -0.786903  2.237323e-129\n",
       "S100A9 -0.774451  8.319297e-123\n",
       "RHOC    0.666671   1.617039e-79"
      ]
     },
     "execution_count": 7,
     "metadata": {},
     "output_type": "execute_result"
    }
   ],
   "source": [
    "## This gets updated in real time when cells are selected in directional mode\n",
    "svobj.results_proj_correlation.sort_values(by='P', ascending=True).head()"
   ]
  },
  {
   "cell_type": "markdown",
   "id": "060f5989",
   "metadata": {},
   "source": [
    "#### The class attributes below get populated in real time and thus can be accessed when the interactive viewer is running"
   ]
  },
  {
   "cell_type": "code",
   "execution_count": 8,
   "id": "4cfcfe3b",
   "metadata": {},
   "outputs": [
    {
     "data": {
      "text/html": [
       "<div>\n",
       "<style scoped>\n",
       "    .dataframe tbody tr th:only-of-type {\n",
       "        vertical-align: middle;\n",
       "    }\n",
       "\n",
       "    .dataframe tbody tr th {\n",
       "        vertical-align: top;\n",
       "    }\n",
       "\n",
       "    .dataframe thead th {\n",
       "        text-align: right;\n",
       "    }\n",
       "</style>\n",
       "<table border=\"1\" class=\"dataframe\">\n",
       "  <thead>\n",
       "    <tr style=\"text-align: right;\">\n",
       "      <th></th>\n",
       "      <th>index</th>\n",
       "      <th>cell_name</th>\n",
       "      <th>projection</th>\n",
       "    </tr>\n",
       "  </thead>\n",
       "  <tbody>\n",
       "    <tr>\n",
       "      <th>0</th>\n",
       "      <td>99</td>\n",
       "      <td>AAGATTACCGCCTT-1</td>\n",
       "      <td>0.374208</td>\n",
       "    </tr>\n",
       "    <tr>\n",
       "      <th>1</th>\n",
       "      <td>109</td>\n",
       "      <td>AAGCCATGAACTGC-1</td>\n",
       "      <td>0.564893</td>\n",
       "    </tr>\n",
       "    <tr>\n",
       "      <th>2</th>\n",
       "      <td>161</td>\n",
       "      <td>AATGCGTGGACGGA-1</td>\n",
       "      <td>0.219624</td>\n",
       "    </tr>\n",
       "    <tr>\n",
       "      <th>3</th>\n",
       "      <td>175</td>\n",
       "      <td>AATTACGAATTCCT-1</td>\n",
       "      <td>0.281582</td>\n",
       "    </tr>\n",
       "    <tr>\n",
       "      <th>4</th>\n",
       "      <td>251</td>\n",
       "      <td>ACCCGTTGCTTCTA-1</td>\n",
       "      <td>0.845314</td>\n",
       "    </tr>\n",
       "  </tbody>\n",
       "</table>\n",
       "</div>"
      ],
      "text/plain": [
       "   index         cell_name  projection\n",
       "0     99  AAGATTACCGCCTT-1    0.374208\n",
       "1    109  AAGCCATGAACTGC-1    0.564893\n",
       "2    161  AATGCGTGGACGGA-1    0.219624\n",
       "3    175  AATTACGAATTCCT-1    0.281582\n",
       "4    251  ACCCGTTGCTTCTA-1    0.845314"
      ]
     },
     "execution_count": 8,
     "metadata": {},
     "output_type": "execute_result"
    }
   ],
   "source": [
    "## This attribute get updated in real time whenever cells are selected\n",
    "\n",
    "svobj.selected_cells.head()"
   ]
  },
  {
   "cell_type": "code",
   "execution_count": 9,
   "id": "7e48d4ec",
   "metadata": {},
   "outputs": [
    {
     "data": {
      "text/html": [
       "<div>\n",
       "<style scoped>\n",
       "    .dataframe tbody tr th:only-of-type {\n",
       "        vertical-align: middle;\n",
       "    }\n",
       "\n",
       "    .dataframe tbody tr th {\n",
       "        vertical-align: top;\n",
       "    }\n",
       "\n",
       "    .dataframe thead th {\n",
       "        text-align: right;\n",
       "    }\n",
       "</style>\n",
       "<table border=\"1\" class=\"dataframe\">\n",
       "  <thead>\n",
       "    <tr style=\"text-align: right;\">\n",
       "      <th></th>\n",
       "      <th>R</th>\n",
       "      <th>P</th>\n",
       "    </tr>\n",
       "  </thead>\n",
       "  <tbody>\n",
       "    <tr>\n",
       "      <th>S100A8</th>\n",
       "      <td>-0.804243</td>\n",
       "      <td>2.668235e-139</td>\n",
       "    </tr>\n",
       "    <tr>\n",
       "      <th>FCGR3A</th>\n",
       "      <td>0.803007</td>\n",
       "      <td>1.465832e-138</td>\n",
       "    </tr>\n",
       "    <tr>\n",
       "      <th>LYZ</th>\n",
       "      <td>-0.786903</td>\n",
       "      <td>2.237323e-129</td>\n",
       "    </tr>\n",
       "    <tr>\n",
       "      <th>S100A9</th>\n",
       "      <td>-0.774451</td>\n",
       "      <td>8.319297e-123</td>\n",
       "    </tr>\n",
       "    <tr>\n",
       "      <th>RHOC</th>\n",
       "      <td>0.666671</td>\n",
       "      <td>1.617039e-79</td>\n",
       "    </tr>\n",
       "  </tbody>\n",
       "</table>\n",
       "</div>"
      ],
      "text/plain": [
       "               R              P\n",
       "S100A8 -0.804243  2.668235e-139\n",
       "FCGR3A  0.803007  1.465832e-138\n",
       "LYZ    -0.786903  2.237323e-129\n",
       "S100A9 -0.774451  8.319297e-123\n",
       "RHOC    0.666671   1.617039e-79"
      ]
     },
     "execution_count": 9,
     "metadata": {},
     "output_type": "execute_result"
    }
   ],
   "source": [
    "## This gets updated in real time when cells are selected in directional mode\n",
    "svobj.results_proj_correlation.sort_values(by='P').head()"
   ]
  },
  {
   "cell_type": "code",
   "execution_count": 10,
   "id": "80591100-0796-4761-b5d5-3c3c32e41129",
   "metadata": {},
   "outputs": [
    {
     "data": {
      "text/html": [
       "<div>\n",
       "<style scoped>\n",
       "    .dataframe tbody tr th:only-of-type {\n",
       "        vertical-align: middle;\n",
       "    }\n",
       "\n",
       "    .dataframe tbody tr th {\n",
       "        vertical-align: top;\n",
       "    }\n",
       "\n",
       "    .dataframe thead th {\n",
       "        text-align: right;\n",
       "    }\n",
       "</style>\n",
       "<table border=\"1\" class=\"dataframe\">\n",
       "  <thead>\n",
       "    <tr style=\"text-align: right;\">\n",
       "      <th></th>\n",
       "      <th>R</th>\n",
       "      <th>P</th>\n",
       "    </tr>\n",
       "  </thead>\n",
       "  <tbody>\n",
       "    <tr>\n",
       "      <th>S100A8</th>\n",
       "      <td>-0.804243</td>\n",
       "      <td>2.668235e-139</td>\n",
       "    </tr>\n",
       "    <tr>\n",
       "      <th>LYZ</th>\n",
       "      <td>-0.786903</td>\n",
       "      <td>2.237323e-129</td>\n",
       "    </tr>\n",
       "    <tr>\n",
       "      <th>S100A9</th>\n",
       "      <td>-0.774451</td>\n",
       "      <td>8.319297e-123</td>\n",
       "    </tr>\n",
       "    <tr>\n",
       "      <th>LGALS2</th>\n",
       "      <td>-0.591377</td>\n",
       "      <td>1.026797e-58</td>\n",
       "    </tr>\n",
       "    <tr>\n",
       "      <th>GPX1</th>\n",
       "      <td>-0.573290</td>\n",
       "      <td>1.687242e-54</td>\n",
       "    </tr>\n",
       "  </tbody>\n",
       "</table>\n",
       "</div>"
      ],
      "text/plain": [
       "               R              P\n",
       "S100A8 -0.804243  2.668235e-139\n",
       "LYZ    -0.786903  2.237323e-129\n",
       "S100A9 -0.774451  8.319297e-123\n",
       "LGALS2 -0.591377   1.026797e-58\n",
       "GPX1   -0.573290   1.687242e-54"
      ]
     },
     "execution_count": 10,
     "metadata": {},
     "output_type": "execute_result"
    }
   ],
   "source": [
    "svobj.results_proj_correlation.sort_values(by='R', ascending=True).head()"
   ]
  },
  {
   "cell_type": "code",
   "execution_count": 11,
   "id": "af98ec7d-88dc-4918-954f-a4de3f48db74",
   "metadata": {},
   "outputs": [
    {
     "data": {
      "text/html": [
       "<div>\n",
       "<style scoped>\n",
       "    .dataframe tbody tr th:only-of-type {\n",
       "        vertical-align: middle;\n",
       "    }\n",
       "\n",
       "    .dataframe tbody tr th {\n",
       "        vertical-align: top;\n",
       "    }\n",
       "\n",
       "    .dataframe thead th {\n",
       "        text-align: right;\n",
       "    }\n",
       "</style>\n",
       "<table border=\"1\" class=\"dataframe\">\n",
       "  <thead>\n",
       "    <tr style=\"text-align: right;\">\n",
       "      <th></th>\n",
       "      <th>T</th>\n",
       "      <th>P</th>\n",
       "    </tr>\n",
       "  </thead>\n",
       "  <tbody>\n",
       "    <tr>\n",
       "      <th>CD3G</th>\n",
       "      <td>-26.461915</td>\n",
       "      <td>7.723687e-137</td>\n",
       "    </tr>\n",
       "    <tr>\n",
       "      <th>GZMA</th>\n",
       "      <td>-24.247722</td>\n",
       "      <td>2.889361e-117</td>\n",
       "    </tr>\n",
       "    <tr>\n",
       "      <th>PRKCQ-AS1</th>\n",
       "      <td>-22.579540</td>\n",
       "      <td>3.111066e-103</td>\n",
       "    </tr>\n",
       "    <tr>\n",
       "      <th>LEF1</th>\n",
       "      <td>-22.301159</td>\n",
       "      <td>5.891293e-101</td>\n",
       "    </tr>\n",
       "    <tr>\n",
       "      <th>PBXIP1</th>\n",
       "      <td>-22.035322</td>\n",
       "      <td>8.454019e-99</td>\n",
       "    </tr>\n",
       "  </tbody>\n",
       "</table>\n",
       "</div>"
      ],
      "text/plain": [
       "                   T              P\n",
       "CD3G      -26.461915  7.723687e-137\n",
       "GZMA      -24.247722  2.889361e-117\n",
       "PRKCQ-AS1 -22.579540  3.111066e-103\n",
       "LEF1      -22.301159  5.891293e-101\n",
       "PBXIP1    -22.035322   8.454019e-99"
      ]
     },
     "execution_count": 11,
     "metadata": {},
     "output_type": "execute_result"
    }
   ],
   "source": [
    "## This gets updated in real time when cells are selected in differential mode\n",
    "svobj.results_diffexpr.sort_values(by='P').head()"
   ]
  },
  {
   "cell_type": "markdown",
   "id": "c442c410",
   "metadata": {},
   "source": [
    "<a id=\"denseadata\"></a>"
   ]
  },
  {
   "cell_type": "markdown",
   "id": "a9cb5e9a",
   "metadata": {},
   "source": [
    "## AnnData with dense input matrix\n",
    "Alternatively, the data can be passed as a Scanpy AnnData object. By default the expression data is read from the .X attribute and the umap data is read from .obsm with the key 'X_umap'. However alternative embeddings can be provided with the `embedding_name` argument and the expression data can be read from the .raw.X attribute by setting the use_raw attribute to True"
   ]
  },
  {
   "cell_type": "code",
   "execution_count": 12,
   "id": "9a90c0a9",
   "metadata": {},
   "outputs": [
    {
     "data": {
      "text/plain": [
       "AnnData object with n_obs × n_vars = 2638 × 1838\n",
       "    obs: 'n_genes', 'n_genes_by_counts', 'total_counts', 'total_counts_mt', 'pct_counts_mt'\n",
       "    var: 'gene_ids', 'n_cells', 'mt', 'n_cells_by_counts', 'mean_counts', 'pct_dropout_by_counts', 'total_counts', 'highly_variable', 'means', 'dispersions', 'dispersions_norm', 'mean', 'std'\n",
       "    uns: 'hvg', 'neighbors', 'pca', 'umap'\n",
       "    obsm: 'X_pca', 'X_umap'\n",
       "    varm: 'PCs'\n",
       "    obsp: 'connectivities', 'distances'"
      ]
     },
     "execution_count": 12,
     "metadata": {},
     "output_type": "execute_result"
    }
   ],
   "source": [
    "data = sc.read('../../data/pbmc3k_20210420.h5ad')\n",
    "data"
   ]
  },
  {
   "cell_type": "markdown",
   "id": "a4adb86f",
   "metadata": {},
   "source": [
    "#### Here the data in data.X is dense and the data in data.raw.X is sparse. We first illustrate the method with the dense data and subsequently with the sparse data"
   ]
  },
  {
   "cell_type": "code",
   "execution_count": 13,
   "id": "acf75834",
   "metadata": {},
   "outputs": [
    {
     "name": "stdout",
     "output_type": "stream",
     "text": [
      "Create renderer\n",
      "Start thread\n",
      "Finish thread\n",
      "Setting up...\n",
      "0.0865478515625 seconds to select and project cells\n",
      "Selected 618 cells\n",
      "Calculating correlations...\n",
      "0.11456418037414551 seconds to calculate correlations. Sparsity:  False\n",
      "Selected gene FCGR3A\n",
      "Min/max expression level for gene FCGR3A -1.7557994 3.9911184\n",
      "Selected gene ABI3\n",
      "Min/max expression level for gene ABI3 -1.9131678 7.0717273\n",
      "0.026217937469482422 seconds to select and project cells\n",
      "Selected 37 cells\n",
      "Calculating differential expression...\n",
      "0.002048969268798828 seconds to calculate genesums. Sparsity:  False\n",
      "0.02713799476623535 seconds to calculate squared genesums. Sparsity:  False\n",
      "0.10609889030456543 seconds to calculate differential expression. Sparsity:  False\n",
      "Selected gene HLA-DPA1\n",
      "Min/max expression level for gene HLA-DPA1 -1.6818804 3.275891\n",
      "Selected gene HLA-DPB1\n",
      "Min/max expression level for gene HLA-DPB1 -1.586307 3.6341147\n",
      "0.05413198471069336 seconds to select and project cells\n",
      "Selected 341 cells\n",
      "Calculating correlations...\n",
      "0.13127589225769043 seconds to calculate correlations. Sparsity:  False\n",
      "Selected gene DNASE1L3\n",
      "Min/max expression level for gene DNASE1L3 -0.8606307 10.0\n",
      "Selected gene TCL1A\n",
      "Min/max expression level for gene TCL1A -0.7538461 6.344707\n",
      "Selected gene DNASE1L3\n",
      "Min/max expression level for gene DNASE1L3 -0.8606307 10.0\n"
     ]
    }
   ],
   "source": [
    "svobj = SCIViewer(data, embedding_name='X_umap', use_raw=False)\n",
    "svobj.explore_data()"
   ]
  },
  {
   "cell_type": "code",
   "execution_count": 23,
   "id": "ebbbc595-d0b8-4582-a425-c78cf4296aee",
   "metadata": {},
   "outputs": [
    {
     "data": {
      "text/html": [
       "<div>\n",
       "<style scoped>\n",
       "    .dataframe tbody tr th:only-of-type {\n",
       "        vertical-align: middle;\n",
       "    }\n",
       "\n",
       "    .dataframe tbody tr th {\n",
       "        vertical-align: top;\n",
       "    }\n",
       "\n",
       "    .dataframe thead th {\n",
       "        text-align: right;\n",
       "    }\n",
       "</style>\n",
       "<table border=\"1\" class=\"dataframe\">\n",
       "  <thead>\n",
       "    <tr style=\"text-align: right;\">\n",
       "      <th></th>\n",
       "      <th>R</th>\n",
       "      <th>P</th>\n",
       "    </tr>\n",
       "  </thead>\n",
       "  <tbody>\n",
       "    <tr>\n",
       "      <th>DNASE1L3</th>\n",
       "      <td>0.443783</td>\n",
       "      <td>6.898800e-18</td>\n",
       "    </tr>\n",
       "    <tr>\n",
       "      <th>TCL1A</th>\n",
       "      <td>0.412212</td>\n",
       "      <td>2.024419e-15</td>\n",
       "    </tr>\n",
       "    <tr>\n",
       "      <th>HLA-DRB1</th>\n",
       "      <td>0.354575</td>\n",
       "      <td>1.541069e-11</td>\n",
       "    </tr>\n",
       "    <tr>\n",
       "      <th>CD72</th>\n",
       "      <td>0.312071</td>\n",
       "      <td>3.877771e-09</td>\n",
       "    </tr>\n",
       "    <tr>\n",
       "      <th>HLA-DQA1</th>\n",
       "      <td>0.285201</td>\n",
       "      <td>8.371317e-08</td>\n",
       "    </tr>\n",
       "    <tr>\n",
       "      <th>...</th>\n",
       "      <td>...</td>\n",
       "      <td>...</td>\n",
       "    </tr>\n",
       "    <tr>\n",
       "      <th>KCNE1</th>\n",
       "      <td>NaN</td>\n",
       "      <td>NaN</td>\n",
       "    </tr>\n",
       "    <tr>\n",
       "      <th>BRWD1</th>\n",
       "      <td>NaN</td>\n",
       "      <td>NaN</td>\n",
       "    </tr>\n",
       "    <tr>\n",
       "      <th>SUMO3</th>\n",
       "      <td>NaN</td>\n",
       "      <td>NaN</td>\n",
       "    </tr>\n",
       "    <tr>\n",
       "      <th>S100B</th>\n",
       "      <td>NaN</td>\n",
       "      <td>NaN</td>\n",
       "    </tr>\n",
       "    <tr>\n",
       "      <th>PRMT2</th>\n",
       "      <td>NaN</td>\n",
       "      <td>NaN</td>\n",
       "    </tr>\n",
       "  </tbody>\n",
       "</table>\n",
       "<p>1838 rows × 2 columns</p>\n",
       "</div>"
      ],
      "text/plain": [
       "                 R             P\n",
       "DNASE1L3  0.443783  6.898800e-18\n",
       "TCL1A     0.412212  2.024419e-15\n",
       "HLA-DRB1  0.354575  1.541069e-11\n",
       "CD72      0.312071  3.877771e-09\n",
       "HLA-DQA1  0.285201  8.371317e-08\n",
       "...            ...           ...\n",
       "KCNE1          NaN           NaN\n",
       "BRWD1          NaN           NaN\n",
       "SUMO3          NaN           NaN\n",
       "S100B          NaN           NaN\n",
       "PRMT2          NaN           NaN\n",
       "\n",
       "[1838 rows x 2 columns]"
      ]
     },
     "execution_count": 23,
     "metadata": {},
     "output_type": "execute_result"
    }
   ],
   "source": [
    "svobj.results_proj_correlation.sort_values(by='R', ascending=False)"
   ]
  },
  {
   "cell_type": "markdown",
   "id": "941bb965",
   "metadata": {},
   "source": [
    "<a id=\"sparseadata\"></a>"
   ]
  },
  {
   "cell_type": "markdown",
   "id": "c22266eb",
   "metadata": {},
   "source": [
    "## AnnData with sparse input matrix\n"
   ]
  },
  {
   "cell_type": "code",
   "execution_count": 24,
   "id": "2649aed4",
   "metadata": {},
   "outputs": [
    {
     "data": {
      "text/plain": [
       "<2638x13714 sparse matrix of type '<class 'numpy.float32'>'\n",
       "\twith 2238732 stored elements in Compressed Sparse Row format>"
      ]
     },
     "execution_count": 24,
     "metadata": {},
     "output_type": "execute_result"
    }
   ],
   "source": [
    "data.raw.X"
   ]
  },
  {
   "cell_type": "markdown",
   "id": "872b3dea",
   "metadata": {},
   "source": [
    "#### This data is sparse but is in compressed sparse row format (csr_matrix) rather than csc_matrix, so we need to convert it to csc_matrix format"
   ]
  },
  {
   "cell_type": "code",
   "execution_count": 25,
   "id": "1d375108",
   "metadata": {},
   "outputs": [],
   "source": [
    "import scipy.sparse as sp"
   ]
  },
  {
   "cell_type": "code",
   "execution_count": 26,
   "id": "dfd91e99",
   "metadata": {},
   "outputs": [],
   "source": [
    "z = sp.csc.csc_matrix(data.raw.X)"
   ]
  },
  {
   "cell_type": "code",
   "execution_count": 27,
   "id": "cfd78222",
   "metadata": {},
   "outputs": [],
   "source": [
    "data.raw = sc.AnnData(z, var=data.raw.var, obs=data.obs)"
   ]
  },
  {
   "cell_type": "code",
   "execution_count": 28,
   "id": "39d92a03",
   "metadata": {},
   "outputs": [
    {
     "data": {
      "text/plain": [
       "<2638x13714 sparse matrix of type '<class 'numpy.float32'>'\n",
       "\twith 2238732 stored elements in Compressed Sparse Column format>"
      ]
     },
     "execution_count": 28,
     "metadata": {},
     "output_type": "execute_result"
    }
   ],
   "source": [
    "data.raw.X"
   ]
  },
  {
   "cell_type": "markdown",
   "id": "2bb9e23e",
   "metadata": {},
   "source": [
    "#### Now that data.raw.X is in csc_matrix format, it can be passed to sciviewer"
   ]
  },
  {
   "cell_type": "code",
   "execution_count": 29,
   "id": "aaabd8e5-4c2f-41fe-85c6-a477f5eb9078",
   "metadata": {},
   "outputs": [
    {
     "name": "stdout",
     "output_type": "stream",
     "text": [
      "Create renderer\n",
      "Start thread\n",
      "Finish thread\n",
      "Setting up...\n",
      "0.022098779678344727 seconds to select and project cells\n",
      "Selected 15 cells\n",
      "Calculating differential expression...\n",
      "0.0058460235595703125 seconds to calculate genesums. Sparsity:  True\n",
      "0.11003518104553223 seconds to calculate squared genesums. Sparsity:  True\n",
      "0.7141640186309814 seconds to calculate differential expression. Sparsity:  True\n",
      "Selected gene GPX1\n",
      "Min/max expression level for gene GPX1 0.0 5.552269\n",
      "Selected gene NRGN\n",
      "Min/max expression level for gene NRGN 0.0 4.4768424\n",
      "0.05425095558166504 seconds to select and project cells\n",
      "Selected 340 cells\n",
      "Calculating differential expression...\n",
      "0.6401078701019287 seconds to calculate differential expression. Sparsity:  True\n",
      "Selected gene HLA-DRA\n",
      "Min/max expression level for gene HLA-DRA 0.0 5.969516\n",
      "Selected gene HLA-DPB1\n",
      "Min/max expression level for gene HLA-DPB1 0.0 6.1795025\n",
      "Selected gene GIMAP7\n",
      "Min/max expression level for gene GIMAP7 0.0 6.9069724\n",
      "Selected gene CD3D\n",
      "Min/max expression level for gene CD3D 0.0 5.092196\n",
      "0.03641510009765625 seconds to select and project cells\n",
      "Selected 34 cells\n",
      "Calculating correlations...\n",
      "0.651496171951294 seconds to calculate correlations. Sparsity:  True\n",
      "Selected gene WBSCR22\n",
      "Min/max expression level for gene WBSCR22 0.0 3.5361168\n",
      "Selected gene RBX1\n",
      "Min/max expression level for gene RBX1 0.0 4.347503\n",
      "EXPORTING DATA...\n",
      "BYE\n"
     ]
    },
    {
     "name": "stderr",
     "output_type": "stream",
     "text": [
      "2021-08-02 13:36:35.473 python[11651:460073] NewtNSView::dealloc: softLock still hold @ dealloc!\n"
     ]
    }
   ],
   "source": [
    "svobj = SCIViewer(data, embedding_name='X_umap', use_raw=True)\n",
    "svobj.explore_data()"
   ]
  },
  {
   "cell_type": "markdown",
   "id": "e2c918cf",
   "metadata": {},
   "source": [
    "<a id=\"sparse_matrix\"></a>"
   ]
  },
  {
   "cell_type": "markdown",
   "id": "c20ca5bc",
   "metadata": {},
   "source": [
    "## Passing a sparse matrix directly\n",
    "\n",
    "We can also pass a sparse matrix directly. Since no information is provided about the gene and cell names, we pass those as separate arguments"
   ]
  },
  {
   "cell_type": "code",
   "execution_count": 20,
   "id": "67eb764e",
   "metadata": {},
   "outputs": [
    {
     "data": {
      "text/html": [
       "<div>\n",
       "<style scoped>\n",
       "    .dataframe tbody tr th:only-of-type {\n",
       "        vertical-align: middle;\n",
       "    }\n",
       "\n",
       "    .dataframe tbody tr th {\n",
       "        vertical-align: top;\n",
       "    }\n",
       "\n",
       "    .dataframe thead th {\n",
       "        text-align: right;\n",
       "    }\n",
       "</style>\n",
       "<table border=\"1\" class=\"dataframe\">\n",
       "  <thead>\n",
       "    <tr style=\"text-align: right;\">\n",
       "      <th></th>\n",
       "      <th>UMAP_1</th>\n",
       "      <th>UMAP_2</th>\n",
       "    </tr>\n",
       "  </thead>\n",
       "  <tbody>\n",
       "    <tr>\n",
       "      <th>AAACATACAACCAC-1</th>\n",
       "      <td>9.728817</td>\n",
       "      <td>4.212151</td>\n",
       "    </tr>\n",
       "    <tr>\n",
       "      <th>AAACATTGAGCTAC-1</th>\n",
       "      <td>3.799765</td>\n",
       "      <td>10.181845</td>\n",
       "    </tr>\n",
       "    <tr>\n",
       "      <th>AAACATTGATCAGC-1</th>\n",
       "      <td>7.023628</td>\n",
       "      <td>4.829623</td>\n",
       "    </tr>\n",
       "    <tr>\n",
       "      <th>AAACCGTGCTTCCG-1</th>\n",
       "      <td>-0.298523</td>\n",
       "      <td>2.024061</td>\n",
       "    </tr>\n",
       "    <tr>\n",
       "      <th>AAACCGTGTATGCG-1</th>\n",
       "      <td>8.018503</td>\n",
       "      <td>-0.300426</td>\n",
       "    </tr>\n",
       "  </tbody>\n",
       "</table>\n",
       "</div>"
      ],
      "text/plain": [
       "                    UMAP_1     UMAP_2\n",
       "AAACATACAACCAC-1  9.728817   4.212151\n",
       "AAACATTGAGCTAC-1  3.799765  10.181845\n",
       "AAACATTGATCAGC-1  7.023628   4.829623\n",
       "AAACCGTGCTTCCG-1 -0.298523   2.024061\n",
       "AAACCGTGTATGCG-1  8.018503  -0.300426"
      ]
     },
     "execution_count": 20,
     "metadata": {},
     "output_type": "execute_result"
    }
   ],
   "source": [
    "umap = pd.DataFrame(data.obsm['X_umap'], index=data.obs.index, columns=['UMAP_1', 'UMAP_2'])\n",
    "umap.head()"
   ]
  },
  {
   "cell_type": "code",
   "execution_count": 21,
   "id": "aaee6dfb",
   "metadata": {},
   "outputs": [
    {
     "data": {
      "text/plain": [
       "['AAACATACAACCAC-1',\n",
       " 'AAACATTGAGCTAC-1',\n",
       " 'AAACATTGATCAGC-1',\n",
       " 'AAACCGTGCTTCCG-1',\n",
       " 'AAACCGTGTATGCG-1']"
      ]
     },
     "execution_count": 21,
     "metadata": {},
     "output_type": "execute_result"
    }
   ],
   "source": [
    "cell_names = list(data.obs.index)\n",
    "cell_names[:5]"
   ]
  },
  {
   "cell_type": "code",
   "execution_count": 22,
   "id": "5b04a3fa",
   "metadata": {},
   "outputs": [
    {
     "data": {
      "text/plain": [
       "['AL627309.1', 'AP006222.2', 'RP11-206L10.2', 'RP11-206L10.9', 'LINC00115']"
      ]
     },
     "execution_count": 22,
     "metadata": {},
     "output_type": "execute_result"
    }
   ],
   "source": [
    "gene_names = list(data.raw.var.index)\n",
    "gene_names[:5]"
   ]
  },
  {
   "cell_type": "code",
   "execution_count": 23,
   "id": "3f53b123",
   "metadata": {},
   "outputs": [],
   "source": [
    "expr = data.raw.X"
   ]
  },
  {
   "cell_type": "code",
   "execution_count": 24,
   "id": "f6f611da-a995-438a-af6e-fea70fed3f40",
   "metadata": {},
   "outputs": [
    {
     "data": {
      "text/plain": [
       "<2638x13714 sparse matrix of type '<class 'numpy.float32'>'\n",
       "\twith 2238732 stored elements in Compressed Sparse Column format>"
      ]
     },
     "execution_count": 24,
     "metadata": {},
     "output_type": "execute_result"
    }
   ],
   "source": [
    "expr"
   ]
  },
  {
   "cell_type": "code",
   "execution_count": 25,
   "id": "d9de887b",
   "metadata": {},
   "outputs": [
    {
     "name": "stdout",
     "output_type": "stream",
     "text": [
      "0.24500608444213867 seconds to select and project cells\n",
      "Selected 1613 cells\n",
      "Calculating correlations...\n",
      "0.7577908039093018 seconds to calculate correlations. Sparsity:  True\n",
      "Selected gene RPL32\n",
      "Min/max expression level for gene RPL32 0.0 5.7993245\n",
      "0.07483386993408203 seconds to select and project cells\n",
      "Selected 341 cells\n",
      "Calculating differential expression...\n",
      "0.003180980682373047 seconds to calculate genesums. Sparsity:  True\n",
      "0.023106098175048828 seconds to calculate squared genesums. Sparsity:  True\n",
      "0.5869648456573486 seconds to calculate differential expression. Sparsity:  True\n",
      "Selected gene CD74\n",
      "Min/max expression level for gene CD74 0.0 6.048452\n",
      "Selected gene HLA-DRA\n",
      "Min/max expression level for gene HLA-DRA 0.0 5.969516\n",
      "Selected gene HLA-DPB1\n",
      "Min/max expression level for gene HLA-DPB1 0.0 6.1795025\n",
      "EXPORTING DATA...\n",
      "BYE\n"
     ]
    },
    {
     "name": "stderr",
     "output_type": "stream",
     "text": [
      "2021-07-19 09:48:59.795 python[51388:608890] NewtNSView::dealloc: softLock still hold @ dealloc!\n"
     ]
    }
   ],
   "source": [
    "svobj = SCIViewer(expr, umap, gene_names=gene_names, cell_names=cell_names)\n",
    "svobj.explore_data()"
   ]
  },
  {
   "cell_type": "code",
   "execution_count": null,
   "id": "cd3b4c72",
   "metadata": {},
   "outputs": [],
   "source": []
  }
 ],
 "metadata": {
  "kernelspec": {
   "display_name": "Python 3 (ipykernel)",
   "language": "python",
   "name": "python3"
  },
  "language_info": {
   "codemirror_mode": {
    "name": "ipython",
    "version": 3
   },
   "file_extension": ".py",
   "mimetype": "text/x-python",
   "name": "python",
   "nbconvert_exporter": "python",
   "pygments_lexer": "ipython3",
   "version": "3.8.10"
  }
 },
 "nbformat": 4,
 "nbformat_minor": 5
}
