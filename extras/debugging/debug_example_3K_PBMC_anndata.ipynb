{
 "cells": [
  {
   "cell_type": "code",
   "execution_count": 1,
   "id": "comparable-slovak",
   "metadata": {},
   "outputs": [],
   "source": [
    "%load_ext py5\n",
    "%gui osx"
   ]
  },
  {
   "cell_type": "code",
   "execution_count": 2,
   "id": "outstanding-mixture",
   "metadata": {},
   "outputs": [],
   "source": [
    "import pandas as pd\n",
    "import numpy as np\n",
    "import scanpy as sc"
   ]
  },
  {
   "cell_type": "code",
   "execution_count": 5,
   "id": "337a9632-4224-4f26-8c9d-d2bf7e81e939",
   "metadata": {},
   "outputs": [
    {
     "name": "stdout",
     "output_type": "stream",
     "text": [
      "DOWNLOADING AND EXTRACTING EXAMPLE DATA\n",
      "--2021-07-06 12:24:34--  https://www.dropbox.com/s/kmryxbttn7e0wh3/pbmc3k_20210420.h5ad\n",
      "Resolving www.dropbox.com (www.dropbox.com)... 162.125.4.18\n",
      "Connecting to www.dropbox.com (www.dropbox.com)|162.125.4.18|:443... connected.\n",
      "HTTP request sent, awaiting response... 301 Moved Permanently\n",
      "Location: /s/raw/kmryxbttn7e0wh3/pbmc3k_20210420.h5ad [following]\n",
      "--2021-07-06 12:24:34--  https://www.dropbox.com/s/raw/kmryxbttn7e0wh3/pbmc3k_20210420.h5ad\n",
      "Reusing existing connection to www.dropbox.com:443.\n",
      "HTTP request sent, awaiting response... 302 Found\n",
      "Location: https://uca7a85c47983de2c5d0ee899717.dl.dropboxusercontent.com/cd/0/inline/BRx9q2nHvWMuabozSrvjUvPTaVbO5nndt40KOx8TfFgAM8EWTaQGM5QIwRNHq8zW3jbdCLpxjm9kfCfv-qOeMdvIpvRb7Y9YTgI0-17FJgNL83pQFrcrlDOhXVs29Ac2qZwLVvPRUuJbr4z8JdCFRHAg/file# [following]\n",
      "--2021-07-06 12:24:34--  https://uca7a85c47983de2c5d0ee899717.dl.dropboxusercontent.com/cd/0/inline/BRx9q2nHvWMuabozSrvjUvPTaVbO5nndt40KOx8TfFgAM8EWTaQGM5QIwRNHq8zW3jbdCLpxjm9kfCfv-qOeMdvIpvRb7Y9YTgI0-17FJgNL83pQFrcrlDOhXVs29Ac2qZwLVvPRUuJbr4z8JdCFRHAg/file\n",
      "Resolving uca7a85c47983de2c5d0ee899717.dl.dropboxusercontent.com (uca7a85c47983de2c5d0ee899717.dl.dropboxusercontent.com)... 162.125.4.15\n",
      "Connecting to uca7a85c47983de2c5d0ee899717.dl.dropboxusercontent.com (uca7a85c47983de2c5d0ee899717.dl.dropboxusercontent.com)|162.125.4.15|:443... connected.\n",
      "HTTP request sent, awaiting response... 302 Found\n",
      "Location: /cd/0/inline2/BRw8Yx3DCOM4xoDDJNGyht1DDpV8NlU5dliWhYq3-Qja62v0-ZDDFDe8sl1j2bRf9WeRq-87sWbQHt-G3UTRCXItM4LflBEqfMaQ9-cjT--sP--F4YBO9W-Hjk6QNMULQ4tGgGU2gWqhg3YVjAY2yT52H1uFTXwmEq8L72OhQh2Bb6aYNwQMEfGhAzCxxfx8tzDJIAwJ8Bol1t9QZXd7uNuMpI-qjI5RCDKU-IgvVaBptM1Po7iUzZybJWFLh--mD3ZeszP2UQVBGCYdUsIFgo2Pt5TnO9dUd2jEJH1NMqBp0Ma0gjpCq8QaHR1Z-bKvJgYqbGevOWr6H_visPwM5qKPEQPlhJP6KmDJhj95IgwaPRBnIvKsH08UuaSadiCCMpE/file [following]\n",
      "--2021-07-06 12:24:35--  https://uca7a85c47983de2c5d0ee899717.dl.dropboxusercontent.com/cd/0/inline2/BRw8Yx3DCOM4xoDDJNGyht1DDpV8NlU5dliWhYq3-Qja62v0-ZDDFDe8sl1j2bRf9WeRq-87sWbQHt-G3UTRCXItM4LflBEqfMaQ9-cjT--sP--F4YBO9W-Hjk6QNMULQ4tGgGU2gWqhg3YVjAY2yT52H1uFTXwmEq8L72OhQh2Bb6aYNwQMEfGhAzCxxfx8tzDJIAwJ8Bol1t9QZXd7uNuMpI-qjI5RCDKU-IgvVaBptM1Po7iUzZybJWFLh--mD3ZeszP2UQVBGCYdUsIFgo2Pt5TnO9dUd2jEJH1NMqBp0Ma0gjpCq8QaHR1Z-bKvJgYqbGevOWr6H_visPwM5qKPEQPlhJP6KmDJhj95IgwaPRBnIvKsH08UuaSadiCCMpE/file\n",
      "Reusing existing connection to uca7a85c47983de2c5d0ee899717.dl.dropboxusercontent.com:443.\n",
      "HTTP request sent, awaiting response... 200 OK\n",
      "Length: 26123361 (25M) [application/octet-stream]\n",
      "Saving to: ‘../../data/pbmc3k_20210420.h5ad’\n",
      "\n",
      "../../data/pbmc3k_2 100%[===================>]  24.91M  6.99MB/s    in 3.7s    \n",
      "\n",
      "2021-07-06 12:24:39 (6.77 MB/s) - ‘../../data/pbmc3k_20210420.h5ad’ saved [26123361/26123361]\n",
      "\n",
      "pbmc3k_20210420.h5ad\n"
     ]
    }
   ],
   "source": [
    "print('DOWNLOADING AND EXTRACTING EXAMPLE DATA')\n",
    "! mkdir -p ../../data\n",
    "! wget https://www.dropbox.com/s/kmryxbttn7e0wh3/pbmc3k_20210420.h5ad -O ../../data/pbmc3k_20210420.h5ad\n",
    "! ls ../../data"
   ]
  },
  {
   "cell_type": "code",
   "execution_count": 3,
   "id": "organic-professor",
   "metadata": {},
   "outputs": [
    {
     "name": "stdout",
     "output_type": "stream",
     "text": [
      "LOADING DATA...\n"
     ]
    },
    {
     "data": {
      "text/plain": [
       "AnnData object with n_obs × n_vars = 2638 × 1838\n",
       "    obs: 'n_genes', 'n_genes_by_counts', 'total_counts', 'total_counts_mt', 'pct_counts_mt'\n",
       "    var: 'gene_ids', 'n_cells', 'mt', 'n_cells_by_counts', 'mean_counts', 'pct_dropout_by_counts', 'total_counts', 'highly_variable', 'means', 'dispersions', 'dispersions_norm', 'mean', 'std'\n",
       "    uns: 'hvg', 'neighbors', 'pca', 'umap'\n",
       "    obsm: 'X_pca', 'X_umap'\n",
       "    varm: 'PCs'\n",
       "    obsp: 'connectivities', 'distances'"
      ]
     },
     "execution_count": 3,
     "metadata": {},
     "output_type": "execute_result"
    }
   ],
   "source": [
    "print(\"LOADING DATA...\")\n",
    "data = sc.read('../../data/pbmc3k_20210420.h5ad')\n",
    "data"
   ]
  },
  {
   "cell_type": "code",
   "execution_count": 4,
   "id": "35feb493-d5a9-4f83-b60c-569c47e440a3",
   "metadata": {},
   "outputs": [
    {
     "data": {
      "text/plain": [
       "<2638x13714 sparse matrix of type '<class 'numpy.float32'>'\n",
       "\twith 2238732 stored elements in Compressed Sparse Row format>"
      ]
     },
     "execution_count": 4,
     "metadata": {},
     "output_type": "execute_result"
    }
   ],
   "source": [
    "data.raw.X"
   ]
  },
  {
   "cell_type": "code",
   "execution_count": 5,
   "id": "bf0c64c4-01cb-44aa-8cdd-f1f4dc9080da",
   "metadata": {},
   "outputs": [],
   "source": [
    "## Convert the sparse data in the AnnData.raw.X attribute from csr_matrix to csc_matrix for compatibility with sciviewer.\n",
    "import scipy.sparse as sp\n",
    "z = sp.csc.csc_matrix(data.raw.X)\n",
    "raw = sc.AnnData(z, obs=data.obs, var=data.raw.var)\n",
    "data.raw = raw"
   ]
  },
  {
   "cell_type": "code",
   "execution_count": 6,
   "id": "ce1c8a73-80b9-4d3b-819c-13e6b397675b",
   "metadata": {},
   "outputs": [
    {
     "data": {
      "text/plain": [
       "<2638x13714 sparse matrix of type '<class 'numpy.float32'>'\n",
       "\twith 2238732 stored elements in Compressed Sparse Column format>"
      ]
     },
     "execution_count": 6,
     "metadata": {},
     "output_type": "execute_result"
    }
   ],
   "source": [
    "data.raw.X"
   ]
  },
  {
   "cell_type": "code",
   "execution_count": 7,
   "id": "01b2896e-7304-4651-9031-b5c1046f0e8e",
   "metadata": {},
   "outputs": [
    {
     "name": "stdout",
     "output_type": "stream",
     "text": [
      "0.18015003204345703 seconds to select and project cells\n",
      "fo\n",
      "Selected 1607 cells\n",
      "Calculating correlations...\n",
      "1.4028277397155762 seconds to calculate correlations. Sparsity:  True\n",
      "Selected gene RPL32\n",
      "Min/max expression level for gene RPL32 0.0 5.7993245\n",
      "Selected gene NKG7\n",
      "Min/max expression level for gene NKG7 0.0 5.948639\n",
      "EXPORTING DATA...\n",
      "BYE\n"
     ]
    }
   ],
   "source": [
    "%load_ext autoreload\n",
    "%autoreload 2\n",
    "import sys\n",
    "sys.path.insert(0, '../../sciviewer')\n",
    "from sciviewer import SCIViewer\n",
    "\n",
    "## Remove the relative import . module imports in sciviewer.py and gui.py for this to work\n",
    "\n",
    "## This try / except block doesn't seem to close the sketch\n",
    "## on crashing for some reason\n",
    "try:\n",
    "    # use_raw=True tells sciviewer to compute correlations on the raw data containing all genes in sparse format\n",
    "    # rather than the main data which only includes high-variance genes \n",
    "    svobj = SCIViewer(data, use_raw=True)                      \n",
    "    svobj.explore_data()\n",
    "except:\n",
    "    svobj.renderer.exit_sketch()"
   ]
  },
  {
   "cell_type": "markdown",
   "id": "44636b20-9246-41ce-97ad-1fbc3e46bbad",
   "metadata": {},
   "source": [
    "## The class attributes below get populated in real time and thus can be accessed when the interactive viewer is running"
   ]
  },
  {
   "cell_type": "code",
   "execution_count": 21,
   "id": "31beeffc-2265-4767-a760-84beb1ea5482",
   "metadata": {},
   "outputs": [
    {
     "data": {
      "text/html": [
       "<div>\n",
       "<style scoped>\n",
       "    .dataframe tbody tr th:only-of-type {\n",
       "        vertical-align: middle;\n",
       "    }\n",
       "\n",
       "    .dataframe tbody tr th {\n",
       "        vertical-align: top;\n",
       "    }\n",
       "\n",
       "    .dataframe thead th {\n",
       "        text-align: right;\n",
       "    }\n",
       "</style>\n",
       "<table border=\"1\" class=\"dataframe\">\n",
       "  <thead>\n",
       "    <tr style=\"text-align: right;\">\n",
       "      <th></th>\n",
       "      <th>index</th>\n",
       "      <th>cell_name</th>\n",
       "      <th>projection</th>\n",
       "    </tr>\n",
       "  </thead>\n",
       "  <tbody>\n",
       "    <tr>\n",
       "      <th>0</th>\n",
       "      <td>1</td>\n",
       "      <td>AAACATTGAGCTAC-1</td>\n",
       "      <td>0.924999</td>\n",
       "    </tr>\n",
       "    <tr>\n",
       "      <th>1</th>\n",
       "      <td>10</td>\n",
       "      <td>AAACTTGAAAAACG-1</td>\n",
       "      <td>0.928325</td>\n",
       "    </tr>\n",
       "    <tr>\n",
       "      <th>2</th>\n",
       "      <td>18</td>\n",
       "      <td>AAAGGCCTGTCTAG-1</td>\n",
       "      <td>0.863444</td>\n",
       "    </tr>\n",
       "    <tr>\n",
       "      <th>3</th>\n",
       "      <td>19</td>\n",
       "      <td>AAAGTTTGATCACG-1</td>\n",
       "      <td>0.114750</td>\n",
       "    </tr>\n",
       "    <tr>\n",
       "      <th>4</th>\n",
       "      <td>20</td>\n",
       "      <td>AAAGTTTGGGGTGA-1</td>\n",
       "      <td>0.628166</td>\n",
       "    </tr>\n",
       "  </tbody>\n",
       "</table>\n",
       "</div>"
      ],
      "text/plain": [
       "   index         cell_name  projection\n",
       "0      1  AAACATTGAGCTAC-1    0.924999\n",
       "1     10  AAACTTGAAAAACG-1    0.928325\n",
       "2     18  AAAGGCCTGTCTAG-1    0.863444\n",
       "3     19  AAAGTTTGATCACG-1    0.114750\n",
       "4     20  AAAGTTTGGGGTGA-1    0.628166"
      ]
     },
     "execution_count": 21,
     "metadata": {},
     "output_type": "execute_result"
    }
   ],
   "source": [
    "## This attribute get updated in real time whenever cells are selected\n",
    "\n",
    "svobj.selected_cells.head()"
   ]
  },
  {
   "cell_type": "code",
   "execution_count": 22,
   "id": "a363c4f8-2aa7-4d83-9503-f0b636e95472",
   "metadata": {},
   "outputs": [
    {
     "data": {
      "text/html": [
       "<div>\n",
       "<style scoped>\n",
       "    .dataframe tbody tr th:only-of-type {\n",
       "        vertical-align: middle;\n",
       "    }\n",
       "\n",
       "    .dataframe tbody tr th {\n",
       "        vertical-align: top;\n",
       "    }\n",
       "\n",
       "    .dataframe thead th {\n",
       "        text-align: right;\n",
       "    }\n",
       "</style>\n",
       "<table border=\"1\" class=\"dataframe\">\n",
       "  <thead>\n",
       "    <tr style=\"text-align: right;\">\n",
       "      <th></th>\n",
       "      <th>R</th>\n",
       "      <th>P</th>\n",
       "    </tr>\n",
       "  </thead>\n",
       "  <tbody>\n",
       "    <tr>\n",
       "      <th>AL627309.1</th>\n",
       "      <td>NaN</td>\n",
       "      <td>NaN</td>\n",
       "    </tr>\n",
       "    <tr>\n",
       "      <th>AP006222.2</th>\n",
       "      <td>NaN</td>\n",
       "      <td>NaN</td>\n",
       "    </tr>\n",
       "    <tr>\n",
       "      <th>RP11-206L10.2</th>\n",
       "      <td>0.018435</td>\n",
       "      <td>0.734832</td>\n",
       "    </tr>\n",
       "    <tr>\n",
       "      <th>RP11-206L10.9</th>\n",
       "      <td>NaN</td>\n",
       "      <td>NaN</td>\n",
       "    </tr>\n",
       "    <tr>\n",
       "      <th>LINC00115</th>\n",
       "      <td>-0.041971</td>\n",
       "      <td>0.440474</td>\n",
       "    </tr>\n",
       "  </tbody>\n",
       "</table>\n",
       "</div>"
      ],
      "text/plain": [
       "                      R         P\n",
       "AL627309.1          NaN       NaN\n",
       "AP006222.2          NaN       NaN\n",
       "RP11-206L10.2  0.018435  0.734832\n",
       "RP11-206L10.9       NaN       NaN\n",
       "LINC00115     -0.041971  0.440474"
      ]
     },
     "execution_count": 22,
     "metadata": {},
     "output_type": "execute_result"
    }
   ],
   "source": [
    "## This gets updated in real time when cells are selected in differential expression mode\n",
    "svobj.results_proj_correlation.head()"
   ]
  },
  {
   "cell_type": "code",
   "execution_count": 23,
   "id": "4ad08c63-ef03-4e57-8a25-96b3609379f8",
   "metadata": {},
   "outputs": [
    {
     "data": {
      "text/html": [
       "<div>\n",
       "<style scoped>\n",
       "    .dataframe tbody tr th:only-of-type {\n",
       "        vertical-align: middle;\n",
       "    }\n",
       "\n",
       "    .dataframe tbody tr th {\n",
       "        vertical-align: top;\n",
       "    }\n",
       "\n",
       "    .dataframe thead th {\n",
       "        text-align: right;\n",
       "    }\n",
       "</style>\n",
       "<table border=\"1\" class=\"dataframe\">\n",
       "  <thead>\n",
       "    <tr style=\"text-align: right;\">\n",
       "      <th></th>\n",
       "      <th>T</th>\n",
       "      <th>P</th>\n",
       "    </tr>\n",
       "  </thead>\n",
       "  <tbody>\n",
       "    <tr>\n",
       "      <th>AL627309.1</th>\n",
       "      <td>-2.985351</td>\n",
       "      <td>0.002859</td>\n",
       "    </tr>\n",
       "    <tr>\n",
       "      <th>AP006222.2</th>\n",
       "      <td>-1.724507</td>\n",
       "      <td>0.084735</td>\n",
       "    </tr>\n",
       "    <tr>\n",
       "      <th>RP11-206L10.2</th>\n",
       "      <td>1.375107</td>\n",
       "      <td>0.178075</td>\n",
       "    </tr>\n",
       "    <tr>\n",
       "      <th>RP11-206L10.9</th>\n",
       "      <td>-1.728097</td>\n",
       "      <td>0.084089</td>\n",
       "    </tr>\n",
       "    <tr>\n",
       "      <th>LINC00115</th>\n",
       "      <td>-4.224138</td>\n",
       "      <td>0.000025</td>\n",
       "    </tr>\n",
       "  </tbody>\n",
       "</table>\n",
       "</div>"
      ],
      "text/plain": [
       "                      T         P\n",
       "AL627309.1    -2.985351  0.002859\n",
       "AP006222.2    -1.724507  0.084735\n",
       "RP11-206L10.2  1.375107  0.178075\n",
       "RP11-206L10.9 -1.728097  0.084089\n",
       "LINC00115     -4.224138  0.000025"
      ]
     },
     "execution_count": 23,
     "metadata": {},
     "output_type": "execute_result"
    }
   ],
   "source": [
    "## This gets updated in real time when cells are selected in directional correlation mode\n",
    "svobj.results_diffexpr.head()"
   ]
  },
  {
   "cell_type": "code",
   "execution_count": 24,
   "id": "d18fa578-74d4-4804-92ab-2612ade2dde5",
   "metadata": {},
   "outputs": [
    {
     "data": {
      "text/html": [
       "<div>\n",
       "<style scoped>\n",
       "    .dataframe tbody tr th:only-of-type {\n",
       "        vertical-align: middle;\n",
       "    }\n",
       "\n",
       "    .dataframe tbody tr th {\n",
       "        vertical-align: top;\n",
       "    }\n",
       "\n",
       "    .dataframe thead th {\n",
       "        text-align: right;\n",
       "    }\n",
       "</style>\n",
       "<table border=\"1\" class=\"dataframe\">\n",
       "  <thead>\n",
       "    <tr style=\"text-align: right;\">\n",
       "      <th></th>\n",
       "      <th>R</th>\n",
       "      <th>P</th>\n",
       "    </tr>\n",
       "  </thead>\n",
       "  <tbody>\n",
       "    <tr>\n",
       "      <th>AL627309.1</th>\n",
       "      <td>NaN</td>\n",
       "      <td>NaN</td>\n",
       "    </tr>\n",
       "    <tr>\n",
       "      <th>AP006222.2</th>\n",
       "      <td>NaN</td>\n",
       "      <td>NaN</td>\n",
       "    </tr>\n",
       "    <tr>\n",
       "      <th>RP11-206L10.2</th>\n",
       "      <td>0.018435</td>\n",
       "      <td>0.734832</td>\n",
       "    </tr>\n",
       "    <tr>\n",
       "      <th>RP11-206L10.9</th>\n",
       "      <td>NaN</td>\n",
       "      <td>NaN</td>\n",
       "    </tr>\n",
       "    <tr>\n",
       "      <th>LINC00115</th>\n",
       "      <td>-0.041971</td>\n",
       "      <td>0.440474</td>\n",
       "    </tr>\n",
       "  </tbody>\n",
       "</table>\n",
       "</div>"
      ],
      "text/plain": [
       "                      R         P\n",
       "AL627309.1          NaN       NaN\n",
       "AP006222.2          NaN       NaN\n",
       "RP11-206L10.2  0.018435  0.734832\n",
       "RP11-206L10.9       NaN       NaN\n",
       "LINC00115     -0.041971  0.440474"
      ]
     },
     "execution_count": 24,
     "metadata": {},
     "output_type": "execute_result"
    }
   ],
   "source": [
    "svobj.results_proj_correlation.head()"
   ]
  },
  {
   "cell_type": "markdown",
   "id": "0b9a6fc5-cbf7-427a-97b1-a79e283c2e16",
   "metadata": {},
   "source": [
    "## The class attributes below only get populated when the export and close button is pushed"
   ]
  },
  {
   "cell_type": "code",
   "execution_count": 25,
   "id": "educated-target",
   "metadata": {},
   "outputs": [
    {
     "data": {
      "text/html": [
       "<div>\n",
       "<style scoped>\n",
       "    .dataframe tbody tr th:only-of-type {\n",
       "        vertical-align: middle;\n",
       "    }\n",
       "\n",
       "    .dataframe tbody tr th {\n",
       "        vertical-align: top;\n",
       "    }\n",
       "\n",
       "    .dataframe thead th {\n",
       "        text-align: right;\n",
       "    }\n",
       "</style>\n",
       "<table border=\"1\" class=\"dataframe\">\n",
       "  <thead>\n",
       "    <tr style=\"text-align: right;\">\n",
       "      <th></th>\n",
       "      <th>R</th>\n",
       "      <th>P</th>\n",
       "    </tr>\n",
       "  </thead>\n",
       "  <tbody>\n",
       "    <tr>\n",
       "      <th>IGJ</th>\n",
       "      <td>0.346487</td>\n",
       "      <td>5.031513e-11</td>\n",
       "    </tr>\n",
       "    <tr>\n",
       "      <th>S100A10</th>\n",
       "      <td>0.286611</td>\n",
       "      <td>7.505241e-08</td>\n",
       "    </tr>\n",
       "    <tr>\n",
       "      <th>AIM2</th>\n",
       "      <td>0.283531</td>\n",
       "      <td>1.047175e-07</td>\n",
       "    </tr>\n",
       "    <tr>\n",
       "      <th>COTL1</th>\n",
       "      <td>0.279396</td>\n",
       "      <td>1.627554e-07</td>\n",
       "    </tr>\n",
       "    <tr>\n",
       "      <th>VIM</th>\n",
       "      <td>0.268011</td>\n",
       "      <td>5.283376e-07</td>\n",
       "    </tr>\n",
       "  </tbody>\n",
       "</table>\n",
       "</div>"
      ],
      "text/plain": [
       "                R             P\n",
       "IGJ      0.346487  5.031513e-11\n",
       "S100A10  0.286611  7.505241e-08\n",
       "AIM2     0.283531  1.047175e-07\n",
       "COTL1    0.279396  1.627554e-07\n",
       "VIM      0.268011  5.283376e-07"
      ]
     },
     "execution_count": 25,
     "metadata": {},
     "output_type": "execute_result"
    }
   ],
   "source": [
    "svobj.significant_genes.head()"
   ]
  },
  {
   "cell_type": "code",
   "execution_count": 26,
   "id": "a466c829-808a-4a2f-af39-94871a53938e",
   "metadata": {},
   "outputs": [
    {
     "data": {
      "text/html": [
       "<div>\n",
       "<style scoped>\n",
       "    .dataframe tbody tr th:only-of-type {\n",
       "        vertical-align: middle;\n",
       "    }\n",
       "\n",
       "    .dataframe tbody tr th {\n",
       "        vertical-align: top;\n",
       "    }\n",
       "\n",
       "    .dataframe thead th {\n",
       "        text-align: right;\n",
       "    }\n",
       "</style>\n",
       "<table border=\"1\" class=\"dataframe\">\n",
       "  <thead>\n",
       "    <tr style=\"text-align: right;\">\n",
       "      <th></th>\n",
       "      <th>R</th>\n",
       "      <th>P</th>\n",
       "    </tr>\n",
       "  </thead>\n",
       "  <tbody>\n",
       "    <tr>\n",
       "      <th>SNX29P2</th>\n",
       "      <td>-0.292041</td>\n",
       "      <td>4.130506e-08</td>\n",
       "    </tr>\n",
       "    <tr>\n",
       "      <th>CD79B</th>\n",
       "      <td>-0.294465</td>\n",
       "      <td>3.151355e-08</td>\n",
       "    </tr>\n",
       "    <tr>\n",
       "      <th>CD72</th>\n",
       "      <td>-0.306601</td>\n",
       "      <td>7.822962e-09</td>\n",
       "    </tr>\n",
       "    <tr>\n",
       "      <th>CD74</th>\n",
       "      <td>-0.306615</td>\n",
       "      <td>7.809669e-09</td>\n",
       "    </tr>\n",
       "    <tr>\n",
       "      <th>TCL1A</th>\n",
       "      <td>-0.436444</td>\n",
       "      <td>3.034777e-17</td>\n",
       "    </tr>\n",
       "  </tbody>\n",
       "</table>\n",
       "</div>"
      ],
      "text/plain": [
       "                R             P\n",
       "SNX29P2 -0.292041  4.130506e-08\n",
       "CD79B   -0.294465  3.151355e-08\n",
       "CD72    -0.306601  7.822962e-09\n",
       "CD74    -0.306615  7.809669e-09\n",
       "TCL1A   -0.436444  3.034777e-17"
      ]
     },
     "execution_count": 26,
     "metadata": {},
     "output_type": "execute_result"
    }
   ],
   "source": [
    "svobj.significant_genes.tail()"
   ]
  },
  {
   "cell_type": "code",
   "execution_count": 27,
   "id": "thousand-viewer",
   "metadata": {},
   "outputs": [
    {
     "data": {
      "text/html": [
       "<div>\n",
       "<style scoped>\n",
       "    .dataframe tbody tr th:only-of-type {\n",
       "        vertical-align: middle;\n",
       "    }\n",
       "\n",
       "    .dataframe tbody tr th {\n",
       "        vertical-align: top;\n",
       "    }\n",
       "\n",
       "    .dataframe thead th {\n",
       "        text-align: right;\n",
       "    }\n",
       "</style>\n",
       "<table border=\"1\" class=\"dataframe\">\n",
       "  <thead>\n",
       "    <tr style=\"text-align: right;\">\n",
       "      <th></th>\n",
       "      <th>index</th>\n",
       "      <th>proj</th>\n",
       "      <th>exp</th>\n",
       "    </tr>\n",
       "  </thead>\n",
       "  <tbody>\n",
       "    <tr>\n",
       "      <th>0</th>\n",
       "      <td>AAACATTGAGCTAC-1</td>\n",
       "      <td>0.924999</td>\n",
       "      <td>4.309784</td>\n",
       "    </tr>\n",
       "    <tr>\n",
       "      <th>1</th>\n",
       "      <td>AAACTTGAAAAACG-1</td>\n",
       "      <td>0.928325</td>\n",
       "      <td>4.532358</td>\n",
       "    </tr>\n",
       "    <tr>\n",
       "      <th>2</th>\n",
       "      <td>AAAGGCCTGTCTAG-1</td>\n",
       "      <td>0.863444</td>\n",
       "      <td>3.301051</td>\n",
       "    </tr>\n",
       "    <tr>\n",
       "      <th>3</th>\n",
       "      <td>AAAGTTTGATCACG-1</td>\n",
       "      <td>0.114750</td>\n",
       "      <td>5.016235</td>\n",
       "    </tr>\n",
       "    <tr>\n",
       "      <th>4</th>\n",
       "      <td>AAAGTTTGGGGTGA-1</td>\n",
       "      <td>0.628166</td>\n",
       "      <td>4.458291</td>\n",
       "    </tr>\n",
       "  </tbody>\n",
       "</table>\n",
       "</div>"
      ],
      "text/plain": [
       "              index      proj       exp\n",
       "0  AAACATTGAGCTAC-1  0.924999  4.309784\n",
       "1  AAACTTGAAAAACG-1  0.928325  4.532358\n",
       "2  AAAGGCCTGTCTAG-1  0.863444  3.301051\n",
       "3  AAAGTTTGATCACG-1  0.114750  5.016235\n",
       "4  AAAGTTTGGGGTGA-1  0.628166  4.458291"
      ]
     },
     "execution_count": 27,
     "metadata": {},
     "output_type": "execute_result"
    }
   ],
   "source": [
    "svobj.selected_gene_cell_data.head()"
   ]
  },
  {
   "cell_type": "code",
   "execution_count": null,
   "id": "c7a7fab4-2f8e-4b58-9924-e793899b6151",
   "metadata": {},
   "outputs": [],
   "source": []
  },
  {
   "cell_type": "code",
   "execution_count": null,
   "id": "75c74ded-b0a3-465f-928c-86ab540781e9",
   "metadata": {},
   "outputs": [],
   "source": []
  }
 ],
 "metadata": {
  "kernelspec": {
   "display_name": "Python 3",
   "language": "python",
   "name": "python3"
  },
  "language_info": {
   "codemirror_mode": {
    "name": "ipython",
    "version": 3
   },
   "file_extension": ".py",
   "mimetype": "text/x-python",
   "name": "python",
   "nbconvert_exporter": "python",
   "pygments_lexer": "ipython3",
   "version": "3.8.8"
  }
 },
 "nbformat": 4,
 "nbformat_minor": 5
}
