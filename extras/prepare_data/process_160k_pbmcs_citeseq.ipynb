{
 "cells": [
  {
   "cell_type": "code",
   "execution_count": 1,
   "id": "8bc3fb3a",
   "metadata": {},
   "outputs": [],
   "source": [
    "%matplotlib inline\n",
    "\n",
    "import numpy as np\n",
    "import pandas as pd\n",
    "import scanpy as sc\n",
    "import matplotlib.pyplot as plt\n",
    "import scipy.sparse as sp\n",
    "from scipy.io import mmwrite\n",
    "import os\n",
    "import scipy.sparse as sparse\n"
   ]
  },
  {
   "cell_type": "markdown",
   "id": "83afecd6",
   "metadata": {},
   "source": [
    "## Example data of Cite-Seq for ~160,000 PBMCs from the Satija lab (Hao et al., 2020) \n",
    "\n",
    " - Data: https://atlas.fredhutch.org/nygc/multimodal-pbmc/\n",
    " - Pre-print: https://www.biorxiv.org/content/10.1101/2020.10.12.335331v1.full\n",
    " - Cell publication:\n",
    "https://www.sciencedirect.com/science/article/pii/S0092867421005833#undfig1\n",
    " \n",
    "Data converted from h5seurat to h5ad by [this notebook](./100k_pbmcs_labeled_figure.ipynb)"
   ]
  },
  {
   "cell_type": "code",
   "execution_count": 2,
   "id": "dbf59869",
   "metadata": {},
   "outputs": [
    {
     "name": "stderr",
     "output_type": "stream",
     "text": [
      "/Users/dylankotliar/miniconda3/envs/sciviewer/lib/python3.8/site-packages/anndata/compat/__init__.py:180: FutureWarning: Moving element from .uns['neighbors']['distances'] to .obsp['distances'].\n",
      "\n",
      "This is where adjacency matrices should go now.\n",
      "  warn(\n"
     ]
    }
   ],
   "source": [
    "pbmc_rna = sc.read('../../../sciviewer_data/pbmc_citeseq100K/multi.h5ad')\n",
    "pbmc_protein = sc.read('../../../sciviewer_data/pbmc_citeseq100K/multi_ADT.h5ad')"
   ]
  },
  {
   "cell_type": "code",
   "execution_count": 3,
   "id": "638400c7",
   "metadata": {},
   "outputs": [
    {
     "data": {
      "text/plain": [
       "AnnData object with n_obs × n_vars = 161764 × 20729\n",
       "    obs: 'nCount_ADT', 'nFeature_ADT', 'nCount_RNA', 'nFeature_RNA', 'orig.ident', 'lane', 'donor', 'time', 'celltype.l1', 'celltype.l2', 'celltype.l3', 'Phase', 'nCount_SCT', 'nFeature_SCT'\n",
       "    var: 'features'\n",
       "    uns: 'neighbors'\n",
       "    obsm: 'X_apca', 'X_aumap', 'X_pca', 'X_spca', 'X_umap', 'X_wnn.umap'\n",
       "    varm: 'PCs', 'SPCA'\n",
       "    obsp: 'distances'"
      ]
     },
     "execution_count": 3,
     "metadata": {},
     "output_type": "execute_result"
    }
   ],
   "source": [
    "pbmc_rna\n"
   ]
  },
  {
   "cell_type": "code",
   "execution_count": 4,
   "id": "7da16ad1",
   "metadata": {},
   "outputs": [
    {
     "data": {
      "text/plain": [
       "AnnData object with n_obs × n_vars = 161764 × 228\n",
       "    obs: 'nCount_ADT', 'nFeature_ADT', 'nCount_RNA', 'nFeature_RNA', 'orig.ident', 'lane', 'donor', 'time', 'celltype.l1', 'celltype.l2', 'celltype.l3', 'Phase', 'nCount_SCT', 'nFeature_SCT'\n",
       "    var: 'features'\n",
       "    obsm: 'X_apca', 'X_aumap', 'X_pca', 'X_spca', 'X_umap', 'X_wnn.umap'\n",
       "    varm: 'APCA'"
      ]
     },
     "execution_count": 4,
     "metadata": {},
     "output_type": "execute_result"
    }
   ],
   "source": [
    "pbmc_protein"
   ]
  },
  {
   "cell_type": "code",
   "execution_count": 5,
   "id": "4fabbbe1-6154-49ac-b4c4-b69107aad867",
   "metadata": {},
   "outputs": [],
   "source": [
    "pbmc_rna.X = pbmc_rna.raw.X\n",
    "pbmc_rna.var = pbmc_rna.raw.var"
   ]
  },
  {
   "cell_type": "code",
   "execution_count": 6,
   "id": "2053efcd-3376-4914-8f1e-471ad40b2e0c",
   "metadata": {},
   "outputs": [],
   "source": [
    "pbmc_protein.X = pbmc_protein.raw.X\n",
    "pbmc_protein.var = pbmc_protein.raw.var"
   ]
  },
  {
   "cell_type": "code",
   "execution_count": 7,
   "id": "259ac0d7-d53e-49c9-9876-06e091d41de9",
   "metadata": {},
   "outputs": [],
   "source": [
    "sc.pp.normalize_per_cell(pbmc_rna, counts_per_cell_after=10000)\n",
    "sc.pp.log1p(pbmc_rna)"
   ]
  },
  {
   "cell_type": "code",
   "execution_count": 8,
   "id": "462b2a0d-4fb1-48ef-bff5-22b86fd4173e",
   "metadata": {},
   "outputs": [],
   "source": [
    "sc.pp.normalize_per_cell(pbmc_protein, counts_per_cell_after=10000)\n",
    "sc.pp.log1p(pbmc_protein)"
   ]
  },
  {
   "cell_type": "code",
   "execution_count": 9,
   "id": "6e8c1107-5fbe-4f07-a97e-2d47435cf0fd",
   "metadata": {},
   "outputs": [],
   "source": [
    "merged_X = sparse.hstack([pbmc_protein.X, pbmc_rna.X], format='csc')"
   ]
  },
  {
   "cell_type": "code",
   "execution_count": 10,
   "id": "96b760aa-b537-4fdc-8579-d381a7aaab8a",
   "metadata": {},
   "outputs": [
    {
     "data": {
      "text/plain": [
       "<161764x20957 sparse matrix of type '<class 'numpy.float64'>'\n",
       "\twith 370535157 stored elements in Compressed Sparse Column format>"
      ]
     },
     "execution_count": 10,
     "metadata": {},
     "output_type": "execute_result"
    }
   ],
   "source": [
    "merged_X"
   ]
  },
  {
   "cell_type": "code",
   "execution_count": 11,
   "id": "c75b65bf-97f3-4c93-a6fd-c5086ad5891d",
   "metadata": {},
   "outputs": [
    {
     "data": {
      "text/html": [
       "<div>\n",
       "<style scoped>\n",
       "    .dataframe tbody tr th:only-of-type {\n",
       "        vertical-align: middle;\n",
       "    }\n",
       "\n",
       "    .dataframe tbody tr th {\n",
       "        vertical-align: top;\n",
       "    }\n",
       "\n",
       "    .dataframe thead th {\n",
       "        text-align: right;\n",
       "    }\n",
       "</style>\n",
       "<table border=\"1\" class=\"dataframe\">\n",
       "  <thead>\n",
       "    <tr style=\"text-align: right;\">\n",
       "      <th></th>\n",
       "      <th>features</th>\n",
       "    </tr>\n",
       "  </thead>\n",
       "  <tbody>\n",
       "    <tr>\n",
       "      <th>Prot_CD39</th>\n",
       "      <td>Prot_CD39</td>\n",
       "    </tr>\n",
       "    <tr>\n",
       "      <th>Prot_Rat-IgG1-1</th>\n",
       "      <td>Prot_Rat-IgG1-1</td>\n",
       "    </tr>\n",
       "    <tr>\n",
       "      <th>Prot_CD107a</th>\n",
       "      <td>Prot_CD107a</td>\n",
       "    </tr>\n",
       "    <tr>\n",
       "      <th>Prot_CD62P</th>\n",
       "      <td>Prot_CD62P</td>\n",
       "    </tr>\n",
       "    <tr>\n",
       "      <th>Prot_TCR-2</th>\n",
       "      <td>Prot_TCR-2</td>\n",
       "    </tr>\n",
       "  </tbody>\n",
       "</table>\n",
       "</div>"
      ],
      "text/plain": [
       "                        features\n",
       "Prot_CD39              Prot_CD39\n",
       "Prot_Rat-IgG1-1  Prot_Rat-IgG1-1\n",
       "Prot_CD107a          Prot_CD107a\n",
       "Prot_CD62P            Prot_CD62P\n",
       "Prot_TCR-2            Prot_TCR-2"
      ]
     },
     "execution_count": 11,
     "metadata": {},
     "output_type": "execute_result"
    }
   ],
   "source": [
    "merged_var = pbmc_protein.raw.var.copy()\n",
    "merged_var['_index'] = merged_var['_index'].apply(lambda x: 'Prot_' + x)\n",
    "merged_var.index = merged_var['_index'].values\n",
    "z = pbmc_rna.raw.var\n",
    "z.index = z['_index'].values\n",
    "merged_var = pd.concat([merged_var, z], axis=0)\n",
    "merged_var.columns = ['features']\n",
    "merged_var.head()"
   ]
  },
  {
   "cell_type": "code",
   "execution_count": 12,
   "id": "01a81c76-ea34-47e5-b30d-32e499585559",
   "metadata": {},
   "outputs": [],
   "source": [
    "pbmc_merged = sc.AnnData(X=merged_X, var=merged_var, obs=pbmc_rna.obs, obsm=pbmc_rna.obsm)"
   ]
  },
  {
   "cell_type": "code",
   "execution_count": 13,
   "id": "7b6c6a16-4f42-412a-85c6-0d10d9efb54f",
   "metadata": {},
   "outputs": [],
   "source": [
    "detected = np.array((pbmc_merged.X>0).sum(axis=0)).reshape(-1)"
   ]
  },
  {
   "cell_type": "code",
   "execution_count": 14,
   "id": "c213c0d8-02dc-4348-9e07-a8fe4a3cdacd",
   "metadata": {},
   "outputs": [
    {
     "data": {
      "text/plain": [
       "(3441, 20957, 161764)"
      ]
     },
     "execution_count": 14,
     "metadata": {},
     "output_type": "execute_result"
    }
   ],
   "source": [
    "(detected<100).sum(), detected.shape[0], pbmc_merged.shape[0]"
   ]
  },
  {
   "cell_type": "code",
   "execution_count": 15,
   "id": "dc1663e4-c239-4958-92c1-4409863bec49",
   "metadata": {},
   "outputs": [],
   "source": [
    "pbmc_merged = pbmc_merged[:, detected>=100]"
   ]
  },
  {
   "cell_type": "code",
   "execution_count": 16,
   "id": "e9f74031-e267-454b-b37b-a1470b7ec639",
   "metadata": {},
   "outputs": [
    {
     "data": {
      "text/plain": [
       "View of AnnData object with n_obs × n_vars = 161764 × 17516\n",
       "    obs: 'nCount_ADT', 'nFeature_ADT', 'nCount_RNA', 'nFeature_RNA', 'orig.ident', 'lane', 'donor', 'time', 'celltype.l1', 'celltype.l2', 'celltype.l3', 'Phase', 'nCount_SCT', 'nFeature_SCT', 'n_counts'\n",
       "    var: 'features'\n",
       "    obsm: 'X_apca', 'X_aumap', 'X_pca', 'X_spca', 'X_umap', 'X_wnn.umap'"
      ]
     },
     "execution_count": 16,
     "metadata": {},
     "output_type": "execute_result"
    }
   ],
   "source": [
    "pbmc_merged"
   ]
  },
  {
   "cell_type": "code",
   "execution_count": 17,
   "id": "81430b7b-7ecb-4379-986b-25f9b3d9d177",
   "metadata": {},
   "outputs": [
    {
     "name": "stderr",
     "output_type": "stream",
     "text": [
      "/Users/dylankotliar/miniconda3/envs/sciviewer/lib/python3.8/site-packages/anndata/_core/anndata.py:1228: ImplicitModificationWarning: Initializing view as actual.\n",
      "  warnings.warn(\n",
      "Trying to set attribute `.obs` of view, copying.\n",
      "... storing 'orig.ident' as categorical\n",
      "Trying to set attribute `.obs` of view, copying.\n",
      "... storing 'lane' as categorical\n",
      "Trying to set attribute `.obs` of view, copying.\n",
      "... storing 'donor' as categorical\n",
      "Trying to set attribute `.obs` of view, copying.\n",
      "... storing 'time' as categorical\n",
      "Trying to set attribute `.obs` of view, copying.\n",
      "... storing 'celltype.l1' as categorical\n",
      "Trying to set attribute `.obs` of view, copying.\n",
      "... storing 'celltype.l2' as categorical\n",
      "Trying to set attribute `.obs` of view, copying.\n",
      "... storing 'celltype.l3' as categorical\n",
      "Trying to set attribute `.obs` of view, copying.\n",
      "... storing 'Phase' as categorical\n"
     ]
    }
   ],
   "source": [
    "sc.write('../../../sciviewer_data/pbmc_citeseq100K/CiteSeqPBMC160K_ProteinAndRNA_merged.h5ad', pbmc_merged, )"
   ]
  },
  {
   "cell_type": "code",
   "execution_count": 18,
   "id": "b6ff5017-d75b-4881-ae27-f50a7e6d8dc8",
   "metadata": {},
   "outputs": [],
   "source": [
    "pbmc_merged.X = sparse.csr.csr_matrix(pbmc_merged.X)"
   ]
  },
  {
   "cell_type": "code",
   "execution_count": 19,
   "id": "8d1d7037-5249-4520-94b9-332103aa0c37",
   "metadata": {},
   "outputs": [],
   "source": [
    "sample_ind = np.random.choice(pbmc_merged.X.shape[0], 50000)"
   ]
  },
  {
   "cell_type": "code",
   "execution_count": 20,
   "id": "73d0485a-c4ed-4000-8360-a69cbeaa451d",
   "metadata": {},
   "outputs": [],
   "source": [
    "pbmc_merged_sub50k = pbmc_merged[sample_ind, :]"
   ]
  },
  {
   "cell_type": "code",
   "execution_count": 21,
   "id": "88551d09-fa76-40c5-8b1f-db3787805e2b",
   "metadata": {},
   "outputs": [
    {
     "data": {
      "text/plain": [
       "View of AnnData object with n_obs × n_vars = 50000 × 17516\n",
       "    obs: 'nCount_ADT', 'nFeature_ADT', 'nCount_RNA', 'nFeature_RNA', 'orig.ident', 'lane', 'donor', 'time', 'celltype.l1', 'celltype.l2', 'celltype.l3', 'Phase', 'nCount_SCT', 'nFeature_SCT', 'n_counts'\n",
       "    var: 'features'\n",
       "    obsm: 'X_apca', 'X_aumap', 'X_pca', 'X_spca', 'X_umap', 'X_wnn.umap'"
      ]
     },
     "execution_count": 21,
     "metadata": {},
     "output_type": "execute_result"
    }
   ],
   "source": [
    "pbmc_merged_sub50k"
   ]
  },
  {
   "cell_type": "code",
   "execution_count": 22,
   "id": "f4af9521-c84f-4a44-a79d-8379faece842",
   "metadata": {},
   "outputs": [],
   "source": [
    "pbmc_merged_sub50k.X = sparse.csc.csc_matrix(pbmc_merged_sub50k.X)"
   ]
  },
  {
   "cell_type": "code",
   "execution_count": 23,
   "id": "eafd5e27-ef55-489d-8b4a-9cc5b5095e9d",
   "metadata": {},
   "outputs": [],
   "source": [
    "sc.write('../../../sciviewer_data/pbmc_citeseq100K/CiteSeqPBMC160K_ProteinAndRNA_merged_sub50k.h5ad', pbmc_merged_sub50k)"
   ]
  },
  {
   "cell_type": "code",
   "execution_count": null,
   "id": "032c7d90-01b1-4a49-8e32-84eb2daf9513",
   "metadata": {},
   "outputs": [],
   "source": []
  },
  {
   "cell_type": "code",
   "execution_count": null,
   "id": "54f71b94-98e7-481a-bd73-0e6486d2e8e8",
   "metadata": {},
   "outputs": [],
   "source": []
  },
  {
   "cell_type": "code",
   "execution_count": null,
   "id": "a6c3acad-980f-4624-9e2f-7c9fed74a7da",
   "metadata": {},
   "outputs": [],
   "source": []
  },
  {
   "cell_type": "code",
   "execution_count": null,
   "id": "827b6e56-2f10-4474-8992-14af3ae0612c",
   "metadata": {},
   "outputs": [],
   "source": []
  },
  {
   "cell_type": "code",
   "execution_count": null,
   "id": "4ee4f55c-1b81-4ba2-8808-25cc49aa37da",
   "metadata": {},
   "outputs": [],
   "source": []
  },
  {
   "cell_type": "code",
   "execution_count": null,
   "id": "be33fe72-3449-45a4-a0a1-d49a4ba2f990",
   "metadata": {},
   "outputs": [],
   "source": []
  },
  {
   "cell_type": "code",
   "execution_count": null,
   "id": "6f8be9ab-aaeb-480a-a970-08dace05531c",
   "metadata": {},
   "outputs": [],
   "source": []
  },
  {
   "cell_type": "code",
   "execution_count": null,
   "id": "90ee8bb2-221c-4ac7-afd3-bb9002dab383",
   "metadata": {},
   "outputs": [],
   "source": []
  },
  {
   "cell_type": "code",
   "execution_count": null,
   "id": "f6d79712-15fe-4f9d-968b-d8cd7687c7c5",
   "metadata": {},
   "outputs": [],
   "source": []
  },
  {
   "cell_type": "code",
   "execution_count": null,
   "id": "e2a7334c-822c-42b5-818d-0259e57bd294",
   "metadata": {},
   "outputs": [],
   "source": []
  },
  {
   "cell_type": "code",
   "execution_count": null,
   "id": "36991365-b456-4395-bf60-1eb82432f65e",
   "metadata": {},
   "outputs": [],
   "source": []
  },
  {
   "cell_type": "code",
   "execution_count": null,
   "id": "03448cdb-9c1b-455e-83a7-f23a5eca234f",
   "metadata": {},
   "outputs": [],
   "source": []
  },
  {
   "cell_type": "code",
   "execution_count": null,
   "id": "4bfc3d91-75fb-4d6a-b02e-9859f51a2928",
   "metadata": {},
   "outputs": [],
   "source": []
  },
  {
   "cell_type": "code",
   "execution_count": null,
   "id": "f2b8a957-da70-46a8-be01-b38fa2b33f0e",
   "metadata": {},
   "outputs": [],
   "source": []
  },
  {
   "cell_type": "code",
   "execution_count": null,
   "id": "c1c64b73-1c58-4335-97b7-094367867eec",
   "metadata": {},
   "outputs": [],
   "source": []
  },
  {
   "cell_type": "code",
   "execution_count": null,
   "id": "678b0d44-3b80-43a7-a8f7-23c42a0bdc83",
   "metadata": {},
   "outputs": [],
   "source": []
  }
 ],
 "metadata": {
  "kernelspec": {
   "display_name": "Python 3",
   "language": "python",
   "name": "python3"
  },
  "language_info": {
   "codemirror_mode": {
    "name": "ipython",
    "version": 3
   },
   "file_extension": ".py",
   "mimetype": "text/x-python",
   "name": "python",
   "nbconvert_exporter": "python",
   "pygments_lexer": "ipython3",
   "version": "3.8.8"
  }
 },
 "nbformat": 4,
 "nbformat_minor": 5
}
