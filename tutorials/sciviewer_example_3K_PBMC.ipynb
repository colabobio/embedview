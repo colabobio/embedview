{
 "cells": [
  {
   "cell_type": "code",
   "execution_count": 1,
   "id": "comparable-slovak",
   "metadata": {},
   "outputs": [],
   "source": [
    "%load_ext py5\n",
    "%gui osx"
   ]
  },
  {
   "cell_type": "code",
   "execution_count": 2,
   "id": "outstanding-mixture",
   "metadata": {},
   "outputs": [],
   "source": [
    "import pandas as pd\n",
    "import numpy as np\n",
    "from sciviewer import SCIViewer\n",
    "import scanpy as sc"
   ]
  },
  {
   "cell_type": "code",
   "execution_count": 3,
   "id": "1246c34a-55cd-4be9-8cef-3a8c8b562bb0",
   "metadata": {},
   "outputs": [
    {
     "name": "stdout",
     "output_type": "stream",
     "text": [
      "DOWNLOADING AND EXTRACTING EXAMPLE DATA\n",
      "--2021-07-07 11:25:02--  https://www.dropbox.com/s/gx9y42m4knyi1cl/pbmc3k_umap_20210420.tsv\n",
      "Resolving www.dropbox.com (www.dropbox.com)... 162.125.4.18\n",
      "Connecting to www.dropbox.com (www.dropbox.com)|162.125.4.18|:443... connected.\n",
      "HTTP request sent, awaiting response... 301 Moved Permanently\n",
      "Location: /s/raw/gx9y42m4knyi1cl/pbmc3k_umap_20210420.tsv [following]\n",
      "--2021-07-07 11:25:02--  https://www.dropbox.com/s/raw/gx9y42m4knyi1cl/pbmc3k_umap_20210420.tsv\n",
      "Reusing existing connection to www.dropbox.com:443.\n",
      "HTTP request sent, awaiting response... 302 Found\n",
      "Location: https://uc4c613f673844ff25f2c70df6bb.dl.dropboxusercontent.com/cd/0/inline/BR2gVH7sif-3yvyOw0uCL57Kk769Ys_POK-Md_SSIXk89gE70OMnmzfs1apjsS6kChuYqgQPSepa0bxkqpwP2m9njljXNqo6bnER9YMI8uviVAWVqThBLA93pFsa-d7xLEbc2ViEViLNQYgp3myLuEBr/file# [following]\n",
      "--2021-07-07 11:25:03--  https://uc4c613f673844ff25f2c70df6bb.dl.dropboxusercontent.com/cd/0/inline/BR2gVH7sif-3yvyOw0uCL57Kk769Ys_POK-Md_SSIXk89gE70OMnmzfs1apjsS6kChuYqgQPSepa0bxkqpwP2m9njljXNqo6bnER9YMI8uviVAWVqThBLA93pFsa-d7xLEbc2ViEViLNQYgp3myLuEBr/file\n",
      "Resolving uc4c613f673844ff25f2c70df6bb.dl.dropboxusercontent.com (uc4c613f673844ff25f2c70df6bb.dl.dropboxusercontent.com)... 162.125.4.15\n",
      "Connecting to uc4c613f673844ff25f2c70df6bb.dl.dropboxusercontent.com (uc4c613f673844ff25f2c70df6bb.dl.dropboxusercontent.com)|162.125.4.15|:443... connected.\n",
      "HTTP request sent, awaiting response... 200 OK\n",
      "Length: 96074 (94K) [text/plain]\n",
      "Saving to: ‘../data/pbmc3k_umap_20210420.tsv’\n",
      "\n",
      "../data/pbmc3k_umap 100%[===================>]  93.82K  --.-KB/s    in 0.02s   \n",
      "\n",
      "2021-07-07 11:25:03 (3.83 MB/s) - ‘../data/pbmc3k_umap_20210420.tsv’ saved [96074/96074]\n",
      "\n",
      "--2021-07-07 11:25:04--  https://www.dropbox.com/s/afnc6cbedvsez75/pbmc3k_expression_log2TP10K_20210420.tsv\n",
      "Resolving www.dropbox.com (www.dropbox.com)... 162.125.4.18\n",
      "Connecting to www.dropbox.com (www.dropbox.com)|162.125.4.18|:443... connected.\n",
      "HTTP request sent, awaiting response... 301 Moved Permanently\n",
      "Location: /s/raw/afnc6cbedvsez75/pbmc3k_expression_log2TP10K_20210420.tsv [following]\n",
      "--2021-07-07 11:25:04--  https://www.dropbox.com/s/raw/afnc6cbedvsez75/pbmc3k_expression_log2TP10K_20210420.tsv\n",
      "Reusing existing connection to www.dropbox.com:443.\n",
      "HTTP request sent, awaiting response... 302 Found\n",
      "Location: https://ucb4dd58147a95d1de4f7f5e0c75.dl.dropboxusercontent.com/cd/0/inline/BR2bhu8mplBqybPb7Cw-Nzeliw-uYcLT9X5giCT8g7JXeV_0tlAC-S2nGdo2EJicIuXOx9-r28f-GqJqUbZYaQ-VQpU_phgu_quduXpoOEECfmfkSQEAVmi3JjFme19wbDjsmzCAJxcd9Gpv7xmrkzf7/file# [following]\n",
      "--2021-07-07 11:25:04--  https://ucb4dd58147a95d1de4f7f5e0c75.dl.dropboxusercontent.com/cd/0/inline/BR2bhu8mplBqybPb7Cw-Nzeliw-uYcLT9X5giCT8g7JXeV_0tlAC-S2nGdo2EJicIuXOx9-r28f-GqJqUbZYaQ-VQpU_phgu_quduXpoOEECfmfkSQEAVmi3JjFme19wbDjsmzCAJxcd9Gpv7xmrkzf7/file\n",
      "Resolving ucb4dd58147a95d1de4f7f5e0c75.dl.dropboxusercontent.com (ucb4dd58147a95d1de4f7f5e0c75.dl.dropboxusercontent.com)... 162.125.4.15\n",
      "Connecting to ucb4dd58147a95d1de4f7f5e0c75.dl.dropboxusercontent.com (ucb4dd58147a95d1de4f7f5e0c75.dl.dropboxusercontent.com)|162.125.4.15|:443... connected.\n",
      "HTTP request sent, awaiting response... 200 OK\n",
      "Length: 157873336 (151M) [text/plain]\n",
      "Saving to: ‘../data/pbmc3k_expression_log2TP10K_20210420.tsv’\n",
      "\n",
      "../data/pbmc3k_expr 100%[===================>] 150.56M  11.1MB/s    in 13s     \n",
      "\n",
      "2021-07-07 11:25:18 (11.3 MB/s) - ‘../data/pbmc3k_expression_log2TP10K_20210420.tsv’ saved [157873336/157873336]\n",
      "\n",
      "--2021-07-07 11:25:18--  https://www.dropbox.com/s/kmryxbttn7e0wh3/pbmc3k_20210420.h5ad\n",
      "Resolving www.dropbox.com (www.dropbox.com)... 162.125.4.18\n",
      "Connecting to www.dropbox.com (www.dropbox.com)|162.125.4.18|:443... connected.\n",
      "HTTP request sent, awaiting response... 301 Moved Permanently\n",
      "Location: /s/raw/kmryxbttn7e0wh3/pbmc3k_20210420.h5ad [following]\n",
      "--2021-07-07 11:25:19--  https://www.dropbox.com/s/raw/kmryxbttn7e0wh3/pbmc3k_20210420.h5ad\n",
      "Reusing existing connection to www.dropbox.com:443.\n",
      "HTTP request sent, awaiting response... 302 Found\n",
      "Location: https://uc86f65909029e8353e7198d1301.dl.dropboxusercontent.com/cd/0/inline/BR3F8ymCHqYZd_8Yi6M82PcWv64Nr3afHDBAi89o33JLrSBfPDEj3hxC2dOMEY0oSVEAvmcLQaNL2rHCqgFbGqJbQk_P8QR7A3waAaFHnam0cDushLsfQDlCFkbj6nQLQvbreuPf1XVQLJIWUk5IZQ7z/file# [following]\n",
      "--2021-07-07 11:25:19--  https://uc86f65909029e8353e7198d1301.dl.dropboxusercontent.com/cd/0/inline/BR3F8ymCHqYZd_8Yi6M82PcWv64Nr3afHDBAi89o33JLrSBfPDEj3hxC2dOMEY0oSVEAvmcLQaNL2rHCqgFbGqJbQk_P8QR7A3waAaFHnam0cDushLsfQDlCFkbj6nQLQvbreuPf1XVQLJIWUk5IZQ7z/file\n",
      "Resolving uc86f65909029e8353e7198d1301.dl.dropboxusercontent.com (uc86f65909029e8353e7198d1301.dl.dropboxusercontent.com)... 162.125.4.15\n",
      "Connecting to uc86f65909029e8353e7198d1301.dl.dropboxusercontent.com (uc86f65909029e8353e7198d1301.dl.dropboxusercontent.com)|162.125.4.15|:443... connected.\n",
      "HTTP request sent, awaiting response... 302 Found\n",
      "Location: /cd/0/inline2/BR0xVL89z6jW5ae9FltrtxYz5DvvLscSI8ZREXhJN1Kf4qlJZNbPGpedpwdEOI_9H7EIyeOUTeDfeKddKAur5aKFZc3sM3iYwiRWLZf4EBtSqgxkNCKT9phKcgEO0dJU8hk8A28GcT7zgKHBVDSgDVXmd0SQFWjyrbNX1pvy6MnKMC4m3SJT6Ag0wHiwsxkxFeJswoS_u0sjg3c6n64lpc4ZUgh8MrYOqcznCUIiIokVSrSQs1CUOqzJlSV0O-12vQ34YYn-lJcl3ivwUUtHUTfv5nks0y8pUSMWkj02PpqMcxcyGrdjyTx_mmWM9C66ey02H56mZ7yWq__gOzQvjl2cZbL5qzLJ_RBKxiQ77jSx2WCllXrgAb4VjZdKUdT-zVo/file [following]\n",
      "--2021-07-07 11:25:20--  https://uc86f65909029e8353e7198d1301.dl.dropboxusercontent.com/cd/0/inline2/BR0xVL89z6jW5ae9FltrtxYz5DvvLscSI8ZREXhJN1Kf4qlJZNbPGpedpwdEOI_9H7EIyeOUTeDfeKddKAur5aKFZc3sM3iYwiRWLZf4EBtSqgxkNCKT9phKcgEO0dJU8hk8A28GcT7zgKHBVDSgDVXmd0SQFWjyrbNX1pvy6MnKMC4m3SJT6Ag0wHiwsxkxFeJswoS_u0sjg3c6n64lpc4ZUgh8MrYOqcznCUIiIokVSrSQs1CUOqzJlSV0O-12vQ34YYn-lJcl3ivwUUtHUTfv5nks0y8pUSMWkj02PpqMcxcyGrdjyTx_mmWM9C66ey02H56mZ7yWq__gOzQvjl2cZbL5qzLJ_RBKxiQ77jSx2WCllXrgAb4VjZdKUdT-zVo/file\n",
      "Reusing existing connection to uc86f65909029e8353e7198d1301.dl.dropboxusercontent.com:443.\n",
      "HTTP request sent, awaiting response... 200 OK\n",
      "Length: 26123361 (25M) [application/octet-stream]\n",
      "Saving to: ‘../data/pbmc3k_20210420.h5ad’\n",
      "\n",
      "../data/pbmc3k_2021 100%[===================>]  24.91M  10.6MB/s    in 2.4s    \n",
      "\n",
      "2021-07-07 11:25:23 (10.6 MB/s) - ‘../data/pbmc3k_20210420.h5ad’ saved [26123361/26123361]\n",
      "\n",
      "pbmc3k_20210420.h5ad\n",
      "pbmc3k_expression_log2TP10K_20210420.tsv\n",
      "pbmc3k_umap_20210420.tsv\n"
     ]
    }
   ],
   "source": [
    "print('DOWNLOADING AND EXTRACTING EXAMPLE DATA')\n",
    "! mkdir -p ../data\n",
    "! wget https://www.dropbox.com/s/gx9y42m4knyi1cl/pbmc3k_umap_20210420.tsv -O ../data/pbmc3k_umap_20210420.tsv\n",
    "! wget https://www.dropbox.com/s/afnc6cbedvsez75/pbmc3k_expression_log2TP10K_20210420.tsv -O ../data/pbmc3k_expression_log2TP10K_20210420.tsv\n",
    "! wget https://www.dropbox.com/s/kmryxbttn7e0wh3/pbmc3k_20210420.h5ad -O ../data/pbmc3k_20210420.h5ad\n",
    "! ls ../data"
   ]
  },
  {
   "cell_type": "markdown",
   "id": "9540dfa1-56f4-46e7-946b-2e187bc78575",
   "metadata": {},
   "source": [
    "## Here we illustrate how to run Sciviewer with several potential input types.\n",
    "- [passing in the 2D embedding data and the gene expression data as Pandas DataFrames](#dataframe)\n",
    "- [passing a Scanpy AnnData object with dense data ](#denseadata)\n",
    "- [passing a Scanpy AnnData object with sparse data ](#sparseadata)\n",
    "- [passing a sparse csc_matrix](#sparse_matrix)\n"
   ]
  },
  {
   "cell_type": "markdown",
   "id": "b00dc6b0-6efa-4ac5-9b6c-39701c89caa4",
   "metadata": {},
   "source": [
    "<a id=\"dataframe\"></a>"
   ]
  },
  {
   "cell_type": "markdown",
   "id": "79e2a049-8ae9-4a8a-8283-72b11b41f647",
   "metadata": {},
   "source": [
    "## Dense Pandas DataFrame\n",
    "\n",
    "Perhaps the simplest way to pass the data is with Pandas DataFrames. The cell names are learned from the rows and the gene names are learned from the columns. The ordering of the cells in the 2D embedding and the gene expression matrix are assumed to match"
   ]
  },
  {
   "cell_type": "code",
   "execution_count": 4,
   "id": "organic-professor",
   "metadata": {},
   "outputs": [
    {
     "name": "stdout",
     "output_type": "stream",
     "text": [
      "LOADING UMAP DATA...\n"
     ]
    },
    {
     "data": {
      "text/html": [
       "<div>\n",
       "<style scoped>\n",
       "    .dataframe tbody tr th:only-of-type {\n",
       "        vertical-align: middle;\n",
       "    }\n",
       "\n",
       "    .dataframe tbody tr th {\n",
       "        vertical-align: top;\n",
       "    }\n",
       "\n",
       "    .dataframe thead th {\n",
       "        text-align: right;\n",
       "    }\n",
       "</style>\n",
       "<table border=\"1\" class=\"dataframe\">\n",
       "  <thead>\n",
       "    <tr style=\"text-align: right;\">\n",
       "      <th></th>\n",
       "      <th>UMAP_1</th>\n",
       "      <th>UMAP_2</th>\n",
       "    </tr>\n",
       "  </thead>\n",
       "  <tbody>\n",
       "    <tr>\n",
       "      <th>AAACATACAACCAC-1</th>\n",
       "      <td>9.728817</td>\n",
       "      <td>4.212151</td>\n",
       "    </tr>\n",
       "    <tr>\n",
       "      <th>AAACATTGAGCTAC-1</th>\n",
       "      <td>3.799765</td>\n",
       "      <td>10.181845</td>\n",
       "    </tr>\n",
       "    <tr>\n",
       "      <th>AAACATTGATCAGC-1</th>\n",
       "      <td>7.023628</td>\n",
       "      <td>4.829623</td>\n",
       "    </tr>\n",
       "    <tr>\n",
       "      <th>AAACCGTGCTTCCG-1</th>\n",
       "      <td>-0.298523</td>\n",
       "      <td>2.024061</td>\n",
       "    </tr>\n",
       "    <tr>\n",
       "      <th>AAACCGTGTATGCG-1</th>\n",
       "      <td>8.018503</td>\n",
       "      <td>-0.300426</td>\n",
       "    </tr>\n",
       "  </tbody>\n",
       "</table>\n",
       "</div>"
      ],
      "text/plain": [
       "                    UMAP_1     UMAP_2\n",
       "AAACATACAACCAC-1  9.728817   4.212151\n",
       "AAACATTGAGCTAC-1  3.799765  10.181845\n",
       "AAACATTGATCAGC-1  7.023628   4.829623\n",
       "AAACCGTGCTTCCG-1 -0.298523   2.024061\n",
       "AAACCGTGTATGCG-1  8.018503  -0.300426"
      ]
     },
     "execution_count": 4,
     "metadata": {},
     "output_type": "execute_result"
    }
   ],
   "source": [
    "print(\"LOADING UMAP DATA...\")\n",
    "\n",
    "umap = pd.read_csv('../data/pbmc3k_umap_20210420.tsv', sep='\\t', index_col=0)\n",
    "umap.head() "
   ]
  },
  {
   "cell_type": "code",
   "execution_count": 5,
   "id": "heated-bride",
   "metadata": {},
   "outputs": [
    {
     "name": "stdout",
     "output_type": "stream",
     "text": [
      "LOADING GENE EXPRESSION DATA...\n"
     ]
    },
    {
     "data": {
      "text/html": [
       "<div>\n",
       "<style scoped>\n",
       "    .dataframe tbody tr th:only-of-type {\n",
       "        vertical-align: middle;\n",
       "    }\n",
       "\n",
       "    .dataframe tbody tr th {\n",
       "        vertical-align: top;\n",
       "    }\n",
       "\n",
       "    .dataframe thead th {\n",
       "        text-align: right;\n",
       "    }\n",
       "</style>\n",
       "<table border=\"1\" class=\"dataframe\">\n",
       "  <thead>\n",
       "    <tr style=\"text-align: right;\">\n",
       "      <th></th>\n",
       "      <th>AL627309.1</th>\n",
       "      <th>AP006222.2</th>\n",
       "      <th>RP11-206L10.2</th>\n",
       "      <th>RP11-206L10.9</th>\n",
       "      <th>LINC00115</th>\n",
       "    </tr>\n",
       "  </thead>\n",
       "  <tbody>\n",
       "    <tr>\n",
       "      <th>AAACATACAACCAC-1</th>\n",
       "      <td>0.0</td>\n",
       "      <td>0.0</td>\n",
       "      <td>0.0</td>\n",
       "      <td>0.0</td>\n",
       "      <td>0.0</td>\n",
       "    </tr>\n",
       "    <tr>\n",
       "      <th>AAACATTGAGCTAC-1</th>\n",
       "      <td>0.0</td>\n",
       "      <td>0.0</td>\n",
       "      <td>0.0</td>\n",
       "      <td>0.0</td>\n",
       "      <td>0.0</td>\n",
       "    </tr>\n",
       "    <tr>\n",
       "      <th>AAACATTGATCAGC-1</th>\n",
       "      <td>0.0</td>\n",
       "      <td>0.0</td>\n",
       "      <td>0.0</td>\n",
       "      <td>0.0</td>\n",
       "      <td>0.0</td>\n",
       "    </tr>\n",
       "    <tr>\n",
       "      <th>AAACCGTGCTTCCG-1</th>\n",
       "      <td>0.0</td>\n",
       "      <td>0.0</td>\n",
       "      <td>0.0</td>\n",
       "      <td>0.0</td>\n",
       "      <td>0.0</td>\n",
       "    </tr>\n",
       "    <tr>\n",
       "      <th>AAACCGTGTATGCG-1</th>\n",
       "      <td>0.0</td>\n",
       "      <td>0.0</td>\n",
       "      <td>0.0</td>\n",
       "      <td>0.0</td>\n",
       "      <td>0.0</td>\n",
       "    </tr>\n",
       "  </tbody>\n",
       "</table>\n",
       "</div>"
      ],
      "text/plain": [
       "                  AL627309.1  AP006222.2  RP11-206L10.2  RP11-206L10.9  \\\n",
       "AAACATACAACCAC-1         0.0         0.0            0.0            0.0   \n",
       "AAACATTGAGCTAC-1         0.0         0.0            0.0            0.0   \n",
       "AAACATTGATCAGC-1         0.0         0.0            0.0            0.0   \n",
       "AAACCGTGCTTCCG-1         0.0         0.0            0.0            0.0   \n",
       "AAACCGTGTATGCG-1         0.0         0.0            0.0            0.0   \n",
       "\n",
       "                  LINC00115  \n",
       "AAACATACAACCAC-1        0.0  \n",
       "AAACATTGAGCTAC-1        0.0  \n",
       "AAACATTGATCAGC-1        0.0  \n",
       "AAACCGTGCTTCCG-1        0.0  \n",
       "AAACCGTGTATGCG-1        0.0  "
      ]
     },
     "execution_count": 5,
     "metadata": {},
     "output_type": "execute_result"
    }
   ],
   "source": [
    "print(\"LOADING GENE EXPRESSION DATA...\")\n",
    "\n",
    "expr = pd.read_csv('../data/pbmc3k_expression_log2TP10K_20210420.tsv', sep='\\t', index_col=0)\n",
    "expr.iloc[:5,:5]"
   ]
  },
  {
   "cell_type": "code",
   "execution_count": 6,
   "id": "36c52546-9d9a-4ec0-8ada-b33571ffe95f",
   "metadata": {},
   "outputs": [
    {
     "name": "stdout",
     "output_type": "stream",
     "text": [
      "0.18897628784179688 seconds to select and project cells\n",
      "Selected 1613 cells\n",
      "Calculating correlations...\n",
      "3.5531578063964844 seconds to calculate correlations. Sparsity:  False\n",
      "Selected gene RPL32\n",
      "Min/max expression level for gene RPL32 0.0 5.7993245\n",
      "Selected gene RPS12\n",
      "Min/max expression level for gene RPS12 0.0 6.1948423\n",
      "Selected gene CST7\n",
      "Min/max expression level for gene CST7 0.0 5.537982\n"
     ]
    }
   ],
   "source": [
    "svobj = SCIViewer(expr, umap)\n",
    "svobj.explore_data()"
   ]
  },
  {
   "cell_type": "markdown",
   "id": "1870e410-63d0-489d-9cd1-1856d7719d27",
   "metadata": {},
   "source": [
    "#### The class attributes below get populated in real time and thus can be accessed when the interactive viewer is running"
   ]
  },
  {
   "cell_type": "code",
   "execution_count": 7,
   "id": "e9d0a1f8-ed9b-4947-ae36-12c857474014",
   "metadata": {},
   "outputs": [
    {
     "data": {
      "text/html": [
       "<div>\n",
       "<style scoped>\n",
       "    .dataframe tbody tr th:only-of-type {\n",
       "        vertical-align: middle;\n",
       "    }\n",
       "\n",
       "    .dataframe tbody tr th {\n",
       "        vertical-align: top;\n",
       "    }\n",
       "\n",
       "    .dataframe thead th {\n",
       "        text-align: right;\n",
       "    }\n",
       "</style>\n",
       "<table border=\"1\" class=\"dataframe\">\n",
       "  <thead>\n",
       "    <tr style=\"text-align: right;\">\n",
       "      <th></th>\n",
       "      <th>index</th>\n",
       "      <th>cell_name</th>\n",
       "      <th>projection</th>\n",
       "    </tr>\n",
       "  </thead>\n",
       "  <tbody>\n",
       "    <tr>\n",
       "      <th>0</th>\n",
       "      <td>0</td>\n",
       "      <td>AAACATACAACCAC-1</td>\n",
       "      <td>0.585163</td>\n",
       "    </tr>\n",
       "    <tr>\n",
       "      <th>1</th>\n",
       "      <td>2</td>\n",
       "      <td>AAACATTGATCAGC-1</td>\n",
       "      <td>0.631541</td>\n",
       "    </tr>\n",
       "    <tr>\n",
       "      <th>2</th>\n",
       "      <td>4</td>\n",
       "      <td>AAACCGTGTATGCG-1</td>\n",
       "      <td>0.134188</td>\n",
       "    </tr>\n",
       "    <tr>\n",
       "      <th>3</th>\n",
       "      <td>5</td>\n",
       "      <td>AAACGCACTGGTAC-1</td>\n",
       "      <td>0.597343</td>\n",
       "    </tr>\n",
       "    <tr>\n",
       "      <th>4</th>\n",
       "      <td>6</td>\n",
       "      <td>AAACGCTGACCAGT-1</td>\n",
       "      <td>0.688772</td>\n",
       "    </tr>\n",
       "  </tbody>\n",
       "</table>\n",
       "</div>"
      ],
      "text/plain": [
       "   index         cell_name  projection\n",
       "0      0  AAACATACAACCAC-1    0.585163\n",
       "1      2  AAACATTGATCAGC-1    0.631541\n",
       "2      4  AAACCGTGTATGCG-1    0.134188\n",
       "3      5  AAACGCACTGGTAC-1    0.597343\n",
       "4      6  AAACGCTGACCAGT-1    0.688772"
      ]
     },
     "execution_count": 7,
     "metadata": {},
     "output_type": "execute_result"
    }
   ],
   "source": [
    "## This attribute get updated in real time whenever cells are selected\n",
    "\n",
    "svobj.selected_cells.head()"
   ]
  },
  {
   "cell_type": "code",
   "execution_count": 8,
   "id": "97123ca6-4bb5-4b0a-9c35-5d37f9cd32f0",
   "metadata": {},
   "outputs": [
    {
     "data": {
      "text/html": [
       "<div>\n",
       "<style scoped>\n",
       "    .dataframe tbody tr th:only-of-type {\n",
       "        vertical-align: middle;\n",
       "    }\n",
       "\n",
       "    .dataframe tbody tr th {\n",
       "        vertical-align: top;\n",
       "    }\n",
       "\n",
       "    .dataframe thead th {\n",
       "        text-align: right;\n",
       "    }\n",
       "</style>\n",
       "<table border=\"1\" class=\"dataframe\">\n",
       "  <thead>\n",
       "    <tr style=\"text-align: right;\">\n",
       "      <th></th>\n",
       "      <th>R</th>\n",
       "      <th>P</th>\n",
       "    </tr>\n",
       "  </thead>\n",
       "  <tbody>\n",
       "    <tr>\n",
       "      <th>CST7</th>\n",
       "      <td>-0.783907</td>\n",
       "      <td>0.000000e+00</td>\n",
       "    </tr>\n",
       "    <tr>\n",
       "      <th>NKG7</th>\n",
       "      <td>-0.847512</td>\n",
       "      <td>0.000000e+00</td>\n",
       "    </tr>\n",
       "    <tr>\n",
       "      <th>GZMA</th>\n",
       "      <td>-0.743711</td>\n",
       "      <td>4.643779e-284</td>\n",
       "    </tr>\n",
       "    <tr>\n",
       "      <th>GZMB</th>\n",
       "      <td>-0.740909</td>\n",
       "      <td>8.113503e-281</td>\n",
       "    </tr>\n",
       "    <tr>\n",
       "      <th>PRF1</th>\n",
       "      <td>-0.724881</td>\n",
       "      <td>4.794203e-263</td>\n",
       "    </tr>\n",
       "  </tbody>\n",
       "</table>\n",
       "</div>"
      ],
      "text/plain": [
       "             R              P\n",
       "CST7 -0.783907   0.000000e+00\n",
       "NKG7 -0.847512   0.000000e+00\n",
       "GZMA -0.743711  4.643779e-284\n",
       "GZMB -0.740909  8.113503e-281\n",
       "PRF1 -0.724881  4.794203e-263"
      ]
     },
     "execution_count": 8,
     "metadata": {},
     "output_type": "execute_result"
    },
    {
     "name": "stdout",
     "output_type": "stream",
     "text": [
      "0.06251382827758789 seconds to select and project cells\n",
      "Selected 340 cells\n",
      "Calculating differential expression...\n",
      "0.03123188018798828 seconds to calculate genesums. Sparsity:  False\n",
      "0.3236961364746094 seconds to calculate squared genesums. Sparsity:  False\n"
     ]
    },
    {
     "name": "stderr",
     "output_type": "stream",
     "text": [
      "/Users/dylankotliar/miniconda3/envs/sciviewer/lib/python3.8/site-packages/sciviewer/sciviewer.py:611: RuntimeWarning: invalid value encountered in sqrt\n",
      "  remainder_stds = np.sqrt((self.gene_sqsum - selected_stds - (remainder_N*remainder_means**2)) / (remainder_N -1))\n"
     ]
    },
    {
     "name": "stdout",
     "output_type": "stream",
     "text": [
      "1.406182050704956 seconds to calculate differential expression. Sparsity:  False\n",
      "Selected gene CD74\n",
      "Min/max expression level for gene CD74 0.0 6.048452\n"
     ]
    }
   ],
   "source": [
    "## This gets updated in real time when cells are selected in directional mode\n",
    "svobj.results_proj_correlation.sort_values(by='P').head()"
   ]
  },
  {
   "cell_type": "code",
   "execution_count": 9,
   "id": "e1c90c02-f7ce-4e11-bd0d-c22336b49e50",
   "metadata": {},
   "outputs": [
    {
     "data": {
      "text/html": [
       "<div>\n",
       "<style scoped>\n",
       "    .dataframe tbody tr th:only-of-type {\n",
       "        vertical-align: middle;\n",
       "    }\n",
       "\n",
       "    .dataframe tbody tr th {\n",
       "        vertical-align: top;\n",
       "    }\n",
       "\n",
       "    .dataframe thead th {\n",
       "        text-align: right;\n",
       "    }\n",
       "</style>\n",
       "<table border=\"1\" class=\"dataframe\">\n",
       "  <thead>\n",
       "    <tr style=\"text-align: right;\">\n",
       "      <th></th>\n",
       "      <th>T</th>\n",
       "      <th>P</th>\n",
       "    </tr>\n",
       "  </thead>\n",
       "  <tbody>\n",
       "    <tr>\n",
       "      <th>CD74</th>\n",
       "      <td>79.808614</td>\n",
       "      <td>0.000000e+00</td>\n",
       "    </tr>\n",
       "    <tr>\n",
       "      <th>HLA-DRA</th>\n",
       "      <td>74.388502</td>\n",
       "      <td>0.000000e+00</td>\n",
       "    </tr>\n",
       "    <tr>\n",
       "      <th>HLA-DPB1</th>\n",
       "      <td>53.818944</td>\n",
       "      <td>3.453053e-271</td>\n",
       "    </tr>\n",
       "    <tr>\n",
       "      <th>HLA-DRB1</th>\n",
       "      <td>49.025235</td>\n",
       "      <td>3.042149e-242</td>\n",
       "    </tr>\n",
       "    <tr>\n",
       "      <th>CD3D</th>\n",
       "      <td>-36.686168</td>\n",
       "      <td>2.985059e-206</td>\n",
       "    </tr>\n",
       "  </tbody>\n",
       "</table>\n",
       "</div>"
      ],
      "text/plain": [
       "                  T              P\n",
       "CD74      79.808614   0.000000e+00\n",
       "HLA-DRA   74.388502   0.000000e+00\n",
       "HLA-DPB1  53.818944  3.453053e-271\n",
       "HLA-DRB1  49.025235  3.042149e-242\n",
       "CD3D     -36.686168  2.985059e-206"
      ]
     },
     "execution_count": 9,
     "metadata": {},
     "output_type": "execute_result"
    },
    {
     "name": "stdout",
     "output_type": "stream",
     "text": [
      "EXPORTING DATA...\n",
      "BYE\n"
     ]
    }
   ],
   "source": [
    "## This gets updated in real time when cells are selected in differential mode\n",
    "svobj.results_diffexpr.sort_values(by='P').head()"
   ]
  },
  {
   "cell_type": "markdown",
   "id": "662a597e-473f-408d-9fa2-2a6c80748276",
   "metadata": {},
   "source": [
    "<a id=\"denseadata\"></a>"
   ]
  },
  {
   "cell_type": "markdown",
   "id": "eccf9dcb-fcb2-4146-ac0c-7ed4fe52a542",
   "metadata": {},
   "source": [
    "## AnnData with dense input matrix\n",
    "Alternatively, the data can be passed as a Scanpy AnnData object. By default the expression data is read from the .X attribute and the umap data is read from .obsm with the key 'X_umap'. However alternative embeddings can be provided with the `embedding_name` argument and the expression data can be read from the .raw.X attribute by setting the use_raw attribute to True"
   ]
  },
  {
   "cell_type": "code",
   "execution_count": 3,
   "id": "40260dc3-5ac5-442c-a659-97230a34b173",
   "metadata": {},
   "outputs": [
    {
     "data": {
      "text/plain": [
       "AnnData object with n_obs × n_vars = 2638 × 1838\n",
       "    obs: 'n_genes', 'n_genes_by_counts', 'total_counts', 'total_counts_mt', 'pct_counts_mt'\n",
       "    var: 'gene_ids', 'n_cells', 'mt', 'n_cells_by_counts', 'mean_counts', 'pct_dropout_by_counts', 'total_counts', 'highly_variable', 'means', 'dispersions', 'dispersions_norm', 'mean', 'std'\n",
       "    uns: 'hvg', 'neighbors', 'pca', 'umap'\n",
       "    obsm: 'X_pca', 'X_umap'\n",
       "    varm: 'PCs'\n",
       "    obsp: 'connectivities', 'distances'"
      ]
     },
     "execution_count": 3,
     "metadata": {},
     "output_type": "execute_result"
    }
   ],
   "source": [
    "data = sc.read('../data/pbmc3k_20210420.h5ad')\n",
    "data"
   ]
  },
  {
   "cell_type": "markdown",
   "id": "7d5aa3a0-076c-49d8-8a21-45455df9adc8",
   "metadata": {},
   "source": [
    "#### Here the data in data.X is dense and the data in data.raw.X is sparse. We first illustrate the method with the dense data and subsequently with the sparse data"
   ]
  },
  {
   "cell_type": "code",
   "execution_count": 14,
   "id": "98b466ea-1cb4-4b44-958b-765d4f361c0a",
   "metadata": {},
   "outputs": [
    {
     "name": "stdout",
     "output_type": "stream",
     "text": [
      "0.18799591064453125 seconds to select and project cells\n",
      "Selected 1613 cells\n",
      "Calculating correlations...\n",
      "0.34326720237731934 seconds to calculate correlations. Sparsity:  False\n",
      "Selected gene LTB\n",
      "Min/max expression level for gene LTB -1.7345115 2.5181878\n",
      "0.03163003921508789 seconds to select and project cells\n",
      "Selected 33 cells\n",
      "Calculating differential expression...\n",
      "0.006718158721923828 seconds to calculate genesums. Sparsity:  False\n",
      "0.02289104461669922 seconds to calculate squared genesums. Sparsity:  False\n",
      "0.36951398849487305 seconds to calculate differential expression. Sparsity:  False\n",
      "EXPORTING DATA...\n",
      "BYE\n"
     ]
    }
   ],
   "source": [
    "svobj = SCIViewer(data, embedding_name='X_umap', use_raw=False)\n",
    "svobj.explore_data()"
   ]
  },
  {
   "cell_type": "markdown",
   "id": "d2dc3662-89bf-422d-9c3e-c8a30e064e94",
   "metadata": {},
   "source": [
    "<a id=\"sparseadata\"></a>"
   ]
  },
  {
   "cell_type": "markdown",
   "id": "01a9c6e3-076d-4761-b962-803f99d0ab48",
   "metadata": {},
   "source": [
    "## AnnData with sparse input matrix\n"
   ]
  },
  {
   "cell_type": "code",
   "execution_count": 15,
   "id": "ada25c06-a9e3-4632-82f3-9b2694ba529f",
   "metadata": {},
   "outputs": [
    {
     "data": {
      "text/plain": [
       "<2638x13714 sparse matrix of type '<class 'numpy.float32'>'\n",
       "\twith 2238732 stored elements in Compressed Sparse Row format>"
      ]
     },
     "execution_count": 15,
     "metadata": {},
     "output_type": "execute_result"
    }
   ],
   "source": [
    "data.raw.X"
   ]
  },
  {
   "cell_type": "markdown",
   "id": "5b34e720-076b-4e66-b152-24c2cdb52be5",
   "metadata": {},
   "source": [
    "#### This data is sparse but is in compressed sparse row format (csr_matrix) rather than csc_matrix, so we need to convert it to csc_matrix format"
   ]
  },
  {
   "cell_type": "code",
   "execution_count": 4,
   "id": "971d775e-d9be-4324-a689-de1c250775ad",
   "metadata": {},
   "outputs": [],
   "source": [
    "import scipy.sparse as sp"
   ]
  },
  {
   "cell_type": "code",
   "execution_count": 5,
   "id": "b592a2e1-ecd6-4bd3-b200-0ec6f9490763",
   "metadata": {},
   "outputs": [],
   "source": [
    "z = sp.csc.csc_matrix(data.raw.X)"
   ]
  },
  {
   "cell_type": "code",
   "execution_count": 6,
   "id": "4bf188fc-988a-4595-8367-b374d1408e88",
   "metadata": {},
   "outputs": [],
   "source": [
    "data.raw = sc.AnnData(z, var=data.raw.var, obs=data.obs)"
   ]
  },
  {
   "cell_type": "code",
   "execution_count": 7,
   "id": "65df669a-0739-4ebb-b6cb-6495c826256d",
   "metadata": {},
   "outputs": [
    {
     "data": {
      "text/plain": [
       "<2638x13714 sparse matrix of type '<class 'numpy.float32'>'\n",
       "\twith 2238732 stored elements in Compressed Sparse Column format>"
      ]
     },
     "execution_count": 7,
     "metadata": {},
     "output_type": "execute_result"
    }
   ],
   "source": [
    "data.raw.X"
   ]
  },
  {
   "cell_type": "markdown",
   "id": "003391f1-9bf9-4373-b60e-1f1315bf0cad",
   "metadata": {},
   "source": [
    "#### Now that data.raw.X is in csc_matrix format, it can be passed to sciviewer"
   ]
  },
  {
   "cell_type": "code",
   "execution_count": 22,
   "id": "531be787-ac84-4f87-bfd2-7c590069c87d",
   "metadata": {},
   "outputs": [
    {
     "name": "stdout",
     "output_type": "stream",
     "text": [
      "0.09190821647644043 seconds to select and project cells\n",
      "Selected 615 cells\n",
      "Calculating correlations...\n",
      "1.2728462219238281 seconds to calculate correlations. Sparsity:  True\n",
      "Selected gene FCGR3A\n",
      "Min/max expression level for gene FCGR3A 0.0 4.1987143\n",
      "0.02237415313720703 seconds to select and project cells\n",
      "Selected 13 cells\n",
      "Calculating differential expression...\n",
      "0.002691984176635742 seconds to calculate genesums. Sparsity:  True\n",
      "0.018991947174072266 seconds to calculate squared genesums. Sparsity:  True\n",
      "1.1586229801177979 seconds to calculate differential expression. Sparsity:  True\n",
      "Selected gene GPX1\n",
      "Min/max expression level for gene GPX1 0.0 5.552269\n",
      "Selected gene PF4\n",
      "Min/max expression level for gene PF4 0.0 5.5560412\n",
      "EXPORTING DATA...\n",
      "BYE\n"
     ]
    }
   ],
   "source": [
    "svobj = SCIViewer(data, embedding_name='X_umap', use_raw=True)\n",
    "svobj.explore_data()"
   ]
  },
  {
   "cell_type": "markdown",
   "id": "29c65eef-e659-43ef-a383-f48add5b456f",
   "metadata": {},
   "source": [
    "<a id=\"sparse_matrix\"></a>"
   ]
  },
  {
   "cell_type": "markdown",
   "id": "6c02d6c1-8d7d-4efb-beff-28f48f0ca025",
   "metadata": {},
   "source": [
    "## Passing a sparse matrix directly\n",
    "\n",
    "We can also pass a sparse matrix directly. Since no information is provided about the gene and cell names, we pass those as separate arguments"
   ]
  },
  {
   "cell_type": "code",
   "execution_count": 8,
   "id": "e7459eb8-5954-45e8-8730-ab70447ccd11",
   "metadata": {},
   "outputs": [
    {
     "data": {
      "text/html": [
       "<div>\n",
       "<style scoped>\n",
       "    .dataframe tbody tr th:only-of-type {\n",
       "        vertical-align: middle;\n",
       "    }\n",
       "\n",
       "    .dataframe tbody tr th {\n",
       "        vertical-align: top;\n",
       "    }\n",
       "\n",
       "    .dataframe thead th {\n",
       "        text-align: right;\n",
       "    }\n",
       "</style>\n",
       "<table border=\"1\" class=\"dataframe\">\n",
       "  <thead>\n",
       "    <tr style=\"text-align: right;\">\n",
       "      <th></th>\n",
       "      <th>UMAP_1</th>\n",
       "      <th>UMAP_2</th>\n",
       "    </tr>\n",
       "  </thead>\n",
       "  <tbody>\n",
       "    <tr>\n",
       "      <th>AAACATACAACCAC-1</th>\n",
       "      <td>9.728817</td>\n",
       "      <td>4.212151</td>\n",
       "    </tr>\n",
       "    <tr>\n",
       "      <th>AAACATTGAGCTAC-1</th>\n",
       "      <td>3.799765</td>\n",
       "      <td>10.181845</td>\n",
       "    </tr>\n",
       "    <tr>\n",
       "      <th>AAACATTGATCAGC-1</th>\n",
       "      <td>7.023628</td>\n",
       "      <td>4.829623</td>\n",
       "    </tr>\n",
       "    <tr>\n",
       "      <th>AAACCGTGCTTCCG-1</th>\n",
       "      <td>-0.298523</td>\n",
       "      <td>2.024061</td>\n",
       "    </tr>\n",
       "    <tr>\n",
       "      <th>AAACCGTGTATGCG-1</th>\n",
       "      <td>8.018503</td>\n",
       "      <td>-0.300426</td>\n",
       "    </tr>\n",
       "  </tbody>\n",
       "</table>\n",
       "</div>"
      ],
      "text/plain": [
       "                    UMAP_1     UMAP_2\n",
       "AAACATACAACCAC-1  9.728817   4.212151\n",
       "AAACATTGAGCTAC-1  3.799765  10.181845\n",
       "AAACATTGATCAGC-1  7.023628   4.829623\n",
       "AAACCGTGCTTCCG-1 -0.298523   2.024061\n",
       "AAACCGTGTATGCG-1  8.018503  -0.300426"
      ]
     },
     "execution_count": 8,
     "metadata": {},
     "output_type": "execute_result"
    }
   ],
   "source": [
    "umap = pd.DataFrame(data.obsm['X_umap'], index=data.obs.index, columns=['UMAP_1', 'UMAP_2'])\n",
    "umap.head()"
   ]
  },
  {
   "cell_type": "code",
   "execution_count": 9,
   "id": "6fb781cd-15c3-4907-afac-f7f815a1f14d",
   "metadata": {},
   "outputs": [
    {
     "data": {
      "text/plain": [
       "['AAACATACAACCAC-1',\n",
       " 'AAACATTGAGCTAC-1',\n",
       " 'AAACATTGATCAGC-1',\n",
       " 'AAACCGTGCTTCCG-1',\n",
       " 'AAACCGTGTATGCG-1']"
      ]
     },
     "execution_count": 9,
     "metadata": {},
     "output_type": "execute_result"
    }
   ],
   "source": [
    "cell_names = list(data.obs.index)\n",
    "cell_names[:5]"
   ]
  },
  {
   "cell_type": "code",
   "execution_count": 10,
   "id": "80b677fc-22d1-41b5-9964-f94f975a6a4d",
   "metadata": {},
   "outputs": [
    {
     "data": {
      "text/plain": [
       "['AL627309.1', 'AP006222.2', 'RP11-206L10.2', 'RP11-206L10.9', 'LINC00115']"
      ]
     },
     "execution_count": 10,
     "metadata": {},
     "output_type": "execute_result"
    }
   ],
   "source": [
    "gene_names = list(data.raw.var.index)\n",
    "gene_names[:5]"
   ]
  },
  {
   "cell_type": "code",
   "execution_count": 11,
   "id": "06c8b4a4-0918-4cd3-b2d5-e7b4bceb28f1",
   "metadata": {},
   "outputs": [],
   "source": [
    "expr = data.raw.X"
   ]
  },
  {
   "cell_type": "code",
   "execution_count": 12,
   "id": "b6c100ae-9d8b-4a25-a8a2-304508037143",
   "metadata": {},
   "outputs": [
    {
     "name": "stdout",
     "output_type": "stream",
     "text": [
      "0.08341598510742188 seconds to select and project cells\n",
      "Selected 626 cells\n",
      "Calculating correlations...\n",
      "1.2140448093414307 seconds to calculate correlations. Sparsity:  True\n",
      "Selected gene FCGR3A\n",
      "Min/max expression level for gene FCGR3A 0.0 4.1987143\n",
      "0.039552927017211914 seconds to select and project cells\n",
      "Selected 14 cells\n",
      "Calculating differential expression...\n",
      "0.004708290100097656 seconds to calculate genesums. Sparsity:  True\n",
      "0.03143000602722168 seconds to calculate squared genesums. Sparsity:  True\n",
      "1.161715030670166 seconds to calculate differential expression. Sparsity:  True\n",
      "Selected gene GNLY\n",
      "Min/max expression level for gene GNLY 0.0 6.19235\n",
      "EXPORTING DATA...\n",
      "BYE\n"
     ]
    }
   ],
   "source": [
    "svobj = SCIViewer(expr, umap, gene_names=gene_names, cell_names=cell_names)\n",
    "svobj.explore_data()"
   ]
  },
  {
   "cell_type": "code",
   "execution_count": null,
   "id": "d081c9b2-ffb5-48e4-a11f-bdcb95c07577",
   "metadata": {},
   "outputs": [],
   "source": []
  }
 ],
 "metadata": {
  "kernelspec": {
   "display_name": "Python 3",
   "language": "python",
   "name": "python3"
  },
  "language_info": {
   "codemirror_mode": {
    "name": "ipython",
    "version": 3
   },
   "file_extension": ".py",
   "mimetype": "text/x-python",
   "name": "python",
   "nbconvert_exporter": "python",
   "pygments_lexer": "ipython3",
   "version": "3.8.8"
  }
 },
 "nbformat": 4,
 "nbformat_minor": 5
}
