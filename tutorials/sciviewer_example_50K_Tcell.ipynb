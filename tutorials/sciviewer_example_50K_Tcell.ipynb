{
 "cells": [
  {
   "cell_type": "markdown",
   "id": "ede7b532-5102-4de1-96d5-5b82fef16ffc",
   "metadata": {},
   "source": [
    "## This is a much bigger dataset than the 3000 PBMC sample, as it contains 50,000 T-cells. We run visualizer using sparse data as input and the performance is still quite good"
   ]
  },
  {
   "cell_type": "code",
   "execution_count": 1,
   "id": "lined-conditions",
   "metadata": {},
   "outputs": [],
   "source": [
    "import pandas as pd\n",
    "import numpy as np\n",
    "from scipy.io import mmread\n",
    "import scipy.sparse as sparse\n",
    "from sciviewer import SCIViewer\n",
    "import scanpy as sc"
   ]
  },
  {
   "cell_type": "code",
   "execution_count": 2,
   "id": "assumed-truck",
   "metadata": {},
   "outputs": [],
   "source": [
    "%load_ext py5\n",
    "%gui osx\n",
    "%load_ext autoreload\n",
    "%autoreload 2"
   ]
  },
  {
   "cell_type": "code",
   "execution_count": 3,
   "id": "c119732b-1937-4dce-8bda-8f7204356854",
   "metadata": {},
   "outputs": [
    {
     "name": "stdout",
     "output_type": "stream",
     "text": [
      "rm: ../data: No such file or directory\n"
     ]
    }
   ],
   "source": [
    "rm -R ../data"
   ]
  },
  {
   "cell_type": "code",
   "execution_count": 4,
   "id": "b9d806dd-5030-4eca-b364-3ae18e17fc1a",
   "metadata": {
    "tags": []
   },
   "outputs": [
    {
     "name": "stdout",
     "output_type": "stream",
     "text": [
      "DOWNLOADING AND EXTRACTING EXAMPLE DATA\n",
      "--2021-07-07 21:14:27--  https://www.dropbox.com/s/srzk17uvnhhhsgi/Tcells50k.h5ad\n",
      "Resolving www.dropbox.com (www.dropbox.com)... 162.125.4.18\n",
      "Connecting to www.dropbox.com (www.dropbox.com)|162.125.4.18|:443... connected.\n",
      "HTTP request sent, awaiting response... 301 Moved Permanently\n",
      "Location: /s/raw/srzk17uvnhhhsgi/Tcells50k.h5ad [following]\n",
      "--2021-07-07 21:14:28--  https://www.dropbox.com/s/raw/srzk17uvnhhhsgi/Tcells50k.h5ad\n",
      "Reusing existing connection to www.dropbox.com:443.\n",
      "HTTP request sent, awaiting response... 302 Found\n",
      "Location: https://uc1090318c001010e03dabddb7b0.dl.dropboxusercontent.com/cd/0/inline/BR40GTc-hmPis8J01cI5D6BRQNhCW0L18FHXmJ26E5IKFW04-vlc41trjcGKbbSf_q116rx-IVPCQGB62i8MaojjHXOSxooearPxZCdAnthFqZW5hMrqiR8WqCttfWD3_tm_56gO8ayIj0tF4y1salBX/file# [following]\n",
      "--2021-07-07 21:14:28--  https://uc1090318c001010e03dabddb7b0.dl.dropboxusercontent.com/cd/0/inline/BR40GTc-hmPis8J01cI5D6BRQNhCW0L18FHXmJ26E5IKFW04-vlc41trjcGKbbSf_q116rx-IVPCQGB62i8MaojjHXOSxooearPxZCdAnthFqZW5hMrqiR8WqCttfWD3_tm_56gO8ayIj0tF4y1salBX/file\n",
      "Resolving uc1090318c001010e03dabddb7b0.dl.dropboxusercontent.com (uc1090318c001010e03dabddb7b0.dl.dropboxusercontent.com)... 162.125.4.15\n",
      "Connecting to uc1090318c001010e03dabddb7b0.dl.dropboxusercontent.com (uc1090318c001010e03dabddb7b0.dl.dropboxusercontent.com)|162.125.4.15|:443... connected.\n",
      "HTTP request sent, awaiting response... 302 Found\n",
      "Location: /cd/0/inline2/BR6R55ho-lOQahN7VWWlRSWH8bO1XKofZ_dvMxevhU-AGkwME4xIdWWyiqhgRnfhCRqMPGUSf5OZUHDr7ZZ2OdLC3y5zVke7UuDIvKKPBloQ5c0XTDgK8VDbdiVQhblV4OEygvcnGikVpmFmnyHctj8W25B4a71rmUg0jWkW27opRhuW7KzSWOKKBVF_ewlBalNdRrWlHqNM8SGuxKnl_q_9tOruk4OOp_VAQ4UfxYX2D72M1J0rOzUfxwYOH61QPAIZhu98RG5_2dp5HSmh_EuQ4c8Hx-MFMKEcCKEPdB5Y3nFEMwnS9I5Ot-mMYj3srTcj9iQ_uLgS_xWODLsO-ASLZKVFTzJlDQ_PEyPCIlRAk3YwkIl_7zl-Tt7Wdpv-svI/file [following]\n",
      "--2021-07-07 21:14:29--  https://uc1090318c001010e03dabddb7b0.dl.dropboxusercontent.com/cd/0/inline2/BR6R55ho-lOQahN7VWWlRSWH8bO1XKofZ_dvMxevhU-AGkwME4xIdWWyiqhgRnfhCRqMPGUSf5OZUHDr7ZZ2OdLC3y5zVke7UuDIvKKPBloQ5c0XTDgK8VDbdiVQhblV4OEygvcnGikVpmFmnyHctj8W25B4a71rmUg0jWkW27opRhuW7KzSWOKKBVF_ewlBalNdRrWlHqNM8SGuxKnl_q_9tOruk4OOp_VAQ4UfxYX2D72M1J0rOzUfxwYOH61QPAIZhu98RG5_2dp5HSmh_EuQ4c8Hx-MFMKEcCKEPdB5Y3nFEMwnS9I5Ot-mMYj3srTcj9iQ_uLgS_xWODLsO-ASLZKVFTzJlDQ_PEyPCIlRAk3YwkIl_7zl-Tt7Wdpv-svI/file\n",
      "Reusing existing connection to uc1090318c001010e03dabddb7b0.dl.dropboxusercontent.com:443.\n",
      "HTTP request sent, awaiting response... 200 OK\n",
      "Length: 551567543 (526M) [application/octet-stream]\n",
      "Saving to: ‘../data/Tcells50k.h5ad’\n",
      "\n",
      "../data/Tcells50k.h 100%[===================>] 526.02M  11.4MB/s    in 55s     \n",
      "\n",
      "2021-07-07 21:15:24 (9.59 MB/s) - ‘../data/Tcells50k.h5ad’ saved [551567543/551567543]\n",
      "\n"
     ]
    }
   ],
   "source": [
    "print('DOWNLOADING AND EXTRACTING EXAMPLE DATA')\n",
    "! mkdir -p ../data\n",
    "! wget https://www.dropbox.com/s/srzk17uvnhhhsgi/Tcells50k.h5ad -O ../data/Tcells50k.h5ad"
   ]
  },
  {
   "cell_type": "markdown",
   "id": "64cee3c8-c69a-4d74-8464-7d3d413d9a16",
   "metadata": {},
   "source": [
    "## Load the data as a Scanpy AnnData "
   ]
  },
  {
   "cell_type": "code",
   "execution_count": 3,
   "id": "solar-linux",
   "metadata": {},
   "outputs": [],
   "source": [
    "data = sc.read('../data/Tcells50k.h5ad')"
   ]
  },
  {
   "cell_type": "code",
   "execution_count": 4,
   "id": "22b03bb8-9c85-43cd-8ad9-360e6e030845",
   "metadata": {},
   "outputs": [
    {
     "data": {
      "text/plain": [
       "<52899x12563 sparse matrix of type '<class 'numpy.float32'>'\n",
       "\twith 28209469 stored elements in Compressed Sparse Row format>"
      ]
     },
     "execution_count": 4,
     "metadata": {},
     "output_type": "execute_result"
    }
   ],
   "source": [
    "data.X"
   ]
  },
  {
   "cell_type": "markdown",
   "id": "68b22aab-04c7-45a1-ab70-adbd56c308f8",
   "metadata": {},
   "source": [
    "#### the data is in sparse row format rather than sparse column so we need to convert it"
   ]
  },
  {
   "cell_type": "code",
   "execution_count": 5,
   "id": "4114ad71-f35c-4625-8f0a-f4907f2406c6",
   "metadata": {},
   "outputs": [],
   "source": [
    "data.X = sparse.csc.csc_matrix(data.X)"
   ]
  },
  {
   "cell_type": "markdown",
   "id": "cc64f965-6b95-401d-9466-629cb06637ae",
   "metadata": {},
   "source": [
    "#### now you can pase the AnnData object to sciviewer and it'll use the obsm['X_umap'] attribute for the 2D embedding and the .X attribute for the expression data by default"
   ]
  },
  {
   "cell_type": "code",
   "execution_count": 11,
   "id": "herbal-census",
   "metadata": {},
   "outputs": [
    {
     "name": "stdout",
     "output_type": "stream",
     "text": [
      "1.7327361106872559 seconds to select and project cells\n",
      "Selected 12642 cells\n",
      "Calculating correlations...\n",
      "1.662114143371582 seconds to calculate correlations. Sparsity:  True\n",
      "Selected gene LTB\n",
      "Min/max expression level for gene LTB 0.0 5.9866385\n",
      "Selected gene NKG7\n",
      "Min/max expression level for gene NKG7 0.0 5.463012\n",
      "Selected gene RPL13\n",
      "Min/max expression level for gene RPL13 2.1021698 6.324769\n",
      "0.4980888366699219 seconds to select and project cells\n",
      "Selected 588 cells\n",
      "Calculating differential expression...\n",
      "0.019134044647216797 seconds to calculate genesums. Sparsity:  True\n",
      "0.3047330379486084 seconds to calculate squared genesums. Sparsity:  True\n",
      "2.226783037185669 seconds to calculate differential expression. Sparsity:  True\n",
      "Selected gene S100A4\n",
      "Min/max expression level for gene S100A4 0.0 5.2891912\n",
      "Selected gene S100B\n",
      "Min/max expression level for gene S100B 0.0 4.525306\n",
      "Selected gene RPL13\n",
      "Min/max expression level for gene RPL13 2.1021698 6.324769\n",
      "EXPORTING DATA...\n",
      "BYE\n"
     ]
    }
   ],
   "source": [
    "# gene and cell names are provided to the gene_names and cell_names attributes since\n",
    "# those don't go directly with the sparse data structure\n",
    "\n",
    "svobj = SCIViewer(data)\n",
    "svobj.explore_data()"
   ]
  },
  {
   "cell_type": "code",
   "execution_count": 12,
   "id": "intimate-chest",
   "metadata": {},
   "outputs": [
    {
     "data": {
      "text/html": [
       "<div>\n",
       "<style scoped>\n",
       "    .dataframe tbody tr th:only-of-type {\n",
       "        vertical-align: middle;\n",
       "    }\n",
       "\n",
       "    .dataframe tbody tr th {\n",
       "        vertical-align: top;\n",
       "    }\n",
       "\n",
       "    .dataframe thead th {\n",
       "        text-align: right;\n",
       "    }\n",
       "</style>\n",
       "<table border=\"1\" class=\"dataframe\">\n",
       "  <thead>\n",
       "    <tr style=\"text-align: right;\">\n",
       "      <th></th>\n",
       "      <th>index</th>\n",
       "      <th>cell_name</th>\n",
       "      <th>projection</th>\n",
       "    </tr>\n",
       "  </thead>\n",
       "  <tbody>\n",
       "    <tr>\n",
       "      <th>0</th>\n",
       "      <td>10</td>\n",
       "      <td>AAACATTGTCTTCA-1</td>\n",
       "      <td>0.101913</td>\n",
       "    </tr>\n",
       "    <tr>\n",
       "      <th>1</th>\n",
       "      <td>34</td>\n",
       "      <td>AAACTTGAATCGTG-1</td>\n",
       "      <td>0.177484</td>\n",
       "    </tr>\n",
       "    <tr>\n",
       "      <th>2</th>\n",
       "      <td>52</td>\n",
       "      <td>AAAGAGACGTTACG-1</td>\n",
       "      <td>0.008189</td>\n",
       "    </tr>\n",
       "    <tr>\n",
       "      <th>3</th>\n",
       "      <td>106</td>\n",
       "      <td>AAATCTGACTACGA-1</td>\n",
       "      <td>0.712988</td>\n",
       "    </tr>\n",
       "    <tr>\n",
       "      <th>4</th>\n",
       "      <td>153</td>\n",
       "      <td>AACAGCACCACTTT-1</td>\n",
       "      <td>0.442798</td>\n",
       "    </tr>\n",
       "  </tbody>\n",
       "</table>\n",
       "</div>"
      ],
      "text/plain": [
       "   index         cell_name  projection\n",
       "0     10  AAACATTGTCTTCA-1    0.101913\n",
       "1     34  AAACTTGAATCGTG-1    0.177484\n",
       "2     52  AAAGAGACGTTACG-1    0.008189\n",
       "3    106  AAATCTGACTACGA-1    0.712988\n",
       "4    153  AACAGCACCACTTT-1    0.442798"
      ]
     },
     "execution_count": 12,
     "metadata": {},
     "output_type": "execute_result"
    }
   ],
   "source": [
    "## This attribute get updated in real time whenever cells are selected\n",
    "\n",
    "svobj.selected_cells.head()"
   ]
  },
  {
   "cell_type": "code",
   "execution_count": 13,
   "id": "b4d3d6af-d956-48f0-9d83-e937387a813b",
   "metadata": {},
   "outputs": [
    {
     "data": {
      "text/html": [
       "<div>\n",
       "<style scoped>\n",
       "    .dataframe tbody tr th:only-of-type {\n",
       "        vertical-align: middle;\n",
       "    }\n",
       "\n",
       "    .dataframe tbody tr th {\n",
       "        vertical-align: top;\n",
       "    }\n",
       "\n",
       "    .dataframe thead th {\n",
       "        text-align: right;\n",
       "    }\n",
       "</style>\n",
       "<table border=\"1\" class=\"dataframe\">\n",
       "  <thead>\n",
       "    <tr style=\"text-align: right;\">\n",
       "      <th></th>\n",
       "      <th>R</th>\n",
       "      <th>P</th>\n",
       "    </tr>\n",
       "  </thead>\n",
       "  <tbody>\n",
       "    <tr>\n",
       "      <th>GZMH</th>\n",
       "      <td>-0.823830</td>\n",
       "      <td>0.0</td>\n",
       "    </tr>\n",
       "    <tr>\n",
       "      <th>FGFBP2</th>\n",
       "      <td>-0.707180</td>\n",
       "      <td>0.0</td>\n",
       "    </tr>\n",
       "    <tr>\n",
       "      <th>RPL10</th>\n",
       "      <td>0.434397</td>\n",
       "      <td>0.0</td>\n",
       "    </tr>\n",
       "    <tr>\n",
       "      <th>IL7R</th>\n",
       "      <td>0.473644</td>\n",
       "      <td>0.0</td>\n",
       "    </tr>\n",
       "    <tr>\n",
       "      <th>CD27</th>\n",
       "      <td>0.363631</td>\n",
       "      <td>0.0</td>\n",
       "    </tr>\n",
       "  </tbody>\n",
       "</table>\n",
       "</div>"
      ],
      "text/plain": [
       "               R    P\n",
       "GZMH   -0.823830  0.0\n",
       "FGFBP2 -0.707180  0.0\n",
       "RPL10   0.434397  0.0\n",
       "IL7R    0.473644  0.0\n",
       "CD27    0.363631  0.0"
      ]
     },
     "execution_count": 13,
     "metadata": {},
     "output_type": "execute_result"
    }
   ],
   "source": [
    "## This gets updated in real time when cells are selected in directional mode\n",
    "svobj.results_proj_correlation.sort_values(by='P').head()"
   ]
  },
  {
   "cell_type": "code",
   "execution_count": 14,
   "id": "096dca12-b1c8-4aba-a51a-7ee417469f55",
   "metadata": {},
   "outputs": [
    {
     "data": {
      "text/html": [
       "<div>\n",
       "<style scoped>\n",
       "    .dataframe tbody tr th:only-of-type {\n",
       "        vertical-align: middle;\n",
       "    }\n",
       "\n",
       "    .dataframe tbody tr th {\n",
       "        vertical-align: top;\n",
       "    }\n",
       "\n",
       "    .dataframe thead th {\n",
       "        text-align: right;\n",
       "    }\n",
       "</style>\n",
       "<table border=\"1\" class=\"dataframe\">\n",
       "  <thead>\n",
       "    <tr style=\"text-align: right;\">\n",
       "      <th></th>\n",
       "      <th>T</th>\n",
       "      <th>P</th>\n",
       "    </tr>\n",
       "  </thead>\n",
       "  <tbody>\n",
       "    <tr>\n",
       "      <th>KLRC1</th>\n",
       "      <td>-37.101429</td>\n",
       "      <td>1.978595e-297</td>\n",
       "    </tr>\n",
       "    <tr>\n",
       "      <th>S100A4</th>\n",
       "      <td>66.929306</td>\n",
       "      <td>6.983141e-297</td>\n",
       "    </tr>\n",
       "    <tr>\n",
       "      <th>S100B</th>\n",
       "      <td>-41.172668</td>\n",
       "      <td>6.404914e-284</td>\n",
       "    </tr>\n",
       "    <tr>\n",
       "      <th>GPR56</th>\n",
       "      <td>-35.789577</td>\n",
       "      <td>3.641851e-277</td>\n",
       "    </tr>\n",
       "    <tr>\n",
       "      <th>TTC38</th>\n",
       "      <td>-33.040241</td>\n",
       "      <td>5.972820e-237</td>\n",
       "    </tr>\n",
       "  </tbody>\n",
       "</table>\n",
       "</div>"
      ],
      "text/plain": [
       "                T              P\n",
       "KLRC1  -37.101429  1.978595e-297\n",
       "S100A4  66.929306  6.983141e-297\n",
       "S100B  -41.172668  6.404914e-284\n",
       "GPR56  -35.789577  3.641851e-277\n",
       "TTC38  -33.040241  5.972820e-237"
      ]
     },
     "execution_count": 14,
     "metadata": {},
     "output_type": "execute_result"
    }
   ],
   "source": [
    "## This gets updated in real time when cells are selected in differential mode\n",
    "svobj.results_diffexpr.sort_values(by='P').head()"
   ]
  },
  {
   "cell_type": "markdown",
   "id": "1aa9a818-ad52-4026-b551-3ece678998bc",
   "metadata": {},
   "source": [
    "## You can re-run the analysis using dense data and see how much slower it is"
   ]
  },
  {
   "cell_type": "code",
   "execution_count": 6,
   "id": "dated-bargain",
   "metadata": {},
   "outputs": [],
   "source": [
    "expr_dense = pd.DataFrame(data.X.todense(), columns=data.var.index, index=data.obs.index)"
   ]
  },
  {
   "cell_type": "code",
   "execution_count": 7,
   "id": "conscious-liberal",
   "metadata": {},
   "outputs": [
    {
     "data": {
      "text/html": [
       "<div>\n",
       "<style scoped>\n",
       "    .dataframe tbody tr th:only-of-type {\n",
       "        vertical-align: middle;\n",
       "    }\n",
       "\n",
       "    .dataframe tbody tr th {\n",
       "        vertical-align: top;\n",
       "    }\n",
       "\n",
       "    .dataframe thead th {\n",
       "        text-align: right;\n",
       "    }\n",
       "</style>\n",
       "<table border=\"1\" class=\"dataframe\">\n",
       "  <thead>\n",
       "    <tr style=\"text-align: right;\">\n",
       "      <th></th>\n",
       "      <th>LINC00115</th>\n",
       "      <th>FAM41C</th>\n",
       "      <th>NOC2L</th>\n",
       "      <th>KLHL17</th>\n",
       "      <th>PLEKHN1</th>\n",
       "    </tr>\n",
       "  </thead>\n",
       "  <tbody>\n",
       "    <tr>\n",
       "      <th>AAACATACACCCAA-1</th>\n",
       "      <td>0.0</td>\n",
       "      <td>0.0</td>\n",
       "      <td>0.0</td>\n",
       "      <td>0.0</td>\n",
       "      <td>0.0</td>\n",
       "    </tr>\n",
       "    <tr>\n",
       "      <th>AAACATACCCCTCA-1</th>\n",
       "      <td>0.0</td>\n",
       "      <td>0.0</td>\n",
       "      <td>0.0</td>\n",
       "      <td>0.0</td>\n",
       "      <td>0.0</td>\n",
       "    </tr>\n",
       "    <tr>\n",
       "      <th>AAACATACCGGAGA-1</th>\n",
       "      <td>0.0</td>\n",
       "      <td>0.0</td>\n",
       "      <td>0.0</td>\n",
       "      <td>0.0</td>\n",
       "      <td>0.0</td>\n",
       "    </tr>\n",
       "    <tr>\n",
       "      <th>AAACATACTCTTCA-1</th>\n",
       "      <td>0.0</td>\n",
       "      <td>0.0</td>\n",
       "      <td>0.0</td>\n",
       "      <td>0.0</td>\n",
       "      <td>0.0</td>\n",
       "    </tr>\n",
       "    <tr>\n",
       "      <th>AAACATACTGGATC-1</th>\n",
       "      <td>0.0</td>\n",
       "      <td>0.0</td>\n",
       "      <td>0.0</td>\n",
       "      <td>0.0</td>\n",
       "      <td>0.0</td>\n",
       "    </tr>\n",
       "  </tbody>\n",
       "</table>\n",
       "</div>"
      ],
      "text/plain": [
       "                  LINC00115  FAM41C  NOC2L  KLHL17  PLEKHN1\n",
       "AAACATACACCCAA-1        0.0     0.0    0.0     0.0      0.0\n",
       "AAACATACCCCTCA-1        0.0     0.0    0.0     0.0      0.0\n",
       "AAACATACCGGAGA-1        0.0     0.0    0.0     0.0      0.0\n",
       "AAACATACTCTTCA-1        0.0     0.0    0.0     0.0      0.0\n",
       "AAACATACTGGATC-1        0.0     0.0    0.0     0.0      0.0"
      ]
     },
     "execution_count": 7,
     "metadata": {},
     "output_type": "execute_result"
    }
   ],
   "source": [
    "expr_dense.iloc[:5, :5]"
   ]
  },
  {
   "cell_type": "code",
   "execution_count": 8,
   "id": "lightweight-arnold",
   "metadata": {},
   "outputs": [],
   "source": [
    "umap = data.obsm['X_umap']"
   ]
  },
  {
   "cell_type": "markdown",
   "id": "67c9faf0-7778-4454-bd5e-fd89d0c515f7",
   "metadata": {},
   "source": [
    "#### Here we pass the expression data as a Pandas DataFrame and the umap as a Numpy ndarray"
   ]
  },
  {
   "cell_type": "code",
   "execution_count": 10,
   "id": "driven-turner",
   "metadata": {},
   "outputs": [
    {
     "name": "stdout",
     "output_type": "stream",
     "text": [
      "1.6459579467773438 seconds to select and project cells\n",
      "Selected 12823 cells\n",
      "Calculating correlations...\n",
      "20.05166006088257 seconds to calculate correlations. Sparsity:  False\n",
      "Selected gene LTB\n",
      "Min/max expression level for gene LTB 0.0 5.9866385\n",
      "Selected gene NKG7\n",
      "Min/max expression level for gene NKG7 0.0 5.463012\n",
      "0.5081827640533447 seconds to select and project cells\n",
      "Selected 567 cells\n",
      "Calculating differential expression...\n",
      "3.976001024246216 seconds to calculate genesums. Sparsity:  False\n",
      "8.784842014312744 seconds to calculate squared genesums. Sparsity:  False\n",
      "15.340595960617065 seconds to calculate differential expression. Sparsity:  False\n",
      "Selected gene S100A4\n",
      "Min/max expression level for gene S100A4 0.0 5.2891912\n",
      "Selected gene KLRC1\n",
      "Min/max expression level for gene KLRC1 0.0 4.1433806\n",
      "EXPORTING DATA...\n",
      "BYE\n"
     ]
    }
   ],
   "source": [
    "svobj_dense = SCIViewer(expr_dense, umap)\n",
    "svobj_dense.explore_data()"
   ]
  },
  {
   "cell_type": "code",
   "execution_count": null,
   "id": "01aa1eb4-835a-4c04-9893-4d9d79bba9ae",
   "metadata": {},
   "outputs": [],
   "source": []
  }
 ],
 "metadata": {
  "kernelspec": {
   "display_name": "Python 3",
   "language": "python",
   "name": "python3"
  },
  "language_info": {
   "codemirror_mode": {
    "name": "ipython",
    "version": 3
   },
   "file_extension": ".py",
   "mimetype": "text/x-python",
   "name": "python",
   "nbconvert_exporter": "python",
   "pygments_lexer": "ipython3",
   "version": "3.8.8"
  }
 },
 "nbformat": 4,
 "nbformat_minor": 5
}
