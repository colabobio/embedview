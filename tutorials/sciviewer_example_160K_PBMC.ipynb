{
 "cells": [
  {
   "cell_type": "markdown",
   "id": "0f13ee37",
   "metadata": {},
   "source": [
    "## This is a much bigger dataset than the 3000 PBMC sample, as it contains 160,000 PBMCs (or a version that is down-sampled to 50,000) derived from a CITE-Seq experiment. We run the visualizer using sparse data in the expression field (.X) of an AnnData object as input and the performance is still quite good\n",
    "\n",
    " - Data: https://atlas.fredhutch.org/nygc/multimodal-pbmc/\n",
    " - Pre-print: https://www.biorxiv.org/content/10.1101/2020.10.12.335331v1.full\n",
    " - Cell publication:\n",
    "https://www.sciencedirect.com/science/article/pii/S0092867421005833#undfig1"
   ]
  },
  {
   "cell_type": "code",
   "execution_count": 1,
   "id": "48f062ba",
   "metadata": {},
   "outputs": [],
   "source": [
    "%gui osx\n",
    "%load_ext py5"
   ]
  },
  {
   "cell_type": "code",
   "execution_count": 2,
   "id": "f3a01bfa-9cca-42b1-93e0-787d1f787431",
   "metadata": {},
   "outputs": [],
   "source": [
    "import pandas as pd\n",
    "import numpy as np\n",
    "from scipy.io import mmread\n",
    "import scipy.sparse as sparse\n",
    "import scanpy as sc\n",
    "from sciviewer import SCIViewer"
   ]
  },
  {
   "cell_type": "code",
   "execution_count": 3,
   "id": "a76dbc5c",
   "metadata": {},
   "outputs": [],
   "source": [
    "%load_ext autoreload\n",
    "%autoreload 2"
   ]
  },
  {
   "cell_type": "code",
   "execution_count": 4,
   "id": "9fbc2fa4-c498-49be-b88f-6775c9cb4ccc",
   "metadata": {},
   "outputs": [
    {
     "name": "stdout",
     "output_type": "stream",
     "text": [
      "DOWNLOADING AND EXTRACTING EXAMPLE DATA\n",
      "--2022-09-05 18:55:32--  https://www.dropbox.com/s/5knwop1zs7uaww4/CiteSeqPBMC160K_ProteinAndRNA_merged.h5ad\n",
      "Resolving www.dropbox.com (www.dropbox.com)... 162.125.4.18\n",
      "Connecting to www.dropbox.com (www.dropbox.com)|162.125.4.18|:443... connected.\n",
      "HTTP request sent, awaiting response... 302 Found\n",
      "Location: /s/raw/5knwop1zs7uaww4/CiteSeqPBMC160K_ProteinAndRNA_merged.h5ad [following]\n",
      "--2022-09-05 18:55:32--  https://www.dropbox.com/s/raw/5knwop1zs7uaww4/CiteSeqPBMC160K_ProteinAndRNA_merged.h5ad\n",
      "Reusing existing connection to www.dropbox.com:443.\n",
      "HTTP request sent, awaiting response... 302 Found\n",
      "Location: https://ucae28693f74161c44c18533f3f1.dl.dropboxusercontent.com/cd/0/inline/BsbPqeOhUkouf5MkRqLUTiach1zYgYgbFRHaKcRwPqNBjgDRpVeVPIGVKAQoW2lBmKIvAMxVsxApS509McTe9ikQM4HI7Serze0Ywrmx4B3jeLKgh7TJW49Bfn7xoF5RKjhH3tkAY_DMfYzwNuFWaovSzefXeWwhmgsbNqLBNfEQIA/file# [following]\n",
      "--2022-09-05 18:55:32--  https://ucae28693f74161c44c18533f3f1.dl.dropboxusercontent.com/cd/0/inline/BsbPqeOhUkouf5MkRqLUTiach1zYgYgbFRHaKcRwPqNBjgDRpVeVPIGVKAQoW2lBmKIvAMxVsxApS509McTe9ikQM4HI7Serze0Ywrmx4B3jeLKgh7TJW49Bfn7xoF5RKjhH3tkAY_DMfYzwNuFWaovSzefXeWwhmgsbNqLBNfEQIA/file\n",
      "Resolving ucae28693f74161c44c18533f3f1.dl.dropboxusercontent.com (ucae28693f74161c44c18533f3f1.dl.dropboxusercontent.com)... 162.125.4.15\n",
      "Connecting to ucae28693f74161c44c18533f3f1.dl.dropboxusercontent.com (ucae28693f74161c44c18533f3f1.dl.dropboxusercontent.com)|162.125.4.15|:443... connected.\n",
      "HTTP request sent, awaiting response... 302 Found\n",
      "Location: /cd/0/inline2/BsYrqRj3MUzYUqB9uwSM2qtk9nFS84qcMeG0B29e8npFnAb6xz6uGH3lJ72ETeE9PSA1Rmvr72xzlINcbkLLeOnsBbYdoWKxaRyQwdM4WfD3BnXd06EXzG5IT-bvVcvQwqL6ysrcm_A4ekAIqgVcfBqsEV9ErSeeZfz-vC4bir2E2Ljfj3ip5mpuMRt6tadLdQIrbwBWZTBm7s-VorZ-cYlPgrxar3L01wzzRubI8h9QZCJdOfCp9668Ch7fPQA6EXvWXmMgAY1nS-LGb0bH_M_oPNqC_3eiax7TIW-lfQsEdXB3BxqyMbnGejKTzeM0XA8FblaQfY9glw70v2M0WQNTBQ-XgkSfNByuSHajqhnSQHJvRzQ_HPYly3F0_G1EKhdD6A9oDGRd1EqVooGyRi4SvSAWNY8USCwmFskOTB5sGA/file [following]\n",
      "--2022-09-05 18:55:33--  https://ucae28693f74161c44c18533f3f1.dl.dropboxusercontent.com/cd/0/inline2/BsYrqRj3MUzYUqB9uwSM2qtk9nFS84qcMeG0B29e8npFnAb6xz6uGH3lJ72ETeE9PSA1Rmvr72xzlINcbkLLeOnsBbYdoWKxaRyQwdM4WfD3BnXd06EXzG5IT-bvVcvQwqL6ysrcm_A4ekAIqgVcfBqsEV9ErSeeZfz-vC4bir2E2Ljfj3ip5mpuMRt6tadLdQIrbwBWZTBm7s-VorZ-cYlPgrxar3L01wzzRubI8h9QZCJdOfCp9668Ch7fPQA6EXvWXmMgAY1nS-LGb0bH_M_oPNqC_3eiax7TIW-lfQsEdXB3BxqyMbnGejKTzeM0XA8FblaQfY9glw70v2M0WQNTBQ-XgkSfNByuSHajqhnSQHJvRzQ_HPYly3F0_G1EKhdD6A9oDGRd1EqVooGyRi4SvSAWNY8USCwmFskOTB5sGA/file\n",
      "Reusing existing connection to ucae28693f74161c44c18533f3f1.dl.dropboxusercontent.com:443.\n",
      "HTTP request sent, awaiting response... 200 OK\n",
      "Length: 1768531693 (1.6G) [application/octet-stream]\n",
      "Saving to: ‘../data/CiteSeqPBMC160K_ProteinAndRNA_merged.h5ad’\n",
      "\n",
      "../data/CiteSeqPBMC 100%[===================>]   1.65G  8.10MB/s    in 3m 17s  \n",
      "\n",
      "2022-09-05 18:58:50 (8.58 MB/s) - ‘../data/CiteSeqPBMC160K_ProteinAndRNA_merged.h5ad’ saved [1768531693/1768531693]\n",
      "\n",
      "--2022-09-05 18:58:50--  https://www.dropbox.com/s/fyusuk61kmnbyv4/CiteSeqPBMC160K_ProteinAndRNA_merged_sub50k.h5ad\n",
      "Resolving www.dropbox.com (www.dropbox.com)... 162.125.4.18\n",
      "Connecting to www.dropbox.com (www.dropbox.com)|162.125.4.18|:443... connected.\n",
      "HTTP request sent, awaiting response... 302 Found\n",
      "Location: /s/raw/fyusuk61kmnbyv4/CiteSeqPBMC160K_ProteinAndRNA_merged_sub50k.h5ad [following]\n",
      "--2022-09-05 18:58:50--  https://www.dropbox.com/s/raw/fyusuk61kmnbyv4/CiteSeqPBMC160K_ProteinAndRNA_merged_sub50k.h5ad\n",
      "Reusing existing connection to www.dropbox.com:443.\n",
      "HTTP request sent, awaiting response... 302 Found\n",
      "Location: https://uc8f3e6b799bf3d5b4faa5808499.dl.dropboxusercontent.com/cd/0/inline/BsYoUy1-ltrI7bTwo6w4m7z03nxnKnWbiwP__Ua1MXqHgVlcpEeSIrn7NV6WOJaUd9xVcfxK1yfAtdGXnCVZHJpaLEBihoQKHfo3ecc2IJOQJQkQtehkA7t2o9kDYyyj8EK5iOQRf2pGUQKdB4u7gdvjKVqH-lWFLkxhoABl9cuSWw/file# [following]\n",
      "--2022-09-05 18:58:51--  https://uc8f3e6b799bf3d5b4faa5808499.dl.dropboxusercontent.com/cd/0/inline/BsYoUy1-ltrI7bTwo6w4m7z03nxnKnWbiwP__Ua1MXqHgVlcpEeSIrn7NV6WOJaUd9xVcfxK1yfAtdGXnCVZHJpaLEBihoQKHfo3ecc2IJOQJQkQtehkA7t2o9kDYyyj8EK5iOQRf2pGUQKdB4u7gdvjKVqH-lWFLkxhoABl9cuSWw/file\n",
      "Resolving uc8f3e6b799bf3d5b4faa5808499.dl.dropboxusercontent.com (uc8f3e6b799bf3d5b4faa5808499.dl.dropboxusercontent.com)... 162.125.4.15\n",
      "Connecting to uc8f3e6b799bf3d5b4faa5808499.dl.dropboxusercontent.com (uc8f3e6b799bf3d5b4faa5808499.dl.dropboxusercontent.com)|162.125.4.15|:443... connected.\n",
      "HTTP request sent, awaiting response... 302 Found\n",
      "Location: /cd/0/inline2/BsaP_kaf5fr5FuJ1apbnYoCJu141gMh9JQqKltAvMzylZtDUiu_wED5kASQp0XO3DAyp_5QoarqvCGDisr6qijlwhqGLNSoA368VMqxg8j4lYdE0oBL7hmK2P4G0Y8sWDk6YYD4ClISytMb1Z9zCRO2AscBZ0E7T7iq3Zg01ca6AeiuTy6tSQN9MG368gVbbmB2Op_YGsxAWIWw6t8909KtKXcRsC4LIXL8MCpfHQA1ouoyFve17btwRkhhlLzNmQgywPGMJVV-4Txt_p6aB9Wz0cLUJO9nDwjjgxggiuo8Za1UktdQt6ZzWfLmqJr6YIQooaPg4B8u__BLcxhMiKC8hXADmOph63LyQ1UmPp13Gpqr9424lBeEUP7ZFAEJyKiALnWWOtDXOsYJhVXhCeh4cMEbzUaTpeV3WUDxYcmiplA/file [following]\n",
      "--2022-09-05 18:58:51--  https://uc8f3e6b799bf3d5b4faa5808499.dl.dropboxusercontent.com/cd/0/inline2/BsaP_kaf5fr5FuJ1apbnYoCJu141gMh9JQqKltAvMzylZtDUiu_wED5kASQp0XO3DAyp_5QoarqvCGDisr6qijlwhqGLNSoA368VMqxg8j4lYdE0oBL7hmK2P4G0Y8sWDk6YYD4ClISytMb1Z9zCRO2AscBZ0E7T7iq3Zg01ca6AeiuTy6tSQN9MG368gVbbmB2Op_YGsxAWIWw6t8909KtKXcRsC4LIXL8MCpfHQA1ouoyFve17btwRkhhlLzNmQgywPGMJVV-4Txt_p6aB9Wz0cLUJO9nDwjjgxggiuo8Za1UktdQt6ZzWfLmqJr6YIQooaPg4B8u__BLcxhMiKC8hXADmOph63LyQ1UmPp13Gpqr9424lBeEUP7ZFAEJyKiALnWWOtDXOsYJhVXhCeh4cMEbzUaTpeV3WUDxYcmiplA/file\n",
      "Reusing existing connection to uc8f3e6b799bf3d5b4faa5808499.dl.dropboxusercontent.com:443.\n",
      "HTTP request sent, awaiting response... 200 OK\n",
      "Length: 337996233 (322M) [application/octet-stream]\n",
      "Saving to: ‘../data/CiteSeqPBMC160K_ProteinAndRNA_merged_sub50k.h5ad’\n",
      "\n",
      "../data/CiteSeqPBMC 100%[===================>] 322.34M  9.51MB/s    in 42s     \n",
      "\n",
      "2022-09-05 18:59:34 (7.74 MB/s) - ‘../data/CiteSeqPBMC160K_ProteinAndRNA_merged_sub50k.h5ad’ saved [337996233/337996233]\n",
      "\n"
     ]
    }
   ],
   "source": [
    "print('DOWNLOADING AND EXTRACTING EXAMPLE DATA')\n",
    "! mkdir -p ../data\n",
    "\n",
    "## Full-sized dataset of 160K cells\n",
    "! wget https://www.dropbox.com/s/5knwop1zs7uaww4/CiteSeqPBMC160K_ProteinAndRNA_merged.h5ad -O ../data/CiteSeqPBMC160K_ProteinAndRNA_merged.h5ad\n",
    "    \n",
    "## Sub-sampled datset of 50K cells\n",
    "! wget https://www.dropbox.com/s/fyusuk61kmnbyv4/CiteSeqPBMC160K_ProteinAndRNA_merged_sub50k.h5ad -O ../data/CiteSeqPBMC160K_ProteinAndRNA_merged_sub50k.h5ad"
   ]
  },
  {
   "cell_type": "code",
   "execution_count": 5,
   "id": "cf0e3b0a-6420-481a-ac67-c743d1a7c639",
   "metadata": {},
   "outputs": [],
   "source": [
    "data = sc.read('../data/CiteSeqPBMC160K_ProteinAndRNA_merged.h5ad')"
   ]
  },
  {
   "cell_type": "code",
   "execution_count": 7,
   "id": "e492f401-a7ad-4d0f-b1e6-781c0c906313",
   "metadata": {},
   "outputs": [
    {
     "data": {
      "text/plain": [
       "AnnData object with n_obs × n_vars = 161764 × 17516\n",
       "    obs: 'nCount_ADT', 'nFeature_ADT', 'nCount_RNA', 'nFeature_RNA', 'orig.ident', 'lane', 'donor', 'time', 'celltype.l1', 'celltype.l2', 'celltype.l3', 'Phase', 'nCount_SCT', 'nFeature_SCT', 'n_counts'\n",
       "    var: 'features'\n",
       "    obsm: 'X_apca', 'X_aumap', 'X_pca', 'X_spca', 'X_umap', 'X_wnn.umap'"
      ]
     },
     "execution_count": 7,
     "metadata": {},
     "output_type": "execute_result"
    }
   ],
   "source": [
    "data"
   ]
  },
  {
   "cell_type": "code",
   "execution_count": 8,
   "id": "6e5f33c8-5a18-43f0-b286-b8f85bb9f79e",
   "metadata": {},
   "outputs": [
    {
     "data": {
      "text/plain": [
       "<161764x17516 sparse matrix of type '<class 'numpy.float32'>'\n",
       "\twith 370421313 stored elements in Compressed Sparse Column format>"
      ]
     },
     "execution_count": 8,
     "metadata": {},
     "output_type": "execute_result"
    }
   ],
   "source": [
    "data.X"
   ]
  },
  {
   "cell_type": "markdown",
   "id": "e89a6471-56c3-4db8-810b-0f1ac57a52ea",
   "metadata": {},
   "source": [
    "#### We call SCIViewer using the optional parameter `embedding_name` which indicates we want to use the UMAP computed using the weighted nearest neighbors graph that integrates information from each cell's nearest neighbors to determine how to weight the protein and RNA features"
   ]
  },
  {
   "cell_type": "code",
   "execution_count": 9,
   "id": "2dbf12d4-7b64-4ad9-baa6-49c99a93d33f",
   "metadata": {},
   "outputs": [
    {
     "name": "stdout",
     "output_type": "stream",
     "text": [
      "Create renderer\n",
      "Start thread\n",
      "Finish thread\n",
      "Setting up...\n"
     ]
    }
   ],
   "source": [
    "svobj = SCIViewer(data, embedding_name='X_wnn.umap')\n",
    "svobj.explore_data()"
   ]
  },
  {
   "cell_type": "code",
   "execution_count": 10,
   "id": "0a0bf56b-58ef-42ac-a460-70cea87fcc20",
   "metadata": {},
   "outputs": [
    {
     "name": "stderr",
     "output_type": "stream",
     "text": [
      "/Users/andres/opt/anaconda3/envs/sciviewer/lib/python3.8/site-packages/anndata/_core/anndata.py:1828: UserWarning: Observation names are not unique. To make them unique, call `.obs_names_make_unique`.\n",
      "  utils.warn_names_duplicates(\"obs\")\n"
     ]
    }
   ],
   "source": [
    "## Or for down-sampled dataset\n",
    "data_sub = sc.read('../data/CiteSeqPBMC160K_ProteinAndRNA_merged_sub50k.h5ad')"
   ]
  },
  {
   "cell_type": "code",
   "execution_count": 11,
   "id": "602af72a-8759-4c6f-8203-26d15ca49267",
   "metadata": {},
   "outputs": [
    {
     "data": {
      "text/plain": [
       "AnnData object with n_obs × n_vars = 50000 × 17516\n",
       "    obs: 'nCount_ADT', 'nFeature_ADT', 'nCount_RNA', 'nFeature_RNA', 'orig.ident', 'lane', 'donor', 'time', 'celltype.l1', 'celltype.l2', 'celltype.l3', 'Phase', 'nCount_SCT', 'nFeature_SCT', 'n_counts'\n",
       "    var: 'features'\n",
       "    obsm: 'X_apca', 'X_aumap', 'X_pca', 'X_spca', 'X_umap', 'X_wnn.umap'"
      ]
     },
     "execution_count": 11,
     "metadata": {},
     "output_type": "execute_result"
    }
   ],
   "source": [
    "data_sub"
   ]
  },
  {
   "cell_type": "code",
   "execution_count": 12,
   "id": "26d383a6-3b74-4d6e-80c2-f52ddb57eecc",
   "metadata": {},
   "outputs": [
    {
     "name": "stdout",
     "output_type": "stream",
     "text": [
      "EXPORTING DATA...\n",
      "BYE\n"
     ]
    },
    {
     "name": "stderr",
     "output_type": "stream",
     "text": [
      "2022-09-05 19:01:03.633 python[55594:1346565] NewtNSView::dealloc: softLock still hold @ dealloc!\n"
     ]
    }
   ],
   "source": [
    "data_sub.X = sparse.csc_matrix(data_sub.X)"
   ]
  },
  {
   "cell_type": "code",
   "execution_count": 13,
   "id": "34d4f181-9778-4c03-9316-5ec83dfa1d7c",
   "metadata": {},
   "outputs": [
    {
     "name": "stdout",
     "output_type": "stream",
     "text": [
      "Create renderer\n",
      "Start thread\n",
      "Finish thread\n",
      "Setting up...\n",
      "0.35808730125427246 seconds to select and project cells\n",
      "Selected 3562 cells\n",
      "Calculating correlations...\n",
      "1.2121360301971436 seconds to calculate correlations. Sparsity:  True\n",
      "Selected gene RPS19\n",
      "Min/max expression level for gene RPS19 0.0 5.5310163\n"
     ]
    }
   ],
   "source": [
    "svobj = SCIViewer(data_sub, embedding_name='X_wnn.umap')\n",
    "svobj.explore_data()"
   ]
  }
 ],
 "metadata": {
  "kernelspec": {
   "display_name": "Python 3 (ipykernel)",
   "language": "python",
   "name": "python3"
  },
  "language_info": {
   "codemirror_mode": {
    "name": "ipython",
    "version": 3
   },
   "file_extension": ".py",
   "mimetype": "text/x-python",
   "name": "python",
   "nbconvert_exporter": "python",
   "pygments_lexer": "ipython3",
   "version": "3.8.13"
  }
 },
 "nbformat": 4,
 "nbformat_minor": 5
}
