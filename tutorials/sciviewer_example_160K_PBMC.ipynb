{
 "cells": [
  {
   "cell_type": "markdown",
   "id": "0f13ee37",
   "metadata": {},
   "source": [
    "## This is a much bigger dataset than the 3000 PBMC sample, as it contains 160,000 PBMCs (or a version that is down-sampled to 50,000) derived from a CITE-Seq experiment. We run the visualizer using sparse data in the expression field (.X) of an AnnData object as input and the performance is still quite good\n",
    "\n",
    " - Data: https://atlas.fredhutch.org/nygc/multimodal-pbmc/\n",
    " - Pre-print: https://www.biorxiv.org/content/10.1101/2020.10.12.335331v1.full\n",
    " - Cell publication:\n",
    "https://www.sciencedirect.com/science/article/pii/S0092867421005833#undfig1"
   ]
  },
  {
   "cell_type": "code",
   "execution_count": 1,
   "id": "48f062ba",
   "metadata": {},
   "outputs": [],
   "source": [
    "import pandas as pd\n",
    "import numpy as np\n",
    "from scipy.io import mmread\n",
    "import scipy.sparse as sparse\n",
    "import scanpy as sc\n",
    "from sciviewer import SCIViewer"
   ]
  },
  {
   "cell_type": "code",
   "execution_count": 2,
   "id": "a76dbc5c",
   "metadata": {},
   "outputs": [],
   "source": [
    "%load_ext py5\n",
    "%gui osx\n",
    "%load_ext autoreload\n",
    "%autoreload 2"
   ]
  },
  {
   "cell_type": "code",
   "execution_count": 3,
   "id": "9fbc2fa4-c498-49be-b88f-6775c9cb4ccc",
   "metadata": {},
   "outputs": [
    {
     "name": "stdout",
     "output_type": "stream",
     "text": [
      "DOWNLOADING AND EXTRACTING EXAMPLE DATA\n",
      "--2021-07-08 12:44:41--  https://www.dropbox.com/s/5knwop1zs7uaww4/CiteSeqPBMC160K_ProteinAndRNA_merged.h5ad\n",
      "Resolving www.dropbox.com (www.dropbox.com)... 162.125.4.18\n",
      "Connecting to www.dropbox.com (www.dropbox.com)|162.125.4.18|:443... connected.\n",
      "HTTP request sent, awaiting response... 301 Moved Permanently\n",
      "Location: /s/raw/5knwop1zs7uaww4/CiteSeqPBMC160K_ProteinAndRNA_merged.h5ad [following]\n",
      "--2021-07-08 12:44:41--  https://www.dropbox.com/s/raw/5knwop1zs7uaww4/CiteSeqPBMC160K_ProteinAndRNA_merged.h5ad\n",
      "Reusing existing connection to www.dropbox.com:443.\n",
      "HTTP request sent, awaiting response... 302 Found\n",
      "Location: https://uca2511948d32c77ae80536c9541.dl.dropboxusercontent.com/cd/0/inline/BR4XGmtGM-W531NzVDKI9ePSgV8viPnLL_Pls7a5ewK0RfpfN9jv8X22y9cMw4gjnIGVpsSceeIXi39lmxOcn_ayZIG2WpcddKVv0681Zupwyowb3JZOPwc-NMTUJK-tNDobzdZCNS4dut49jxQpBE2A/file# [following]\n",
      "--2021-07-08 12:44:41--  https://uca2511948d32c77ae80536c9541.dl.dropboxusercontent.com/cd/0/inline/BR4XGmtGM-W531NzVDKI9ePSgV8viPnLL_Pls7a5ewK0RfpfN9jv8X22y9cMw4gjnIGVpsSceeIXi39lmxOcn_ayZIG2WpcddKVv0681Zupwyowb3JZOPwc-NMTUJK-tNDobzdZCNS4dut49jxQpBE2A/file\n",
      "Resolving uca2511948d32c77ae80536c9541.dl.dropboxusercontent.com (uca2511948d32c77ae80536c9541.dl.dropboxusercontent.com)... 162.125.4.15\n",
      "Connecting to uca2511948d32c77ae80536c9541.dl.dropboxusercontent.com (uca2511948d32c77ae80536c9541.dl.dropboxusercontent.com)|162.125.4.15|:443... connected.\n",
      "HTTP request sent, awaiting response... 302 Found\n",
      "Location: /cd/0/inline2/BR4j0ceMS4QK_0aeohChnuHLzQQ_qcMgNbquRCkk05HNyjEIKjrbXu4su90W_dLYJaGRjtCdtdguVKFXcp0rrMhvVi6wiK8ZqfHIP7ZOuzG7cglJazj7Si2RqlaSeayDqiZFOA6F5Pr-GdfiQXRMK6V6ZHaZp2NpQ1YS5OShMiip5soChXov8jGkhmxR08LsnFnB8Lg7XFhKGdrnIXrWYSNykV2doLsGAxvoRdkm0pEl23C4DnAP_scf3iIjLUXfa36vtvztvYLrgVor-7hsG4NVT_cDneLQAB7O8HOUJ8dRLstDEenfKi9xXch3gdPMobpZy6ZA4WiJD-UhbJ0ukG_xPrWxSiIeZt0QpQ54-GWtzL5QgK2z9_S2uUP66zBRMfo/file [following]\n",
      "--2021-07-08 12:44:42--  https://uca2511948d32c77ae80536c9541.dl.dropboxusercontent.com/cd/0/inline2/BR4j0ceMS4QK_0aeohChnuHLzQQ_qcMgNbquRCkk05HNyjEIKjrbXu4su90W_dLYJaGRjtCdtdguVKFXcp0rrMhvVi6wiK8ZqfHIP7ZOuzG7cglJazj7Si2RqlaSeayDqiZFOA6F5Pr-GdfiQXRMK6V6ZHaZp2NpQ1YS5OShMiip5soChXov8jGkhmxR08LsnFnB8Lg7XFhKGdrnIXrWYSNykV2doLsGAxvoRdkm0pEl23C4DnAP_scf3iIjLUXfa36vtvztvYLrgVor-7hsG4NVT_cDneLQAB7O8HOUJ8dRLstDEenfKi9xXch3gdPMobpZy6ZA4WiJD-UhbJ0ukG_xPrWxSiIeZt0QpQ54-GWtzL5QgK2z9_S2uUP66zBRMfo/file\n",
      "Reusing existing connection to uca2511948d32c77ae80536c9541.dl.dropboxusercontent.com:443.\n",
      "HTTP request sent, awaiting response... 200 OK\n",
      "Length: 1768531693 (1.6G) [application/octet-stream]\n",
      "Saving to: ‘../data/CiteSeqPBMC160K_ProteinAndRNA_merged.h5ad’\n",
      "\n",
      "../data/CiteSeqPBMC 100%[===================>]   1.65G  11.6MB/s    in 2m 40s  \n",
      "\n",
      "2021-07-08 12:47:22 (10.5 MB/s) - ‘../data/CiteSeqPBMC160K_ProteinAndRNA_merged.h5ad’ saved [1768531693/1768531693]\n",
      "\n",
      "--2021-07-08 12:47:23--  https://www.dropbox.com/s/fyusuk61kmnbyv4/CiteSeqPBMC160K_ProteinAndRNA_merged_sub50k.h5ad\n",
      "Resolving www.dropbox.com (www.dropbox.com)... 162.125.4.18\n",
      "Connecting to www.dropbox.com (www.dropbox.com)|162.125.4.18|:443... connected.\n",
      "HTTP request sent, awaiting response... 301 Moved Permanently\n",
      "Location: /s/raw/fyusuk61kmnbyv4/CiteSeqPBMC160K_ProteinAndRNA_merged_sub50k.h5ad [following]\n",
      "--2021-07-08 12:47:23--  https://www.dropbox.com/s/raw/fyusuk61kmnbyv4/CiteSeqPBMC160K_ProteinAndRNA_merged_sub50k.h5ad\n",
      "Reusing existing connection to www.dropbox.com:443.\n",
      "HTTP request sent, awaiting response... 302 Found\n",
      "Location: https://ucfc4c6b5971519457762ec55883.dl.dropboxusercontent.com/cd/0/inline/BR423dGQzDk9T2qHM1aSy_0bcLkfkcn7-y1HefX5pkMQ9WhxxrowGNOOzCDQmfPhZY0kQL9Itovd59C4JTDb8t6VnVGUit8ENVJ4MEuTNuTvmpUbnZUOAu9htPeZyydatjitULDPM2JzW-47uQ6B9k3g/file# [following]\n",
      "--2021-07-08 12:47:24--  https://ucfc4c6b5971519457762ec55883.dl.dropboxusercontent.com/cd/0/inline/BR423dGQzDk9T2qHM1aSy_0bcLkfkcn7-y1HefX5pkMQ9WhxxrowGNOOzCDQmfPhZY0kQL9Itovd59C4JTDb8t6VnVGUit8ENVJ4MEuTNuTvmpUbnZUOAu9htPeZyydatjitULDPM2JzW-47uQ6B9k3g/file\n",
      "Resolving ucfc4c6b5971519457762ec55883.dl.dropboxusercontent.com (ucfc4c6b5971519457762ec55883.dl.dropboxusercontent.com)... 162.125.4.15\n",
      "Connecting to ucfc4c6b5971519457762ec55883.dl.dropboxusercontent.com (ucfc4c6b5971519457762ec55883.dl.dropboxusercontent.com)|162.125.4.15|:443... connected.\n",
      "HTTP request sent, awaiting response... 302 Found\n",
      "Location: /cd/0/inline2/BR4fqfOirPio8C0yXN8-CRnnx3LcsU0-ZNzUjwTrD9jxxRvdSaQI67YNOkKuZdGEzxCnirL8-xvDczLf_7zdPygCPDE186z1vDkojNhLyMFhf0hW8g9P7AReI0spS3GtTnpDXTw0mzp_3HdiVZozKbvbklUoQtAURsxL3TvRQa7g4rc1fxGv9a002-PYwpGHe4JKnHmJLQxkQQfP0-Xs3xVPXCwFnG-LFRRD90y7QMqOfcY3mR-d8slUMl4F49A9yM_gVQa-UHKj9A3Kwg0Fc2RWByLI_pBrZjiVgvgSk50AFMurm1CB3HQSsuEaeLHcaRlL86cnEVZ7xjmEhiSN3pSJDlNNYjYfkXwLqQQ3mvXcrC3INIPPVPLUzK-8whE5aKI/file [following]\n",
      "--2021-07-08 12:47:24--  https://ucfc4c6b5971519457762ec55883.dl.dropboxusercontent.com/cd/0/inline2/BR4fqfOirPio8C0yXN8-CRnnx3LcsU0-ZNzUjwTrD9jxxRvdSaQI67YNOkKuZdGEzxCnirL8-xvDczLf_7zdPygCPDE186z1vDkojNhLyMFhf0hW8g9P7AReI0spS3GtTnpDXTw0mzp_3HdiVZozKbvbklUoQtAURsxL3TvRQa7g4rc1fxGv9a002-PYwpGHe4JKnHmJLQxkQQfP0-Xs3xVPXCwFnG-LFRRD90y7QMqOfcY3mR-d8slUMl4F49A9yM_gVQa-UHKj9A3Kwg0Fc2RWByLI_pBrZjiVgvgSk50AFMurm1CB3HQSsuEaeLHcaRlL86cnEVZ7xjmEhiSN3pSJDlNNYjYfkXwLqQQ3mvXcrC3INIPPVPLUzK-8whE5aKI/file\n",
      "Reusing existing connection to ucfc4c6b5971519457762ec55883.dl.dropboxusercontent.com:443.\n",
      "HTTP request sent, awaiting response... 200 OK\n",
      "Length: 337996233 (322M) [application/octet-stream]\n",
      "Saving to: ‘../data/CiteSeqPBMC160K_ProteinAndRNA_merged_sub50k.h5ad’\n",
      "\n",
      "../data/CiteSeqPBMC 100%[===================>] 322.34M  10.0MB/s    in 30s     \n",
      "\n",
      "2021-07-08 12:47:55 (10.8 MB/s) - ‘../data/CiteSeqPBMC160K_ProteinAndRNA_merged_sub50k.h5ad’ saved [337996233/337996233]\n",
      "\n"
     ]
    }
   ],
   "source": [
    "print('DOWNLOADING AND EXTRACTING EXAMPLE DATA')\n",
    "! mkdir -p ../data\n",
    "\n",
    "## Full-sized dataset of 160K cells\n",
    "! wget https://www.dropbox.com/s/5knwop1zs7uaww4/CiteSeqPBMC160K_ProteinAndRNA_merged.h5ad -O ../data/CiteSeqPBMC160K_ProteinAndRNA_merged.h5ad\n",
    "    \n",
    "## Sub-sampled datset of 50K cells\n",
    "! wget https://www.dropbox.com/s/fyusuk61kmnbyv4/CiteSeqPBMC160K_ProteinAndRNA_merged_sub50k.h5ad -O ../data/CiteSeqPBMC160K_ProteinAndRNA_merged_sub50k.h5ad"
   ]
  },
  {
   "cell_type": "code",
   "execution_count": 3,
   "id": "cf0e3b0a-6420-481a-ac67-c743d1a7c639",
   "metadata": {},
   "outputs": [],
   "source": [
    "data = sc.read('../data/CiteSeqPBMC160K_ProteinAndRNA_merged.h5ad')"
   ]
  },
  {
   "cell_type": "code",
   "execution_count": 4,
   "id": "e492f401-a7ad-4d0f-b1e6-781c0c906313",
   "metadata": {},
   "outputs": [
    {
     "data": {
      "text/plain": [
       "AnnData object with n_obs × n_vars = 161764 × 17516\n",
       "    obs: 'nCount_ADT', 'nFeature_ADT', 'nCount_RNA', 'nFeature_RNA', 'orig.ident', 'lane', 'donor', 'time', 'celltype.l1', 'celltype.l2', 'celltype.l3', 'Phase', 'nCount_SCT', 'nFeature_SCT', 'n_counts'\n",
       "    var: 'features'\n",
       "    obsm: 'X_apca', 'X_aumap', 'X_pca', 'X_spca', 'X_umap', 'X_wnn.umap'"
      ]
     },
     "execution_count": 4,
     "metadata": {},
     "output_type": "execute_result"
    }
   ],
   "source": [
    "data"
   ]
  },
  {
   "cell_type": "code",
   "execution_count": 5,
   "id": "6e5f33c8-5a18-43f0-b286-b8f85bb9f79e",
   "metadata": {},
   "outputs": [
    {
     "data": {
      "text/plain": [
       "<161764x17516 sparse matrix of type '<class 'numpy.float32'>'\n",
       "\twith 370421313 stored elements in Compressed Sparse Column format>"
      ]
     },
     "execution_count": 5,
     "metadata": {},
     "output_type": "execute_result"
    }
   ],
   "source": [
    "data.X"
   ]
  },
  {
   "cell_type": "markdown",
   "id": "e89a6471-56c3-4db8-810b-0f1ac57a52ea",
   "metadata": {},
   "source": [
    "#### We call SCIViewer using the optional parameter `embedding_name` which indicates we want to use the UMAP computed using the weighted nearest neighbors graph that integrates information from each cell's nearest neighbors to determine how to weight the protein and RNA features"
   ]
  },
  {
   "cell_type": "code",
   "execution_count": 6,
   "id": "2dbf12d4-7b64-4ad9-baa6-49c99a93d33f",
   "metadata": {},
   "outputs": [
    {
     "name": "stdout",
     "output_type": "stream",
     "text": [
      "3.4424688816070557 seconds to select and project cells\n",
      "Selected 2789 cells\n",
      "Calculating differential expression...\n",
      "24.778017044067383 seconds to calculate genesums. Sparsity:  True\n",
      "54.78173899650574 seconds to calculate squared genesums. Sparsity:  True\n",
      "173.33460211753845 seconds to calculate differential expression. Sparsity:  True\n",
      "Selected gene Prot_TCR-V-7.2\n",
      "Min/max expression level for gene Prot_TCR-V-7.2 0.0 5.64773\n",
      "EXPORTING DATA...\n",
      "BYE\n",
      "EXPORTING DATA...\n",
      "BYE\n"
     ]
    }
   ],
   "source": [
    "svobj = SCIViewer(data, embedding_name='X_wnn.umap')\n",
    "svobj.explore_data()"
   ]
  },
  {
   "cell_type": "code",
   "execution_count": 3,
   "id": "0a0bf56b-58ef-42ac-a460-70cea87fcc20",
   "metadata": {},
   "outputs": [
    {
     "name": "stderr",
     "output_type": "stream",
     "text": [
      "Observation names are not unique. To make them unique, call `.obs_names_make_unique`.\n"
     ]
    }
   ],
   "source": [
    "## Or for down-sampled dataset\n",
    "data_sub = sc.read('../data/CiteSeqPBMC160K_ProteinAndRNA_merged_sub50k.h5ad')"
   ]
  },
  {
   "cell_type": "code",
   "execution_count": 4,
   "id": "602af72a-8759-4c6f-8203-26d15ca49267",
   "metadata": {},
   "outputs": [
    {
     "data": {
      "text/plain": [
       "AnnData object with n_obs × n_vars = 50000 × 17516\n",
       "    obs: 'nCount_ADT', 'nFeature_ADT', 'nCount_RNA', 'nFeature_RNA', 'orig.ident', 'lane', 'donor', 'time', 'celltype.l1', 'celltype.l2', 'celltype.l3', 'Phase', 'nCount_SCT', 'nFeature_SCT', 'n_counts'\n",
       "    var: 'features'\n",
       "    obsm: 'X_apca', 'X_aumap', 'X_pca', 'X_spca', 'X_umap', 'X_wnn.umap'"
      ]
     },
     "execution_count": 4,
     "metadata": {},
     "output_type": "execute_result"
    }
   ],
   "source": [
    "data_sub"
   ]
  },
  {
   "cell_type": "code",
   "execution_count": 5,
   "id": "26d383a6-3b74-4d6e-80c2-f52ddb57eecc",
   "metadata": {},
   "outputs": [],
   "source": [
    "data_sub.X = sparse.csc.csc_matrix(data_sub.X)"
   ]
  },
  {
   "cell_type": "code",
   "execution_count": 6,
   "id": "34d4f181-9778-4c03-9316-5ec83dfa1d7c",
   "metadata": {},
   "outputs": [
    {
     "name": "stdout",
     "output_type": "stream",
     "text": [
      "1.142807960510254 seconds to select and project cells\n",
      "Selected 4861 cells\n",
      "Calculating correlations...\n",
      "3.190542697906494 seconds to calculate correlations. Sparsity:  True\n",
      "Selected gene HLA-DRA\n",
      "Min/max expression level for gene HLA-DRA 0.0 5.3541265\n",
      "0.5664069652557373 seconds to select and project cells\n",
      "Selected 850 cells\n",
      "Calculating differential expression...\n",
      "0.09165000915527344 seconds to calculate genesums. Sparsity:  True\n",
      "3.8319427967071533 seconds to calculate squared genesums. Sparsity:  True\n",
      "7.662507057189941 seconds to calculate differential expression. Sparsity:  True\n",
      "Selected gene Prot_TCR-V-7.2\n",
      "Min/max expression level for gene Prot_TCR-V-7.2 0.0 5.5154824\n",
      "EXPORTING DATA...\n",
      "BYE\n"
     ]
    }
   ],
   "source": [
    "svobj = SCIViewer(data_sub, embedding_name='X_wnn.umap')\n",
    "svobj.explore_data()"
   ]
  },
  {
   "cell_type": "code",
   "execution_count": null,
   "id": "07e1cc68-bd10-40f7-87cf-965c2b793b0f",
   "metadata": {},
   "outputs": [],
   "source": []
  },
  {
   "cell_type": "code",
   "execution_count": null,
   "id": "0517fb71-7378-4eca-8596-293adb943f8b",
   "metadata": {},
   "outputs": [],
   "source": []
  },
  {
   "cell_type": "code",
   "execution_count": null,
   "id": "8b2534ad-8ff8-449f-bb17-7a0e2349f913",
   "metadata": {},
   "outputs": [],
   "source": []
  },
  {
   "cell_type": "code",
   "execution_count": null,
   "id": "92f6fa4c-78fb-4e85-8acd-7fa8c3ab0e10",
   "metadata": {},
   "outputs": [],
   "source": []
  },
  {
   "cell_type": "code",
   "execution_count": null,
   "id": "885f9e9b-f7b9-44e0-991f-1da866e07dd3",
   "metadata": {},
   "outputs": [],
   "source": []
  },
  {
   "cell_type": "code",
   "execution_count": null,
   "id": "4f942572-b7d3-413c-8b6f-b556e3d749d2",
   "metadata": {},
   "outputs": [],
   "source": []
  },
  {
   "cell_type": "code",
   "execution_count": null,
   "id": "673b4c92-cd09-4c6a-8545-1a23e6173a5d",
   "metadata": {},
   "outputs": [],
   "source": []
  },
  {
   "cell_type": "code",
   "execution_count": null,
   "id": "84fa77b3-558a-4c4f-a709-747d95b1bbbf",
   "metadata": {},
   "outputs": [],
   "source": []
  },
  {
   "cell_type": "code",
   "execution_count": null,
   "id": "573ef9dd-779b-453b-8d7a-c3f6dceaa767",
   "metadata": {},
   "outputs": [],
   "source": []
  },
  {
   "cell_type": "code",
   "execution_count": null,
   "id": "84745544-a331-4a35-acb0-f2f83ee794d7",
   "metadata": {},
   "outputs": [],
   "source": []
  },
  {
   "cell_type": "code",
   "execution_count": null,
   "id": "684e2733-3589-427c-867c-4d0eda4ce42e",
   "metadata": {},
   "outputs": [],
   "source": []
  },
  {
   "cell_type": "code",
   "execution_count": null,
   "id": "7237238a-c7ea-43f3-9af4-a611cf2056ff",
   "metadata": {},
   "outputs": [],
   "source": []
  },
  {
   "cell_type": "code",
   "execution_count": null,
   "id": "89907726-4204-47d5-b61c-7a9ed5231a9c",
   "metadata": {},
   "outputs": [],
   "source": []
  },
  {
   "cell_type": "code",
   "execution_count": null,
   "id": "7572eea9-5a78-4eb0-8486-c2738a225c3a",
   "metadata": {},
   "outputs": [],
   "source": []
  },
  {
   "cell_type": "code",
   "execution_count": null,
   "id": "3b869eb5-8689-46b4-a15e-fbc2ac169038",
   "metadata": {},
   "outputs": [],
   "source": []
  },
  {
   "cell_type": "code",
   "execution_count": null,
   "id": "ac1a28ef-6b92-43e2-976a-60e79c4aeebd",
   "metadata": {},
   "outputs": [],
   "source": []
  },
  {
   "cell_type": "code",
   "execution_count": 3,
   "id": "b240d0d1",
   "metadata": {},
   "outputs": [
    {
     "name": "stdout",
     "output_type": "stream",
     "text": [
      "LOADING UMAP DATA...\n"
     ]
    },
    {
     "data": {
      "text/html": [
       "<div>\n",
       "<style scoped>\n",
       "    .dataframe tbody tr th:only-of-type {\n",
       "        vertical-align: middle;\n",
       "    }\n",
       "\n",
       "    .dataframe tbody tr th {\n",
       "        vertical-align: top;\n",
       "    }\n",
       "\n",
       "    .dataframe thead th {\n",
       "        text-align: right;\n",
       "    }\n",
       "</style>\n",
       "<table border=\"1\" class=\"dataframe\">\n",
       "  <thead>\n",
       "    <tr style=\"text-align: right;\">\n",
       "      <th></th>\n",
       "      <th>UMAP_1</th>\n",
       "      <th>UMAP_2</th>\n",
       "    </tr>\n",
       "  </thead>\n",
       "  <tbody>\n",
       "    <tr>\n",
       "      <th>L3_ACTGTGAGTGGAAATT</th>\n",
       "      <td>9.271340</td>\n",
       "      <td>-0.378436</td>\n",
       "    </tr>\n",
       "    <tr>\n",
       "      <th>L5_TCACATTCACATGAAA</th>\n",
       "      <td>8.293193</td>\n",
       "      <td>6.904835</td>\n",
       "    </tr>\n",
       "    <tr>\n",
       "      <th>E2L4_TCTCACGCAGAGGAAA</th>\n",
       "      <td>-7.722053</td>\n",
       "      <td>3.987209</td>\n",
       "    </tr>\n",
       "    <tr>\n",
       "      <th>E2L7_TGATGCAAGGAACGCT</th>\n",
       "      <td>-9.115604</td>\n",
       "      <td>3.671707</td>\n",
       "    </tr>\n",
       "    <tr>\n",
       "      <th>E2L1_TATTTCGTCAACTACG</th>\n",
       "      <td>7.976065</td>\n",
       "      <td>-7.689341</td>\n",
       "    </tr>\n",
       "  </tbody>\n",
       "</table>\n",
       "</div>"
      ],
      "text/plain": [
       "                         UMAP_1    UMAP_2\n",
       "L3_ACTGTGAGTGGAAATT    9.271340 -0.378436\n",
       "L5_TCACATTCACATGAAA    8.293193  6.904835\n",
       "E2L4_TCTCACGCAGAGGAAA -7.722053  3.987209\n",
       "E2L7_TGATGCAAGGAACGCT -9.115604  3.671707\n",
       "E2L1_TATTTCGTCAACTACG  7.976065 -7.689341"
      ]
     },
     "execution_count": 3,
     "metadata": {},
     "output_type": "execute_result"
    }
   ],
   "source": [
    "print(\"LOADING UMAP DATA...\")\n",
    "\n",
    "umap = pd.read_csv('../../sciviewer_data/pbmc_citeseq100K/PBMC100K_RNAandPROTEINmerged_logTP10K.sub50k.joint_umap.tsv',\n",
    "                   sep='\\t', index_col=0)\n",
    "umap.head()"
   ]
  },
  {
   "cell_type": "code",
   "execution_count": 6,
   "id": "d89b4795",
   "metadata": {},
   "outputs": [
    {
     "name": "stdout",
     "output_type": "stream",
     "text": [
      "LOADING GENE EXPRESSION DATA...\n"
     ]
    },
    {
     "data": {
      "text/plain": [
       "<50000x18846 sparse matrix of type '<class 'numpy.float64'>'\n",
       "\twith 114611105 stored elements in Compressed Sparse Column format>"
      ]
     },
     "execution_count": 6,
     "metadata": {},
     "output_type": "execute_result"
    }
   ],
   "source": [
    "print(\"LOADING GENE EXPRESSION DATA...\")\n",
    "matfn = '../../sciviewer_data/pbmc_citeseq100K/PBMC100K_RNAandPROTEINmerged_logTP10K.sub50k.mtx'\n",
    "#matnf = '../../sciviewer_data/pbmc_citeseq100K/PBMC100K_rnaexpression_logTP10K.sub50k.mtx'\n",
    "expr_sparse = mmread(matfn)\n",
    "\n",
    "expr_sparse = sparse.csc_matrix(expr_sparse)\n",
    "expr_sparse"
   ]
  },
  {
   "cell_type": "code",
   "execution_count": 7,
   "id": "cd99542e",
   "metadata": {},
   "outputs": [],
   "source": [
    "#genesfn = '../../sciviewer_data/pbmc_citeseq100K/PBMC100K_rnaexpression_logTP10K.genes.tsv'\n",
    "genesfn = '../../sciviewer_data/pbmc_citeseq100K/PBMC100K_RNAandPROTEINmerged_logTP10K.genes.tsv'\n",
    "genes = list(pd.read_csv(genesfn, sep='\\t', header=None)[1])\n",
    "barcodes = list(pd.read_csv('../data/PBMC100K_rnaexpression_logTP10K.sub50k.barcodes.tsv', sep='\\t', header=None)[0])"
   ]
  },
  {
   "cell_type": "code",
   "execution_count": 8,
   "id": "b442a8df",
   "metadata": {},
   "outputs": [],
   "source": [
    "import sys\n",
    "sys.path.append('../sciviewer')\n",
    "from sciviewer import SCIViewer"
   ]
  },
  {
   "cell_type": "code",
   "execution_count": null,
   "id": "cef75e91-fef5-41cd-b5f3-60e6dcfde45f",
   "metadata": {},
   "outputs": [],
   "source": [
    "# gene and cell names are provided to the gene_names and cell_names attributes since\n",
    "# those aren't innately part of the sparse data structure\n",
    "\n",
    "svobj = SCIViewer(umap.values, expr_sparse,\n",
    "                  gene_names=genes,\n",
    "                  cell_names=list(umap.index),\n",
    "                  width=1600, height=800)\n",
    "svobj.explore_data()"
   ]
  },
  {
   "cell_type": "code",
   "execution_count": 21,
   "id": "b009df35",
   "metadata": {},
   "outputs": [
    {
     "data": {
      "text/html": [
       "<div>\n",
       "<style scoped>\n",
       "    .dataframe tbody tr th:only-of-type {\n",
       "        vertical-align: middle;\n",
       "    }\n",
       "\n",
       "    .dataframe tbody tr th {\n",
       "        vertical-align: top;\n",
       "    }\n",
       "\n",
       "    .dataframe thead th {\n",
       "        text-align: right;\n",
       "    }\n",
       "</style>\n",
       "<table border=\"1\" class=\"dataframe\">\n",
       "  <thead>\n",
       "    <tr style=\"text-align: right;\">\n",
       "      <th></th>\n",
       "      <th>R</th>\n",
       "      <th>P</th>\n",
       "    </tr>\n",
       "  </thead>\n",
       "  <tbody>\n",
       "    <tr>\n",
       "      <th>AL627309.1</th>\n",
       "      <td>0.007597</td>\n",
       "      <td>4.537307e-01</td>\n",
       "    </tr>\n",
       "    <tr>\n",
       "      <th>AL669831.5</th>\n",
       "      <td>0.059973</td>\n",
       "      <td>3.218708e-09</td>\n",
       "    </tr>\n",
       "    <tr>\n",
       "      <th>LINC00115</th>\n",
       "      <td>0.020225</td>\n",
       "      <td>4.605774e-02</td>\n",
       "    </tr>\n",
       "    <tr>\n",
       "      <th>FAM41C</th>\n",
       "      <td>0.031332</td>\n",
       "      <td>1.996065e-03</td>\n",
       "    </tr>\n",
       "    <tr>\n",
       "      <th>NOC2L</th>\n",
       "      <td>-0.026795</td>\n",
       "      <td>8.215979e-03</td>\n",
       "    </tr>\n",
       "    <tr>\n",
       "      <th>...</th>\n",
       "      <td>...</td>\n",
       "      <td>...</td>\n",
       "    </tr>\n",
       "    <tr>\n",
       "      <th>AC016588.1</th>\n",
       "      <td>NaN</td>\n",
       "      <td>NaN</td>\n",
       "    </tr>\n",
       "    <tr>\n",
       "      <th>FAM83E</th>\n",
       "      <td>NaN</td>\n",
       "      <td>NaN</td>\n",
       "    </tr>\n",
       "    <tr>\n",
       "      <th>Z82244.2</th>\n",
       "      <td>NaN</td>\n",
       "      <td>NaN</td>\n",
       "    </tr>\n",
       "    <tr>\n",
       "      <th>AP001468.1</th>\n",
       "      <td>-0.011265</td>\n",
       "      <td>2.665696e-01</td>\n",
       "    </tr>\n",
       "    <tr>\n",
       "      <th>AP001469.2</th>\n",
       "      <td>-0.019682</td>\n",
       "      <td>5.222168e-02</td>\n",
       "    </tr>\n",
       "  </tbody>\n",
       "</table>\n",
       "<p>20729 rows × 2 columns</p>\n",
       "</div>"
      ],
      "text/plain": [
       "                   R             P\n",
       "AL627309.1  0.007597  4.537307e-01\n",
       "AL669831.5  0.059973  3.218708e-09\n",
       "LINC00115   0.020225  4.605774e-02\n",
       "FAM41C      0.031332  1.996065e-03\n",
       "NOC2L      -0.026795  8.215979e-03\n",
       "...              ...           ...\n",
       "AC016588.1       NaN           NaN\n",
       "FAM83E           NaN           NaN\n",
       "Z82244.2         NaN           NaN\n",
       "AP001468.1 -0.011265  2.665696e-01\n",
       "AP001469.2 -0.019682  5.222168e-02\n",
       "\n",
       "[20729 rows x 2 columns]"
      ]
     },
     "execution_count": 21,
     "metadata": {},
     "output_type": "execute_result"
    }
   ],
   "source": [
    "svobj.results_proj_correlation #.sort_values(by='R', ascending=False)"
   ]
  },
  {
   "cell_type": "code",
   "execution_count": 23,
   "id": "d3426cad",
   "metadata": {},
   "outputs": [
    {
     "data": {
      "text/plain": [
       "['AL627309.1',\n",
       " 'AL669831.5',\n",
       " 'LINC00115',\n",
       " 'FAM41C',\n",
       " 'NOC2L',\n",
       " 'KLHL17',\n",
       " 'PLEKHN1',\n",
       " 'AL645608.8',\n",
       " 'HES4',\n",
       " 'ISG15',\n",
       " 'AGRN',\n",
       " 'C1orf159',\n",
       " 'TTLL10',\n",
       " 'TNFRSF18',\n",
       " 'TNFRSF4',\n",
       " 'SDF4',\n",
       " 'B3GALT6',\n",
       " 'C1QTNF12',\n",
       " 'AL162741.1',\n",
       " 'UBE2J2',\n",
       " 'SCNN1D',\n",
       " 'ACAP3',\n",
       " 'PUSL1',\n",
       " 'INTS11',\n",
       " 'CPTP',\n",
       " 'TAS1R3',\n",
       " 'DVL1',\n",
       " 'MXRA8',\n",
       " 'AURKAIP1',\n",
       " 'CCNL2',\n",
       " 'MRPL20',\n",
       " 'AL391244.3',\n",
       " 'ANKRD65',\n",
       " 'ATAD3C',\n",
       " 'ATAD3B',\n",
       " 'ATAD3A',\n",
       " 'TMEM240',\n",
       " 'SSU72',\n",
       " 'AL645728.1',\n",
       " 'FNDC10',\n",
       " 'AL691432.2',\n",
       " 'MIB2',\n",
       " 'MMP23B',\n",
       " 'CDK11B',\n",
       " 'FO704657.1',\n",
       " 'SLC35E2B',\n",
       " 'CDK11A',\n",
       " 'SLC35E2A',\n",
       " 'NADK',\n",
       " 'GNB1',\n",
       " 'AL109917.1',\n",
       " 'PRKCZ',\n",
       " 'AL590822.2',\n",
       " 'PRKCZ-AS1',\n",
       " 'FAAP20',\n",
       " 'SKI',\n",
       " 'MORN1',\n",
       " 'RER1',\n",
       " 'PEX10',\n",
       " 'PLCH2',\n",
       " 'PANK4',\n",
       " 'AL139246.5',\n",
       " 'TNFRSF14-AS1',\n",
       " 'TNFRSF14',\n",
       " 'AL139246.3',\n",
       " 'FAM213B',\n",
       " 'MMEL1',\n",
       " 'TTC34',\n",
       " 'MEGF6',\n",
       " 'AL513320.1',\n",
       " 'TPRG1L',\n",
       " 'WRAP73',\n",
       " 'SMIM1',\n",
       " 'LRRC47',\n",
       " 'CEP104',\n",
       " 'DFFB',\n",
       " 'C1orf174',\n",
       " 'LINC01134',\n",
       " 'AJAP1',\n",
       " 'NPHP4',\n",
       " 'KCNAB2',\n",
       " 'CHD5',\n",
       " 'RPL22',\n",
       " 'RNF207',\n",
       " 'ICMT',\n",
       " 'GPR153',\n",
       " 'ACOT7',\n",
       " 'AL031848.2',\n",
       " 'ESPN',\n",
       " 'TNFRSF25',\n",
       " 'PLEKHG5',\n",
       " 'NOL9',\n",
       " 'ZBTB48',\n",
       " 'KLHL21',\n",
       " 'PHF13',\n",
       " 'THAP3',\n",
       " 'DNAJC11',\n",
       " 'CAMTA1-DT',\n",
       " 'CAMTA1',\n",
       " 'VAMP3',\n",
       " 'PER3',\n",
       " 'Z98884.1',\n",
       " 'UTS2',\n",
       " 'TNFRSF9',\n",
       " 'PARK7',\n",
       " 'AL034417.4',\n",
       " 'AL034417.3',\n",
       " 'ERRFI1',\n",
       " 'SLC45A1',\n",
       " 'RERE',\n",
       " 'AL096855.1',\n",
       " 'ENO1',\n",
       " 'ENO1-AS1',\n",
       " 'CA6',\n",
       " 'SLC2A5',\n",
       " 'GPR157',\n",
       " 'H6PD',\n",
       " 'SPSB1',\n",
       " 'SLC25A33',\n",
       " 'TMEM201',\n",
       " 'PIK3CD',\n",
       " 'PIK3CD-AS1',\n",
       " 'PIK3CD-AS2',\n",
       " 'CLSTN1',\n",
       " 'CTNNBIP1',\n",
       " 'LZIC',\n",
       " 'NMNAT1',\n",
       " 'RBP7',\n",
       " 'UBE4B',\n",
       " 'KIF1B',\n",
       " 'AL139424.3',\n",
       " 'AL139424.2',\n",
       " 'PGD',\n",
       " 'CENPS',\n",
       " 'DFFA',\n",
       " 'PEX14',\n",
       " 'CASZ1',\n",
       " 'C1orf127',\n",
       " 'TARDBP',\n",
       " 'AL109811.3',\n",
       " 'SRM',\n",
       " 'EXOSC10',\n",
       " 'AL109811.1',\n",
       " 'AL109811.2',\n",
       " 'MTOR',\n",
       " 'UBIAD1',\n",
       " 'FBXO2',\n",
       " 'FBXO44',\n",
       " 'FBXO6',\n",
       " 'MAD2L2',\n",
       " 'DRAXIN',\n",
       " 'AGTRAP',\n",
       " 'C1orf167',\n",
       " 'MTHFR',\n",
       " 'CLCN6',\n",
       " 'NPPA-AS1',\n",
       " 'KIAA2013',\n",
       " 'PLOD1',\n",
       " 'MFN2',\n",
       " 'MIIP',\n",
       " 'TNFRSF8',\n",
       " 'TNFRSF1B',\n",
       " 'VPS13D',\n",
       " 'DHRS3',\n",
       " 'AC254633.1',\n",
       " 'PRDM2',\n",
       " 'KAZN',\n",
       " 'TMEM51',\n",
       " 'FHAD1',\n",
       " 'AL031283.1',\n",
       " 'EFHD2',\n",
       " 'CASP9',\n",
       " 'DNAJC16',\n",
       " 'AL121992.3',\n",
       " 'AGMAT',\n",
       " 'AL121992.1',\n",
       " 'DDI2',\n",
       " 'PLEKHM2',\n",
       " 'SLC25A34',\n",
       " 'FBLIM1',\n",
       " 'UQCRHL',\n",
       " 'AL450998.2',\n",
       " 'SPEN',\n",
       " 'ZBTB17',\n",
       " 'EPHA2',\n",
       " 'ARHGEF19',\n",
       " 'CPLANE2',\n",
       " 'FBXO42',\n",
       " 'SZRD1',\n",
       " 'SPATA21',\n",
       " 'NECAP2',\n",
       " 'LINC01772',\n",
       " 'AL137802.2',\n",
       " 'NBPF1',\n",
       " 'CROCC',\n",
       " 'BX284668.2',\n",
       " 'BX284668.5',\n",
       " 'BX284668.6',\n",
       " 'ATP13A2',\n",
       " 'SDHB',\n",
       " 'PADI2',\n",
       " 'PADI4',\n",
       " 'PADI6',\n",
       " 'RCC2',\n",
       " 'ARHGEF10L',\n",
       " 'ALDH4A1',\n",
       " 'IFFO2',\n",
       " 'UBR4',\n",
       " 'AL035413.1',\n",
       " 'EMC1',\n",
       " 'MRTO4',\n",
       " 'AKR7A2',\n",
       " 'PQLC2',\n",
       " 'CAPZB',\n",
       " 'MINOS1',\n",
       " 'NBL1',\n",
       " 'TMCO4',\n",
       " 'OTUD3',\n",
       " 'PLA2G2D',\n",
       " 'PLA2G2C',\n",
       " 'UBXN10-AS1',\n",
       " 'UBXN10',\n",
       " 'CAMK2N1',\n",
       " 'MUL1',\n",
       " 'CDA',\n",
       " 'PINK1',\n",
       " 'PINK1-AS',\n",
       " 'DDOST',\n",
       " 'KIF17',\n",
       " 'HP1BP3',\n",
       " 'EIF4G3',\n",
       " 'ECE1',\n",
       " 'AL031005.1',\n",
       " 'NBPF3',\n",
       " 'USP48',\n",
       " 'LDLRAD2',\n",
       " 'HSPG2',\n",
       " 'LINC01635',\n",
       " 'CDC42',\n",
       " 'AL031281.2',\n",
       " 'ZBTB40',\n",
       " 'C1QA',\n",
       " 'C1QC',\n",
       " 'C1QB',\n",
       " 'EPHB2',\n",
       " 'KDM1A',\n",
       " 'LUZP1',\n",
       " 'LINC01355',\n",
       " 'HNRNPR',\n",
       " 'ZNF436',\n",
       " 'ZNF436-AS1',\n",
       " 'TCEA3',\n",
       " 'E2F2',\n",
       " 'AL021154.1',\n",
       " 'ID3',\n",
       " 'MDS2',\n",
       " 'RPL11',\n",
       " 'ELOA',\n",
       " 'ELOA-AS1',\n",
       " 'PITHD1',\n",
       " 'LYPLA2',\n",
       " 'GALE',\n",
       " 'HMGCL',\n",
       " 'FUCA1',\n",
       " 'CNR2',\n",
       " 'PNRC2',\n",
       " 'SRSF10',\n",
       " 'IFNLR1',\n",
       " 'STPG1',\n",
       " 'NIPAL3',\n",
       " 'RCAN3',\n",
       " 'AL445686.2',\n",
       " 'SRRM1',\n",
       " 'CLIC4',\n",
       " 'RUNX3',\n",
       " 'SYF2',\n",
       " 'RSRP1',\n",
       " 'AL031432.3',\n",
       " 'RHD',\n",
       " 'TMEM50A',\n",
       " 'RHCE',\n",
       " 'MACO1',\n",
       " 'LDLRAP1',\n",
       " 'AL606491.1',\n",
       " 'MAN1C1',\n",
       " 'AL031280.1',\n",
       " 'SELENON',\n",
       " 'AL020996.1',\n",
       " 'MTFR1L',\n",
       " 'AUNIP',\n",
       " 'AL033528.2',\n",
       " 'PAQR7',\n",
       " 'STMN1',\n",
       " 'PAFAH2',\n",
       " 'PDIK1L',\n",
       " 'ZNF593',\n",
       " 'CNKSR1',\n",
       " 'CEP85',\n",
       " 'SH3BGRL3',\n",
       " 'UBXN11',\n",
       " 'CD52',\n",
       " 'CRYBG2',\n",
       " 'ZNF683',\n",
       " 'DHDDS',\n",
       " 'HMGN2',\n",
       " 'RPS6KA1',\n",
       " 'AL512408.1',\n",
       " 'ARID1A',\n",
       " 'PIGV',\n",
       " 'ZDHHC18',\n",
       " 'SFN',\n",
       " 'GPN2',\n",
       " 'GPATCH3',\n",
       " 'NUDC',\n",
       " 'KDF1',\n",
       " 'TRNP1',\n",
       " 'SLC9A1',\n",
       " 'WDTC1',\n",
       " 'TMEM222',\n",
       " 'SYTL1',\n",
       " 'MAP3K6',\n",
       " 'WASF2',\n",
       " 'BX293535.1',\n",
       " 'AHDC1',\n",
       " 'FGR',\n",
       " 'IFI6',\n",
       " 'FAM76A',\n",
       " 'STX12',\n",
       " 'PPP1R8',\n",
       " 'THEMIS2',\n",
       " 'RPA2',\n",
       " 'XKR8',\n",
       " 'EYA3',\n",
       " 'PTAFR',\n",
       " 'DNAJC8',\n",
       " 'ATP5IF1',\n",
       " 'AL353622.1',\n",
       " 'SESN2',\n",
       " 'MED18',\n",
       " 'PHACTR4',\n",
       " 'RCC1',\n",
       " 'TRNAU1AP',\n",
       " 'SNHG12',\n",
       " 'TAF12',\n",
       " 'LINC01715',\n",
       " 'AL360012.1',\n",
       " 'GMEB1',\n",
       " 'YTHDF2',\n",
       " 'EPB41',\n",
       " 'SRSF4',\n",
       " 'MECR',\n",
       " 'MATN1-AS1',\n",
       " 'LAPTM5',\n",
       " 'SDC3',\n",
       " 'PUM1',\n",
       " 'SNRNP40',\n",
       " 'ZCCHC17',\n",
       " 'FABP3',\n",
       " 'SERINC2',\n",
       " 'PEF1',\n",
       " 'AC114488.3',\n",
       " 'ADGRB2',\n",
       " 'SPOCD1',\n",
       " 'AL354919.1',\n",
       " 'AL136115.2',\n",
       " 'PTP4A2',\n",
       " 'KHDRBS1',\n",
       " 'AL445248.1',\n",
       " 'TMEM39B',\n",
       " 'KPNA6',\n",
       " 'TXLNA',\n",
       " 'CCDC28B',\n",
       " 'AL049795.1',\n",
       " 'IQCC',\n",
       " 'TMEM234',\n",
       " 'EIF3I',\n",
       " 'FAM167B',\n",
       " 'LCK',\n",
       " 'HDAC1',\n",
       " 'MARCKSL1',\n",
       " 'TSSK3',\n",
       " 'FAM229A',\n",
       " 'BSDC1',\n",
       " 'ZBTB8A',\n",
       " 'ZBTB8OS',\n",
       " 'RBBP4',\n",
       " 'SYNC',\n",
       " 'KIAA1522',\n",
       " 'YARS',\n",
       " 'S100PBP',\n",
       " 'RNF19B',\n",
       " 'AK2',\n",
       " 'AZIN2',\n",
       " 'TRIM62',\n",
       " 'ZNF362',\n",
       " 'PHC2',\n",
       " 'ZSCAN20',\n",
       " 'SMIM12',\n",
       " 'DLGAP3',\n",
       " 'AC114490.3',\n",
       " 'AC114490.2',\n",
       " 'ZMYM6',\n",
       " 'ZMYM1',\n",
       " 'SFPQ',\n",
       " 'ZMYM4',\n",
       " 'KIAA0319L',\n",
       " 'NCDN',\n",
       " 'AC004865.2',\n",
       " 'TFAP2E',\n",
       " 'PSMB2',\n",
       " 'C1orf216',\n",
       " 'CLSPN',\n",
       " 'AGO4',\n",
       " 'AGO1',\n",
       " 'AL139286.2',\n",
       " 'AGO3',\n",
       " 'ADPRHL2',\n",
       " 'COL8A2',\n",
       " 'TRAPPC3',\n",
       " 'MAP7D1',\n",
       " 'THRAP3',\n",
       " 'SH3D21',\n",
       " 'EVA1B',\n",
       " 'STK40',\n",
       " 'LSM10',\n",
       " 'OSCP1',\n",
       " 'MRPS15',\n",
       " 'CSF3R',\n",
       " 'LINC01137',\n",
       " 'ZC3H12A',\n",
       " 'MEAF6',\n",
       " 'SNIP1',\n",
       " 'GNL2',\n",
       " 'C1orf109',\n",
       " 'CDCA8',\n",
       " 'MANEAL',\n",
       " 'YRDC',\n",
       " 'C1orf122',\n",
       " 'MTF1',\n",
       " 'INPP5B',\n",
       " 'SF3A3',\n",
       " 'FHL3',\n",
       " 'UTP11',\n",
       " 'POU3F1',\n",
       " 'LINC01685',\n",
       " 'RRAGC',\n",
       " 'AL139260.1',\n",
       " 'MYCBP',\n",
       " 'AKIRIN1',\n",
       " 'NDUFS5',\n",
       " 'MACF1',\n",
       " 'PABPC4',\n",
       " 'HPCAL4',\n",
       " 'PPIE',\n",
       " 'BMP8B',\n",
       " 'OXCT2',\n",
       " 'AL033527.3',\n",
       " 'AL033527.5',\n",
       " 'TRIT1',\n",
       " 'MYCL',\n",
       " 'MFSD2A',\n",
       " 'CAP1',\n",
       " 'PPT1',\n",
       " 'RLF',\n",
       " 'AL050341.2',\n",
       " 'ZMPSTE24',\n",
       " 'COL9A2',\n",
       " 'SMAP2',\n",
       " 'ZFP69B',\n",
       " 'ZFP69',\n",
       " 'AL603839.3',\n",
       " 'EXO5',\n",
       " 'ZNF684',\n",
       " 'RIMS3',\n",
       " 'NFYC-AS1',\n",
       " 'NFYC',\n",
       " 'CITED4',\n",
       " 'CTPS1',\n",
       " 'SLFNL1-AS1',\n",
       " 'SCMH1',\n",
       " 'HIVEP3',\n",
       " 'FOXJ3',\n",
       " 'RIMKLA',\n",
       " 'ZMYND12',\n",
       " 'PPCS',\n",
       " 'CCDC30',\n",
       " 'PPIH',\n",
       " 'AC098484.2',\n",
       " 'YBX1',\n",
       " 'P3H1',\n",
       " 'C1orf50',\n",
       " 'SVBP',\n",
       " 'ERMAP',\n",
       " 'AL512353.1',\n",
       " 'ZNF691',\n",
       " 'SLC2A1',\n",
       " 'SLC2A1-AS1',\n",
       " 'EBNA1BP2',\n",
       " 'CFAP57',\n",
       " 'TIE1',\n",
       " 'AL139289.2',\n",
       " 'CDC20',\n",
       " 'ELOVL1',\n",
       " 'MED8',\n",
       " 'SZT2',\n",
       " 'HYI',\n",
       " 'PTPRF',\n",
       " 'KDM4A',\n",
       " 'KDM4A-AS1',\n",
       " 'ST3GAL3',\n",
       " 'AL357079.1',\n",
       " 'IPO13',\n",
       " 'DPH2',\n",
       " 'ATP6V0B',\n",
       " 'B4GALT2',\n",
       " 'CCDC24',\n",
       " 'DMAP1',\n",
       " 'ERI3',\n",
       " 'RNF220',\n",
       " 'TMEM53',\n",
       " 'ARMH1',\n",
       " 'KIF2C',\n",
       " 'AL592166.1',\n",
       " 'RPS8',\n",
       " 'BEST4',\n",
       " 'PLK3',\n",
       " 'TCTEX1D4',\n",
       " 'BTBD19',\n",
       " 'PTCH2',\n",
       " 'EIF2B3',\n",
       " 'HECTD3',\n",
       " 'UROD',\n",
       " 'ZSWIM5',\n",
       " 'LINC01144',\n",
       " 'HPDL',\n",
       " 'MUTYH',\n",
       " 'TOE1',\n",
       " 'TESK2',\n",
       " 'CCDC163',\n",
       " 'MMACHC',\n",
       " 'PRDX1',\n",
       " 'AKR1A1',\n",
       " 'NASP',\n",
       " 'CCDC17',\n",
       " 'GPBP1L1',\n",
       " 'TMEM69',\n",
       " 'IPP',\n",
       " 'MAST2',\n",
       " 'PIK3R3',\n",
       " 'POMGNT1',\n",
       " 'LURAP1',\n",
       " 'LRRC41',\n",
       " 'UQCRH',\n",
       " 'NSUN4',\n",
       " 'FAAH',\n",
       " 'MKNK1',\n",
       " 'MOB3C',\n",
       " 'ATPAF1',\n",
       " 'EFCAB14',\n",
       " 'LINC00853',\n",
       " 'PDZK1IP1',\n",
       " 'TAL1',\n",
       " 'STIL',\n",
       " 'CMPK1',\n",
       " 'FOXD2-AS1',\n",
       " 'FOXD2',\n",
       " 'SLC5A9',\n",
       " 'AL109659.2',\n",
       " 'SPATA6',\n",
       " 'BEND5',\n",
       " 'FAF1',\n",
       " 'CDKN2C',\n",
       " 'RNF11',\n",
       " 'TTC39A',\n",
       " 'EPS15',\n",
       " 'AC104170.1',\n",
       " 'OSBPL9',\n",
       " 'NRDC',\n",
       " 'AL050343.1',\n",
       " 'AL050343.2',\n",
       " 'RAB3B',\n",
       " 'TXNDC12',\n",
       " 'KTI12',\n",
       " 'BTF3L4',\n",
       " 'ZFYVE9',\n",
       " 'CC2D1B',\n",
       " 'ORC1',\n",
       " 'PRPF38A',\n",
       " 'TUT4',\n",
       " 'GPX7',\n",
       " 'SHISAL2A',\n",
       " 'COA7',\n",
       " 'ZYG11B',\n",
       " 'ECHDC2',\n",
       " 'SCP2',\n",
       " 'PODN',\n",
       " 'SLC1A7',\n",
       " 'CPT2',\n",
       " 'AL606760.2',\n",
       " 'C1orf123',\n",
       " 'AL606760.3',\n",
       " 'MAGOH',\n",
       " 'AL606760.1',\n",
       " 'LRP8',\n",
       " 'LINC01771',\n",
       " 'AC119428.2',\n",
       " 'NDC1',\n",
       " 'YIPF1',\n",
       " 'HSPB11',\n",
       " 'LRRC42',\n",
       " 'TMEM59',\n",
       " 'TCEANC2',\n",
       " 'CYB5RL',\n",
       " 'MRPL37',\n",
       " 'SSBP3',\n",
       " 'ACOT11',\n",
       " 'TTC4',\n",
       " 'PARS2',\n",
       " 'TTC22',\n",
       " 'LEXM',\n",
       " 'DHCR24',\n",
       " 'USP24',\n",
       " 'MIR4422HG',\n",
       " 'PLPP3',\n",
       " 'DAB1',\n",
       " 'OMA1',\n",
       " 'MYSM1',\n",
       " 'JUN',\n",
       " 'LINC01358',\n",
       " 'FGGY',\n",
       " 'HOOK1',\n",
       " 'CYP2J2',\n",
       " 'NFIA',\n",
       " 'TM2D1',\n",
       " 'AC099791.2',\n",
       " 'PATJ',\n",
       " 'L1TD1',\n",
       " 'USP1',\n",
       " 'DOCK7',\n",
       " 'ATG4C',\n",
       " 'ALG6',\n",
       " 'ITGB3BP',\n",
       " 'EFCAB7',\n",
       " 'PGM1',\n",
       " 'CACHD1',\n",
       " 'RAVER2',\n",
       " 'JAK1',\n",
       " 'AL357078.1',\n",
       " 'AK4',\n",
       " 'DNAJC6',\n",
       " 'LEPROT',\n",
       " 'LEPR',\n",
       " 'PDE4B',\n",
       " 'WDR78',\n",
       " 'MIER1',\n",
       " 'SLC35D1',\n",
       " 'IL23R',\n",
       " 'IL12RB2',\n",
       " 'SERBP1',\n",
       " 'GADD45A',\n",
       " 'WLS',\n",
       " 'DEPDC1',\n",
       " 'LRRC7',\n",
       " 'LRRC40',\n",
       " 'SRSF11',\n",
       " 'ANKRD13C',\n",
       " 'HHLA3',\n",
       " 'CTH',\n",
       " 'ZRANB2-AS1',\n",
       " 'ZRANB2',\n",
       " 'NEGR1',\n",
       " 'LRRIQ3',\n",
       " 'FPGT',\n",
       " 'FPGT-TNNI3K',\n",
       " 'AC093158.1',\n",
       " 'AC135803.1',\n",
       " 'CRYZ',\n",
       " 'TYW3',\n",
       " 'ACADM',\n",
       " 'RABGGTB',\n",
       " 'ST6GALNAC3',\n",
       " 'PIGK',\n",
       " 'AK5',\n",
       " 'AC118549.1',\n",
       " 'USP33',\n",
       " 'MIGA1',\n",
       " 'NEXN-AS1',\n",
       " 'NEXN',\n",
       " 'FUBP1',\n",
       " 'DNAJB4',\n",
       " 'AC103591.3',\n",
       " 'IFI44L',\n",
       " 'IFI44',\n",
       " 'LINC01781',\n",
       " 'LINC01725',\n",
       " 'TTLL7',\n",
       " 'AL359504.2',\n",
       " 'PRKACB',\n",
       " 'SAMD13',\n",
       " 'RPF1',\n",
       " 'GNG5',\n",
       " 'SPATA1',\n",
       " 'CTBS',\n",
       " 'SSX2IP',\n",
       " 'MCOLN2',\n",
       " 'WDR63',\n",
       " 'MCOLN3',\n",
       " 'SYDE2',\n",
       " 'C1orf52',\n",
       " 'BCL10',\n",
       " 'ZNHIT6',\n",
       " 'COL24A1',\n",
       " 'AL136382.1',\n",
       " 'ODF2L',\n",
       " 'AL049597.2',\n",
       " 'SH3GLB1',\n",
       " 'SELENOF',\n",
       " 'HS2ST1',\n",
       " 'LMO4',\n",
       " 'PKN2-AS1',\n",
       " 'PKN2',\n",
       " 'GTF2B',\n",
       " 'KYAT3',\n",
       " 'RBMXL1',\n",
       " 'GBP3',\n",
       " 'GBP1',\n",
       " 'GBP2',\n",
       " 'GBP7',\n",
       " 'GBP4',\n",
       " 'AC099063.4',\n",
       " 'GBP5',\n",
       " 'LRRC8B',\n",
       " 'LRRC8C-DT',\n",
       " 'LRRC8C',\n",
       " 'AC099568.2',\n",
       " 'LRRC8D',\n",
       " 'ZNF326',\n",
       " 'ZNF644',\n",
       " 'CDC7',\n",
       " 'TGFBR3',\n",
       " 'EPHX4',\n",
       " 'BTBD8',\n",
       " 'GLMN',\n",
       " 'RPAP2',\n",
       " 'GFI1',\n",
       " 'EVI5',\n",
       " 'RPL5',\n",
       " 'FAM69A',\n",
       " 'MTF2',\n",
       " 'TMED5',\n",
       " 'CCDC18',\n",
       " 'DR1',\n",
       " 'FNBP1L',\n",
       " 'DNTTIP2',\n",
       " 'GCLM',\n",
       " 'ARHGAP29',\n",
       " 'ABCD3',\n",
       " 'CNN3',\n",
       " 'ALG14',\n",
       " 'TMEM56',\n",
       " 'RWDD3',\n",
       " 'PTBP2',\n",
       " 'DPYD',\n",
       " 'DPYD-AS1',\n",
       " 'SNX7',\n",
       " 'FRRS1',\n",
       " 'AGL',\n",
       " 'AC118553.1',\n",
       " 'SLC35A3',\n",
       " 'AC118553.2',\n",
       " 'MFSD14A',\n",
       " 'SASS6',\n",
       " 'TRMT13',\n",
       " 'LRRC39',\n",
       " 'DBT',\n",
       " 'RTCA-AS1',\n",
       " 'RTCA',\n",
       " 'CDC14A',\n",
       " 'EXTL2',\n",
       " 'AC104506.1',\n",
       " 'SLC30A7',\n",
       " 'DPH5',\n",
       " 'AC093157.2',\n",
       " 'AC093157.1',\n",
       " 'AL109741.1',\n",
       " 'S1PR1',\n",
       " 'RNPC3',\n",
       " 'AMY2B',\n",
       " 'PRMT6',\n",
       " 'NTNG1',\n",
       " 'VAV3',\n",
       " 'VAV3-AS1',\n",
       " 'AL390036.1',\n",
       " 'SLC25A24',\n",
       " 'AL359258.2',\n",
       " 'FAM102B',\n",
       " 'HENMT1',\n",
       " 'PRPF38B',\n",
       " 'STXBP3',\n",
       " 'GPSM2',\n",
       " 'CLCC1',\n",
       " 'WDR47',\n",
       " 'TAF13',\n",
       " 'AL356488.3',\n",
       " 'TMEM167B',\n",
       " 'AL356488.2',\n",
       " 'KIAA1324',\n",
       " 'SARS',\n",
       " 'CELSR2',\n",
       " 'PSRC1',\n",
       " 'SORT1',\n",
       " 'PSMA5',\n",
       " 'ATXN7L2',\n",
       " 'CYB561D1',\n",
       " 'AMIGO1',\n",
       " 'GNAI3',\n",
       " 'AMPD2',\n",
       " 'GSTM4',\n",
       " 'GSTM2',\n",
       " 'GSTM3',\n",
       " 'CSF1',\n",
       " 'AHCYL1',\n",
       " 'STRIP1',\n",
       " 'AL160006.1',\n",
       " 'ALX3',\n",
       " 'KCNC4',\n",
       " 'RBM15-AS1',\n",
       " 'RBM15',\n",
       " 'SLC16A4',\n",
       " 'AL355488.1',\n",
       " 'LAMTOR5',\n",
       " 'KCNA2',\n",
       " 'AL365361.1',\n",
       " 'KCNA3',\n",
       " 'CD53',\n",
       " 'AL360270.1',\n",
       " 'LRIF1',\n",
       " 'AL360270.3',\n",
       " 'DRAM2',\n",
       " 'CEPT1',\n",
       " 'AL355816.2',\n",
       " 'DENND2D',\n",
       " 'CHI3L2',\n",
       " 'OVGP1',\n",
       " 'WDR77',\n",
       " 'ATP5PB',\n",
       " 'C1orf162',\n",
       " 'TMIGD3',\n",
       " 'ADORA3',\n",
       " 'RAP1A',\n",
       " 'DDX20',\n",
       " 'KCND3',\n",
       " 'CTTNBP2NL',\n",
       " 'WNT2B',\n",
       " 'ST7L',\n",
       " 'CAPZA1',\n",
       " 'MOV10',\n",
       " 'RHOC',\n",
       " 'PPM1J',\n",
       " 'SLC16A1',\n",
       " 'SLC16A1-AS1',\n",
       " 'AL357055.3',\n",
       " 'LRIG2',\n",
       " 'MAGI3',\n",
       " 'PHTF1',\n",
       " 'RSBN1',\n",
       " 'PTPN22',\n",
       " 'AP4B1-AS1',\n",
       " 'BCL2L15',\n",
       " 'AP4B1',\n",
       " 'DCLRE1B',\n",
       " 'HIPK1-AS1',\n",
       " 'HIPK1',\n",
       " 'TRIM33',\n",
       " 'BCAS2',\n",
       " 'DENND2C',\n",
       " 'NRAS',\n",
       " 'CSDE1',\n",
       " 'SIKE1',\n",
       " 'TSPAN2',\n",
       " 'LINC01765',\n",
       " 'VANGL1',\n",
       " 'SLC22A15',\n",
       " 'ATP1A1',\n",
       " 'CD58',\n",
       " 'CD2',\n",
       " 'PTGFRN',\n",
       " 'CD101',\n",
       " 'TTF2',\n",
       " 'AL358072.1',\n",
       " 'MAN1A2',\n",
       " 'TENT5C',\n",
       " 'GDAP2',\n",
       " 'WDR3',\n",
       " 'WARS2',\n",
       " 'AL359915.2',\n",
       " 'ZNF697',\n",
       " 'PHGDH',\n",
       " 'REG4',\n",
       " 'NOTCH2',\n",
       " 'SEC22B',\n",
       " 'NBPF26',\n",
       " 'LINC00623',\n",
       " 'FCGR1B',\n",
       " 'FAM72B',\n",
       " 'SRGAP2C',\n",
       " 'AL592494.3',\n",
       " 'AC239800.2',\n",
       " 'AC239800.3',\n",
       " 'AC245595.1',\n",
       " 'AC246785.3',\n",
       " 'NBPF15',\n",
       " 'FP700111.1',\n",
       " 'SRGAP2B',\n",
       " 'FAM72D',\n",
       " 'AC245014.3',\n",
       " 'AC245014.1',\n",
       " 'NBPF20',\n",
       " 'GPR89A',\n",
       " 'PDZK1',\n",
       " 'CD160',\n",
       " 'RNF115',\n",
       " 'POLR3C',\n",
       " 'NUDT17',\n",
       " 'PIAS3',\n",
       " 'ANKRD35',\n",
       " 'ITGA10',\n",
       " 'PEX11B',\n",
       " 'RBM8A',\n",
       " 'LIX1L-AS1',\n",
       " 'LIX1L',\n",
       " 'ANKRD34A',\n",
       " 'POLR3GL',\n",
       " 'TXNIP',\n",
       " 'NBPF10',\n",
       " 'NOTCH2NL',\n",
       " 'AC239799.2',\n",
       " 'NBPF12',\n",
       " 'PRKAB2',\n",
       " 'AC242426.2',\n",
       " 'FMO5',\n",
       " 'CHD1L',\n",
       " 'LINC00624',\n",
       " 'BCL9',\n",
       " 'ACP6',\n",
       " 'GPR89B',\n",
       " 'AC239803.2',\n",
       " 'NBPF11',\n",
       " 'AC245100.7',\n",
       " 'PPIAL4G',\n",
       " 'NBPF14',\n",
       " 'NUDT4B',\n",
       " 'PDE4DIP',\n",
       " 'NBPF9',\n",
       " 'AC245297.3',\n",
       " 'AC245297.2',\n",
       " 'NBPF19',\n",
       " 'FCGR1A',\n",
       " 'HIST2H2BF',\n",
       " 'HIST2H3D',\n",
       " 'HIST2H4A',\n",
       " 'AC239868.3',\n",
       " 'HIST2H4B',\n",
       " 'AC239868.2',\n",
       " 'HIST2H2BE',\n",
       " 'HIST2H2AC',\n",
       " 'HIST2H2AB',\n",
       " 'BOLA1',\n",
       " 'SV2A',\n",
       " 'SF3B4',\n",
       " 'MTMR11',\n",
       " 'OTUD7B',\n",
       " 'VPS45',\n",
       " 'PLEKHO1',\n",
       " 'ANP32E',\n",
       " 'APH1A',\n",
       " 'C1orf54',\n",
       " 'CIART',\n",
       " 'MRPS21',\n",
       " 'PRPF3',\n",
       " 'RPRD2',\n",
       " 'TARS2',\n",
       " 'ECM1',\n",
       " 'FALEC',\n",
       " 'AL356356.1',\n",
       " 'ADAMTSL4',\n",
       " 'MCL1',\n",
       " 'ENSA',\n",
       " 'GOLPH3L',\n",
       " 'HORMAD1',\n",
       " 'CTSS',\n",
       " 'CTSK',\n",
       " 'ARNT',\n",
       " 'SETDB1',\n",
       " 'CERS2',\n",
       " 'MINDY1',\n",
       " 'PRUNE1',\n",
       " 'BNIPL',\n",
       " 'C1orf56',\n",
       " 'CDC42SE1',\n",
       " ...]"
      ]
     },
     "execution_count": 23,
     "metadata": {},
     "output_type": "execute_result"
    }
   ],
   "source": [
    "class Gene():\n",
    "    def __init__(self, n, i, r, p):\n",
    "        self.name = n\n",
    "        self.idx = i\n",
    "        self.r = r\n",
    "        self.rabs = abs(r)\n",
    "        self.p = p\n",
    "\n",
    "for (i,g) in enumerate(svobj.geneNames):\n",
    "    if (svobj.pearsonsThreshold <= abs(svobj.results_proj_correlation.at[g, 'R'])) and (svobj.results_proj_correlation.at[g, 'P'] <= svobj.pvalueThreshold):\n",
    "        if g == 'MS4A1':\n",
    "            print('')\n",
    "        \n",
    "        \n",
    "        gene = Gene(g, i, rs[i], ps[i])\n",
    "        svobj.sortedGenes.append(gene)\n",
    "\n",
    "self.sortedGenes.sort(key=lambda x: x.r, reverse=True)"
   ]
  },
  {
   "cell_type": "code",
   "execution_count": null,
   "id": "bf5506ad",
   "metadata": {},
   "outputs": [],
   "source": []
  },
  {
   "cell_type": "code",
   "execution_count": null,
   "id": "2204aa89",
   "metadata": {},
   "outputs": [],
   "source": []
  },
  {
   "cell_type": "code",
   "execution_count": null,
   "id": "615986b0",
   "metadata": {},
   "outputs": [],
   "source": []
  },
  {
   "cell_type": "code",
   "execution_count": null,
   "id": "b15bc8b8",
   "metadata": {},
   "outputs": [],
   "source": []
  },
  {
   "cell_type": "code",
   "execution_count": 20,
   "id": "786b8735",
   "metadata": {},
   "outputs": [
    {
     "name": "stdout",
     "output_type": "stream",
     "text": [
      "3174\n"
     ]
    },
    {
     "data": {
      "text/plain": [
       "('MS4A1', 8497, -0.6758202446237773, 0.0)"
      ]
     },
     "execution_count": 20,
     "metadata": {},
     "output_type": "execute_result"
    }
   ],
   "source": [
    "i = 0\n",
    "\n",
    "for i in range(len(svobj.sortedGenes)):\n",
    "    if svobj.sortedGenes[i].name == 'MS4A1':\n",
    "        print(i)\n",
    "        break\n",
    "    \n",
    "\n",
    "svobj.sortedGenes[i].name, svobj.sortedGenes[i].idx, svobj.sortedGenes[i].r, svobj.sortedGenes[i].p"
   ]
  },
  {
   "cell_type": "code",
   "execution_count": 25,
   "id": "5b7a2e58",
   "metadata": {},
   "outputs": [
    {
     "data": {
      "text/plain": [
       "(0.7883478498202883, 0.0)"
      ]
     },
     "execution_count": 25,
     "metadata": {},
     "output_type": "execute_result"
    },
    {
     "name": "stdout",
     "output_type": "stream",
     "text": [
      "Selected gene TANGO6\n",
      "Min/max expression level for gene TANGO6 0.0 2.0086\n",
      "0.3911468982696533 seconds to select and project cells\n",
      "to\n",
      "Selected 750 cells\n",
      "Calculating correlations...\n",
      "1.1669340133666992 seconds to calculate correlations. Sparsity:  True\n",
      "Selected gene EHHADH\n",
      "Min/max expression level for gene EHHADH 0.0 1.9731\n",
      "Selected gene PPP2R5C\n",
      "Min/max expression level for gene PPP2R5C 0.0 3.4131\n",
      "Selected gene DNM3\n",
      "Min/max expression level for gene DNM3 0.0 3.0198\n",
      "0.9384839534759521 seconds to select and project cells\n",
      "Selected 5721 cells\n",
      "Calculating differential expression...\n",
      "0.12740206718444824 seconds to calculate genesums. Sparsity:  True\n",
      "6.167443037033081 seconds to calculate squared genesums. Sparsity:  True\n",
      "13.277081966400146 seconds to calculate differential expression. Sparsity:  True\n",
      "Selected gene NKG7\n",
      "Min/max expression level for gene NKG7 0.0 5.1014\n",
      "Selected gene GNLY\n",
      "Min/max expression level for gene GNLY 0.0 6.165\n",
      "Selected gene KLRD1\n",
      "Min/max expression level for gene KLRD1 0.0 4.0275\n",
      "1.401987075805664 seconds to select and project cells\n",
      "to\n",
      "Selected 9846 cells\n",
      "Calculating correlations...\n",
      "3.5800788402557373 seconds to calculate correlations. Sparsity:  True\n",
      "Selected gene ZNF420\n",
      "Min/max expression level for gene ZNF420 0.0 1.9857\n",
      "EXPORTING DATA...\n",
      "BYE\n",
      "EXPORTING DATA...\n",
      "BYE\n",
      "EXPORTING DATA...\n",
      "BYE\n",
      "EXPORTING DATA...\n",
      "BYE\n",
      "EXPORTING DATA...\n",
      "BYE\n",
      "EXPORTING DATA...\n",
      "BYE\n",
      "EXPORTING DATA...\n",
      "BYE\n"
     ]
    }
   ],
   "source": [
    "genes_array = np.array(genes)\n",
    "ind = svobj.renderer.indices\n",
    "x = np.array(expr_sparse[ind,genes_array=='RPL13']).reshape(-1)\n",
    "vproj = []\n",
    "for i in ind:\n",
    "    vproj.append(svobj.cells[i].proj)     \n",
    "vproj = np.array(vproj)\n",
    "\n",
    "from scipy.stats import pearsonr\n",
    "\n",
    "pearsonr(x, vproj)"
   ]
  },
  {
   "cell_type": "code",
   "execution_count": null,
   "id": "0474e272",
   "metadata": {},
   "outputs": [],
   "source": []
  },
  {
   "cell_type": "code",
   "execution_count": null,
   "id": "00d0f397",
   "metadata": {},
   "outputs": [],
   "source": []
  },
  {
   "cell_type": "code",
   "execution_count": 35,
   "id": "0f8cf52e",
   "metadata": {},
   "outputs": [
    {
     "ename": "IndexError",
     "evalue": "index 20671522 out-of-bounds in add.reduceat [0, 20671522)",
     "output_type": "error",
     "traceback": [
      "\u001b[0;31m---------------------------------------------------------------------------\u001b[0m",
      "\u001b[0;31mIndexError\u001b[0m                                Traceback (most recent call last)",
      "\u001b[0;32m<ipython-input-35-eb9889a03adc>\u001b[0m in \u001b[0;36m<module>\u001b[0;34m\u001b[0m\n\u001b[1;32m     19\u001b[0m \u001b[0mxm\u001b[0m \u001b[0;34m=\u001b[0m \u001b[0mx\u001b[0m\u001b[0;34m.\u001b[0m\u001b[0mmean\u001b[0m\u001b[0;34m(\u001b[0m\u001b[0maxis\u001b[0m\u001b[0;34m=\u001b[0m\u001b[0;36m0\u001b[0m\u001b[0;34m)\u001b[0m\u001b[0;34m.\u001b[0m\u001b[0mA\u001b[0m\u001b[0;34m.\u001b[0m\u001b[0mravel\u001b[0m\u001b[0;34m(\u001b[0m\u001b[0;34m)\u001b[0m\u001b[0;34m\u001b[0m\u001b[0;34m\u001b[0m\u001b[0m\n\u001b[1;32m     20\u001b[0m \u001b[0mys\u001b[0m \u001b[0;34m=\u001b[0m \u001b[0myy\u001b[0m \u001b[0;34m/\u001b[0m \u001b[0mnp\u001b[0m\u001b[0;34m.\u001b[0m\u001b[0msqrt\u001b[0m\u001b[0;34m(\u001b[0m\u001b[0mnp\u001b[0m\u001b[0;34m.\u001b[0m\u001b[0mdot\u001b[0m\u001b[0;34m(\u001b[0m\u001b[0myy\u001b[0m\u001b[0;34m,\u001b[0m \u001b[0myy\u001b[0m\u001b[0;34m)\u001b[0m\u001b[0;34m)\u001b[0m\u001b[0;34m\u001b[0m\u001b[0;34m\u001b[0m\u001b[0m\n\u001b[0;32m---> 21\u001b[0;31m \u001b[0mxs\u001b[0m \u001b[0;34m=\u001b[0m \u001b[0mnp\u001b[0m\u001b[0;34m.\u001b[0m\u001b[0msqrt\u001b[0m\u001b[0;34m(\u001b[0m\u001b[0mnp\u001b[0m\u001b[0;34m.\u001b[0m\u001b[0madd\u001b[0m\u001b[0;34m.\u001b[0m\u001b[0mreduceat\u001b[0m\u001b[0;34m(\u001b[0m\u001b[0mx\u001b[0m\u001b[0;34m.\u001b[0m\u001b[0mdata\u001b[0m\u001b[0;34m**\u001b[0m\u001b[0;36m2\u001b[0m\u001b[0;34m,\u001b[0m \u001b[0mx\u001b[0m\u001b[0;34m.\u001b[0m\u001b[0mindptr\u001b[0m\u001b[0;34m[\u001b[0m\u001b[0;34m:\u001b[0m\u001b[0;34m-\u001b[0m\u001b[0;36m1\u001b[0m\u001b[0;34m]\u001b[0m\u001b[0;34m)\u001b[0m \u001b[0;34m-\u001b[0m \u001b[0mnrow\u001b[0m\u001b[0;34m*\u001b[0m\u001b[0mxm\u001b[0m\u001b[0;34m*\u001b[0m\u001b[0mxm\u001b[0m\u001b[0;34m)\u001b[0m\u001b[0;34m\u001b[0m\u001b[0;34m\u001b[0m\u001b[0m\n\u001b[0m\u001b[1;32m     22\u001b[0m \u001b[0mcorrel2\u001b[0m \u001b[0;34m=\u001b[0m \u001b[0mnp\u001b[0m\u001b[0;34m.\u001b[0m\u001b[0madd\u001b[0m\u001b[0;34m.\u001b[0m\u001b[0mreduceat\u001b[0m\u001b[0;34m(\u001b[0m\u001b[0mx\u001b[0m\u001b[0;34m.\u001b[0m\u001b[0mdata\u001b[0m \u001b[0;34m*\u001b[0m \u001b[0mys\u001b[0m\u001b[0;34m[\u001b[0m\u001b[0mx\u001b[0m\u001b[0;34m.\u001b[0m\u001b[0mindices\u001b[0m\u001b[0;34m]\u001b[0m\u001b[0;34m,\u001b[0m \u001b[0mx\u001b[0m\u001b[0;34m.\u001b[0m\u001b[0mindptr\u001b[0m\u001b[0;34m[\u001b[0m\u001b[0;34m:\u001b[0m\u001b[0;34m-\u001b[0m\u001b[0;36m1\u001b[0m\u001b[0;34m]\u001b[0m\u001b[0;34m)\u001b[0m \u001b[0;34m/\u001b[0m \u001b[0mxs\u001b[0m\u001b[0;34m\u001b[0m\u001b[0;34m\u001b[0m\u001b[0m\n",
      "\u001b[0;31mIndexError\u001b[0m: index 20671522 out-of-bounds in add.reduceat [0, 20671522)"
     ]
    }
   ],
   "source": [
    "sortedGenes = []\n",
    "vproj = []\n",
    "indices = svobj.renderer.indices\n",
    "for i in indices:\n",
    "    vproj.append(svobj.cells[i].proj)\n",
    "\n",
    "dexpr = svobj.expr[indices, :]\n",
    "        \n",
    "vproj = np.array(vproj)\n",
    "\n",
    "\n",
    "\n",
    "y = vproj\n",
    "x = dexpr\n",
    "nrow = vproj.size\n",
    "\n",
    "\n",
    "yy = y - y.mean()\n",
    "xm = x.mean(axis=0).A.ravel()\n",
    "ys = yy / np.sqrt(np.dot(yy, yy))\n",
    "xs = np.sqrt(np.add.reduceat(x.data**2, x.indptr[:-1]) - nrow*xm*xm)\n",
    "correl2 = np.add.reduceat(x.data * ys[x.indices], x.indptr[:-1]) / xs"
   ]
  },
  {
   "cell_type": "code",
   "execution_count": 43,
   "id": "b5cd8889",
   "metadata": {},
   "outputs": [
    {
     "ename": "IndexError",
     "evalue": "index 20671522 out-of-bounds in add.reduceat [0, 20671522)",
     "output_type": "error",
     "traceback": [
      "\u001b[0;31m---------------------------------------------------------------------------\u001b[0m",
      "\u001b[0;31mIndexError\u001b[0m                                Traceback (most recent call last)",
      "\u001b[0;32m<ipython-input-43-19d17c52a3f5>\u001b[0m in \u001b[0;36m<module>\u001b[0;34m\u001b[0m\n\u001b[1;32m      9\u001b[0m \u001b[0mxm\u001b[0m \u001b[0;34m=\u001b[0m \u001b[0mx\u001b[0m\u001b[0;34m.\u001b[0m\u001b[0mmean\u001b[0m\u001b[0;34m(\u001b[0m\u001b[0maxis\u001b[0m\u001b[0;34m=\u001b[0m\u001b[0;36m0\u001b[0m\u001b[0;34m)\u001b[0m\u001b[0;34m.\u001b[0m\u001b[0mA\u001b[0m\u001b[0;34m.\u001b[0m\u001b[0mravel\u001b[0m\u001b[0;34m(\u001b[0m\u001b[0;34m)\u001b[0m\u001b[0;34m\u001b[0m\u001b[0;34m\u001b[0m\u001b[0m\n\u001b[1;32m     10\u001b[0m \u001b[0mys\u001b[0m \u001b[0;34m=\u001b[0m \u001b[0myy\u001b[0m \u001b[0;34m/\u001b[0m \u001b[0mnp\u001b[0m\u001b[0;34m.\u001b[0m\u001b[0msqrt\u001b[0m\u001b[0;34m(\u001b[0m\u001b[0mnp\u001b[0m\u001b[0;34m.\u001b[0m\u001b[0mdot\u001b[0m\u001b[0;34m(\u001b[0m\u001b[0myy\u001b[0m\u001b[0;34m,\u001b[0m \u001b[0myy\u001b[0m\u001b[0;34m)\u001b[0m\u001b[0;34m)\u001b[0m\u001b[0;34m\u001b[0m\u001b[0;34m\u001b[0m\u001b[0m\n\u001b[0;32m---> 11\u001b[0;31m \u001b[0mxs\u001b[0m \u001b[0;34m=\u001b[0m \u001b[0mnp\u001b[0m\u001b[0;34m.\u001b[0m\u001b[0msqrt\u001b[0m\u001b[0;34m(\u001b[0m\u001b[0mnp\u001b[0m\u001b[0;34m.\u001b[0m\u001b[0madd\u001b[0m\u001b[0;34m.\u001b[0m\u001b[0mreduceat\u001b[0m\u001b[0;34m(\u001b[0m\u001b[0mx\u001b[0m\u001b[0;34m.\u001b[0m\u001b[0mdata\u001b[0m\u001b[0;34m**\u001b[0m\u001b[0;36m2\u001b[0m\u001b[0;34m,\u001b[0m \u001b[0mx\u001b[0m\u001b[0;34m.\u001b[0m\u001b[0mindptr\u001b[0m\u001b[0;34m[\u001b[0m\u001b[0;34m:\u001b[0m\u001b[0;34m-\u001b[0m\u001b[0;36m1\u001b[0m\u001b[0;34m]\u001b[0m\u001b[0;34m)\u001b[0m \u001b[0;34m-\u001b[0m \u001b[0mnrow\u001b[0m\u001b[0;34m*\u001b[0m\u001b[0mxm\u001b[0m\u001b[0;34m*\u001b[0m\u001b[0mxm\u001b[0m\u001b[0;34m)\u001b[0m\u001b[0;34m\u001b[0m\u001b[0;34m\u001b[0m\u001b[0m\n\u001b[0m\u001b[1;32m     12\u001b[0m \u001b[0mcorrel2\u001b[0m \u001b[0;34m=\u001b[0m \u001b[0mnp\u001b[0m\u001b[0;34m.\u001b[0m\u001b[0madd\u001b[0m\u001b[0;34m.\u001b[0m\u001b[0mreduceat\u001b[0m\u001b[0;34m(\u001b[0m\u001b[0mx\u001b[0m\u001b[0;34m.\u001b[0m\u001b[0mdata\u001b[0m \u001b[0;34m*\u001b[0m \u001b[0mys\u001b[0m\u001b[0;34m[\u001b[0m\u001b[0mx\u001b[0m\u001b[0;34m.\u001b[0m\u001b[0mindices\u001b[0m\u001b[0;34m]\u001b[0m\u001b[0;34m,\u001b[0m \u001b[0mx\u001b[0m\u001b[0;34m.\u001b[0m\u001b[0mindptr\u001b[0m\u001b[0;34m[\u001b[0m\u001b[0;34m:\u001b[0m\u001b[0;34m-\u001b[0m\u001b[0;36m1\u001b[0m\u001b[0;34m]\u001b[0m\u001b[0;34m)\u001b[0m \u001b[0;34m/\u001b[0m \u001b[0mxs\u001b[0m\u001b[0;34m\u001b[0m\u001b[0;34m\u001b[0m\u001b[0m\n",
      "\u001b[0;31mIndexError\u001b[0m: index 20671522 out-of-bounds in add.reduceat [0, 20671522)"
     ]
    }
   ],
   "source": [
    "indices = svobj.renderer.indices\n",
    "c = 1000\n",
    "\n",
    "y = np.array(expr_sparse[indices,c].todense()).reshape(-1)\n",
    "x = expr_sparse[indices, :]\n",
    "nrow = x.shape[0]\n",
    "\n",
    "yy = y - y.mean()\n",
    "xm = x.mean(axis=0).A.ravel()\n",
    "ys = yy / np.sqrt(np.dot(yy, yy))\n",
    "xs = np.sqrt(np.add.reduceat(x.data**2, x.indptr[:-1]) - nrow*xm*xm)\n",
    "correl2 = np.add.reduceat(x.data * ys[x.indices], x.indptr[:-1]) / xs\n"
   ]
  },
  {
   "cell_type": "code",
   "execution_count": 44,
   "id": "c87b96f8",
   "metadata": {},
   "outputs": [
    {
     "data": {
      "text/plain": [
       "array([0.     , 0.     , 1.0038 , ..., 0.     , 0.81372, 0.     ])"
      ]
     },
     "execution_count": 44,
     "metadata": {},
     "output_type": "execute_result"
    }
   ],
   "source": [
    "y"
   ]
  },
  {
   "cell_type": "code",
   "execution_count": 45,
   "id": "7464be63",
   "metadata": {},
   "outputs": [
    {
     "data": {
      "text/plain": [
       "(12073,)"
      ]
     },
     "execution_count": 45,
     "metadata": {},
     "output_type": "execute_result"
    }
   ],
   "source": [
    "y.shape"
   ]
  },
  {
   "cell_type": "code",
   "execution_count": 46,
   "id": "65f3f767",
   "metadata": {},
   "outputs": [
    {
     "data": {
      "text/plain": [
       "<12073x20729 sparse matrix of type '<class 'numpy.float64'>'\n",
       "\twith 20671522 stored elements in Compressed Sparse Column format>"
      ]
     },
     "execution_count": 46,
     "metadata": {},
     "output_type": "execute_result"
    }
   ],
   "source": [
    "x"
   ]
  },
  {
   "cell_type": "code",
   "execution_count": 100,
   "id": "f4170073",
   "metadata": {},
   "outputs": [],
   "source": [
    "f1 = 0\n",
    "t1 = expr_sparse.shape[1]\n",
    "\n",
    "#f1 = 19127\n",
    "#t1 = expr_sparse.shape[1]\n",
    "\n",
    "c = 1000\n",
    "nrow = x.shape[0]\n",
    "num_indices = 1000\n",
    "#indices = np.random.choice(nrow, size=num_indices)\n",
    "indices = svobj.renderer.indices\n",
    "\n",
    "y_new = np.array(expr_sparse[indices,c].todense()).reshape(-1)\n",
    "x_new = expr_sparse[indices, f1:t1]\n",
    "\n",
    "tokeep = np.array(x_new.sum(axis=0)!=0).reshape(-1)\n",
    "x_new = x_new[:, tokeep]\n",
    "\n",
    "yy_new = y_new - y_new.mean()\n",
    "xm_new = x_new.mean(axis=0).A.ravel()\n",
    "ys_new = yy_new / np.sqrt(np.dot(yy_new, yy_new))\n",
    "xs_new = np.sqrt(np.add.reduceat(x_new.data**2, x_new.indptr[:-1]) - nrow*xm_new*xm_new)\n",
    "correl_new = np.add.reduceat(x_new.data * ys_new[x_new.indices], x_new.indptr[:-1]) / xs_new"
   ]
  },
  {
   "cell_type": "code",
   "execution_count": 99,
   "id": "6238b3a3",
   "metadata": {},
   "outputs": [
    {
     "ename": "TypeError",
     "evalue": "only integer scalar arrays can be converted to a scalar index",
     "output_type": "error",
     "traceback": [
      "\u001b[0;31m---------------------------------------------------------------------------\u001b[0m",
      "\u001b[0;31mTypeError\u001b[0m                                 Traceback (most recent call last)",
      "\u001b[0;32m<ipython-input-99-068cb0b9e4dd>\u001b[0m in \u001b[0;36m<module>\u001b[0;34m\u001b[0m\n\u001b[0;32m----> 1\u001b[0;31m \u001b[0mnp\u001b[0m\u001b[0;34m.\u001b[0m\u001b[0mindices\u001b[0m\u001b[0;34m(\u001b[0m\u001b[0mtokeep\u001b[0m\u001b[0;34m)\u001b[0m\u001b[0;34m\u001b[0m\u001b[0;34m\u001b[0m\u001b[0m\n\u001b[0m",
      "\u001b[0;32m~/miniconda3/envs/sciviewer/lib/python3.8/site-packages/numpy/core/numeric.py\u001b[0m in \u001b[0;36mindices\u001b[0;34m(dimensions, dtype, sparse)\u001b[0m\n\u001b[1;32m   1775\u001b[0m         \u001b[0mres\u001b[0m \u001b[0;34m=\u001b[0m \u001b[0mtuple\u001b[0m\u001b[0;34m(\u001b[0m\u001b[0;34m)\u001b[0m\u001b[0;34m\u001b[0m\u001b[0;34m\u001b[0m\u001b[0m\n\u001b[1;32m   1776\u001b[0m     \u001b[0;32melse\u001b[0m\u001b[0;34m:\u001b[0m\u001b[0;34m\u001b[0m\u001b[0;34m\u001b[0m\u001b[0m\n\u001b[0;32m-> 1777\u001b[0;31m         \u001b[0mres\u001b[0m \u001b[0;34m=\u001b[0m \u001b[0mempty\u001b[0m\u001b[0;34m(\u001b[0m\u001b[0;34m(\u001b[0m\u001b[0mN\u001b[0m\u001b[0;34m,\u001b[0m\u001b[0;34m)\u001b[0m\u001b[0;34m+\u001b[0m\u001b[0mdimensions\u001b[0m\u001b[0;34m,\u001b[0m \u001b[0mdtype\u001b[0m\u001b[0;34m=\u001b[0m\u001b[0mdtype\u001b[0m\u001b[0;34m)\u001b[0m\u001b[0;34m\u001b[0m\u001b[0;34m\u001b[0m\u001b[0m\n\u001b[0m\u001b[1;32m   1778\u001b[0m     \u001b[0;32mfor\u001b[0m \u001b[0mi\u001b[0m\u001b[0;34m,\u001b[0m \u001b[0mdim\u001b[0m \u001b[0;32min\u001b[0m \u001b[0menumerate\u001b[0m\u001b[0;34m(\u001b[0m\u001b[0mdimensions\u001b[0m\u001b[0;34m)\u001b[0m\u001b[0;34m:\u001b[0m\u001b[0;34m\u001b[0m\u001b[0;34m\u001b[0m\u001b[0m\n\u001b[1;32m   1779\u001b[0m         idx = arange(dim, dtype=dtype).reshape(\n",
      "\u001b[0;31mTypeError\u001b[0m: only integer scalar arrays can be converted to a scalar index"
     ]
    }
   ],
   "source": [
    "np.indices(tokeep)"
   ]
  },
  {
   "cell_type": "code",
   "execution_count": 91,
   "id": "9d13e6f3",
   "metadata": {},
   "outputs": [],
   "source": [
    "z = np.array(x_new.sum(axis=0)).reshape(-1)"
   ]
  },
  {
   "cell_type": "code",
   "execution_count": 92,
   "id": "e6f0d299",
   "metadata": {},
   "outputs": [
    {
     "data": {
      "text/plain": [
       "True     18190\n",
       "False      933\n",
       "dtype: int64"
      ]
     },
     "execution_count": 92,
     "metadata": {},
     "output_type": "execute_result"
    }
   ],
   "source": [
    "pd.Series(z>0).value_counts()"
   ]
  },
  {
   "cell_type": "code",
   "execution_count": null,
   "id": "e1494398",
   "metadata": {},
   "outputs": [],
   "source": []
  },
  {
   "cell_type": "code",
   "execution_count": null,
   "id": "64aa9aa7",
   "metadata": {},
   "outputs": [],
   "source": []
  },
  {
   "cell_type": "code",
   "execution_count": 71,
   "id": "34bdca18",
   "metadata": {},
   "outputs": [
    {
     "data": {
      "text/plain": [
       "matrix([[ 0.     ,  0.     ,  9.08906,  0.     ,  0.     ,  0.     ,\n",
       "          2.65494,  5.80211,  0.     ,  0.     ,  9.71714,  0.85561,\n",
       "          2.31432, 10.93949,  0.     ,  0.     ,  0.     ,  1.67147,\n",
       "          0.     ]])"
      ]
     },
     "execution_count": 71,
     "metadata": {},
     "output_type": "execute_result"
    }
   ],
   "source": [
    "expr_sparse[indices, 19120:19139].sum(axis=0)"
   ]
  },
  {
   "cell_type": "code",
   "execution_count": 57,
   "id": "d8a66694",
   "metadata": {},
   "outputs": [
    {
     "data": {
      "text/plain": [
       "20729"
      ]
     },
     "execution_count": 57,
     "metadata": {},
     "output_type": "execute_result"
    }
   ],
   "source": [
    "expr_sparse.shape[1]"
   ]
  },
  {
   "cell_type": "code",
   "execution_count": 52,
   "id": "664410e8",
   "metadata": {},
   "outputs": [
    {
     "data": {
      "text/plain": [
       "<12073x1000 sparse matrix of type '<class 'numpy.float64'>'\n",
       "\twith 1329673 stored elements in Compressed Sparse Column format>"
      ]
     },
     "execution_count": 52,
     "metadata": {},
     "output_type": "execute_result"
    }
   ],
   "source": [
    "x_new"
   ]
  },
  {
   "cell_type": "code",
   "execution_count": null,
   "id": "20418893",
   "metadata": {},
   "outputs": [],
   "source": []
  },
  {
   "cell_type": "code",
   "execution_count": null,
   "id": "809695df",
   "metadata": {},
   "outputs": [],
   "source": []
  },
  {
   "cell_type": "code",
   "execution_count": null,
   "id": "5ac88225",
   "metadata": {},
   "outputs": [],
   "source": []
  },
  {
   "cell_type": "code",
   "execution_count": null,
   "id": "d4d8fd5a",
   "metadata": {},
   "outputs": [],
   "source": []
  },
  {
   "cell_type": "code",
   "execution_count": null,
   "id": "b4d2cdf4",
   "metadata": {},
   "outputs": [],
   "source": []
  },
  {
   "cell_type": "code",
   "execution_count": null,
   "id": "ddf79ba0",
   "metadata": {},
   "outputs": [],
   "source": []
  },
  {
   "cell_type": "code",
   "execution_count": null,
   "id": "0ec2fa91",
   "metadata": {},
   "outputs": [],
   "source": []
  },
  {
   "cell_type": "code",
   "execution_count": 33,
   "id": "3201b64b",
   "metadata": {},
   "outputs": [
    {
     "ename": "IndexError",
     "evalue": "index 883873 out-of-bounds in add.reduceat [0, 883873)",
     "output_type": "error",
     "traceback": [
      "\u001b[0;31m---------------------------------------------------------------------------\u001b[0m",
      "\u001b[0;31mIndexError\u001b[0m                                Traceback (most recent call last)",
      "\u001b[0;32m<ipython-input-33-fc75b53b9388>\u001b[0m in \u001b[0;36m<module>\u001b[0;34m\u001b[0m\n\u001b[1;32m     16\u001b[0m     \u001b[0mxm\u001b[0m \u001b[0;34m=\u001b[0m \u001b[0mdexpr\u001b[0m\u001b[0;34m.\u001b[0m\u001b[0mmean\u001b[0m\u001b[0;34m(\u001b[0m\u001b[0maxis\u001b[0m\u001b[0;34m=\u001b[0m\u001b[0;36m0\u001b[0m\u001b[0;34m)\u001b[0m\u001b[0;34m.\u001b[0m\u001b[0mA\u001b[0m\u001b[0;34m.\u001b[0m\u001b[0mravel\u001b[0m\u001b[0;34m(\u001b[0m\u001b[0;34m)\u001b[0m\u001b[0;34m\u001b[0m\u001b[0;34m\u001b[0m\u001b[0m\n\u001b[1;32m     17\u001b[0m     \u001b[0mys\u001b[0m \u001b[0;34m=\u001b[0m \u001b[0myy\u001b[0m \u001b[0;34m/\u001b[0m \u001b[0mnp\u001b[0m\u001b[0;34m.\u001b[0m\u001b[0msqrt\u001b[0m\u001b[0;34m(\u001b[0m\u001b[0mnp\u001b[0m\u001b[0;34m.\u001b[0m\u001b[0mdot\u001b[0m\u001b[0;34m(\u001b[0m\u001b[0myy\u001b[0m\u001b[0;34m,\u001b[0m \u001b[0myy\u001b[0m\u001b[0;34m)\u001b[0m\u001b[0;34m)\u001b[0m\u001b[0;34m\u001b[0m\u001b[0;34m\u001b[0m\u001b[0m\n\u001b[0;32m---> 18\u001b[0;31m     \u001b[0mxs\u001b[0m \u001b[0;34m=\u001b[0m \u001b[0mnp\u001b[0m\u001b[0;34m.\u001b[0m\u001b[0msqrt\u001b[0m\u001b[0;34m(\u001b[0m\u001b[0mnp\u001b[0m\u001b[0;34m.\u001b[0m\u001b[0madd\u001b[0m\u001b[0;34m.\u001b[0m\u001b[0mreduceat\u001b[0m\u001b[0;34m(\u001b[0m\u001b[0mdexpr\u001b[0m\u001b[0;34m.\u001b[0m\u001b[0mdata\u001b[0m\u001b[0;34m**\u001b[0m\u001b[0;36m2\u001b[0m\u001b[0;34m,\u001b[0m \u001b[0mdexpr\u001b[0m\u001b[0;34m.\u001b[0m\u001b[0mindptr\u001b[0m\u001b[0;34m[\u001b[0m\u001b[0;34m:\u001b[0m\u001b[0;34m-\u001b[0m\u001b[0;36m1\u001b[0m\u001b[0;34m]\u001b[0m\u001b[0;34m)\u001b[0m \u001b[0;34m-\u001b[0m \u001b[0mn\u001b[0m\u001b[0;34m*\u001b[0m\u001b[0mxm\u001b[0m\u001b[0;34m*\u001b[0m\u001b[0mxm\u001b[0m\u001b[0;34m)\u001b[0m\u001b[0;34m\u001b[0m\u001b[0;34m\u001b[0m\u001b[0m\n\u001b[0m\u001b[1;32m     19\u001b[0m     \u001b[0mrs\u001b[0m \u001b[0;34m=\u001b[0m \u001b[0mnp\u001b[0m\u001b[0;34m.\u001b[0m\u001b[0madd\u001b[0m\u001b[0;34m.\u001b[0m\u001b[0mreduceat\u001b[0m\u001b[0;34m(\u001b[0m\u001b[0mdexpr\u001b[0m\u001b[0;34m.\u001b[0m\u001b[0mdata\u001b[0m \u001b[0;34m*\u001b[0m \u001b[0mys\u001b[0m\u001b[0;34m[\u001b[0m\u001b[0mdexpr\u001b[0m\u001b[0;34m.\u001b[0m\u001b[0mindices\u001b[0m\u001b[0;34m]\u001b[0m\u001b[0;34m,\u001b[0m \u001b[0mdexpr\u001b[0m\u001b[0;34m.\u001b[0m\u001b[0mindptr\u001b[0m\u001b[0;34m[\u001b[0m\u001b[0;34m:\u001b[0m\u001b[0;34m-\u001b[0m\u001b[0;36m1\u001b[0m\u001b[0;34m]\u001b[0m\u001b[0;34m)\u001b[0m \u001b[0;34m/\u001b[0m \u001b[0mxs\u001b[0m\u001b[0;34m\u001b[0m\u001b[0;34m\u001b[0m\u001b[0m\n",
      "\u001b[0;31mIndexError\u001b[0m: index 883873 out-of-bounds in add.reduceat [0, 883873)"
     ]
    }
   ],
   "source": [
    "sortedGenes = []\n",
    "vproj = []\n",
    "indices = svobj.renderer.indices\n",
    "for i in indices:\n",
    "    vproj.append(svobj.cells[i].proj)\n",
    "\n",
    "dexpr = svobj.expr[indices, :]\n",
    "        \n",
    "vproj = np.array(vproj)\n",
    "\n",
    "\n",
    "n = vproj.size\n",
    "if svobj.sparse:\n",
    "    # based on https://www.javaer101.com/en/article/18344934.html\n",
    "    yy = vproj - vproj.mean()\n",
    "    xm = dexpr.mean(axis=0).A.ravel()\n",
    "    ys = yy / np.sqrt(np.dot(yy, yy))\n",
    "    xs = np.sqrt(np.add.reduceat(dexpr.data**2, dexpr.indptr[:-1]) - n*xm*xm)\n",
    "    rs = np.add.reduceat(dexpr.data * ys[dexpr.indices], dexpr.indptr[:-1]) / xs"
   ]
  },
  {
   "cell_type": "code",
   "execution_count": null,
   "id": "b997d579",
   "metadata": {},
   "outputs": [],
   "source": []
  },
  {
   "cell_type": "code",
   "execution_count": null,
   "id": "90c6660d",
   "metadata": {},
   "outputs": [],
   "source": []
  },
  {
   "cell_type": "code",
   "execution_count": null,
   "id": "a35a9607",
   "metadata": {},
   "outputs": [],
   "source": []
  },
  {
   "cell_type": "code",
   "execution_count": null,
   "id": "0d4d076b",
   "metadata": {},
   "outputs": [],
   "source": []
  },
  {
   "cell_type": "code",
   "execution_count": null,
   "id": "576fb916",
   "metadata": {},
   "outputs": [],
   "source": []
  },
  {
   "cell_type": "code",
   "execution_count": 36,
   "id": "0c245b2a",
   "metadata": {},
   "outputs": [
    {
     "ename": "IndexError",
     "evalue": "index 3157402 out-of-bounds in add.reduceat [0, 3157402)",
     "output_type": "error",
     "traceback": [
      "\u001b[0;31m---------------------------------------------------------------------------\u001b[0m",
      "\u001b[0;31mIndexError\u001b[0m                                Traceback (most recent call last)",
      "\u001b[0;32m<ipython-input-36-86f78bbac5d7>\u001b[0m in \u001b[0;36m<module>\u001b[0;34m\u001b[0m\n\u001b[0;32m----> 1\u001b[0;31m \u001b[0mnp\u001b[0m\u001b[0;34m.\u001b[0m\u001b[0madd\u001b[0m\u001b[0;34m.\u001b[0m\u001b[0mreduceat\u001b[0m\u001b[0;34m(\u001b[0m\u001b[0mdexpr\u001b[0m\u001b[0;34m.\u001b[0m\u001b[0mdata\u001b[0m\u001b[0;34m**\u001b[0m\u001b[0;36m2\u001b[0m\u001b[0;34m,\u001b[0m \u001b[0mdexpr\u001b[0m\u001b[0;34m.\u001b[0m\u001b[0mindptr\u001b[0m\u001b[0;34m[\u001b[0m\u001b[0;34m:\u001b[0m\u001b[0;34m-\u001b[0m\u001b[0;36m3\u001b[0m\u001b[0;34m]\u001b[0m\u001b[0;34m)\u001b[0m\u001b[0;34m\u001b[0m\u001b[0;34m\u001b[0m\u001b[0m\n\u001b[0m",
      "\u001b[0;31mIndexError\u001b[0m: index 3157402 out-of-bounds in add.reduceat [0, 3157402)"
     ]
    }
   ],
   "source": [
    "np.add.reduceat(dexpr.data**2, dexpr.indptr[:-3])"
   ]
  },
  {
   "cell_type": "code",
   "execution_count": 34,
   "id": "d2afa4e2",
   "metadata": {},
   "outputs": [
    {
     "ename": "IndexError",
     "evalue": "index 3157402 out-of-bounds in add.reduceat [0, 3157402)",
     "output_type": "error",
     "traceback": [
      "\u001b[0;31m---------------------------------------------------------------------------\u001b[0m",
      "\u001b[0;31mIndexError\u001b[0m                                Traceback (most recent call last)",
      "\u001b[0;32m<ipython-input-34-ffdb9b7ce5a6>\u001b[0m in \u001b[0;36m<module>\u001b[0;34m\u001b[0m\n\u001b[0;32m----> 1\u001b[0;31m \u001b[0mnp\u001b[0m\u001b[0;34m.\u001b[0m\u001b[0madd\u001b[0m\u001b[0;34m.\u001b[0m\u001b[0mreduceat\u001b[0m\u001b[0;34m(\u001b[0m\u001b[0mdexpr\u001b[0m\u001b[0;34m.\u001b[0m\u001b[0mdata\u001b[0m\u001b[0;34m**\u001b[0m\u001b[0;36m2\u001b[0m\u001b[0;34m,\u001b[0m \u001b[0mdexpr\u001b[0m\u001b[0;34m.\u001b[0m\u001b[0mindptr\u001b[0m\u001b[0;34m[\u001b[0m\u001b[0;34m:\u001b[0m\u001b[0;34m-\u001b[0m\u001b[0;36m1\u001b[0m\u001b[0;34m]\u001b[0m\u001b[0;34m)\u001b[0m\u001b[0;34m\u001b[0m\u001b[0;34m\u001b[0m\u001b[0m\n\u001b[0m",
      "\u001b[0;31mIndexError\u001b[0m: index 3157402 out-of-bounds in add.reduceat [0, 3157402)"
     ]
    }
   ],
   "source": [
    "np.add.reduceat(dexpr.data**2, dexpr.indptr[:-1])"
   ]
  },
  {
   "cell_type": "code",
   "execution_count": 32,
   "id": "0ca8c5f0",
   "metadata": {},
   "outputs": [
    {
     "data": {
      "text/plain": [
       "(3157402,)"
      ]
     },
     "execution_count": 32,
     "metadata": {},
     "output_type": "execute_result"
    }
   ],
   "source": [
    "dexpr.data.shape"
   ]
  },
  {
   "cell_type": "code",
   "execution_count": 33,
   "id": "a6f804b4",
   "metadata": {},
   "outputs": [
    {
     "data": {
      "text/plain": [
       "array([      0,       4,      65, ..., 3157402, 3157402, 3157402],\n",
       "      dtype=int32)"
      ]
     },
     "execution_count": 33,
     "metadata": {},
     "output_type": "execute_result"
    }
   ],
   "source": [
    "dexpr.indptr[:-1]"
   ]
  },
  {
   "cell_type": "code",
   "execution_count": null,
   "id": "d1ccca3c",
   "metadata": {},
   "outputs": [],
   "source": []
  },
  {
   "cell_type": "code",
   "execution_count": 22,
   "id": "94d9a52c",
   "metadata": {},
   "outputs": [
    {
     "data": {
      "text/plain": [
       "(1520,)"
      ]
     },
     "execution_count": 22,
     "metadata": {},
     "output_type": "execute_result"
    }
   ],
   "source": [
    "yy.shape"
   ]
  },
  {
   "cell_type": "code",
   "execution_count": 23,
   "id": "7a3e1c6a",
   "metadata": {},
   "outputs": [
    {
     "data": {
      "text/plain": [
       "<1520x20729 sparse matrix of type '<class 'numpy.float64'>'\n",
       "\twith 3157402 stored elements in Compressed Sparse Column format>"
      ]
     },
     "execution_count": 23,
     "metadata": {},
     "output_type": "execute_result"
    }
   ],
   "source": [
    "dexpr"
   ]
  },
  {
   "cell_type": "code",
   "execution_count": 24,
   "id": "80d65d3d",
   "metadata": {},
   "outputs": [
    {
     "data": {
      "text/plain": [
       "(1520,)"
      ]
     },
     "execution_count": 24,
     "metadata": {},
     "output_type": "execute_result"
    }
   ],
   "source": [
    "vproj.shape"
   ]
  },
  {
   "cell_type": "code",
   "execution_count": 19,
   "id": "d529e777",
   "metadata": {},
   "outputs": [
    {
     "data": {
      "text/plain": [
       "<1520x20729 sparse matrix of type '<class 'numpy.float64'>'\n",
       "\twith 3157402 stored elements in Compressed Sparse Column format>"
      ]
     },
     "execution_count": 19,
     "metadata": {},
     "output_type": "execute_result"
    }
   ],
   "source": [
    "dexpr"
   ]
  },
  {
   "cell_type": "code",
   "execution_count": null,
   "id": "2e595dcd",
   "metadata": {},
   "outputs": [],
   "source": []
  },
  {
   "cell_type": "code",
   "execution_count": null,
   "id": "4c343709",
   "metadata": {},
   "outputs": [],
   "source": []
  },
  {
   "cell_type": "code",
   "execution_count": null,
   "id": "7d10747c",
   "metadata": {},
   "outputs": [],
   "source": []
  },
  {
   "cell_type": "code",
   "execution_count": null,
   "id": "e337e7c9",
   "metadata": {},
   "outputs": [],
   "source": []
  },
  {
   "cell_type": "code",
   "execution_count": 22,
   "id": "9ba99291",
   "metadata": {},
   "outputs": [
    {
     "data": {
      "text/plain": [
       "array([[ -9.28711415,  -4.05189541],\n",
       "       [ -7.82039547,  -2.2564905 ],\n",
       "       [ -0.96361929,  15.92775937],\n",
       "       ...,\n",
       "       [  2.60810637,   3.90169188],\n",
       "       [  2.56579613, -10.09597281],\n",
       "       [  2.27859306,  -9.86814479]])"
      ]
     },
     "execution_count": 22,
     "metadata": {},
     "output_type": "execute_result"
    }
   ],
   "source": [
    "svobj.umap"
   ]
  },
  {
   "cell_type": "code",
   "execution_count": 29,
   "id": "6f0cac1d",
   "metadata": {},
   "outputs": [
    {
     "data": {
      "text/plain": [
       "array([49986, 49931, 49860, 49782, 49651, 49613, 49555, 49546, 49471,\n",
       "       49447, 49445, 49389, 49335, 49212, 49167, 49127, 48865, 48846,\n",
       "       48661, 48660, 48462, 48352, 48337, 48276, 47849, 47787, 47735,\n",
       "       47593, 47569, 47531, 47455, 47378, 47360, 47247, 47029, 46956,\n",
       "       46820, 46787, 46734, 46654, 46576, 46531, 46307, 46117, 46034,\n",
       "       45792, 45759, 45714, 45525, 45447, 45413, 45293, 45281, 45225,\n",
       "       45196, 45054, 44991, 44921, 44872, 44856, 44809, 44705, 44630,\n",
       "       44423, 44386, 44340, 44232, 44218, 44043, 43779, 43612, 43543,\n",
       "       43447, 43386, 43319, 43308, 43199, 43197, 43186, 43156, 43143,\n",
       "       43004, 42857, 42741, 42677, 42643, 42349, 42300, 42162, 42156,\n",
       "       42104, 41839, 41824, 41761, 41700, 41449, 41445, 41441, 41409,\n",
       "       41369, 41339, 41312, 41264, 41059, 41051, 40969, 40843, 40836,\n",
       "       40764, 40744, 40683, 40565, 40501, 40476, 40457, 40415, 40391,\n",
       "       40358, 40211, 40148, 39983, 39924, 39870, 39799, 39772, 39706,\n",
       "       39614, 39519, 39455, 39445, 39429, 39362, 39326, 39218, 39067,\n",
       "       39046, 39021, 38981, 38875, 38738, 38702, 38673, 38671, 38615,\n",
       "       38419, 38380, 38275, 38127, 38116, 38101, 38077, 38036, 37934,\n",
       "       37907, 37819, 37814, 37474, 37382, 37368, 37296, 37269, 37260,\n",
       "       37161, 37134, 37100, 37030, 37021, 36943, 36914, 36907, 36782,\n",
       "       36757, 36623, 36609, 36526, 36483, 36378, 36376, 36303, 36290,\n",
       "       36236, 36201, 36173, 36156, 36127, 36116, 36114, 35828, 35752,\n",
       "       35736, 35694, 35638, 35582, 35572, 35550, 35543, 35533, 35527,\n",
       "       35311, 35299, 35285, 35213, 35070, 35006, 34998, 34932, 34891,\n",
       "       34862, 34827, 34787, 34756, 34717, 34621, 34582, 34351, 34245,\n",
       "       34179, 34107, 34103, 34060, 33968, 33776, 33768, 33731, 33717,\n",
       "       33696, 33686, 33565, 33360, 33309, 33097, 32998, 32786, 32754,\n",
       "       32727, 32688, 32627, 32622, 32609, 32600, 32559, 32520, 32421,\n",
       "       32416, 32336, 32281, 32254, 31951, 31950, 31919, 31868, 31829,\n",
       "       31651, 31510, 31438, 31380, 31308, 31302, 31242, 31165, 31151,\n",
       "       30940, 30906, 30890, 30871, 30690, 30552, 30542, 30505, 30468,\n",
       "       30263, 30177, 30171, 30136, 30121, 30065, 30023, 30014, 29911,\n",
       "       29840, 29831, 29618, 29482, 29399, 29395, 29325, 29153, 29077,\n",
       "       28938, 28774, 28712, 28590, 28575, 28574, 28401, 28383, 28337,\n",
       "       28334, 28148, 28068, 28062, 28016, 28010, 27871, 27777, 27629,\n",
       "       27601, 27488, 27408, 27320, 27304, 27009, 26882, 26746, 26680,\n",
       "       26671, 26601, 26552, 26520, 26510, 26488, 26474, 26428, 26401,\n",
       "       26259, 26219, 25989, 25967, 25957, 25950, 25733, 25495, 25428,\n",
       "       25368, 25355, 25134, 25020, 25004, 24976, 24929, 24927, 24790,\n",
       "       24668, 24649, 24584, 24562, 24517, 24506, 24482, 24451, 24397,\n",
       "       24307, 24163, 24161, 24127, 24020, 23773, 23642, 23603, 23566,\n",
       "       23541, 23453, 23389, 23386, 23351, 23249, 23242, 23219, 23190,\n",
       "       23183, 23139, 23131, 23128, 23063, 22910, 22896, 22851, 22740,\n",
       "       22666, 22569, 22528, 22519, 22393, 22384, 22304, 22291, 22238,\n",
       "       22161, 22154, 22112, 22062, 21959, 21792, 21766, 21761, 21678,\n",
       "       21661, 21619, 21474, 21449, 21240, 21233, 21123, 21081, 21043,\n",
       "       21041, 21025, 21017, 20979, 20874, 20616, 20394, 20289, 20282,\n",
       "       20280, 20276, 20260, 20172, 20162, 20126, 20113, 20110, 20021,\n",
       "       19987, 19891, 19830, 19770, 19708, 19684, 19598, 19552, 19529,\n",
       "       19493, 19456, 19397, 19294, 19290, 19286, 19255, 19240, 19238,\n",
       "       19192, 18970, 18960, 18717, 18676, 18649, 18622, 18598, 18594,\n",
       "       18525, 18399, 18373, 18277, 18151, 18102, 18083, 18059, 18042,\n",
       "       17918, 17832, 17824, 17738, 17636, 17627, 17403, 17392, 17352,\n",
       "       17348, 17330, 17306, 17231, 17212, 17174, 17120, 17075, 17066,\n",
       "       16954, 16909, 16859, 16791, 16730, 16679, 16645, 16514, 16283,\n",
       "       16250, 16225, 16182, 16099, 16078, 16077, 15988, 15693, 15645,\n",
       "       15629, 15499, 15483, 15442, 15356, 15308, 15143, 15140, 15124,\n",
       "       15078, 14940, 14898, 14753, 14654, 14634, 14561, 14511, 14437,\n",
       "       14300, 14170, 14065, 13954, 13938, 13855, 13691, 13679, 13482,\n",
       "       13474, 13456, 13396, 13391, 13364, 13273, 13200, 13162, 13123,\n",
       "       13110, 13065, 13030, 12980, 12917, 12915, 12769, 12707, 12576,\n",
       "       12546, 12460, 12433, 12358, 12320, 12216, 12113, 12077, 12053,\n",
       "       11954, 11859, 11776, 11703, 11676, 11669, 11531, 11428, 11322,\n",
       "       11308, 11297, 11250, 11194, 11041, 10957, 10938, 10823, 10766,\n",
       "       10653, 10617, 10555, 10547, 10527, 10367, 10214, 10195, 10125,\n",
       "       10108,  9908,  9874,  9547,  9467,  9381,  9368,  9277,  9209,\n",
       "        8976,  8892,  8867,  8712,  8598,  8532,  8496,  8474,  8405,\n",
       "        8368,  8329,  8306,  8265,  8237,  8215,  8213,  8061,  7908,\n",
       "        7779,  7742,  7724,  7604,  7395,  7233,  7141,  7132,  7084,\n",
       "        6992,  6963,  6916,  6874,  6742,  6669,  6491,  6379,  6352,\n",
       "        6259,  6257,  6230,  6046,  6032,  6027,  5982,  5958,  5950,\n",
       "        5894,  5702,  5671,  5644,  5609,  5584,  5365,  5246,  5214,\n",
       "        5145,  5095,  5094,  5037,  4906,  4888,  4875,  4843,  4741,\n",
       "        4662,  4561,  4504,  4492,  4452,  4445,  4371,  4354,  4338,\n",
       "        4237,  4161,  4049,  4041,  3818,  3702,  3680,  3548,  3452,\n",
       "        3425,  3332,  3229,  3190,  2997,  2959,  2829,  2787,  2729,\n",
       "        2651,  2630,  2617,  2581,  2407,  2270,  2235,  2193,  2077,\n",
       "        1887,  1854,  1838,  1825,  1798,  1787,  1702,  1632,  1541,\n",
       "        1523,  1506,  1476,  1412,  1389,  1382,  1124,  1029,  1010,\n",
       "         985,   954,   952,   900,   883,   690,   689,   633,   528,\n",
       "         458,   180,   164])"
      ]
     },
     "execution_count": 29,
     "metadata": {},
     "output_type": "execute_result"
    }
   ],
   "source": [
    "np.array(svobj.renderer.indices)[::-1]"
   ]
  },
  {
   "cell_type": "code",
   "execution_count": 8,
   "id": "b1a71116",
   "metadata": {},
   "outputs": [
    {
     "name": "stdout",
     "output_type": "stream",
     "text": [
      "2.1275150775909424 seconds to select and project cells\n",
      "Selected 2414 cells\n",
      "Calculating differential expression...\n",
      "19.73544430732727 seconds to calculate genesums. Sparsity:  True\n",
      "35.344122886657715 seconds to calculate squared genesums. Sparsity:  True\n"
     ]
    }
   ],
   "source": [
    "# gene and cell names are provided to the gene_names and cell_names attributes since\n",
    "# those aren't innately part of the sparse data structure\n",
    "\n",
    "svobj = SCIViewer(umap, expr_sparse, gene_names=genes,\n",
    "                    cell_names=barcodes)\n",
    "svobj.explore_data()"
   ]
  },
  {
   "cell_type": "code",
   "execution_count": 22,
   "id": "e1fa12c7",
   "metadata": {},
   "outputs": [
    {
     "data": {
      "text/plain": [
       "array(['E2L1_ATCCTATAGAGATGCC', 'L5_TTCAATCCACGGTGCT',\n",
       "       'L1_CGATCGGGTGATACCT', ..., 'L4_TTTGACTTCTCAAAGC',\n",
       "       'L4_CCTTTGGTCTAACGCA', 'L3_TTACCGCAGCCGAATG'], dtype='<U21')"
      ]
     },
     "execution_count": 22,
     "metadata": {},
     "output_type": "execute_result"
    }
   ],
   "source": []
  },
  {
   "cell_type": "code",
   "execution_count": null,
   "id": "a177e164",
   "metadata": {},
   "outputs": [],
   "source": []
  },
  {
   "cell_type": "code",
   "execution_count": 9,
   "id": "f4793895",
   "metadata": {},
   "outputs": [
    {
     "name": "stdout",
     "output_type": "stream",
     "text": [
      "109.99490594863892 seconds to calculate differential expression. Sparsity:  True\n"
     ]
    },
    {
     "data": {
      "text/plain": [
       "3"
      ]
     },
     "execution_count": 9,
     "metadata": {},
     "output_type": "execute_result"
    }
   ],
   "source": [
    "3"
   ]
  },
  {
   "cell_type": "code",
   "execution_count": 10,
   "id": "cb30a13e",
   "metadata": {},
   "outputs": [
    {
     "data": {
      "text/plain": [
       "2"
      ]
     },
     "execution_count": 10,
     "metadata": {},
     "output_type": "execute_result"
    },
    {
     "name": "stdout",
     "output_type": "stream",
     "text": [
      "Selected gene CD74\n",
      "Min/max expression level for gene CD74 0.0 5.442417710521793\n",
      "Selected gene HLA-DRA\n",
      "Min/max expression level for gene HLA-DRA 0.0 5.455321115357702\n",
      "1.9083669185638428 seconds to select and project cells\n",
      "Selected 366 cells\n",
      "Calculating differential expression...\n",
      "44.587007999420166 seconds to calculate differential expression. Sparsity:  True\n",
      "Selected gene MZB1\n",
      "Min/max expression level for gene MZB1 0.0 4.691347882229143\n",
      "1.511157751083374 seconds to select and project cells\n",
      "Selected 2228 cells\n",
      "Calculating differential expression...\n",
      "53.11885690689087 seconds to calculate differential expression. Sparsity:  True\n",
      "EXPORTING DATA...\n",
      "BYE\n"
     ]
    }
   ],
   "source": [
    "2"
   ]
  },
  {
   "cell_type": "code",
   "execution_count": 8,
   "id": "02908660",
   "metadata": {},
   "outputs": [
    {
     "data": {
      "text/html": [
       "<div>\n",
       "<style scoped>\n",
       "    .dataframe tbody tr th:only-of-type {\n",
       "        vertical-align: middle;\n",
       "    }\n",
       "\n",
       "    .dataframe tbody tr th {\n",
       "        vertical-align: top;\n",
       "    }\n",
       "\n",
       "    .dataframe thead th {\n",
       "        text-align: right;\n",
       "    }\n",
       "</style>\n",
       "<table border=\"1\" class=\"dataframe\">\n",
       "  <thead>\n",
       "    <tr style=\"text-align: right;\">\n",
       "      <th></th>\n",
       "      <th>index</th>\n",
       "      <th>cell_name</th>\n",
       "      <th>projection</th>\n",
       "    </tr>\n",
       "  </thead>\n",
       "  <tbody>\n",
       "    <tr>\n",
       "      <th>0</th>\n",
       "      <td>0</td>\n",
       "      <td>AAACATACACCCAA-1</td>\n",
       "      <td>0.850499</td>\n",
       "    </tr>\n",
       "    <tr>\n",
       "      <th>1</th>\n",
       "      <td>7</td>\n",
       "      <td>AAACATTGCTTCGC-1</td>\n",
       "      <td>0.141245</td>\n",
       "    </tr>\n",
       "    <tr>\n",
       "      <th>2</th>\n",
       "      <td>12</td>\n",
       "      <td>AAACCGTGCCCAAA-1</td>\n",
       "      <td>0.635838</td>\n",
       "    </tr>\n",
       "    <tr>\n",
       "      <th>3</th>\n",
       "      <td>13</td>\n",
       "      <td>AAACCGTGCGATAC-1</td>\n",
       "      <td>0.859967</td>\n",
       "    </tr>\n",
       "    <tr>\n",
       "      <th>4</th>\n",
       "      <td>15</td>\n",
       "      <td>AAACCGTGTCACCC-1</td>\n",
       "      <td>0.808978</td>\n",
       "    </tr>\n",
       "  </tbody>\n",
       "</table>\n",
       "</div>"
      ],
      "text/plain": [
       "   index         cell_name  projection\n",
       "0      0  AAACATACACCCAA-1    0.850499\n",
       "1      7  AAACATTGCTTCGC-1    0.141245\n",
       "2     12  AAACCGTGCCCAAA-1    0.635838\n",
       "3     13  AAACCGTGCGATAC-1    0.859967\n",
       "4     15  AAACCGTGTCACCC-1    0.808978"
      ]
     },
     "execution_count": 8,
     "metadata": {},
     "output_type": "execute_result"
    }
   ],
   "source": [
    "## This attribute get updated in real time whenever cells are selected\n",
    "\n",
    "svobj.selected_cells.head()"
   ]
  },
  {
   "cell_type": "code",
   "execution_count": 11,
   "id": "3a2a7ade",
   "metadata": {},
   "outputs": [
    {
     "data": {
      "text/html": [
       "<div>\n",
       "<style scoped>\n",
       "    .dataframe tbody tr th:only-of-type {\n",
       "        vertical-align: middle;\n",
       "    }\n",
       "\n",
       "    .dataframe tbody tr th {\n",
       "        vertical-align: top;\n",
       "    }\n",
       "\n",
       "    .dataframe thead th {\n",
       "        text-align: right;\n",
       "    }\n",
       "</style>\n",
       "<table border=\"1\" class=\"dataframe\">\n",
       "  <thead>\n",
       "    <tr style=\"text-align: right;\">\n",
       "      <th></th>\n",
       "      <th>R</th>\n",
       "      <th>P</th>\n",
       "    </tr>\n",
       "  </thead>\n",
       "  <tbody>\n",
       "    <tr>\n",
       "      <th>FOS</th>\n",
       "      <td>0.438860</td>\n",
       "      <td>5.278833e-255</td>\n",
       "    </tr>\n",
       "    <tr>\n",
       "      <th>DUSP1</th>\n",
       "      <td>0.428832</td>\n",
       "      <td>2.464365e-242</td>\n",
       "    </tr>\n",
       "    <tr>\n",
       "      <th>S100A4</th>\n",
       "      <td>0.410756</td>\n",
       "      <td>1.485400e-220</td>\n",
       "    </tr>\n",
       "    <tr>\n",
       "      <th>LTB</th>\n",
       "      <td>0.390538</td>\n",
       "      <td>9.784411e-198</td>\n",
       "    </tr>\n",
       "    <tr>\n",
       "      <th>MALAT1</th>\n",
       "      <td>-0.346522</td>\n",
       "      <td>2.575518e-153</td>\n",
       "    </tr>\n",
       "  </tbody>\n",
       "</table>\n",
       "</div>"
      ],
      "text/plain": [
       "               R              P\n",
       "FOS     0.438860  5.278833e-255\n",
       "DUSP1   0.428832  2.464365e-242\n",
       "S100A4  0.410756  1.485400e-220\n",
       "LTB     0.390538  9.784411e-198\n",
       "MALAT1 -0.346522  2.575518e-153"
      ]
     },
     "execution_count": 11,
     "metadata": {},
     "output_type": "execute_result"
    },
    {
     "name": "stdout",
     "output_type": "stream",
     "text": [
      "EXPORTING DATA...\n",
      "BYE\n"
     ]
    }
   ],
   "source": [
    "## This gets updated in real time when cells are selected in directional mode\n",
    "svobj.results_proj_correlation.sort_values(by='P').head()"
   ]
  },
  {
   "cell_type": "code",
   "execution_count": 10,
   "id": "0ac7f51d",
   "metadata": {},
   "outputs": [
    {
     "data": {
      "text/html": [
       "<div>\n",
       "<style scoped>\n",
       "    .dataframe tbody tr th:only-of-type {\n",
       "        vertical-align: middle;\n",
       "    }\n",
       "\n",
       "    .dataframe tbody tr th {\n",
       "        vertical-align: top;\n",
       "    }\n",
       "\n",
       "    .dataframe thead th {\n",
       "        text-align: right;\n",
       "    }\n",
       "</style>\n",
       "<table border=\"1\" class=\"dataframe\">\n",
       "  <thead>\n",
       "    <tr style=\"text-align: right;\">\n",
       "      <th></th>\n",
       "      <th>T</th>\n",
       "      <th>P</th>\n",
       "    </tr>\n",
       "  </thead>\n",
       "  <tbody>\n",
       "    <tr>\n",
       "      <th>JUNB</th>\n",
       "      <td>-56.351577</td>\n",
       "      <td>0.0</td>\n",
       "    </tr>\n",
       "    <tr>\n",
       "      <th>RPS8</th>\n",
       "      <td>-57.105766</td>\n",
       "      <td>0.0</td>\n",
       "    </tr>\n",
       "    <tr>\n",
       "      <th>COTL1</th>\n",
       "      <td>-46.026753</td>\n",
       "      <td>0.0</td>\n",
       "    </tr>\n",
       "    <tr>\n",
       "      <th>PIK3IP1</th>\n",
       "      <td>-53.734194</td>\n",
       "      <td>0.0</td>\n",
       "    </tr>\n",
       "    <tr>\n",
       "      <th>KLRD1</th>\n",
       "      <td>43.096151</td>\n",
       "      <td>0.0</td>\n",
       "    </tr>\n",
       "  </tbody>\n",
       "</table>\n",
       "</div>"
      ],
      "text/plain": [
       "                 T    P\n",
       "JUNB    -56.351577  0.0\n",
       "RPS8    -57.105766  0.0\n",
       "COTL1   -46.026753  0.0\n",
       "PIK3IP1 -53.734194  0.0\n",
       "KLRD1    43.096151  0.0"
      ]
     },
     "execution_count": 10,
     "metadata": {},
     "output_type": "execute_result"
    },
    {
     "name": "stdout",
     "output_type": "stream",
     "text": [
      "0.7509219646453857 seconds to select and project cells\n",
      "Selected 2912 cells\n",
      "Calculating correlations...\n",
      "2.000452995300293 seconds to calculate correlations. Sparsity:  True\n",
      "Selected gene GNLY\n",
      "Min/max expression level for gene GNLY 0.0 6.0092\n",
      "Selected gene CD8B\n",
      "Min/max expression level for gene CD8B 0.0 4.8472\n",
      "0.6916131973266602 seconds to select and project cells\n",
      "Selected 2378 cells\n",
      "Calculating correlations...\n",
      "1.4387142658233643 seconds to calculate correlations. Sparsity:  True\n",
      "Selected gene FOS\n",
      "Min/max expression level for gene FOS 0.0 4.8013\n",
      "1.1787519454956055 seconds to select and project cells\n",
      "Selected 5441 cells\n",
      "Calculating correlations...\n",
      "1.5225191116333008 seconds to calculate correlations. Sparsity:  True\n",
      "Selected gene FOS\n",
      "Min/max expression level for gene FOS 0.0 4.8013\n"
     ]
    }
   ],
   "source": [
    "## This gets updated in real time when cells are selected in differential mode\n",
    "svobj.results_diffexpr.sort_values(by='P').head()"
   ]
  },
  {
   "cell_type": "markdown",
   "id": "f9de8737",
   "metadata": {},
   "source": [
    "## You can re-run the analysis using dense data and see how much slower it is"
   ]
  },
  {
   "cell_type": "code",
   "execution_count": 12,
   "id": "e29537cb",
   "metadata": {},
   "outputs": [],
   "source": [
    "expr_dense = pd.DataFrame(expr_sparse.todense(), columns=genes, index=barcodes)"
   ]
  },
  {
   "cell_type": "code",
   "execution_count": 13,
   "id": "f4252aa7",
   "metadata": {},
   "outputs": [
    {
     "data": {
      "text/html": [
       "<div>\n",
       "<style scoped>\n",
       "    .dataframe tbody tr th:only-of-type {\n",
       "        vertical-align: middle;\n",
       "    }\n",
       "\n",
       "    .dataframe tbody tr th {\n",
       "        vertical-align: top;\n",
       "    }\n",
       "\n",
       "    .dataframe thead th {\n",
       "        text-align: right;\n",
       "    }\n",
       "</style>\n",
       "<table border=\"1\" class=\"dataframe\">\n",
       "  <thead>\n",
       "    <tr style=\"text-align: right;\">\n",
       "      <th></th>\n",
       "      <th>LINC00115</th>\n",
       "      <th>FAM41C</th>\n",
       "      <th>NOC2L</th>\n",
       "      <th>KLHL17</th>\n",
       "      <th>PLEKHN1</th>\n",
       "    </tr>\n",
       "  </thead>\n",
       "  <tbody>\n",
       "    <tr>\n",
       "      <th>AAACATACACCCAA-1</th>\n",
       "      <td>0.0</td>\n",
       "      <td>0.0</td>\n",
       "      <td>0.0</td>\n",
       "      <td>0.0</td>\n",
       "      <td>0.0</td>\n",
       "    </tr>\n",
       "    <tr>\n",
       "      <th>AAACATACCCCTCA-1</th>\n",
       "      <td>0.0</td>\n",
       "      <td>0.0</td>\n",
       "      <td>0.0</td>\n",
       "      <td>0.0</td>\n",
       "      <td>0.0</td>\n",
       "    </tr>\n",
       "    <tr>\n",
       "      <th>AAACATACCGGAGA-1</th>\n",
       "      <td>0.0</td>\n",
       "      <td>0.0</td>\n",
       "      <td>0.0</td>\n",
       "      <td>0.0</td>\n",
       "      <td>0.0</td>\n",
       "    </tr>\n",
       "    <tr>\n",
       "      <th>AAACATACTCTTCA-1</th>\n",
       "      <td>0.0</td>\n",
       "      <td>0.0</td>\n",
       "      <td>0.0</td>\n",
       "      <td>0.0</td>\n",
       "      <td>0.0</td>\n",
       "    </tr>\n",
       "    <tr>\n",
       "      <th>AAACATACTGGATC-1</th>\n",
       "      <td>0.0</td>\n",
       "      <td>0.0</td>\n",
       "      <td>0.0</td>\n",
       "      <td>0.0</td>\n",
       "      <td>0.0</td>\n",
       "    </tr>\n",
       "  </tbody>\n",
       "</table>\n",
       "</div>"
      ],
      "text/plain": [
       "                  LINC00115  FAM41C  NOC2L  KLHL17  PLEKHN1\n",
       "AAACATACACCCAA-1        0.0     0.0    0.0     0.0      0.0\n",
       "AAACATACCCCTCA-1        0.0     0.0    0.0     0.0      0.0\n",
       "AAACATACCGGAGA-1        0.0     0.0    0.0     0.0      0.0\n",
       "AAACATACTCTTCA-1        0.0     0.0    0.0     0.0      0.0\n",
       "AAACATACTGGATC-1        0.0     0.0    0.0     0.0      0.0"
      ]
     },
     "execution_count": 13,
     "metadata": {},
     "output_type": "execute_result"
    }
   ],
   "source": [
    "expr_dense.iloc[:5, :5]"
   ]
  },
  {
   "cell_type": "code",
   "execution_count": 14,
   "id": "58a167f2",
   "metadata": {},
   "outputs": [
    {
     "data": {
      "text/plain": [
       "(52899, 12563)"
      ]
     },
     "execution_count": 14,
     "metadata": {},
     "output_type": "execute_result"
    }
   ],
   "source": [
    "expr_dense.shape"
   ]
  },
  {
   "cell_type": "code",
   "execution_count": 16,
   "id": "c970221c",
   "metadata": {},
   "outputs": [
    {
     "name": "stdout",
     "output_type": "stream",
     "text": [
      "0.9585070610046387 seconds to select and project cells\n",
      "Selected 5328 cells\n",
      "Calculating differential expression...\n",
      "8.030466079711914 seconds to calculate genesums. Sparsity:  False\n",
      "26.470013856887817 seconds to calculate squared genesums. Sparsity:  False\n"
     ]
    },
    {
     "name": "stderr",
     "output_type": "stream",
     "text": [
      "/Users/dylankotliar/miniconda3/envs/sciviewer/lib/python3.8/site-packages/sciviewer/sciviewer.py:572: RuntimeWarning: invalid value encountered in sqrt\n",
      "  remainder_stds = np.sqrt((self.gene_sqsum - selected_stds - (remainder_N*remainder_means**2)) / (remainder_N -1))\n"
     ]
    },
    {
     "name": "stdout",
     "output_type": "stream",
     "text": [
      "63.93354320526123 seconds to calculate differential expression. Sparsity:  False\n",
      "Selected gene NKG7\n",
      "Min/max expression level for gene NKG7 0.0 5.463\n",
      "Selected gene GNLY\n",
      "Min/max expression level for gene GNLY 0.0 6.0092\n",
      "Selected gene CCL5\n",
      "Min/max expression level for gene CCL5 0.0 5.743\n",
      "0.7948040962219238 seconds to select and project cells\n",
      "Selected 2194 cells\n",
      "Calculating correlations...\n"
     ]
    },
    {
     "name": "stderr",
     "output_type": "stream",
     "text": [
      "/Users/dylankotliar/miniconda3/envs/sciviewer/lib/python3.8/site-packages/sciviewer/sciviewer.py:613: RuntimeWarning: invalid value encountered in true_divide\n",
      "  rs = np.dot(DP, DO) / np.sqrt(np.sum(DO ** 2, 0) * np.sum(DP ** 2))\n"
     ]
    },
    {
     "name": "stdout",
     "output_type": "stream",
     "text": [
      "13.287477016448975 seconds to calculate correlations. Sparsity:  False\n",
      "Selected gene S100A4\n",
      "Min/max expression level for gene S100A4 0.0 5.2892\n",
      "EXPORTING DATA...\n",
      "BYE\n"
     ]
    }
   ],
   "source": [
    "svobj_dense = SCIViewer(umap, expr_dense)\n",
    "svobj_dense.explore_data()"
   ]
  },
  {
   "cell_type": "code",
   "execution_count": null,
   "id": "f0d543d2",
   "metadata": {},
   "outputs": [],
   "source": []
  }
 ],
 "metadata": {
  "kernelspec": {
   "display_name": "Python 3",
   "language": "python",
   "name": "python3"
  },
  "language_info": {
   "codemirror_mode": {
    "name": "ipython",
    "version": 3
   },
   "file_extension": ".py",
   "mimetype": "text/x-python",
   "name": "python",
   "nbconvert_exporter": "python",
   "pygments_lexer": "ipython3",
   "version": "3.8.8"
  }
 },
 "nbformat": 4,
 "nbformat_minor": 5
}
