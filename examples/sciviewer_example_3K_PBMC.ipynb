{
 "cells": [
  {
   "cell_type": "code",
   "execution_count": 1,
   "id": "comparable-slovak",
   "metadata": {},
   "outputs": [],
   "source": [
    "%load_ext py5\n",
    "%gui osx"
   ]
  },
  {
   "cell_type": "code",
   "execution_count": 2,
   "id": "outstanding-mixture",
   "metadata": {},
   "outputs": [],
   "source": [
    "import pandas as pd\n",
    "import numpy as np\n",
    "from sciviewer import SCIViewer"
   ]
  },
  {
   "cell_type": "code",
   "execution_count": 6,
   "id": "6f4413c2-0c17-49f7-b8b7-41c1ae4e97a5",
   "metadata": {},
   "outputs": [
    {
     "name": "stdout",
     "output_type": "stream",
     "text": [
      "DOWNLOADING AND EXTRACTING EXAMPLE DATA\n",
      "--2021-04-19 10:50:37--  https://storage.googleapis.com/sabeti-public/dkotliar/scnavigator/pbmc3k/data/pbmc3k_umap_20210324.tsv\n",
      "Resolving storage.googleapis.com (storage.googleapis.com)... 172.217.6.240, 172.217.10.240, 172.217.10.16, ...\n",
      "Connecting to storage.googleapis.com (storage.googleapis.com)|172.217.6.240|:443... connected.\n",
      "HTTP request sent, awaiting response... 200 OK\n",
      "Length: 96413 (94K) [text/tab-separated-values]\n",
      "Saving to: ‘../data/pbmc3k_umap_20210324.tsv’\n",
      "\n",
      "../data/pbmc3k_umap 100%[===================>]  94.15K  --.-KB/s    in 0.05s   \n",
      "\n",
      "2021-04-19 10:50:37 (1.84 MB/s) - ‘../data/pbmc3k_umap_20210324.tsv’ saved [96413/96413]\n",
      "\n",
      "--2021-04-19 10:50:37--  https://storage.googleapis.com/sabeti-public/dkotliar/scnavigator/pbmc3k/data/pbmc3k_expression_log2TP10K_20210324.tsv.gz\n",
      "Resolving storage.googleapis.com (storage.googleapis.com)... 172.217.6.240, 172.217.10.240, 172.217.10.16, ...\n",
      "Connecting to storage.googleapis.com (storage.googleapis.com)|172.217.6.240|:443... connected.\n",
      "HTTP request sent, awaiting response... 200 OK\n",
      "Length: 3733671 (3.6M) [text/tab-separated-values]\n",
      "Saving to: ‘../data/pbmc3k_expression_log2TP10K_20210324.tsv.gz’\n",
      "\n",
      "../data/pbmc3k_expr 100%[===================>]   3.56M  10.7MB/s    in 0.3s    \n",
      "\n",
      "2021-04-19 10:50:38 (10.7 MB/s) - ‘../data/pbmc3k_expression_log2TP10K_20210324.tsv.gz’ saved [3733671/3733671]\n",
      "\n",
      "pbmc3k_expression_log2TP10K_20210324.tsv\n",
      "pbmc3k_umap_20210324.tsv\n"
     ]
    }
   ],
   "source": [
    "print('DOWNLOADING AND EXTRACTING EXAMPLE DATA')\n",
    "! mkdir -p ../data\n",
    "! wget https://storage.googleapis.com/sabeti-public/dkotliar/scnavigator/pbmc3k/data/pbmc3k_umap_20210324.tsv -O ../data/pbmc3k_umap_20210324.tsv\n",
    "! wget https://storage.googleapis.com/sabeti-public/dkotliar/scnavigator/pbmc3k/data/pbmc3k_expression_log2TP10K_20210324.tsv.gz -O ../data/pbmc3k_expression_log2TP10K_20210324.tsv.gz\n",
    "! gzip -df ../data/pbmc3k_expression_log2TP10K_20210324.tsv.gz\n",
    "! ls ../data"
   ]
  },
  {
   "cell_type": "code",
   "execution_count": 3,
   "id": "organic-professor",
   "metadata": {},
   "outputs": [
    {
     "name": "stdout",
     "output_type": "stream",
     "text": [
      "LOADING UMAP DATA...\n"
     ]
    },
    {
     "data": {
      "text/html": [
       "<div>\n",
       "<style scoped>\n",
       "    .dataframe tbody tr th:only-of-type {\n",
       "        vertical-align: middle;\n",
       "    }\n",
       "\n",
       "    .dataframe tbody tr th {\n",
       "        vertical-align: top;\n",
       "    }\n",
       "\n",
       "    .dataframe thead th {\n",
       "        text-align: right;\n",
       "    }\n",
       "</style>\n",
       "<table border=\"1\" class=\"dataframe\">\n",
       "  <thead>\n",
       "    <tr style=\"text-align: right;\">\n",
       "      <th></th>\n",
       "      <th>UMAP_1</th>\n",
       "      <th>UMAP_2</th>\n",
       "    </tr>\n",
       "  </thead>\n",
       "  <tbody>\n",
       "    <tr>\n",
       "      <th>AAACATACAACCAC-1</th>\n",
       "      <td>11.257295</td>\n",
       "      <td>12.561447</td>\n",
       "    </tr>\n",
       "    <tr>\n",
       "      <th>AAACATTGAGCTAC-1</th>\n",
       "      <td>7.166475</td>\n",
       "      <td>-2.057729</td>\n",
       "    </tr>\n",
       "    <tr>\n",
       "      <th>AAACATTGATCAGC-1</th>\n",
       "      <td>15.217629</td>\n",
       "      <td>12.554446</td>\n",
       "    </tr>\n",
       "    <tr>\n",
       "      <th>AAACCGTGCTTCCG-1</th>\n",
       "      <td>-1.826561</td>\n",
       "      <td>6.781221</td>\n",
       "    </tr>\n",
       "    <tr>\n",
       "      <th>AAACCGTGTATGCG-1</th>\n",
       "      <td>7.656905</td>\n",
       "      <td>17.598440</td>\n",
       "    </tr>\n",
       "  </tbody>\n",
       "</table>\n",
       "</div>"
      ],
      "text/plain": [
       "                     UMAP_1     UMAP_2\n",
       "AAACATACAACCAC-1  11.257295  12.561447\n",
       "AAACATTGAGCTAC-1   7.166475  -2.057729\n",
       "AAACATTGATCAGC-1  15.217629  12.554446\n",
       "AAACCGTGCTTCCG-1  -1.826561   6.781221\n",
       "AAACCGTGTATGCG-1   7.656905  17.598440"
      ]
     },
     "execution_count": 3,
     "metadata": {},
     "output_type": "execute_result"
    }
   ],
   "source": [
    "print(\"LOADING UMAP DATA...\")\n",
    "\n",
    "umap = pd.read_csv('../data/pbmc3k_umap_20210324.tsv', sep='\\t', index_col=0)\n",
    "umap.head()"
   ]
  },
  {
   "cell_type": "code",
   "execution_count": 4,
   "id": "heated-bride",
   "metadata": {},
   "outputs": [
    {
     "name": "stdout",
     "output_type": "stream",
     "text": [
      "LOADING GENE EXPRESSION DATA...\n"
     ]
    },
    {
     "data": {
      "text/html": [
       "<div>\n",
       "<style scoped>\n",
       "    .dataframe tbody tr th:only-of-type {\n",
       "        vertical-align: middle;\n",
       "    }\n",
       "\n",
       "    .dataframe tbody tr th {\n",
       "        vertical-align: top;\n",
       "    }\n",
       "\n",
       "    .dataframe thead th {\n",
       "        text-align: right;\n",
       "    }\n",
       "</style>\n",
       "<table border=\"1\" class=\"dataframe\">\n",
       "  <thead>\n",
       "    <tr style=\"text-align: right;\">\n",
       "      <th></th>\n",
       "      <th>LINC00115</th>\n",
       "      <th>NOC2L</th>\n",
       "      <th>KLHL17</th>\n",
       "      <th>PLEKHN1</th>\n",
       "      <th>HES4</th>\n",
       "    </tr>\n",
       "  </thead>\n",
       "  <tbody>\n",
       "    <tr>\n",
       "      <th>AAACATACAACCAC-1</th>\n",
       "      <td>0.0</td>\n",
       "      <td>0.0</td>\n",
       "      <td>0.0</td>\n",
       "      <td>0.0</td>\n",
       "      <td>0.0</td>\n",
       "    </tr>\n",
       "    <tr>\n",
       "      <th>AAACATTGAGCTAC-1</th>\n",
       "      <td>0.0</td>\n",
       "      <td>0.0</td>\n",
       "      <td>0.0</td>\n",
       "      <td>0.0</td>\n",
       "      <td>0.0</td>\n",
       "    </tr>\n",
       "    <tr>\n",
       "      <th>AAACATTGATCAGC-1</th>\n",
       "      <td>0.0</td>\n",
       "      <td>0.0</td>\n",
       "      <td>0.0</td>\n",
       "      <td>0.0</td>\n",
       "      <td>0.0</td>\n",
       "    </tr>\n",
       "    <tr>\n",
       "      <th>AAACCGTGCTTCCG-1</th>\n",
       "      <td>0.0</td>\n",
       "      <td>0.0</td>\n",
       "      <td>0.0</td>\n",
       "      <td>0.0</td>\n",
       "      <td>0.0</td>\n",
       "    </tr>\n",
       "    <tr>\n",
       "      <th>AAACCGTGTATGCG-1</th>\n",
       "      <td>0.0</td>\n",
       "      <td>0.0</td>\n",
       "      <td>0.0</td>\n",
       "      <td>0.0</td>\n",
       "      <td>0.0</td>\n",
       "    </tr>\n",
       "  </tbody>\n",
       "</table>\n",
       "</div>"
      ],
      "text/plain": [
       "                  LINC00115  NOC2L  KLHL17  PLEKHN1  HES4\n",
       "AAACATACAACCAC-1        0.0    0.0     0.0      0.0   0.0\n",
       "AAACATTGAGCTAC-1        0.0    0.0     0.0      0.0   0.0\n",
       "AAACATTGATCAGC-1        0.0    0.0     0.0      0.0   0.0\n",
       "AAACCGTGCTTCCG-1        0.0    0.0     0.0      0.0   0.0\n",
       "AAACCGTGTATGCG-1        0.0    0.0     0.0      0.0   0.0"
      ]
     },
     "execution_count": 4,
     "metadata": {},
     "output_type": "execute_result"
    }
   ],
   "source": [
    "print(\"LOADING GENE EXPRESSION DATA...\")\n",
    "\n",
    "expr = pd.read_csv('../data/pbmc3k_expression_log2TP10K_20210324.tsv', sep='\\t', index_col=0)\n",
    "expr.iloc[:5,:5]"
   ]
  },
  {
   "cell_type": "code",
   "execution_count": 6,
   "id": "applied-father",
   "metadata": {},
   "outputs": [
    {
     "name": "stdout",
     "output_type": "stream",
     "text": [
      "0.0765528678894043 seconds to select and project cells\n",
      "Selected 526 cells\n",
      "Calculating correlations...\n"
     ]
    },
    {
     "name": "stderr",
     "output_type": "stream",
     "text": [
      "../sciviewer/sciviewer.py:563: RuntimeWarning: invalid value encountered in true_divide\n",
      "  rs = np.dot(DP, DO) / np.sqrt(np.sum(DO ** 2, 0) * np.sum(DP ** 2))\n"
     ]
    },
    {
     "name": "stdout",
     "output_type": "stream",
     "text": [
      "1.1528651714324951 seconds to calculate correlations. Sparsity:  False\n"
     ]
    }
   ],
   "source": [
    "svobj = SCIViewer(umap, expr)\n",
    "svobj.explore_data()"
   ]
  },
  {
   "cell_type": "markdown",
   "id": "44636b20-9246-41ce-97ad-1fbc3e46bbad",
   "metadata": {},
   "source": [
    "## The class attributes below get populated in real time and thus can be accessed when the interactive viewer is running"
   ]
  },
  {
   "cell_type": "code",
   "execution_count": 8,
   "id": "31beeffc-2265-4767-a760-84beb1ea5482",
   "metadata": {},
   "outputs": [
    {
     "data": {
      "text/html": [
       "<div>\n",
       "<style scoped>\n",
       "    .dataframe tbody tr th:only-of-type {\n",
       "        vertical-align: middle;\n",
       "    }\n",
       "\n",
       "    .dataframe tbody tr th {\n",
       "        vertical-align: top;\n",
       "    }\n",
       "\n",
       "    .dataframe thead th {\n",
       "        text-align: right;\n",
       "    }\n",
       "</style>\n",
       "<table border=\"1\" class=\"dataframe\">\n",
       "  <thead>\n",
       "    <tr style=\"text-align: right;\">\n",
       "      <th></th>\n",
       "      <th>index</th>\n",
       "      <th>cell_name</th>\n",
       "      <th>projection</th>\n",
       "    </tr>\n",
       "  </thead>\n",
       "  <tbody>\n",
       "    <tr>\n",
       "      <th>0</th>\n",
       "      <td>0</td>\n",
       "      <td>AAACATACAACCAC-1</td>\n",
       "      <td>0.079498</td>\n",
       "    </tr>\n",
       "    <tr>\n",
       "      <th>1</th>\n",
       "      <td>4</td>\n",
       "      <td>AAACCGTGTATGCG-1</td>\n",
       "      <td>0.771944</td>\n",
       "    </tr>\n",
       "    <tr>\n",
       "      <th>2</th>\n",
       "      <td>6</td>\n",
       "      <td>AAACGCTGACCAGT-1</td>\n",
       "      <td>0.275037</td>\n",
       "    </tr>\n",
       "    <tr>\n",
       "      <th>3</th>\n",
       "      <td>7</td>\n",
       "      <td>AAACGCTGGTTCTT-1</td>\n",
       "      <td>0.214253</td>\n",
       "    </tr>\n",
       "    <tr>\n",
       "      <th>4</th>\n",
       "      <td>8</td>\n",
       "      <td>AAACGCTGTAGCCA-1</td>\n",
       "      <td>0.196479</td>\n",
       "    </tr>\n",
       "  </tbody>\n",
       "</table>\n",
       "</div>"
      ],
      "text/plain": [
       "   index         cell_name  projection\n",
       "0      0  AAACATACAACCAC-1    0.079498\n",
       "1      4  AAACCGTGTATGCG-1    0.771944\n",
       "2      6  AAACGCTGACCAGT-1    0.275037\n",
       "3      7  AAACGCTGGTTCTT-1    0.214253\n",
       "4      8  AAACGCTGTAGCCA-1    0.196479"
      ]
     },
     "execution_count": 8,
     "metadata": {},
     "output_type": "execute_result"
    }
   ],
   "source": [
    "## This attribute get updated in real time whenever cells are selected\n",
    "\n",
    "svobj.selected_cells.head()"
   ]
  },
  {
   "cell_type": "code",
   "execution_count": 9,
   "id": "a363c4f8-2aa7-4d83-9503-f0b636e95472",
   "metadata": {},
   "outputs": [
    {
     "data": {
      "text/html": [
       "<div>\n",
       "<style scoped>\n",
       "    .dataframe tbody tr th:only-of-type {\n",
       "        vertical-align: middle;\n",
       "    }\n",
       "\n",
       "    .dataframe tbody tr th {\n",
       "        vertical-align: top;\n",
       "    }\n",
       "\n",
       "    .dataframe thead th {\n",
       "        text-align: right;\n",
       "    }\n",
       "</style>\n",
       "<table border=\"1\" class=\"dataframe\">\n",
       "  <thead>\n",
       "    <tr style=\"text-align: right;\">\n",
       "      <th></th>\n",
       "      <th>R</th>\n",
       "      <th>P</th>\n",
       "    </tr>\n",
       "  </thead>\n",
       "  <tbody>\n",
       "    <tr>\n",
       "      <th>LINC00115</th>\n",
       "      <td>-0.004645</td>\n",
       "      <td>0.915352</td>\n",
       "    </tr>\n",
       "    <tr>\n",
       "      <th>NOC2L</th>\n",
       "      <td>0.053452</td>\n",
       "      <td>0.221003</td>\n",
       "    </tr>\n",
       "    <tr>\n",
       "      <th>KLHL17</th>\n",
       "      <td>0.053389</td>\n",
       "      <td>0.221548</td>\n",
       "    </tr>\n",
       "    <tr>\n",
       "      <th>PLEKHN1</th>\n",
       "      <td>0.027167</td>\n",
       "      <td>0.534134</td>\n",
       "    </tr>\n",
       "    <tr>\n",
       "      <th>HES4</th>\n",
       "      <td>0.057122</td>\n",
       "      <td>0.190866</td>\n",
       "    </tr>\n",
       "  </tbody>\n",
       "</table>\n",
       "</div>"
      ],
      "text/plain": [
       "                  R         P\n",
       "LINC00115 -0.004645  0.915352\n",
       "NOC2L      0.053452  0.221003\n",
       "KLHL17     0.053389  0.221548\n",
       "PLEKHN1    0.027167  0.534134\n",
       "HES4       0.057122  0.190866"
      ]
     },
     "execution_count": 9,
     "metadata": {},
     "output_type": "execute_result"
    },
    {
     "name": "stdout",
     "output_type": "stream",
     "text": [
      "0.06090807914733887 seconds to select and project cells\n",
      "Selected 343 cells\n",
      "Calculating differential expression...\n",
      "0.022533178329467773 seconds to calculate genesums. Sparsity:  False\n",
      "0.34513401985168457 seconds to calculate squared genesums. Sparsity:  False\n"
     ]
    },
    {
     "name": "stderr",
     "output_type": "stream",
     "text": [
      "../sciviewer/sciviewer.py:522: RuntimeWarning: invalid value encountered in sqrt\n",
      "  remainder_stds = np.sqrt((self.gene_sqsum - selected_stds - (remainder_N*remainder_means**2)) / (remainder_N -1))\n"
     ]
    },
    {
     "name": "stdout",
     "output_type": "stream",
     "text": [
      "1.312014102935791 seconds to calculate differential expression. Sparsity:  False\n"
     ]
    }
   ],
   "source": [
    "## This gets updated in real time when cells are selected in differential expression mode\n",
    "svobj.results_proj_correlation.head()"
   ]
  },
  {
   "cell_type": "code",
   "execution_count": 11,
   "id": "4ad08c63-ef03-4e57-8a25-96b3609379f8",
   "metadata": {},
   "outputs": [
    {
     "data": {
      "text/html": [
       "<div>\n",
       "<style scoped>\n",
       "    .dataframe tbody tr th:only-of-type {\n",
       "        vertical-align: middle;\n",
       "    }\n",
       "\n",
       "    .dataframe tbody tr th {\n",
       "        vertical-align: top;\n",
       "    }\n",
       "\n",
       "    .dataframe thead th {\n",
       "        text-align: right;\n",
       "    }\n",
       "</style>\n",
       "<table border=\"1\" class=\"dataframe\">\n",
       "  <thead>\n",
       "    <tr style=\"text-align: right;\">\n",
       "      <th></th>\n",
       "      <th>T</th>\n",
       "      <th>P</th>\n",
       "    </tr>\n",
       "  </thead>\n",
       "  <tbody>\n",
       "    <tr>\n",
       "      <th>LINC00115</th>\n",
       "      <td>0.587919</td>\n",
       "      <td>0.556917</td>\n",
       "    </tr>\n",
       "    <tr>\n",
       "      <th>NOC2L</th>\n",
       "      <td>1.403902</td>\n",
       "      <td>0.161092</td>\n",
       "    </tr>\n",
       "    <tr>\n",
       "      <th>KLHL17</th>\n",
       "      <td>-0.259110</td>\n",
       "      <td>0.795651</td>\n",
       "    </tr>\n",
       "    <tr>\n",
       "      <th>PLEKHN1</th>\n",
       "      <td>-2.635037</td>\n",
       "      <td>0.008470</td>\n",
       "    </tr>\n",
       "    <tr>\n",
       "      <th>HES4</th>\n",
       "      <td>-4.881080</td>\n",
       "      <td>0.000001</td>\n",
       "    </tr>\n",
       "  </tbody>\n",
       "</table>\n",
       "</div>"
      ],
      "text/plain": [
       "                  T         P\n",
       "LINC00115  0.587919  0.556917\n",
       "NOC2L      1.403902  0.161092\n",
       "KLHL17    -0.259110  0.795651\n",
       "PLEKHN1   -2.635037  0.008470\n",
       "HES4      -4.881080  0.000001"
      ]
     },
     "execution_count": 11,
     "metadata": {},
     "output_type": "execute_result"
    },
    {
     "name": "stdout",
     "output_type": "stream",
     "text": [
      "0.07551074028015137 seconds to select and project cells\n",
      "Selected 525 cells\n",
      "Calculating correlations...\n"
     ]
    },
    {
     "name": "stderr",
     "output_type": "stream",
     "text": [
      "../sciviewer/sciviewer.py:563: RuntimeWarning: invalid value encountered in true_divide\n",
      "  rs = np.dot(DP, DO) / np.sqrt(np.sum(DO ** 2, 0) * np.sum(DP ** 2))\n"
     ]
    },
    {
     "name": "stdout",
     "output_type": "stream",
     "text": [
      "1.277630090713501 seconds to calculate correlations. Sparsity:  False\n"
     ]
    }
   ],
   "source": [
    "## This gets updated in real time when cells are selected in directional correlation mode\n",
    "svobj.results_diffexpr.head()"
   ]
  },
  {
   "cell_type": "code",
   "execution_count": 12,
   "id": "d18fa578-74d4-4804-92ab-2612ade2dde5",
   "metadata": {},
   "outputs": [
    {
     "data": {
      "text/html": [
       "<div>\n",
       "<style scoped>\n",
       "    .dataframe tbody tr th:only-of-type {\n",
       "        vertical-align: middle;\n",
       "    }\n",
       "\n",
       "    .dataframe tbody tr th {\n",
       "        vertical-align: top;\n",
       "    }\n",
       "\n",
       "    .dataframe thead th {\n",
       "        text-align: right;\n",
       "    }\n",
       "</style>\n",
       "<table border=\"1\" class=\"dataframe\">\n",
       "  <thead>\n",
       "    <tr style=\"text-align: right;\">\n",
       "      <th></th>\n",
       "      <th>R</th>\n",
       "      <th>P</th>\n",
       "    </tr>\n",
       "  </thead>\n",
       "  <tbody>\n",
       "    <tr>\n",
       "      <th>LINC00115</th>\n",
       "      <td>-0.004961</td>\n",
       "      <td>0.909711</td>\n",
       "    </tr>\n",
       "    <tr>\n",
       "      <th>NOC2L</th>\n",
       "      <td>0.052584</td>\n",
       "      <td>0.229047</td>\n",
       "    </tr>\n",
       "    <tr>\n",
       "      <th>KLHL17</th>\n",
       "      <td>0.053361</td>\n",
       "      <td>0.222230</td>\n",
       "    </tr>\n",
       "    <tr>\n",
       "      <th>PLEKHN1</th>\n",
       "      <td>0.027010</td>\n",
       "      <td>0.536898</td>\n",
       "    </tr>\n",
       "    <tr>\n",
       "      <th>HES4</th>\n",
       "      <td>0.057113</td>\n",
       "      <td>0.191360</td>\n",
       "    </tr>\n",
       "  </tbody>\n",
       "</table>\n",
       "</div>"
      ],
      "text/plain": [
       "                  R         P\n",
       "LINC00115 -0.004961  0.909711\n",
       "NOC2L      0.052584  0.229047\n",
       "KLHL17     0.053361  0.222230\n",
       "PLEKHN1    0.027010  0.536898\n",
       "HES4       0.057113  0.191360"
      ]
     },
     "execution_count": 12,
     "metadata": {},
     "output_type": "execute_result"
    }
   ],
   "source": [
    "svobj.results_proj_correlation.head()"
   ]
  },
  {
   "cell_type": "markdown",
   "id": "0b9a6fc5-cbf7-427a-97b1-a79e283c2e16",
   "metadata": {},
   "source": [
    "## The class attributes below only get populated when the export and close button is pushed"
   ]
  },
  {
   "cell_type": "code",
   "execution_count": 18,
   "id": "educated-target",
   "metadata": {},
   "outputs": [
    {
     "data": {
      "text/html": [
       "<div>\n",
       "<style scoped>\n",
       "    .dataframe tbody tr th:only-of-type {\n",
       "        vertical-align: middle;\n",
       "    }\n",
       "\n",
       "    .dataframe tbody tr th {\n",
       "        vertical-align: top;\n",
       "    }\n",
       "\n",
       "    .dataframe thead th {\n",
       "        text-align: right;\n",
       "    }\n",
       "</style>\n",
       "<table border=\"1\" class=\"dataframe\">\n",
       "  <thead>\n",
       "    <tr style=\"text-align: right;\">\n",
       "      <th></th>\n",
       "      <th>R</th>\n",
       "      <th>P</th>\n",
       "    </tr>\n",
       "  </thead>\n",
       "  <tbody>\n",
       "    <tr>\n",
       "      <th>GZMB</th>\n",
       "      <td>0.874089</td>\n",
       "      <td>3.996016e-166</td>\n",
       "    </tr>\n",
       "    <tr>\n",
       "      <th>GNLY</th>\n",
       "      <td>0.779129</td>\n",
       "      <td>3.731490e-108</td>\n",
       "    </tr>\n",
       "    <tr>\n",
       "      <th>FGFBP2</th>\n",
       "      <td>0.755538</td>\n",
       "      <td>3.926686e-98</td>\n",
       "    </tr>\n",
       "    <tr>\n",
       "      <th>PRF1</th>\n",
       "      <td>0.733799</td>\n",
       "      <td>7.355188e-90</td>\n",
       "    </tr>\n",
       "    <tr>\n",
       "      <th>NKG7</th>\n",
       "      <td>0.721800</td>\n",
       "      <td>1.236486e-85</td>\n",
       "    </tr>\n",
       "  </tbody>\n",
       "</table>\n",
       "</div>"
      ],
      "text/plain": [
       "               R              P\n",
       "GZMB    0.874089  3.996016e-166\n",
       "GNLY    0.779129  3.731490e-108\n",
       "FGFBP2  0.755538   3.926686e-98\n",
       "PRF1    0.733799   7.355188e-90\n",
       "NKG7    0.721800   1.236486e-85"
      ]
     },
     "execution_count": 18,
     "metadata": {},
     "output_type": "execute_result"
    }
   ],
   "source": [
    "svobj.significant_genes.head()"
   ]
  },
  {
   "cell_type": "code",
   "execution_count": 17,
   "id": "a466c829-808a-4a2f-af39-94871a53938e",
   "metadata": {},
   "outputs": [
    {
     "data": {
      "text/html": [
       "<div>\n",
       "<style scoped>\n",
       "    .dataframe tbody tr th:only-of-type {\n",
       "        vertical-align: middle;\n",
       "    }\n",
       "\n",
       "    .dataframe tbody tr th {\n",
       "        vertical-align: top;\n",
       "    }\n",
       "\n",
       "    .dataframe thead th {\n",
       "        text-align: right;\n",
       "    }\n",
       "</style>\n",
       "<table border=\"1\" class=\"dataframe\">\n",
       "  <thead>\n",
       "    <tr style=\"text-align: right;\">\n",
       "      <th></th>\n",
       "      <th>R</th>\n",
       "      <th>P</th>\n",
       "    </tr>\n",
       "  </thead>\n",
       "  <tbody>\n",
       "    <tr>\n",
       "      <th>IL7R</th>\n",
       "      <td>-0.458064</td>\n",
       "      <td>1.359945e-28</td>\n",
       "    </tr>\n",
       "    <tr>\n",
       "      <th>GZMK</th>\n",
       "      <td>-0.464188</td>\n",
       "      <td>2.056784e-29</td>\n",
       "    </tr>\n",
       "    <tr>\n",
       "      <th>LTB</th>\n",
       "      <td>-0.573685</td>\n",
       "      <td>2.822993e-47</td>\n",
       "    </tr>\n",
       "    <tr>\n",
       "      <th>CD3D</th>\n",
       "      <td>-0.592153</td>\n",
       "      <td>5.402196e-51</td>\n",
       "    </tr>\n",
       "    <tr>\n",
       "      <th>EEF1A1</th>\n",
       "      <td>-0.617950</td>\n",
       "      <td>1.314918e-56</td>\n",
       "    </tr>\n",
       "  </tbody>\n",
       "</table>\n",
       "</div>"
      ],
      "text/plain": [
       "               R             P\n",
       "IL7R   -0.458064  1.359945e-28\n",
       "GZMK   -0.464188  2.056784e-29\n",
       "LTB    -0.573685  2.822993e-47\n",
       "CD3D   -0.592153  5.402196e-51\n",
       "EEF1A1 -0.617950  1.314918e-56"
      ]
     },
     "execution_count": 17,
     "metadata": {},
     "output_type": "execute_result"
    }
   ],
   "source": [
    "svobj.significant_genes.tail()"
   ]
  },
  {
   "cell_type": "code",
   "execution_count": 15,
   "id": "thousand-viewer",
   "metadata": {},
   "outputs": [
    {
     "data": {
      "text/html": [
       "<div>\n",
       "<style scoped>\n",
       "    .dataframe tbody tr th:only-of-type {\n",
       "        vertical-align: middle;\n",
       "    }\n",
       "\n",
       "    .dataframe tbody tr th {\n",
       "        vertical-align: top;\n",
       "    }\n",
       "\n",
       "    .dataframe thead th {\n",
       "        text-align: right;\n",
       "    }\n",
       "</style>\n",
       "<table border=\"1\" class=\"dataframe\">\n",
       "  <thead>\n",
       "    <tr style=\"text-align: right;\">\n",
       "      <th></th>\n",
       "      <th>index</th>\n",
       "      <th>proj</th>\n",
       "      <th>exp</th>\n",
       "    </tr>\n",
       "  </thead>\n",
       "  <tbody>\n",
       "    <tr>\n",
       "      <th>0</th>\n",
       "      <td>AAACATACAACCAC-1</td>\n",
       "      <td>0.077073</td>\n",
       "      <td>0.000000</td>\n",
       "    </tr>\n",
       "    <tr>\n",
       "      <th>1</th>\n",
       "      <td>AAACCGTGTATGCG-1</td>\n",
       "      <td>0.755663</td>\n",
       "      <td>0.000000</td>\n",
       "    </tr>\n",
       "    <tr>\n",
       "      <th>2</th>\n",
       "      <td>AAACGCTGACCAGT-1</td>\n",
       "      <td>0.268625</td>\n",
       "      <td>0.000000</td>\n",
       "    </tr>\n",
       "    <tr>\n",
       "      <th>3</th>\n",
       "      <td>AAACGCTGGTTCTT-1</td>\n",
       "      <td>0.209041</td>\n",
       "      <td>2.205804</td>\n",
       "    </tr>\n",
       "    <tr>\n",
       "      <th>4</th>\n",
       "      <td>AAACGCTGTAGCCA-1</td>\n",
       "      <td>0.191950</td>\n",
       "      <td>0.000000</td>\n",
       "    </tr>\n",
       "  </tbody>\n",
       "</table>\n",
       "</div>"
      ],
      "text/plain": [
       "              index      proj       exp\n",
       "0  AAACATACAACCAC-1  0.077073  0.000000\n",
       "1  AAACCGTGTATGCG-1  0.755663  0.000000\n",
       "2  AAACGCTGACCAGT-1  0.268625  0.000000\n",
       "3  AAACGCTGGTTCTT-1  0.209041  2.205804\n",
       "4  AAACGCTGTAGCCA-1  0.191950  0.000000"
      ]
     },
     "execution_count": 15,
     "metadata": {},
     "output_type": "execute_result"
    }
   ],
   "source": [
    "svobj.selected_gene_cell_data.head()"
   ]
  },
  {
   "cell_type": "code",
   "execution_count": null,
   "id": "c7a7fab4-2f8e-4b58-9924-e793899b6151",
   "metadata": {},
   "outputs": [],
   "source": []
  }
 ],
 "metadata": {
  "kernelspec": {
   "display_name": "Python 3",
   "language": "python",
   "name": "python3"
  },
  "language_info": {
   "codemirror_mode": {
    "name": "ipython",
    "version": 3
   },
   "file_extension": ".py",
   "mimetype": "text/x-python",
   "name": "python",
   "nbconvert_exporter": "python",
   "pygments_lexer": "ipython3",
   "version": "3.8.8"
  }
 },
 "nbformat": 4,
 "nbformat_minor": 5
}
