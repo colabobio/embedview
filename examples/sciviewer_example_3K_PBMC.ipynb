{
 "cells": [
  {
   "cell_type": "code",
   "execution_count": 1,
   "id": "comparable-slovak",
   "metadata": {},
   "outputs": [],
   "source": [
    "%load_ext py5\n",
    "%gui osx"
   ]
  },
  {
   "cell_type": "code",
   "execution_count": 2,
   "id": "outstanding-mixture",
   "metadata": {},
   "outputs": [],
   "source": [
    "import pandas as pd\n",
    "import numpy as np\n",
    "from sciviewer import SCIViewer"
   ]
  },
  {
   "cell_type": "code",
   "execution_count": 3,
   "id": "1246c34a-55cd-4be9-8cef-3a8c8b562bb0",
   "metadata": {},
   "outputs": [
    {
     "name": "stdout",
     "output_type": "stream",
     "text": [
      "DOWNLOADING AND EXTRACTING EXAMPLE DATA\n",
      "--2021-04-20 17:34:02--  https://www.dropbox.com/s/ntwa1x9hxjzwwhx/pbmc3k_umap_20210420.tsv\n",
      "Resolving www.dropbox.com (www.dropbox.com)... 162.125.4.18\n",
      "Connecting to www.dropbox.com (www.dropbox.com)|162.125.4.18|:443... connected.\n",
      "HTTP request sent, awaiting response... 301 Moved Permanently\n",
      "Location: /s/raw/ntwa1x9hxjzwwhx/pbmc3k_umap_20210420.tsv [following]\n",
      "--2021-04-20 17:34:02--  https://www.dropbox.com/s/raw/ntwa1x9hxjzwwhx/pbmc3k_umap_20210420.tsv\n",
      "Reusing existing connection to www.dropbox.com:443.\n",
      "HTTP request sent, awaiting response... 302 Found\n",
      "Location: https://ucd381d54cf1794d3b80e19309d7.dl.dropboxusercontent.com/cd/0/inline/BM9GD3eRnQ4AaLpVfkIZ5zAyoO-JPK_YnKrnqx1C96sZxloxr4rra3QdcLX_WvLKT657DXBCzCLPVUfYGOXCPf3QN686hXngDkpICoMevrte_uIubxgPqLzzF-m2GB0cW8_d8nvzAX3ZLaQiuuQhpiVB/file# [following]\n",
      "--2021-04-20 17:34:02--  https://ucd381d54cf1794d3b80e19309d7.dl.dropboxusercontent.com/cd/0/inline/BM9GD3eRnQ4AaLpVfkIZ5zAyoO-JPK_YnKrnqx1C96sZxloxr4rra3QdcLX_WvLKT657DXBCzCLPVUfYGOXCPf3QN686hXngDkpICoMevrte_uIubxgPqLzzF-m2GB0cW8_d8nvzAX3ZLaQiuuQhpiVB/file\n",
      "Resolving ucd381d54cf1794d3b80e19309d7.dl.dropboxusercontent.com (ucd381d54cf1794d3b80e19309d7.dl.dropboxusercontent.com)... 162.125.4.15\n",
      "Connecting to ucd381d54cf1794d3b80e19309d7.dl.dropboxusercontent.com (ucd381d54cf1794d3b80e19309d7.dl.dropboxusercontent.com)|162.125.4.15|:443... connected.\n",
      "HTTP request sent, awaiting response... 200 OK\n",
      "Length: 96074 (94K) [text/plain]\n",
      "Saving to: ‘../data/pbmc3k_umap_20210420.tsv’\n",
      "\n",
      "../data/pbmc3k_umap 100%[===================>]  93.82K  --.-KB/s    in 0.03s   \n",
      "\n",
      "2021-04-20 17:34:03 (2.69 MB/s) - ‘../data/pbmc3k_umap_20210420.tsv’ saved [96074/96074]\n",
      "\n",
      "--2021-04-20 17:34:03--  https://www.dropbox.com/s/ruzzcpc4mw3hakp/pbmc3k_expression_log2TP10K_20210420.tsv\n",
      "Resolving www.dropbox.com (www.dropbox.com)... 162.125.4.18\n",
      "Connecting to www.dropbox.com (www.dropbox.com)|162.125.4.18|:443... connected.\n",
      "HTTP request sent, awaiting response... 301 Moved Permanently\n",
      "Location: /s/raw/ruzzcpc4mw3hakp/pbmc3k_expression_log2TP10K_20210420.tsv [following]\n",
      "--2021-04-20 17:34:03--  https://www.dropbox.com/s/raw/ruzzcpc4mw3hakp/pbmc3k_expression_log2TP10K_20210420.tsv\n",
      "Reusing existing connection to www.dropbox.com:443.\n",
      "HTTP request sent, awaiting response... 302 Found\n",
      "Location: https://ucefc9f5533291c9370c8b401754.dl.dropboxusercontent.com/cd/0/inline/BM9VqUXGMzR8u4PimOhg4OzBINFq6HsmqM4fraPlJKUqbm9L4zZgLVMl-g4BBBlv0A1o6EBjkOFp9qQPLGRmw2SgxHPJtyFXvrEUaXxyEf1Vs_4tgJEg1O_hU9cuV6peU4IkB7XSwVvNHiIgtVMJPE01/file# [following]\n",
      "--2021-04-20 17:34:04--  https://ucefc9f5533291c9370c8b401754.dl.dropboxusercontent.com/cd/0/inline/BM9VqUXGMzR8u4PimOhg4OzBINFq6HsmqM4fraPlJKUqbm9L4zZgLVMl-g4BBBlv0A1o6EBjkOFp9qQPLGRmw2SgxHPJtyFXvrEUaXxyEf1Vs_4tgJEg1O_hU9cuV6peU4IkB7XSwVvNHiIgtVMJPE01/file\n",
      "Resolving ucefc9f5533291c9370c8b401754.dl.dropboxusercontent.com (ucefc9f5533291c9370c8b401754.dl.dropboxusercontent.com)... 162.125.4.15\n",
      "Connecting to ucefc9f5533291c9370c8b401754.dl.dropboxusercontent.com (ucefc9f5533291c9370c8b401754.dl.dropboxusercontent.com)|162.125.4.15|:443... connected.\n",
      "HTTP request sent, awaiting response... 200 OK\n",
      "Length: 157873336 (151M) [text/plain]\n",
      "Saving to: ‘../data/pbmc3k_expression_log2TP10K_20210420.tsv’\n",
      "\n",
      "../data/pbmc3k_expr 100%[===================>] 150.56M  14.5MB/s    in 11s     \n",
      "\n",
      "2021-04-20 17:34:16 (13.2 MB/s) - ‘../data/pbmc3k_expression_log2TP10K_20210420.tsv’ saved [157873336/157873336]\n",
      "\n",
      "pbmc3k_expression_log2TP10K_20210420.tsv\n",
      "pbmc3k_umap_20210420.tsv\n"
     ]
    }
   ],
   "source": [
    "print('DOWNLOADING AND EXTRACTING EXAMPLE DATA')\n",
    "! mkdir -p ../data\n",
    "! wget https://www.dropbox.com/s/ntwa1x9hxjzwwhx/pbmc3k_umap_20210420.tsv -O ../data/pbmc3k_umap_20210420.tsv\n",
    "! wget https://www.dropbox.com/s/ruzzcpc4mw3hakp/pbmc3k_expression_log2TP10K_20210420.tsv -O ../data/pbmc3k_expression_log2TP10K_20210420.tsv\n",
    "! ls ../data"
   ]
  },
  {
   "cell_type": "code",
   "execution_count": 3,
   "id": "organic-professor",
   "metadata": {},
   "outputs": [
    {
     "name": "stdout",
     "output_type": "stream",
     "text": [
      "LOADING UMAP DATA...\n"
     ]
    },
    {
     "data": {
      "text/html": [
       "<div>\n",
       "<style scoped>\n",
       "    .dataframe tbody tr th:only-of-type {\n",
       "        vertical-align: middle;\n",
       "    }\n",
       "\n",
       "    .dataframe tbody tr th {\n",
       "        vertical-align: top;\n",
       "    }\n",
       "\n",
       "    .dataframe thead th {\n",
       "        text-align: right;\n",
       "    }\n",
       "</style>\n",
       "<table border=\"1\" class=\"dataframe\">\n",
       "  <thead>\n",
       "    <tr style=\"text-align: right;\">\n",
       "      <th></th>\n",
       "      <th>UMAP_1</th>\n",
       "      <th>UMAP_2</th>\n",
       "    </tr>\n",
       "  </thead>\n",
       "  <tbody>\n",
       "    <tr>\n",
       "      <th>AAACATACAACCAC-1</th>\n",
       "      <td>9.728817</td>\n",
       "      <td>4.212151</td>\n",
       "    </tr>\n",
       "    <tr>\n",
       "      <th>AAACATTGAGCTAC-1</th>\n",
       "      <td>3.799765</td>\n",
       "      <td>10.181845</td>\n",
       "    </tr>\n",
       "    <tr>\n",
       "      <th>AAACATTGATCAGC-1</th>\n",
       "      <td>7.023628</td>\n",
       "      <td>4.829623</td>\n",
       "    </tr>\n",
       "    <tr>\n",
       "      <th>AAACCGTGCTTCCG-1</th>\n",
       "      <td>-0.298523</td>\n",
       "      <td>2.024061</td>\n",
       "    </tr>\n",
       "    <tr>\n",
       "      <th>AAACCGTGTATGCG-1</th>\n",
       "      <td>8.018503</td>\n",
       "      <td>-0.300426</td>\n",
       "    </tr>\n",
       "  </tbody>\n",
       "</table>\n",
       "</div>"
      ],
      "text/plain": [
       "                    UMAP_1     UMAP_2\n",
       "AAACATACAACCAC-1  9.728817   4.212151\n",
       "AAACATTGAGCTAC-1  3.799765  10.181845\n",
       "AAACATTGATCAGC-1  7.023628   4.829623\n",
       "AAACCGTGCTTCCG-1 -0.298523   2.024061\n",
       "AAACCGTGTATGCG-1  8.018503  -0.300426"
      ]
     },
     "execution_count": 3,
     "metadata": {},
     "output_type": "execute_result"
    }
   ],
   "source": [
    "print(\"LOADING UMAP DATA...\")\n",
    "\n",
    "umap = pd.read_csv('../data/pbmc3k_umap_20210420.tsv', sep='\\t', index_col=0)\n",
    "umap.head() "
   ]
  },
  {
   "cell_type": "code",
   "execution_count": 4,
   "id": "heated-bride",
   "metadata": {},
   "outputs": [
    {
     "name": "stdout",
     "output_type": "stream",
     "text": [
      "LOADING GENE EXPRESSION DATA...\n"
     ]
    },
    {
     "data": {
      "text/html": [
       "<div>\n",
       "<style scoped>\n",
       "    .dataframe tbody tr th:only-of-type {\n",
       "        vertical-align: middle;\n",
       "    }\n",
       "\n",
       "    .dataframe tbody tr th {\n",
       "        vertical-align: top;\n",
       "    }\n",
       "\n",
       "    .dataframe thead th {\n",
       "        text-align: right;\n",
       "    }\n",
       "</style>\n",
       "<table border=\"1\" class=\"dataframe\">\n",
       "  <thead>\n",
       "    <tr style=\"text-align: right;\">\n",
       "      <th></th>\n",
       "      <th>AL627309.1</th>\n",
       "      <th>AP006222.2</th>\n",
       "      <th>RP11-206L10.2</th>\n",
       "      <th>RP11-206L10.9</th>\n",
       "      <th>LINC00115</th>\n",
       "    </tr>\n",
       "  </thead>\n",
       "  <tbody>\n",
       "    <tr>\n",
       "      <th>AAACATACAACCAC-1</th>\n",
       "      <td>0.0</td>\n",
       "      <td>0.0</td>\n",
       "      <td>0.0</td>\n",
       "      <td>0.0</td>\n",
       "      <td>0.0</td>\n",
       "    </tr>\n",
       "    <tr>\n",
       "      <th>AAACATTGAGCTAC-1</th>\n",
       "      <td>0.0</td>\n",
       "      <td>0.0</td>\n",
       "      <td>0.0</td>\n",
       "      <td>0.0</td>\n",
       "      <td>0.0</td>\n",
       "    </tr>\n",
       "    <tr>\n",
       "      <th>AAACATTGATCAGC-1</th>\n",
       "      <td>0.0</td>\n",
       "      <td>0.0</td>\n",
       "      <td>0.0</td>\n",
       "      <td>0.0</td>\n",
       "      <td>0.0</td>\n",
       "    </tr>\n",
       "    <tr>\n",
       "      <th>AAACCGTGCTTCCG-1</th>\n",
       "      <td>0.0</td>\n",
       "      <td>0.0</td>\n",
       "      <td>0.0</td>\n",
       "      <td>0.0</td>\n",
       "      <td>0.0</td>\n",
       "    </tr>\n",
       "    <tr>\n",
       "      <th>AAACCGTGTATGCG-1</th>\n",
       "      <td>0.0</td>\n",
       "      <td>0.0</td>\n",
       "      <td>0.0</td>\n",
       "      <td>0.0</td>\n",
       "      <td>0.0</td>\n",
       "    </tr>\n",
       "  </tbody>\n",
       "</table>\n",
       "</div>"
      ],
      "text/plain": [
       "                  AL627309.1  AP006222.2  RP11-206L10.2  RP11-206L10.9  \\\n",
       "AAACATACAACCAC-1         0.0         0.0            0.0            0.0   \n",
       "AAACATTGAGCTAC-1         0.0         0.0            0.0            0.0   \n",
       "AAACATTGATCAGC-1         0.0         0.0            0.0            0.0   \n",
       "AAACCGTGCTTCCG-1         0.0         0.0            0.0            0.0   \n",
       "AAACCGTGTATGCG-1         0.0         0.0            0.0            0.0   \n",
       "\n",
       "                  LINC00115  \n",
       "AAACATACAACCAC-1        0.0  \n",
       "AAACATTGAGCTAC-1        0.0  \n",
       "AAACATTGATCAGC-1        0.0  \n",
       "AAACCGTGCTTCCG-1        0.0  \n",
       "AAACCGTGTATGCG-1        0.0  "
      ]
     },
     "execution_count": 4,
     "metadata": {},
     "output_type": "execute_result"
    }
   ],
   "source": [
    "print(\"LOADING GENE EXPRESSION DATA...\")\n",
    "\n",
    "expr = pd.read_csv('../data/pbmc3k_expression_log2TP10K_20210420.tsv', sep='\\t', index_col=0)\n",
    "expr.iloc[:5,:5]"
   ]
  },
  {
   "cell_type": "code",
   "execution_count": 67,
   "id": "36c52546-9d9a-4ec0-8ada-b33571ffe95f",
   "metadata": {},
   "outputs": [
    {
     "name": "stdout",
     "output_type": "stream",
     "text": [
      "0.09125685691833496 seconds to select and project cells\n",
      "Selected 629 cells\n",
      "Calculating correlations...\n"
     ]
    },
    {
     "name": "stderr",
     "output_type": "stream",
     "text": [
      "/Users/dylankotliar/miniconda3/envs/sciviewer/lib/python3.8/site-packages/sciviewer/sciviewer.py:613: RuntimeWarning: invalid value encountered in true_divide\n",
      "  rs = np.dot(DP, DO) / np.sqrt(np.sum(DO ** 2, 0) * np.sum(DP ** 2))\n"
     ]
    },
    {
     "name": "stdout",
     "output_type": "stream",
     "text": [
      "2.0089569091796875 seconds to calculate correlations. Sparsity:  False\n",
      "Selected gene FCGR3A\n",
      "Min/max expression level for gene FCGR3A 0.0 4.1987143\n",
      "Selected gene RHOC\n",
      "Min/max expression level for gene RHOC 0.0 3.7419977\n",
      "Selected gene IFITM2\n",
      "Min/max expression level for gene IFITM2 0.0 5.139403\n",
      "Selected gene RPS19\n",
      "Min/max expression level for gene RPS19 0.0 6.014548\n",
      "Selected gene MS4A7\n",
      "Min/max expression level for gene MS4A7 0.0 4.4668155\n",
      "Selected gene S100A8\n",
      "Min/max expression level for gene S100A8 0.0 5.953327\n",
      "Selected gene LYZ\n",
      "Min/max expression level for gene LYZ 0.0 6.460587\n",
      "Selected gene S100A9\n",
      "Min/max expression level for gene S100A9 0.0 6.331901\n"
     ]
    }
   ],
   "source": [
    "svobj = SCIViewer(umap, expr)\n",
    "svobj.explore_data()"
   ]
  },
  {
   "cell_type": "markdown",
   "id": "1870e410-63d0-489d-9cd1-1856d7719d27",
   "metadata": {},
   "source": [
    "## The class attributes below get populated in real time and thus can be accessed when the interactive viewer is running"
   ]
  },
  {
   "cell_type": "code",
   "execution_count": 68,
   "id": "e9d0a1f8-ed9b-4947-ae36-12c857474014",
   "metadata": {},
   "outputs": [
    {
     "data": {
      "text/html": [
       "<div>\n",
       "<style scoped>\n",
       "    .dataframe tbody tr th:only-of-type {\n",
       "        vertical-align: middle;\n",
       "    }\n",
       "\n",
       "    .dataframe tbody tr th {\n",
       "        vertical-align: top;\n",
       "    }\n",
       "\n",
       "    .dataframe thead th {\n",
       "        text-align: right;\n",
       "    }\n",
       "</style>\n",
       "<table border=\"1\" class=\"dataframe\">\n",
       "  <thead>\n",
       "    <tr style=\"text-align: right;\">\n",
       "      <th></th>\n",
       "      <th>index</th>\n",
       "      <th>cell_name</th>\n",
       "      <th>projection</th>\n",
       "    </tr>\n",
       "  </thead>\n",
       "  <tbody>\n",
       "    <tr>\n",
       "      <th>0</th>\n",
       "      <td>3</td>\n",
       "      <td>AAACCGTGCTTCCG-1</td>\n",
       "      <td>0.606419</td>\n",
       "    </tr>\n",
       "    <tr>\n",
       "      <th>1</th>\n",
       "      <td>9</td>\n",
       "      <td>AAACGCTGTTTCTG-1</td>\n",
       "      <td>0.708702</td>\n",
       "    </tr>\n",
       "    <tr>\n",
       "      <th>2</th>\n",
       "      <td>13</td>\n",
       "      <td>AAAGAGACGCGAGA-1</td>\n",
       "      <td>0.314478</td>\n",
       "    </tr>\n",
       "    <tr>\n",
       "      <th>3</th>\n",
       "      <td>16</td>\n",
       "      <td>AAAGCAGATATCGG-1</td>\n",
       "      <td>0.403731</td>\n",
       "    </tr>\n",
       "    <tr>\n",
       "      <th>4</th>\n",
       "      <td>22</td>\n",
       "      <td>AAAGTTTGTAGCGT-1</td>\n",
       "      <td>0.080186</td>\n",
       "    </tr>\n",
       "  </tbody>\n",
       "</table>\n",
       "</div>"
      ],
      "text/plain": [
       "   index         cell_name  projection\n",
       "0      3  AAACCGTGCTTCCG-1    0.606419\n",
       "1      9  AAACGCTGTTTCTG-1    0.708702\n",
       "2     13  AAAGAGACGCGAGA-1    0.314478\n",
       "3     16  AAAGCAGATATCGG-1    0.403731\n",
       "4     22  AAAGTTTGTAGCGT-1    0.080186"
      ]
     },
     "execution_count": 68,
     "metadata": {},
     "output_type": "execute_result"
    }
   ],
   "source": [
    "## This attribute get updated in real time whenever cells are selected\n",
    "\n",
    "svobj.selected_cells.head()"
   ]
  },
  {
   "cell_type": "code",
   "execution_count": 69,
   "id": "97123ca6-4bb5-4b0a-9c35-5d37f9cd32f0",
   "metadata": {},
   "outputs": [
    {
     "data": {
      "text/html": [
       "<div>\n",
       "<style scoped>\n",
       "    .dataframe tbody tr th:only-of-type {\n",
       "        vertical-align: middle;\n",
       "    }\n",
       "\n",
       "    .dataframe tbody tr th {\n",
       "        vertical-align: top;\n",
       "    }\n",
       "\n",
       "    .dataframe thead th {\n",
       "        text-align: right;\n",
       "    }\n",
       "</style>\n",
       "<table border=\"1\" class=\"dataframe\">\n",
       "  <thead>\n",
       "    <tr style=\"text-align: right;\">\n",
       "      <th></th>\n",
       "      <th>R</th>\n",
       "      <th>P</th>\n",
       "    </tr>\n",
       "  </thead>\n",
       "  <tbody>\n",
       "    <tr>\n",
       "      <th>S100A8</th>\n",
       "      <td>-0.799867</td>\n",
       "      <td>3.810651e-141</td>\n",
       "    </tr>\n",
       "    <tr>\n",
       "      <th>FCGR3A</th>\n",
       "      <td>0.793967</td>\n",
       "      <td>1.238228e-137</td>\n",
       "    </tr>\n",
       "    <tr>\n",
       "      <th>LYZ</th>\n",
       "      <td>-0.788619</td>\n",
       "      <td>1.508324e-134</td>\n",
       "    </tr>\n",
       "    <tr>\n",
       "      <th>S100A9</th>\n",
       "      <td>-0.772039</td>\n",
       "      <td>1.587497e-125</td>\n",
       "    </tr>\n",
       "    <tr>\n",
       "      <th>RHOC</th>\n",
       "      <td>0.663269</td>\n",
       "      <td>5.694504e-81</td>\n",
       "    </tr>\n",
       "  </tbody>\n",
       "</table>\n",
       "</div>"
      ],
      "text/plain": [
       "               R              P\n",
       "S100A8 -0.799867  3.810651e-141\n",
       "FCGR3A  0.793967  1.238228e-137\n",
       "LYZ    -0.788619  1.508324e-134\n",
       "S100A9 -0.772039  1.587497e-125\n",
       "RHOC    0.663269   5.694504e-81"
      ]
     },
     "execution_count": 69,
     "metadata": {},
     "output_type": "execute_result"
    },
    {
     "name": "stdout",
     "output_type": "stream",
     "text": [
      "0.06225109100341797 seconds to select and project cells\n",
      "Selected 341 cells\n",
      "Calculating differential expression...\n",
      "0.03258109092712402 seconds to calculate genesums. Sparsity:  False\n",
      "0.3313109874725342 seconds to calculate squared genesums. Sparsity:  False\n"
     ]
    },
    {
     "name": "stderr",
     "output_type": "stream",
     "text": [
      "/Users/dylankotliar/miniconda3/envs/sciviewer/lib/python3.8/site-packages/sciviewer/sciviewer.py:572: RuntimeWarning: invalid value encountered in sqrt\n",
      "  remainder_stds = np.sqrt((self.gene_sqsum - selected_stds - (remainder_N*remainder_means**2)) / (remainder_N -1))\n"
     ]
    },
    {
     "name": "stdout",
     "output_type": "stream",
     "text": [
      "1.471858263015747 seconds to calculate differential expression. Sparsity:  False\n",
      "Selected gene CD74\n",
      "Min/max expression level for gene CD74 0.0 6.048452\n",
      "Selected gene HLA-DRA\n",
      "Min/max expression level for gene HLA-DRA 0.0 5.969516\n",
      "Selected gene HLA-DPB1\n",
      "Min/max expression level for gene HLA-DPB1 0.0 6.1795025\n",
      "Selected gene IL32\n",
      "Min/max expression level for gene IL32 0.0 5.5627327\n",
      "Selected gene S100A4\n",
      "Min/max expression level for gene S100A4 0.0 5.734671\n"
     ]
    }
   ],
   "source": [
    "## This gets updated in real time when cells are selected in directional mode\n",
    "svobj.results_proj_correlation.sort_values(by='P').head()"
   ]
  },
  {
   "cell_type": "code",
   "execution_count": 70,
   "id": "e1c90c02-f7ce-4e11-bd0d-c22336b49e50",
   "metadata": {},
   "outputs": [
    {
     "data": {
      "text/html": [
       "<div>\n",
       "<style scoped>\n",
       "    .dataframe tbody tr th:only-of-type {\n",
       "        vertical-align: middle;\n",
       "    }\n",
       "\n",
       "    .dataframe tbody tr th {\n",
       "        vertical-align: top;\n",
       "    }\n",
       "\n",
       "    .dataframe thead th {\n",
       "        text-align: right;\n",
       "    }\n",
       "</style>\n",
       "<table border=\"1\" class=\"dataframe\">\n",
       "  <thead>\n",
       "    <tr style=\"text-align: right;\">\n",
       "      <th></th>\n",
       "      <th>T</th>\n",
       "      <th>P</th>\n",
       "    </tr>\n",
       "  </thead>\n",
       "  <tbody>\n",
       "    <tr>\n",
       "      <th>HLA-DRA</th>\n",
       "      <td>74.540722</td>\n",
       "      <td>0.000000e+00</td>\n",
       "    </tr>\n",
       "    <tr>\n",
       "      <th>CD74</th>\n",
       "      <td>79.800984</td>\n",
       "      <td>0.000000e+00</td>\n",
       "    </tr>\n",
       "    <tr>\n",
       "      <th>HLA-DPB1</th>\n",
       "      <td>53.956061</td>\n",
       "      <td>2.257030e-272</td>\n",
       "    </tr>\n",
       "    <tr>\n",
       "      <th>HLA-DRB1</th>\n",
       "      <td>49.154586</td>\n",
       "      <td>2.278954e-243</td>\n",
       "    </tr>\n",
       "    <tr>\n",
       "      <th>CD3D</th>\n",
       "      <td>-36.755880</td>\n",
       "      <td>3.394393e-207</td>\n",
       "    </tr>\n",
       "  </tbody>\n",
       "</table>\n",
       "</div>"
      ],
      "text/plain": [
       "                  T              P\n",
       "HLA-DRA   74.540722   0.000000e+00\n",
       "CD74      79.800984   0.000000e+00\n",
       "HLA-DPB1  53.956061  2.257030e-272\n",
       "HLA-DRB1  49.154586  2.278954e-243\n",
       "CD3D     -36.755880  3.394393e-207"
      ]
     },
     "execution_count": 70,
     "metadata": {},
     "output_type": "execute_result"
    },
    {
     "name": "stdout",
     "output_type": "stream",
     "text": [
      "0.20721697807312012 seconds to select and project cells\n",
      "Selected 1564 cells\n",
      "Calculating correlations...\n"
     ]
    },
    {
     "name": "stderr",
     "output_type": "stream",
     "text": [
      "/Users/dylankotliar/miniconda3/envs/sciviewer/lib/python3.8/site-packages/sciviewer/sciviewer.py:613: RuntimeWarning: invalid value encountered in true_divide\n",
      "  rs = np.dot(DP, DO) / np.sqrt(np.sum(DO ** 2, 0) * np.sum(DP ** 2))\n"
     ]
    },
    {
     "name": "stdout",
     "output_type": "stream",
     "text": [
      "2.8474719524383545 seconds to calculate correlations. Sparsity:  False\n",
      "Selected gene RPL32\n",
      "Min/max expression level for gene RPL32 0.0 5.7993245\n",
      "Selected gene RPS12\n",
      "Min/max expression level for gene RPS12 0.0 6.1948423\n",
      "EXPORTING DATA...\n",
      "BYE\n"
     ]
    }
   ],
   "source": [
    "## This gets updated in real time when cells are selected in differential mode\n",
    "svobj.results_diffexpr.sort_values(by='P').head()"
   ]
  },
  {
   "cell_type": "markdown",
   "id": "ec791863-20a7-4244-b2c9-4afae6e74ce9",
   "metadata": {},
   "source": [
    "## The class attributes below only get populated when the export and close button is pushed"
   ]
  },
  {
   "cell_type": "code",
   "execution_count": null,
   "id": "00ef2d06-5838-47bb-9c3c-065521454bac",
   "metadata": {},
   "outputs": [],
   "source": [
    "svobj.significant_genes.head()"
   ]
  },
  {
   "cell_type": "code",
   "execution_count": null,
   "id": "98b466ea-1cb4-4b44-958b-765d4f361c0a",
   "metadata": {},
   "outputs": [],
   "source": []
  }
 ],
 "metadata": {
  "kernelspec": {
   "display_name": "Python 3",
   "language": "python",
   "name": "python3"
  },
  "language_info": {
   "codemirror_mode": {
    "name": "ipython",
    "version": 3
   },
   "file_extension": ".py",
   "mimetype": "text/x-python",
   "name": "python",
   "nbconvert_exporter": "python",
   "pygments_lexer": "ipython3",
   "version": "3.8.8"
  }
 },
 "nbformat": 4,
 "nbformat_minor": 5
}
