{
 "cells": [
  {
   "cell_type": "markdown",
   "id": "ede7b532-5102-4de1-96d5-5b82fef16ffc",
   "metadata": {},
   "source": [
    "## This is a much bigger dataset than the 3000 PBMC sample, as it contains 50,000 T-cells. We run visualizer using sparse data as input and the performance is still quite good"
   ]
  },
  {
   "cell_type": "code",
   "execution_count": 1,
   "id": "lined-conditions",
   "metadata": {},
   "outputs": [],
   "source": [
    "import pandas as pd\n",
    "import numpy as np\n",
    "from scipy.io import mmread\n",
    "import scipy.sparse as sparse\n",
    "from sciviewer import SCIViewer"
   ]
  },
  {
   "cell_type": "code",
   "execution_count": 2,
   "id": "assumed-truck",
   "metadata": {},
   "outputs": [],
   "source": [
    "%load_ext py5\n",
    "%gui osx\n",
    "%load_ext autoreload\n",
    "%autoreload 2"
   ]
  },
  {
   "cell_type": "code",
   "execution_count": 3,
   "id": "b9d806dd-5030-4eca-b364-3ae18e17fc1a",
   "metadata": {
    "tags": []
   },
   "outputs": [
    {
     "name": "stdout",
     "output_type": "stream",
     "text": [
      "DOWNLOADING AND EXTRACTING EXAMPLE DATA\n",
      "--2021-04-20 19:31:56--  https://www.dropbox.com/s/n3dbhu03845qwmb/Tcell50K_expression_log2TP10K_20210409.barcodes.tsv\n",
      "Resolving www.dropbox.com (www.dropbox.com)... 162.125.4.18\n",
      "Connecting to www.dropbox.com (www.dropbox.com)|162.125.4.18|:443... connected.\n",
      "HTTP request sent, awaiting response... 301 Moved Permanently\n",
      "Location: /s/raw/n3dbhu03845qwmb/Tcell50K_expression_log2TP10K_20210409.barcodes.tsv [following]\n",
      "--2021-04-20 19:31:57--  https://www.dropbox.com/s/raw/n3dbhu03845qwmb/Tcell50K_expression_log2TP10K_20210409.barcodes.tsv\n",
      "Reusing existing connection to www.dropbox.com:443.\n",
      "HTTP request sent, awaiting response... 302 Found\n",
      "Location: https://uc887d3c6dcb205554d72ced7a55.dl.dropboxusercontent.com/cd/0/inline/BNB9Md2Z56v4Pth4UTTjEhmhCukp7M0HCAqMURw4PUcr4AF1vy_i8eSE7mfeXoAV4QZL_aRl0YtGtMUG676Q3RCVECEH5hcgPC6HBJlN7l7v-jRDzzHB6DZHxZwV0WvH-HV9CMBhWZVm2c32HJjJQZhR/file# [following]\n",
      "--2021-04-20 19:31:57--  https://uc887d3c6dcb205554d72ced7a55.dl.dropboxusercontent.com/cd/0/inline/BNB9Md2Z56v4Pth4UTTjEhmhCukp7M0HCAqMURw4PUcr4AF1vy_i8eSE7mfeXoAV4QZL_aRl0YtGtMUG676Q3RCVECEH5hcgPC6HBJlN7l7v-jRDzzHB6DZHxZwV0WvH-HV9CMBhWZVm2c32HJjJQZhR/file\n",
      "Resolving uc887d3c6dcb205554d72ced7a55.dl.dropboxusercontent.com (uc887d3c6dcb205554d72ced7a55.dl.dropboxusercontent.com)... 162.125.4.15\n",
      "Connecting to uc887d3c6dcb205554d72ced7a55.dl.dropboxusercontent.com (uc887d3c6dcb205554d72ced7a55.dl.dropboxusercontent.com)|162.125.4.15|:443... connected.\n",
      "HTTP request sent, awaiting response... 200 OK\n",
      "Length: 899282 (878K) [text/plain]\n",
      "Saving to: ‘../data/Tcell50K_expression_log2TP10K_20210409.barcodes.tsv’\n",
      "\n",
      "../data/Tcell50K_ex 100%[===================>] 878.21K  --.-KB/s    in 0.1s    \n",
      "\n",
      "2021-04-20 19:31:58 (5.86 MB/s) - ‘../data/Tcell50K_expression_log2TP10K_20210409.barcodes.tsv’ saved [899282/899282]\n",
      "\n",
      "--2021-04-20 19:31:58--  https://www.dropbox.com/s/8df9uc5yzxv8zob/Tcell50K_expression_log2TP10K_20210409.genes.tsv\n",
      "Resolving www.dropbox.com (www.dropbox.com)... 162.125.4.18\n",
      "Connecting to www.dropbox.com (www.dropbox.com)|162.125.4.18|:443... connected.\n",
      "HTTP request sent, awaiting response... 301 Moved Permanently\n",
      "Location: /s/raw/8df9uc5yzxv8zob/Tcell50K_expression_log2TP10K_20210409.genes.tsv [following]\n",
      "--2021-04-20 19:31:58--  https://www.dropbox.com/s/raw/8df9uc5yzxv8zob/Tcell50K_expression_log2TP10K_20210409.genes.tsv\n",
      "Reusing existing connection to www.dropbox.com:443.\n",
      "HTTP request sent, awaiting response... 302 Found\n",
      "Location: https://uc91ed58ef382b559ab7a29fa79a.dl.dropboxusercontent.com/cd/0/inline/BNDjJCbGR4QBtodC9h0cGKY-KcMMCN7b2xzh3RCWA_gwqT8_Sb0-wnIYnXUdwyn1Z3BKkoJGvmEc7Bpw1HFWKIGvm1iR0ZlzDm_PcC196VM7XGJKGWtat4alNFh70JiF-JWvKuu28ME1KlIxalNKRwdg/file# [following]\n",
      "--2021-04-20 19:31:59--  https://uc91ed58ef382b559ab7a29fa79a.dl.dropboxusercontent.com/cd/0/inline/BNDjJCbGR4QBtodC9h0cGKY-KcMMCN7b2xzh3RCWA_gwqT8_Sb0-wnIYnXUdwyn1Z3BKkoJGvmEc7Bpw1HFWKIGvm1iR0ZlzDm_PcC196VM7XGJKGWtat4alNFh70JiF-JWvKuu28ME1KlIxalNKRwdg/file\n",
      "Resolving uc91ed58ef382b559ab7a29fa79a.dl.dropboxusercontent.com (uc91ed58ef382b559ab7a29fa79a.dl.dropboxusercontent.com)... 162.125.4.15\n",
      "Connecting to uc91ed58ef382b559ab7a29fa79a.dl.dropboxusercontent.com (uc91ed58ef382b559ab7a29fa79a.dl.dropboxusercontent.com)|162.125.4.15|:443... connected.\n",
      "HTTP request sent, awaiting response... 200 OK\n",
      "Length: 283305 (277K) [text/plain]\n",
      "Saving to: ‘../data/Tcell50K_expression_log2TP10K_20210409.genes.tsv’\n",
      "\n",
      "../data/Tcell50K_ex 100%[===================>] 276.67K  --.-KB/s    in 0.07s   \n",
      "\n",
      "2021-04-20 19:31:59 (4.07 MB/s) - ‘../data/Tcell50K_expression_log2TP10K_20210409.genes.tsv’ saved [283305/283305]\n",
      "\n",
      "--2021-04-20 19:31:59--  https://www.dropbox.com/s/w0iklq4uifsyljn/Tcell50K_expression_log2TP10K_20210409.umap.tsv\n",
      "Resolving www.dropbox.com (www.dropbox.com)... 162.125.4.18\n",
      "Connecting to www.dropbox.com (www.dropbox.com)|162.125.4.18|:443... connected.\n",
      "HTTP request sent, awaiting response... 301 Moved Permanently\n",
      "Location: /s/raw/w0iklq4uifsyljn/Tcell50K_expression_log2TP10K_20210409.umap.tsv [following]\n",
      "--2021-04-20 19:31:59--  https://www.dropbox.com/s/raw/w0iklq4uifsyljn/Tcell50K_expression_log2TP10K_20210409.umap.tsv\n",
      "Reusing existing connection to www.dropbox.com:443.\n",
      "HTTP request sent, awaiting response... 302 Found\n",
      "Location: https://ucfaa0e6b9a0b38e982889eedb1d.dl.dropboxusercontent.com/cd/0/inline/BNBaPJ4_fvFpBsHbX5DcQ0b9pYE7A71Y66uGYyS1beg7QvuchjUdPPjfVM3DMSR4u0hIdgMv8VoHu_bQM3TV1sLrBV4_IUI-v0WYocn2dsSA6up_NqDPXH9QO7uQgXTfwERx9v61P4R4T-1dz6TAbjJ0/file# [following]\n",
      "--2021-04-20 19:32:00--  https://ucfaa0e6b9a0b38e982889eedb1d.dl.dropboxusercontent.com/cd/0/inline/BNBaPJ4_fvFpBsHbX5DcQ0b9pYE7A71Y66uGYyS1beg7QvuchjUdPPjfVM3DMSR4u0hIdgMv8VoHu_bQM3TV1sLrBV4_IUI-v0WYocn2dsSA6up_NqDPXH9QO7uQgXTfwERx9v61P4R4T-1dz6TAbjJ0/file\n",
      "Resolving ucfaa0e6b9a0b38e982889eedb1d.dl.dropboxusercontent.com (ucfaa0e6b9a0b38e982889eedb1d.dl.dropboxusercontent.com)... 162.125.4.15\n",
      "Connecting to ucfaa0e6b9a0b38e982889eedb1d.dl.dropboxusercontent.com (ucfaa0e6b9a0b38e982889eedb1d.dl.dropboxusercontent.com)|162.125.4.15|:443... connected.\n",
      "HTTP request sent, awaiting response... 200 OK\n",
      "Length: 1948398 (1.9M) [text/plain]\n",
      "Saving to: ‘../data/Tcell50K_expression_log2TP10K_20210409.umap.tsv’\n",
      "\n",
      "../data/Tcell50K_ex 100%[===================>]   1.86M  9.82MB/s    in 0.2s    \n",
      "\n",
      "2021-04-20 19:32:01 (9.82 MB/s) - ‘../data/Tcell50K_expression_log2TP10K_20210409.umap.tsv’ saved [1948398/1948398]\n",
      "\n",
      "--2021-04-20 19:32:01--  https://www.dropbox.com/s/zewzv04mrfoggix/Tcell50K_expression_log2TP10K_20210409.mtx\n",
      "Resolving www.dropbox.com (www.dropbox.com)... 162.125.4.18\n",
      "Connecting to www.dropbox.com (www.dropbox.com)|162.125.4.18|:443... connected.\n",
      "HTTP request sent, awaiting response... 301 Moved Permanently\n",
      "Location: /s/raw/zewzv04mrfoggix/Tcell50K_expression_log2TP10K_20210409.mtx [following]\n",
      "--2021-04-20 19:32:01--  https://www.dropbox.com/s/raw/zewzv04mrfoggix/Tcell50K_expression_log2TP10K_20210409.mtx\n",
      "Reusing existing connection to www.dropbox.com:443.\n",
      "HTTP request sent, awaiting response... 302 Found\n",
      "Location: https://ucdb351944a66938d6144dbdca93.dl.dropboxusercontent.com/cd/0/inline/BNBrH3Fsi1vnz7AxZckzhJM_AduwKiVF6oQ7Air76JVkZUMDphMWu6hVIDedTZI4rJFaaR6u_sp0WXM9OaLB3WCHcBmQrJJp1I8XM4jbtifD8p_NWnqsW-x2_cxxBGJ9ijEnnOpdO3cg0J7kGLR7V69P/file# [following]\n",
      "--2021-04-20 19:32:02--  https://ucdb351944a66938d6144dbdca93.dl.dropboxusercontent.com/cd/0/inline/BNBrH3Fsi1vnz7AxZckzhJM_AduwKiVF6oQ7Air76JVkZUMDphMWu6hVIDedTZI4rJFaaR6u_sp0WXM9OaLB3WCHcBmQrJJp1I8XM4jbtifD8p_NWnqsW-x2_cxxBGJ9ijEnnOpdO3cg0J7kGLR7V69P/file\n",
      "Resolving ucdb351944a66938d6144dbdca93.dl.dropboxusercontent.com (ucdb351944a66938d6144dbdca93.dl.dropboxusercontent.com)... 162.125.4.15\n",
      "Connecting to ucdb351944a66938d6144dbdca93.dl.dropboxusercontent.com (ucdb351944a66938d6144dbdca93.dl.dropboxusercontent.com)|162.125.4.15|:443... connected.\n",
      "HTTP request sent, awaiting response... 200 OK\n",
      "Length: 618672073 (590M) [text/plain]\n",
      "Saving to: ‘../data/Tcell50K_expression_log2TP10K_20210409.mtx’\n",
      "\n",
      "../data/Tcell50K_ex 100%[===================>] 590.01M  14.3MB/s    in 42s     \n",
      "\n",
      "2021-04-20 19:32:45 (14.0 MB/s) - ‘../data/Tcell50K_expression_log2TP10K_20210409.mtx’ saved [618672073/618672073]\n",
      "\n"
     ]
    }
   ],
   "source": [
    "print('DOWNLOADING AND EXTRACTING EXAMPLE DATA')\n",
    "! mkdir -p ../data\n",
    "! wget https://www.dropbox.com/s/n3dbhu03845qwmb/Tcell50K_expression_log2TP10K_20210409.barcodes.tsv -O ../data/Tcell50K_expression_log2TP10K_20210409.barcodes.tsv\n",
    "! wget https://www.dropbox.com/s/8df9uc5yzxv8zob/Tcell50K_expression_log2TP10K_20210409.genes.tsv -O ../data/Tcell50K_expression_log2TP10K_20210409.genes.tsv\n",
    "! wget https://www.dropbox.com/s/w0iklq4uifsyljn/Tcell50K_expression_log2TP10K_20210409.umap.tsv -O ../data/Tcell50K_expression_log2TP10K_20210409.umap.tsv\n",
    "! wget https://www.dropbox.com/s/zewzv04mrfoggix/Tcell50K_expression_log2TP10K_20210409.mtx -O ../data/Tcell50K_expression_log2TP10K_20210409.mtx"
   ]
  },
  {
   "cell_type": "code",
   "execution_count": 4,
   "id": "solar-linux",
   "metadata": {},
   "outputs": [
    {
     "name": "stdout",
     "output_type": "stream",
     "text": [
      "LOADING UMAP DATA...\n"
     ]
    },
    {
     "data": {
      "text/html": [
       "<div>\n",
       "<style scoped>\n",
       "    .dataframe tbody tr th:only-of-type {\n",
       "        vertical-align: middle;\n",
       "    }\n",
       "\n",
       "    .dataframe tbody tr th {\n",
       "        vertical-align: top;\n",
       "    }\n",
       "\n",
       "    .dataframe thead th {\n",
       "        text-align: right;\n",
       "    }\n",
       "</style>\n",
       "<table border=\"1\" class=\"dataframe\">\n",
       "  <thead>\n",
       "    <tr style=\"text-align: right;\">\n",
       "      <th></th>\n",
       "      <th>UMAP_1</th>\n",
       "      <th>UMAP_2</th>\n",
       "    </tr>\n",
       "  </thead>\n",
       "  <tbody>\n",
       "    <tr>\n",
       "      <th>AAACATACACCCAA-1</th>\n",
       "      <td>3.975246</td>\n",
       "      <td>10.370767</td>\n",
       "    </tr>\n",
       "    <tr>\n",
       "      <th>AAACATACCCCTCA-1</th>\n",
       "      <td>9.388674</td>\n",
       "      <td>1.431675</td>\n",
       "    </tr>\n",
       "    <tr>\n",
       "      <th>AAACATACCGGAGA-1</th>\n",
       "      <td>12.206055</td>\n",
       "      <td>11.943375</td>\n",
       "    </tr>\n",
       "    <tr>\n",
       "      <th>AAACATACTCTTCA-1</th>\n",
       "      <td>15.312049</td>\n",
       "      <td>-2.373958</td>\n",
       "    </tr>\n",
       "    <tr>\n",
       "      <th>AAACATACTGGATC-1</th>\n",
       "      <td>10.571509</td>\n",
       "      <td>-6.149192</td>\n",
       "    </tr>\n",
       "  </tbody>\n",
       "</table>\n",
       "</div>"
      ],
      "text/plain": [
       "                     UMAP_1     UMAP_2\n",
       "AAACATACACCCAA-1   3.975246  10.370767\n",
       "AAACATACCCCTCA-1   9.388674   1.431675\n",
       "AAACATACCGGAGA-1  12.206055  11.943375\n",
       "AAACATACTCTTCA-1  15.312049  -2.373958\n",
       "AAACATACTGGATC-1  10.571509  -6.149192"
      ]
     },
     "execution_count": 4,
     "metadata": {},
     "output_type": "execute_result"
    }
   ],
   "source": [
    "print(\"LOADING UMAP DATA...\")\n",
    "\n",
    "umap = pd.read_csv('../data/Tcell50K_expression_log2TP10K_20210409.umap.tsv', sep='\\t', index_col=0)\n",
    "umap.head()"
   ]
  },
  {
   "cell_type": "code",
   "execution_count": 5,
   "id": "fourth-switzerland",
   "metadata": {},
   "outputs": [
    {
     "name": "stdout",
     "output_type": "stream",
     "text": [
      "LOADING GENE EXPRESSION DATA...\n"
     ]
    },
    {
     "data": {
      "text/plain": [
       "<52899x12563 sparse matrix of type '<class 'numpy.float64'>'\n",
       "\twith 28209469 stored elements in Compressed Sparse Column format>"
      ]
     },
     "execution_count": 5,
     "metadata": {},
     "output_type": "execute_result"
    }
   ],
   "source": [
    "print(\"LOADING GENE EXPRESSION DATA...\")\n",
    "\n",
    "expr_sparse = mmread('../data/Tcell50K_expression_log2TP10K_20210409.mtx')\n",
    "expr_sparse = sparse.csc_matrix(expr_sparse)\n",
    "expr_sparse"
   ]
  },
  {
   "cell_type": "code",
   "execution_count": 6,
   "id": "champion-innocent",
   "metadata": {},
   "outputs": [],
   "source": [
    "genes = list(pd.read_csv('../data/Tcell50K_expression_log2TP10K_20210409.genes.tsv', sep='\\t', header=None)[0])\n",
    "barcodes = list(pd.read_csv('../data/Tcell50K_expression_log2TP10K_20210409.barcodes.tsv', sep='\\t', header=None)[0])"
   ]
  },
  {
   "cell_type": "code",
   "execution_count": 7,
   "id": "herbal-census",
   "metadata": {},
   "outputs": [
    {
     "name": "stdout",
     "output_type": "stream",
     "text": [
      "1.7960572242736816 seconds to select and project cells\n",
      "Selected 12282 cells\n",
      "Calculating differential expression...\n",
      "0.07000613212585449 seconds to calculate genesums. Sparsity:  True\n",
      "0.7171468734741211 seconds to calculate squared genesums. Sparsity:  True\n",
      "2.4086992740631104 seconds to calculate differential expression. Sparsity:  True\n",
      "Selected gene NKG7\n",
      "Min/max expression level for gene NKG7 0.0 5.463\n",
      "Selected gene GZMA\n",
      "Min/max expression level for gene GZMA 0.0 4.8103\n",
      "Selected gene CCL5\n",
      "Min/max expression level for gene CCL5 0.0 5.743\n"
     ]
    }
   ],
   "source": [
    "# gene and cell names are provided to the gene_names and cell_names attributes since\n",
    "# those don't go directly with the sparse data structure\n",
    "\n",
    "svobj = SCIViewer(umap, expr_sparse, gene_names=genes,\n",
    "                    cell_names=barcodes)\n",
    "svobj.explore_data()"
   ]
  },
  {
   "cell_type": "code",
   "execution_count": 8,
   "id": "intimate-chest",
   "metadata": {},
   "outputs": [
    {
     "data": {
      "text/html": [
       "<div>\n",
       "<style scoped>\n",
       "    .dataframe tbody tr th:only-of-type {\n",
       "        vertical-align: middle;\n",
       "    }\n",
       "\n",
       "    .dataframe tbody tr th {\n",
       "        vertical-align: top;\n",
       "    }\n",
       "\n",
       "    .dataframe thead th {\n",
       "        text-align: right;\n",
       "    }\n",
       "</style>\n",
       "<table border=\"1\" class=\"dataframe\">\n",
       "  <thead>\n",
       "    <tr style=\"text-align: right;\">\n",
       "      <th></th>\n",
       "      <th>index</th>\n",
       "      <th>cell_name</th>\n",
       "      <th>projection</th>\n",
       "    </tr>\n",
       "  </thead>\n",
       "  <tbody>\n",
       "    <tr>\n",
       "      <th>0</th>\n",
       "      <td>0</td>\n",
       "      <td>AAACATACACCCAA-1</td>\n",
       "      <td>0.850499</td>\n",
       "    </tr>\n",
       "    <tr>\n",
       "      <th>1</th>\n",
       "      <td>7</td>\n",
       "      <td>AAACATTGCTTCGC-1</td>\n",
       "      <td>0.141245</td>\n",
       "    </tr>\n",
       "    <tr>\n",
       "      <th>2</th>\n",
       "      <td>12</td>\n",
       "      <td>AAACCGTGCCCAAA-1</td>\n",
       "      <td>0.635838</td>\n",
       "    </tr>\n",
       "    <tr>\n",
       "      <th>3</th>\n",
       "      <td>13</td>\n",
       "      <td>AAACCGTGCGATAC-1</td>\n",
       "      <td>0.859967</td>\n",
       "    </tr>\n",
       "    <tr>\n",
       "      <th>4</th>\n",
       "      <td>15</td>\n",
       "      <td>AAACCGTGTCACCC-1</td>\n",
       "      <td>0.808978</td>\n",
       "    </tr>\n",
       "  </tbody>\n",
       "</table>\n",
       "</div>"
      ],
      "text/plain": [
       "   index         cell_name  projection\n",
       "0      0  AAACATACACCCAA-1    0.850499\n",
       "1      7  AAACATTGCTTCGC-1    0.141245\n",
       "2     12  AAACCGTGCCCAAA-1    0.635838\n",
       "3     13  AAACCGTGCGATAC-1    0.859967\n",
       "4     15  AAACCGTGTCACCC-1    0.808978"
      ]
     },
     "execution_count": 8,
     "metadata": {},
     "output_type": "execute_result"
    }
   ],
   "source": [
    "## This attribute get updated in real time whenever cells are selected\n",
    "\n",
    "svobj.selected_cells.head()"
   ]
  },
  {
   "cell_type": "code",
   "execution_count": 11,
   "id": "b4d3d6af-d956-48f0-9d83-e937387a813b",
   "metadata": {},
   "outputs": [
    {
     "data": {
      "text/html": [
       "<div>\n",
       "<style scoped>\n",
       "    .dataframe tbody tr th:only-of-type {\n",
       "        vertical-align: middle;\n",
       "    }\n",
       "\n",
       "    .dataframe tbody tr th {\n",
       "        vertical-align: top;\n",
       "    }\n",
       "\n",
       "    .dataframe thead th {\n",
       "        text-align: right;\n",
       "    }\n",
       "</style>\n",
       "<table border=\"1\" class=\"dataframe\">\n",
       "  <thead>\n",
       "    <tr style=\"text-align: right;\">\n",
       "      <th></th>\n",
       "      <th>R</th>\n",
       "      <th>P</th>\n",
       "    </tr>\n",
       "  </thead>\n",
       "  <tbody>\n",
       "    <tr>\n",
       "      <th>FOS</th>\n",
       "      <td>0.438860</td>\n",
       "      <td>5.278833e-255</td>\n",
       "    </tr>\n",
       "    <tr>\n",
       "      <th>DUSP1</th>\n",
       "      <td>0.428832</td>\n",
       "      <td>2.464365e-242</td>\n",
       "    </tr>\n",
       "    <tr>\n",
       "      <th>S100A4</th>\n",
       "      <td>0.410756</td>\n",
       "      <td>1.485400e-220</td>\n",
       "    </tr>\n",
       "    <tr>\n",
       "      <th>LTB</th>\n",
       "      <td>0.390538</td>\n",
       "      <td>9.784411e-198</td>\n",
       "    </tr>\n",
       "    <tr>\n",
       "      <th>MALAT1</th>\n",
       "      <td>-0.346522</td>\n",
       "      <td>2.575518e-153</td>\n",
       "    </tr>\n",
       "  </tbody>\n",
       "</table>\n",
       "</div>"
      ],
      "text/plain": [
       "               R              P\n",
       "FOS     0.438860  5.278833e-255\n",
       "DUSP1   0.428832  2.464365e-242\n",
       "S100A4  0.410756  1.485400e-220\n",
       "LTB     0.390538  9.784411e-198\n",
       "MALAT1 -0.346522  2.575518e-153"
      ]
     },
     "execution_count": 11,
     "metadata": {},
     "output_type": "execute_result"
    },
    {
     "name": "stdout",
     "output_type": "stream",
     "text": [
      "EXPORTING DATA...\n",
      "BYE\n"
     ]
    }
   ],
   "source": [
    "## This gets updated in real time when cells are selected in directional mode\n",
    "svobj.results_proj_correlation.sort_values(by='P').head()"
   ]
  },
  {
   "cell_type": "code",
   "execution_count": 10,
   "id": "096dca12-b1c8-4aba-a51a-7ee417469f55",
   "metadata": {},
   "outputs": [
    {
     "data": {
      "text/html": [
       "<div>\n",
       "<style scoped>\n",
       "    .dataframe tbody tr th:only-of-type {\n",
       "        vertical-align: middle;\n",
       "    }\n",
       "\n",
       "    .dataframe tbody tr th {\n",
       "        vertical-align: top;\n",
       "    }\n",
       "\n",
       "    .dataframe thead th {\n",
       "        text-align: right;\n",
       "    }\n",
       "</style>\n",
       "<table border=\"1\" class=\"dataframe\">\n",
       "  <thead>\n",
       "    <tr style=\"text-align: right;\">\n",
       "      <th></th>\n",
       "      <th>T</th>\n",
       "      <th>P</th>\n",
       "    </tr>\n",
       "  </thead>\n",
       "  <tbody>\n",
       "    <tr>\n",
       "      <th>JUNB</th>\n",
       "      <td>-56.351577</td>\n",
       "      <td>0.0</td>\n",
       "    </tr>\n",
       "    <tr>\n",
       "      <th>RPS8</th>\n",
       "      <td>-57.105766</td>\n",
       "      <td>0.0</td>\n",
       "    </tr>\n",
       "    <tr>\n",
       "      <th>COTL1</th>\n",
       "      <td>-46.026753</td>\n",
       "      <td>0.0</td>\n",
       "    </tr>\n",
       "    <tr>\n",
       "      <th>PIK3IP1</th>\n",
       "      <td>-53.734194</td>\n",
       "      <td>0.0</td>\n",
       "    </tr>\n",
       "    <tr>\n",
       "      <th>KLRD1</th>\n",
       "      <td>43.096151</td>\n",
       "      <td>0.0</td>\n",
       "    </tr>\n",
       "  </tbody>\n",
       "</table>\n",
       "</div>"
      ],
      "text/plain": [
       "                 T    P\n",
       "JUNB    -56.351577  0.0\n",
       "RPS8    -57.105766  0.0\n",
       "COTL1   -46.026753  0.0\n",
       "PIK3IP1 -53.734194  0.0\n",
       "KLRD1    43.096151  0.0"
      ]
     },
     "execution_count": 10,
     "metadata": {},
     "output_type": "execute_result"
    },
    {
     "name": "stdout",
     "output_type": "stream",
     "text": [
      "0.7509219646453857 seconds to select and project cells\n",
      "Selected 2912 cells\n",
      "Calculating correlations...\n",
      "2.000452995300293 seconds to calculate correlations. Sparsity:  True\n",
      "Selected gene GNLY\n",
      "Min/max expression level for gene GNLY 0.0 6.0092\n",
      "Selected gene CD8B\n",
      "Min/max expression level for gene CD8B 0.0 4.8472\n",
      "0.6916131973266602 seconds to select and project cells\n",
      "Selected 2378 cells\n",
      "Calculating correlations...\n",
      "1.4387142658233643 seconds to calculate correlations. Sparsity:  True\n",
      "Selected gene FOS\n",
      "Min/max expression level for gene FOS 0.0 4.8013\n",
      "1.1787519454956055 seconds to select and project cells\n",
      "Selected 5441 cells\n",
      "Calculating correlations...\n",
      "1.5225191116333008 seconds to calculate correlations. Sparsity:  True\n",
      "Selected gene FOS\n",
      "Min/max expression level for gene FOS 0.0 4.8013\n"
     ]
    }
   ],
   "source": [
    "## This gets updated in real time when cells are selected in differential mode\n",
    "svobj.results_diffexpr.sort_values(by='P').head()"
   ]
  },
  {
   "cell_type": "markdown",
   "id": "1aa9a818-ad52-4026-b551-3ece678998bc",
   "metadata": {},
   "source": [
    "## You can re-run the analysis using dense data and see how much slower it is"
   ]
  },
  {
   "cell_type": "code",
   "execution_count": 12,
   "id": "dated-bargain",
   "metadata": {},
   "outputs": [],
   "source": [
    "expr_dense = pd.DataFrame(expr_sparse.todense(), columns=genes, index=barcodes)"
   ]
  },
  {
   "cell_type": "code",
   "execution_count": 13,
   "id": "conscious-liberal",
   "metadata": {},
   "outputs": [
    {
     "data": {
      "text/html": [
       "<div>\n",
       "<style scoped>\n",
       "    .dataframe tbody tr th:only-of-type {\n",
       "        vertical-align: middle;\n",
       "    }\n",
       "\n",
       "    .dataframe tbody tr th {\n",
       "        vertical-align: top;\n",
       "    }\n",
       "\n",
       "    .dataframe thead th {\n",
       "        text-align: right;\n",
       "    }\n",
       "</style>\n",
       "<table border=\"1\" class=\"dataframe\">\n",
       "  <thead>\n",
       "    <tr style=\"text-align: right;\">\n",
       "      <th></th>\n",
       "      <th>LINC00115</th>\n",
       "      <th>FAM41C</th>\n",
       "      <th>NOC2L</th>\n",
       "      <th>KLHL17</th>\n",
       "      <th>PLEKHN1</th>\n",
       "    </tr>\n",
       "  </thead>\n",
       "  <tbody>\n",
       "    <tr>\n",
       "      <th>AAACATACACCCAA-1</th>\n",
       "      <td>0.0</td>\n",
       "      <td>0.0</td>\n",
       "      <td>0.0</td>\n",
       "      <td>0.0</td>\n",
       "      <td>0.0</td>\n",
       "    </tr>\n",
       "    <tr>\n",
       "      <th>AAACATACCCCTCA-1</th>\n",
       "      <td>0.0</td>\n",
       "      <td>0.0</td>\n",
       "      <td>0.0</td>\n",
       "      <td>0.0</td>\n",
       "      <td>0.0</td>\n",
       "    </tr>\n",
       "    <tr>\n",
       "      <th>AAACATACCGGAGA-1</th>\n",
       "      <td>0.0</td>\n",
       "      <td>0.0</td>\n",
       "      <td>0.0</td>\n",
       "      <td>0.0</td>\n",
       "      <td>0.0</td>\n",
       "    </tr>\n",
       "    <tr>\n",
       "      <th>AAACATACTCTTCA-1</th>\n",
       "      <td>0.0</td>\n",
       "      <td>0.0</td>\n",
       "      <td>0.0</td>\n",
       "      <td>0.0</td>\n",
       "      <td>0.0</td>\n",
       "    </tr>\n",
       "    <tr>\n",
       "      <th>AAACATACTGGATC-1</th>\n",
       "      <td>0.0</td>\n",
       "      <td>0.0</td>\n",
       "      <td>0.0</td>\n",
       "      <td>0.0</td>\n",
       "      <td>0.0</td>\n",
       "    </tr>\n",
       "  </tbody>\n",
       "</table>\n",
       "</div>"
      ],
      "text/plain": [
       "                  LINC00115  FAM41C  NOC2L  KLHL17  PLEKHN1\n",
       "AAACATACACCCAA-1        0.0     0.0    0.0     0.0      0.0\n",
       "AAACATACCCCTCA-1        0.0     0.0    0.0     0.0      0.0\n",
       "AAACATACCGGAGA-1        0.0     0.0    0.0     0.0      0.0\n",
       "AAACATACTCTTCA-1        0.0     0.0    0.0     0.0      0.0\n",
       "AAACATACTGGATC-1        0.0     0.0    0.0     0.0      0.0"
      ]
     },
     "execution_count": 13,
     "metadata": {},
     "output_type": "execute_result"
    }
   ],
   "source": [
    "expr_dense.iloc[:5, :5]"
   ]
  },
  {
   "cell_type": "code",
   "execution_count": 14,
   "id": "lightweight-arnold",
   "metadata": {},
   "outputs": [
    {
     "data": {
      "text/plain": [
       "(52899, 12563)"
      ]
     },
     "execution_count": 14,
     "metadata": {},
     "output_type": "execute_result"
    }
   ],
   "source": [
    "expr_dense.shape"
   ]
  },
  {
   "cell_type": "code",
   "execution_count": 16,
   "id": "driven-turner",
   "metadata": {},
   "outputs": [
    {
     "name": "stdout",
     "output_type": "stream",
     "text": [
      "0.9585070610046387 seconds to select and project cells\n",
      "Selected 5328 cells\n",
      "Calculating differential expression...\n",
      "8.030466079711914 seconds to calculate genesums. Sparsity:  False\n",
      "26.470013856887817 seconds to calculate squared genesums. Sparsity:  False\n"
     ]
    },
    {
     "name": "stderr",
     "output_type": "stream",
     "text": [
      "/Users/dylankotliar/miniconda3/envs/sciviewer/lib/python3.8/site-packages/sciviewer/sciviewer.py:572: RuntimeWarning: invalid value encountered in sqrt\n",
      "  remainder_stds = np.sqrt((self.gene_sqsum - selected_stds - (remainder_N*remainder_means**2)) / (remainder_N -1))\n"
     ]
    },
    {
     "name": "stdout",
     "output_type": "stream",
     "text": [
      "63.93354320526123 seconds to calculate differential expression. Sparsity:  False\n",
      "Selected gene NKG7\n",
      "Min/max expression level for gene NKG7 0.0 5.463\n",
      "Selected gene GNLY\n",
      "Min/max expression level for gene GNLY 0.0 6.0092\n",
      "Selected gene CCL5\n",
      "Min/max expression level for gene CCL5 0.0 5.743\n",
      "0.7948040962219238 seconds to select and project cells\n",
      "Selected 2194 cells\n",
      "Calculating correlations...\n"
     ]
    },
    {
     "name": "stderr",
     "output_type": "stream",
     "text": [
      "/Users/dylankotliar/miniconda3/envs/sciviewer/lib/python3.8/site-packages/sciviewer/sciviewer.py:613: RuntimeWarning: invalid value encountered in true_divide\n",
      "  rs = np.dot(DP, DO) / np.sqrt(np.sum(DO ** 2, 0) * np.sum(DP ** 2))\n"
     ]
    },
    {
     "name": "stdout",
     "output_type": "stream",
     "text": [
      "13.287477016448975 seconds to calculate correlations. Sparsity:  False\n"
     ]
    }
   ],
   "source": [
    "svobj_dense = SCIViewer(umap, expr_dense)\n",
    "svobj_dense.explore_data()"
   ]
  },
  {
   "cell_type": "code",
   "execution_count": null,
   "id": "01aa1eb4-835a-4c04-9893-4d9d79bba9ae",
   "metadata": {},
   "outputs": [],
   "source": []
  }
 ],
 "metadata": {
  "kernelspec": {
   "display_name": "Python 3",
   "language": "python",
   "name": "python3"
  },
  "language_info": {
   "codemirror_mode": {
    "name": "ipython",
    "version": 3
   },
   "file_extension": ".py",
   "mimetype": "text/x-python",
   "name": "python",
   "nbconvert_exporter": "python",
   "pygments_lexer": "ipython3",
   "version": "3.8.8"
  }
 },
 "nbformat": 4,
 "nbformat_minor": 5
}
