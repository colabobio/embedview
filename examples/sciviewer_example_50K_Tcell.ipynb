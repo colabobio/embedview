{
 "cells": [
  {
   "cell_type": "markdown",
   "id": "divided-flash",
   "metadata": {},
   "source": [
    "## To-do:\n",
    "- Implement violin plot\n",
    "- Potentially vectorize selection and projection of cells\n",
    "\n",
    "## Updates\n",
    "- Can now pass a sparse matrix with a significant speedup for certain calculations\n",
    "\n",
    "## Installation:\n",
    "Currently:\n",
    "conda env create -n py5coding -f http://py5.ixora.io/install/py5_environment.yml\n",
    "conda install scipy\n",
    "python setup.py install ## within embedview directory "
   ]
  },
  {
   "cell_type": "code",
   "execution_count": 1,
   "id": "lined-conditions",
   "metadata": {},
   "outputs": [],
   "source": [
    "import pandas as pd\n",
    "import numpy as np\n",
    "from scipy.io import mmread\n",
    "import time\n",
    "import scipy.sparse as sparse"
   ]
  },
  {
   "cell_type": "code",
   "execution_count": 2,
   "id": "assumed-truck",
   "metadata": {},
   "outputs": [],
   "source": [
    "%load_ext py5\n",
    "%gui osx\n",
    "%load_ext autoreload\n",
    "%autoreload 2"
   ]
  },
  {
   "cell_type": "code",
   "execution_count": 7,
   "id": "expired-water",
   "metadata": {
    "tags": []
   },
   "outputs": [
    {
     "name": "stdout",
     "output_type": "stream",
     "text": [
      "DOWNLOADING AND EXTRACTING EXAMPLE DATA\n",
      "--2021-04-09 20:32:16--  https://storage.googleapis.com/sabeti-public/dkotliar/scnavigator/pbmc68k_Tcell/data/Tcell50K_expression_log2TP10K_20210409.umap.tsv\n",
      "Resolving storage.googleapis.com (storage.googleapis.com)... 172.217.7.16, 172.217.10.48, 172.217.10.80, ...\n",
      "Connecting to storage.googleapis.com (storage.googleapis.com)|172.217.7.16|:443... connected.\n",
      "HTTP request sent, awaiting response... 200 OK\n",
      "Length: 1948398 (1.9M) [text/tab-separated-values]\n",
      "Saving to: ‘../data/Tcell50K_expression_log2TP10K_20210409.umap.tsv’\n",
      "\n",
      "../data/Tcell50K_ex 100%[===================>]   1.86M  9.74MB/s    in 0.2s    \n",
      "\n",
      "2021-04-09 20:32:16 (9.74 MB/s) - ‘../data/Tcell50K_expression_log2TP10K_20210409.umap.tsv’ saved [1948398/1948398]\n",
      "\n"
     ]
    }
   ],
   "source": [
    "print('DOWNLOADING AND EXTRACTING EXAMPLE DATA')\n",
    "! mkdir -p ../data\n",
    "! wget https://storage.googleapis.com/sabeti-public/dkotliar/scnavigator/pbmc68k_Tcell/data/Tcell50K_expression_log2TP10K_20210409.barcodes.tsv -O ../data/Tcell50K_expression_log2TP10K_20210409.barcodes.tsv\n",
    "! wget https://storage.googleapis.com/sabeti-public/dkotliar/scnavigator/pbmc68k_Tcell/data/Tcell50K_expression_log2TP10K_20210409.genes.tsv -O ../data/Tcell50K_expression_log2TP10K_20210409.genes.tsv\n",
    "! wget https://storage.googleapis.com/sabeti-public/dkotliar/scnavigator/pbmc68k_Tcell/data/Tcell50K_expression_log2TP10K_20210409.umap.tsv -O ../data/Tcell50K_expression_log2TP10K_20210409.umap.tsv\n",
    "! wget https://storage.googleapis.com/sabeti-public/dkotliar/scnavigator/pbmc68k_Tcell/data/Tcell50K_expression_log2TP10K_20210409.mtx -O ../data/Tcell50K_expression_log2TP10K_20210409.mtx"
   ]
  },
  {
   "cell_type": "code",
   "execution_count": 3,
   "id": "solar-linux",
   "metadata": {},
   "outputs": [
    {
     "name": "stdout",
     "output_type": "stream",
     "text": [
      "LOADING UMAP DATA...\n"
     ]
    },
    {
     "data": {
      "text/html": [
       "<div>\n",
       "<style scoped>\n",
       "    .dataframe tbody tr th:only-of-type {\n",
       "        vertical-align: middle;\n",
       "    }\n",
       "\n",
       "    .dataframe tbody tr th {\n",
       "        vertical-align: top;\n",
       "    }\n",
       "\n",
       "    .dataframe thead th {\n",
       "        text-align: right;\n",
       "    }\n",
       "</style>\n",
       "<table border=\"1\" class=\"dataframe\">\n",
       "  <thead>\n",
       "    <tr style=\"text-align: right;\">\n",
       "      <th></th>\n",
       "      <th>UMAP_1</th>\n",
       "      <th>UMAP_2</th>\n",
       "    </tr>\n",
       "  </thead>\n",
       "  <tbody>\n",
       "    <tr>\n",
       "      <th>AAACATACACCCAA-1</th>\n",
       "      <td>3.975246</td>\n",
       "      <td>10.370767</td>\n",
       "    </tr>\n",
       "    <tr>\n",
       "      <th>AAACATACCCCTCA-1</th>\n",
       "      <td>9.388674</td>\n",
       "      <td>1.431675</td>\n",
       "    </tr>\n",
       "    <tr>\n",
       "      <th>AAACATACCGGAGA-1</th>\n",
       "      <td>12.206055</td>\n",
       "      <td>11.943375</td>\n",
       "    </tr>\n",
       "    <tr>\n",
       "      <th>AAACATACTCTTCA-1</th>\n",
       "      <td>15.312049</td>\n",
       "      <td>-2.373958</td>\n",
       "    </tr>\n",
       "    <tr>\n",
       "      <th>AAACATACTGGATC-1</th>\n",
       "      <td>10.571509</td>\n",
       "      <td>-6.149192</td>\n",
       "    </tr>\n",
       "  </tbody>\n",
       "</table>\n",
       "</div>"
      ],
      "text/plain": [
       "                     UMAP_1     UMAP_2\n",
       "AAACATACACCCAA-1   3.975246  10.370767\n",
       "AAACATACCCCTCA-1   9.388674   1.431675\n",
       "AAACATACCGGAGA-1  12.206055  11.943375\n",
       "AAACATACTCTTCA-1  15.312049  -2.373958\n",
       "AAACATACTGGATC-1  10.571509  -6.149192"
      ]
     },
     "execution_count": 3,
     "metadata": {},
     "output_type": "execute_result"
    }
   ],
   "source": [
    "print(\"LOADING UMAP DATA...\")\n",
    "\n",
    "_umap = pd.read_csv('../data/Tcell50K_expression_log2TP10K_20210409.umap.tsv', sep='\\t', index_col=0)\n",
    "_umap.head()"
   ]
  },
  {
   "cell_type": "code",
   "execution_count": 4,
   "id": "fourth-switzerland",
   "metadata": {},
   "outputs": [
    {
     "name": "stdout",
     "output_type": "stream",
     "text": [
      "LOADING GENE EXPRESSION DATA...\n"
     ]
    },
    {
     "data": {
      "text/plain": [
       "<52899x12563 sparse matrix of type '<class 'numpy.float64'>'\n",
       "\twith 28209469 stored elements in Compressed Sparse Column format>"
      ]
     },
     "execution_count": 4,
     "metadata": {},
     "output_type": "execute_result"
    }
   ],
   "source": [
    "print(\"LOADING GENE EXPRESSION DATA...\")\n",
    "\n",
    "_expr_sparse = mmread('../data/Tcell50K_expression_log2TP10K_20210409.mtx')\n",
    "_expr_sparse = sparse.csc_matrix(_expr_sparse)\n",
    "_expr_sparse"
   ]
  },
  {
   "cell_type": "code",
   "execution_count": 5,
   "id": "champion-innocent",
   "metadata": {},
   "outputs": [],
   "source": [
    "genes = list(pd.read_csv('../data/Tcell50K_expression_log2TP10K_20210409.genes.tsv', sep='\\t', header=None)[0])\n",
    "barcodes = list(pd.read_csv('../data/Tcell50K_expression_log2TP10K_20210409.barcodes.tsv', sep='\\t', header=None)[0])"
   ]
  },
  {
   "cell_type": "code",
   "execution_count": 22,
   "id": "herbal-census",
   "metadata": {},
   "outputs": [
    {
     "name": "stdout",
     "output_type": "stream",
     "text": [
      "0.44756007194519043 seconds to select and project cells\n",
      "Selected 366 cells\n",
      "Calculating correlations...\n",
      "1.2087547779083252 seconds to calculate correlations. Sparsity:  True\n",
      "0.9712028503417969 seconds to select and project cells\n",
      "Selected 5378 cells\n",
      "Calculating correlations...\n",
      "0.3305070400238037 seconds to calculate correlations. Sparsity:  True\n",
      "Selected mode 2\n",
      "0.40462327003479004 seconds to select and project cells\n",
      "Selected 369 cells\n",
      "Calculating differential expression...\n",
      "0.025264978408813477 seconds to calculate genesums. Sparsity:  True\n",
      "0.8906641006469727 seconds to calculate squared genesums. Sparsity:  True\n",
      "2.331149101257324 seconds to calculate differential expression. Sparsity:  True\n",
      "0.9409699440002441 seconds to select and project cells\n",
      "Selected 5482 cells\n",
      "Calculating differential expression...\n",
      "0.7621569633483887 seconds to calculate differential expression. Sparsity:  True\n",
      "2.619197130203247 seconds to select and project cells\n",
      "Selected 23363 cells\n",
      "Calculating differential expression...\n",
      "1.1212928295135498 seconds to calculate differential expression. Sparsity:  True\n",
      "EXPORTING DATA...\n",
      "BYE\n"
     ]
    }
   ],
   "source": [
    "#from umap_explorer import UMAPexplorer\n",
    "import sys\n",
    "sys.path.append('../umap_explorer/')\n",
    "from umap_explorer import UMAPexplorer\n",
    "\n",
    "test = UMAPexplorer(_umap, _expr_sparse, gene_names=genes,\n",
    "                    cell_names=barcodes)\n",
    "test.explore_data()"
   ]
  },
  {
   "cell_type": "code",
   "execution_count": 23,
   "id": "intimate-chest",
   "metadata": {},
   "outputs": [
    {
     "data": {
      "text/html": [
       "<div>\n",
       "<style scoped>\n",
       "    .dataframe tbody tr th:only-of-type {\n",
       "        vertical-align: middle;\n",
       "    }\n",
       "\n",
       "    .dataframe tbody tr th {\n",
       "        vertical-align: top;\n",
       "    }\n",
       "\n",
       "    .dataframe thead th {\n",
       "        text-align: right;\n",
       "    }\n",
       "</style>\n",
       "<table border=\"1\" class=\"dataframe\">\n",
       "  <thead>\n",
       "    <tr style=\"text-align: right;\">\n",
       "      <th></th>\n",
       "      <th>R</th>\n",
       "      <th>P</th>\n",
       "    </tr>\n",
       "  </thead>\n",
       "  <tbody>\n",
       "    <tr>\n",
       "      <th>S100A4</th>\n",
       "      <td>-205.189633</td>\n",
       "      <td>0.0</td>\n",
       "    </tr>\n",
       "    <tr>\n",
       "      <th>IL32</th>\n",
       "      <td>-170.047202</td>\n",
       "      <td>0.0</td>\n",
       "    </tr>\n",
       "    <tr>\n",
       "      <th>CCL5</th>\n",
       "      <td>-168.797463</td>\n",
       "      <td>0.0</td>\n",
       "    </tr>\n",
       "    <tr>\n",
       "      <th>NKG7</th>\n",
       "      <td>-139.371245</td>\n",
       "      <td>0.0</td>\n",
       "    </tr>\n",
       "    <tr>\n",
       "      <th>B2M</th>\n",
       "      <td>-138.914805</td>\n",
       "      <td>0.0</td>\n",
       "    </tr>\n",
       "  </tbody>\n",
       "</table>\n",
       "</div>"
      ],
      "text/plain": [
       "                 R    P\n",
       "S100A4 -205.189633  0.0\n",
       "IL32   -170.047202  0.0\n",
       "CCL5   -168.797463  0.0\n",
       "NKG7   -139.371245  0.0\n",
       "B2M    -138.914805  0.0"
      ]
     },
     "execution_count": 23,
     "metadata": {},
     "output_type": "execute_result"
    }
   ],
   "source": [
    "test.significant_genes.head()"
   ]
  },
  {
   "cell_type": "code",
   "execution_count": 25,
   "id": "dated-bargain",
   "metadata": {},
   "outputs": [],
   "source": [
    "_expr = pd.DataFrame(_expr_sparse.todense(), columns=genes, index=barcodes)"
   ]
  },
  {
   "cell_type": "code",
   "execution_count": 26,
   "id": "conscious-liberal",
   "metadata": {},
   "outputs": [
    {
     "data": {
      "text/html": [
       "<div>\n",
       "<style scoped>\n",
       "    .dataframe tbody tr th:only-of-type {\n",
       "        vertical-align: middle;\n",
       "    }\n",
       "\n",
       "    .dataframe tbody tr th {\n",
       "        vertical-align: top;\n",
       "    }\n",
       "\n",
       "    .dataframe thead th {\n",
       "        text-align: right;\n",
       "    }\n",
       "</style>\n",
       "<table border=\"1\" class=\"dataframe\">\n",
       "  <thead>\n",
       "    <tr style=\"text-align: right;\">\n",
       "      <th></th>\n",
       "      <th>LINC00115</th>\n",
       "      <th>FAM41C</th>\n",
       "      <th>NOC2L</th>\n",
       "      <th>KLHL17</th>\n",
       "      <th>PLEKHN1</th>\n",
       "    </tr>\n",
       "  </thead>\n",
       "  <tbody>\n",
       "    <tr>\n",
       "      <th>AAACATACACCCAA-1</th>\n",
       "      <td>0.0</td>\n",
       "      <td>0.0</td>\n",
       "      <td>0.0</td>\n",
       "      <td>0.0</td>\n",
       "      <td>0.0</td>\n",
       "    </tr>\n",
       "    <tr>\n",
       "      <th>AAACATACCCCTCA-1</th>\n",
       "      <td>0.0</td>\n",
       "      <td>0.0</td>\n",
       "      <td>0.0</td>\n",
       "      <td>0.0</td>\n",
       "      <td>0.0</td>\n",
       "    </tr>\n",
       "    <tr>\n",
       "      <th>AAACATACCGGAGA-1</th>\n",
       "      <td>0.0</td>\n",
       "      <td>0.0</td>\n",
       "      <td>0.0</td>\n",
       "      <td>0.0</td>\n",
       "      <td>0.0</td>\n",
       "    </tr>\n",
       "    <tr>\n",
       "      <th>AAACATACTCTTCA-1</th>\n",
       "      <td>0.0</td>\n",
       "      <td>0.0</td>\n",
       "      <td>0.0</td>\n",
       "      <td>0.0</td>\n",
       "      <td>0.0</td>\n",
       "    </tr>\n",
       "    <tr>\n",
       "      <th>AAACATACTGGATC-1</th>\n",
       "      <td>0.0</td>\n",
       "      <td>0.0</td>\n",
       "      <td>0.0</td>\n",
       "      <td>0.0</td>\n",
       "      <td>0.0</td>\n",
       "    </tr>\n",
       "  </tbody>\n",
       "</table>\n",
       "</div>"
      ],
      "text/plain": [
       "                  LINC00115  FAM41C  NOC2L  KLHL17  PLEKHN1\n",
       "AAACATACACCCAA-1        0.0     0.0    0.0     0.0      0.0\n",
       "AAACATACCCCTCA-1        0.0     0.0    0.0     0.0      0.0\n",
       "AAACATACCGGAGA-1        0.0     0.0    0.0     0.0      0.0\n",
       "AAACATACTCTTCA-1        0.0     0.0    0.0     0.0      0.0\n",
       "AAACATACTGGATC-1        0.0     0.0    0.0     0.0      0.0"
      ]
     },
     "execution_count": 26,
     "metadata": {},
     "output_type": "execute_result"
    }
   ],
   "source": [
    "_expr.iloc[:5, :5]"
   ]
  },
  {
   "cell_type": "code",
   "execution_count": 27,
   "id": "lightweight-arnold",
   "metadata": {},
   "outputs": [
    {
     "data": {
      "text/plain": [
       "(52899, 12563)"
      ]
     },
     "execution_count": 27,
     "metadata": {},
     "output_type": "execute_result"
    }
   ],
   "source": [
    "_expr.shape"
   ]
  },
  {
   "cell_type": "code",
   "execution_count": 28,
   "id": "driven-turner",
   "metadata": {},
   "outputs": [
    {
     "name": "stdout",
     "output_type": "stream",
     "text": [
      "0.39404726028442383 seconds to select and project cells\n",
      "Selected 344 cells\n",
      "Calculating correlations...\n"
     ]
    },
    {
     "name": "stderr",
     "output_type": "stream",
     "text": [
      "../umap_explorer/umap_explorer.py:501: RuntimeWarning: invalid value encountered in true_divide\n",
      "  rs = np.dot(DP, DO) / np.sqrt(np.sum(DO ** 2, 0) * np.sum(DP ** 2))\n"
     ]
    },
    {
     "name": "stdout",
     "output_type": "stream",
     "text": [
      "9.00390338897705 seconds to calculate correlations. Sparsity:  False\n",
      "0.9730532169342041 seconds to select and project cells\n",
      "Selected 5412 cells\n",
      "Calculating correlations...\n",
      "16.529144048690796 seconds to calculate correlations. Sparsity:  False\n",
      "Selected mode 2\n",
      "0.6109471321105957 seconds to select and project cells\n",
      "Selected 375 cells\n",
      "Calculating differential expression...\n",
      "8.504546165466309 seconds to calculate genesums. Sparsity:  False\n",
      "20.941229104995728 seconds to calculate squared genesums. Sparsity:  False\n",
      "45.02797794342041 seconds to calculate differential expression. Sparsity:  False\n",
      "0.9342422485351562 seconds to select and project cells\n",
      "Selected 5562 cells\n",
      "Calculating differential expression...\n"
     ]
    },
    {
     "name": "stderr",
     "output_type": "stream",
     "text": [
      "../umap_explorer/umap_explorer.py:463: RuntimeWarning: invalid value encountered in sqrt\n",
      "  remainder_stds = np.sqrt((self.gene_sqsum - selected_stds - (remainder_N*remainder_means**2)) / (remainder_N -1))\n"
     ]
    },
    {
     "name": "stdout",
     "output_type": "stream",
     "text": [
      "29.00832200050354 seconds to calculate differential expression. Sparsity:  False\n",
      "2.678100347518921 seconds to select and project cells\n",
      "Selected 23513 cells\n",
      "Calculating differential expression...\n",
      "60.34158396720886 seconds to calculate differential expression. Sparsity:  False\n",
      "EXPORTING DATA...\n",
      "BYE\n"
     ]
    }
   ],
   "source": [
    "#from umap_explorer import UMAPexplorer\n",
    "import sys\n",
    "sys.path.append('../umap_explorer/')\n",
    "from umap_explorer import UMAPexplorer\n",
    "\n",
    "test_dense = UMAPexplorer(_umap, _expr)\n",
    "test_dense.explore_data()"
   ]
  },
  {
   "cell_type": "code",
   "execution_count": 6,
   "id": "metric-water",
   "metadata": {},
   "outputs": [],
   "source": [
    "#from umap_explorer import UMAPexplorer\n",
    "import sys\n",
    "sys.path.append('../umap_explorer/')\n",
    "from umap_explorer import UMAPexplorer\n",
    "\n",
    "test = UMAPexplorer(_umap, _expr_sparse, gene_names=genes,\n",
    "                    cell_names=barcodes)\n",
    "test.explore_data()"
   ]
  },
  {
   "cell_type": "code",
   "execution_count": null,
   "id": "strategic-ancient",
   "metadata": {},
   "outputs": [],
   "source": [
    "if (self.pearsonsThreshold <= abs(rs[i])) and (and ps[i] <= self.pvalueThreshold):"
   ]
  }
 ],
 "metadata": {
  "kernelspec": {
   "display_name": "Python 3",
   "language": "python",
   "name": "python3"
  },
  "language_info": {
   "codemirror_mode": {
    "name": "ipython",
    "version": 3
   },
   "file_extension": ".py",
   "mimetype": "text/x-python",
   "name": "python",
   "nbconvert_exporter": "python",
   "pygments_lexer": "ipython3",
   "version": "3.8.8"
  }
 },
 "nbformat": 4,
 "nbformat_minor": 5
}
