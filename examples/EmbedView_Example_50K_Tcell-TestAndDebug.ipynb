{
 "cells": [
  {
   "cell_type": "markdown",
   "id": "compact-andrew",
   "metadata": {},
   "source": [
    "## Fixes:\n",
    "- sort in absolute value\n",
    "- Put it in a module / pip / conda\n",
    "- Add differential expression feature\n",
    "- Calculate everything in matrices rather than for loops\n",
    "- Pearson R vs. Spearman R?\n",
    "\n",
    "\n",
    "- Required input values: Pandas vs. numpy\n",
    "\n",
    "- There is a bug if you select 0 cells --> endlessly loops through showUMAPScatter with self.requestSelection == True\n",
    "\n",
    "\n",
    "\n",
    "## Installation:\n",
    "Currently:\n",
    "conda env create -n py5coding -f http://py5.ixora.io/install/py5_environment.yml\n",
    "conda install scipy\n",
    "python setup.py install ## within embedview directory "
   ]
  },
  {
   "cell_type": "code",
   "execution_count": 1,
   "id": "distributed-poetry",
   "metadata": {},
   "outputs": [],
   "source": [
    "import pandas as pd\n",
    "import numpy as np\n",
    "from scipy.io import mmread\n",
    "import time\n",
    "import scipy.sparse as sparse"
   ]
  },
  {
   "cell_type": "code",
   "execution_count": 2,
   "id": "prepared-distinction",
   "metadata": {},
   "outputs": [],
   "source": [
    "%load_ext py5\n",
    "%gui osx\n",
    "%load_ext autoreload\n",
    "%autoreload 2"
   ]
  },
  {
   "cell_type": "raw",
   "id": "comprehensive-foundation",
   "metadata": {
    "tags": []
   },
   "source": [
    "print('DOWNLOADING AND EXTRACTING EXAMPLE DATA')\n",
    "! mkdir -p ../data\n",
    "! wget https://storage.googleapis.com/sabeti-public/dkotliar/scnavigator/pbmc68k_Tcell/data/Tcell50K_expression_log2TP10K_20210409.barcodes.tsv -O ../data/Tcell50K_expression_log2TP10K_20210409.barcodes.tsv\n",
    "! wget https://storage.googleapis.com/sabeti-public/dkotliar/scnavigator/pbmc68k_Tcell/data/Tcell50K_expression_log2TP10K_20210409.genes.tsv -O ../data/Tcell50K_expression_log2TP10K_20210409.genes.tsv\n",
    "! wget https://storage.googleapis.com/sabeti-public/dkotliar/scnavigator/pbmc68k_Tcell/data/Tcell50K_expression_log2TP10K_20210409.umap.tsv -O ../data/Tcell50K_expression_log2TP10K_20210409.umap.tsv\n",
    "! wget https://storage.googleapis.com/sabeti-public/dkotliar/scnavigator/pbmc68k_Tcell/data/Tcell50K_expression_log2TP10K_20210409.mtx -O ../data/Tcell50K_expression_log2TP10K_20210409.mtx"
   ]
  },
  {
   "cell_type": "code",
   "execution_count": 3,
   "id": "formal-integer",
   "metadata": {},
   "outputs": [
    {
     "name": "stdout",
     "output_type": "stream",
     "text": [
      "LOADING UMAP DATA...\n"
     ]
    },
    {
     "data": {
      "text/html": [
       "<div>\n",
       "<style scoped>\n",
       "    .dataframe tbody tr th:only-of-type {\n",
       "        vertical-align: middle;\n",
       "    }\n",
       "\n",
       "    .dataframe tbody tr th {\n",
       "        vertical-align: top;\n",
       "    }\n",
       "\n",
       "    .dataframe thead th {\n",
       "        text-align: right;\n",
       "    }\n",
       "</style>\n",
       "<table border=\"1\" class=\"dataframe\">\n",
       "  <thead>\n",
       "    <tr style=\"text-align: right;\">\n",
       "      <th></th>\n",
       "      <th>UMAP_1</th>\n",
       "      <th>UMAP_2</th>\n",
       "    </tr>\n",
       "  </thead>\n",
       "  <tbody>\n",
       "    <tr>\n",
       "      <th>AAACATACACCCAA-1</th>\n",
       "      <td>3.975246</td>\n",
       "      <td>10.370767</td>\n",
       "    </tr>\n",
       "    <tr>\n",
       "      <th>AAACATACCCCTCA-1</th>\n",
       "      <td>9.388674</td>\n",
       "      <td>1.431675</td>\n",
       "    </tr>\n",
       "    <tr>\n",
       "      <th>AAACATACCGGAGA-1</th>\n",
       "      <td>12.206055</td>\n",
       "      <td>11.943375</td>\n",
       "    </tr>\n",
       "    <tr>\n",
       "      <th>AAACATACTCTTCA-1</th>\n",
       "      <td>15.312049</td>\n",
       "      <td>-2.373958</td>\n",
       "    </tr>\n",
       "    <tr>\n",
       "      <th>AAACATACTGGATC-1</th>\n",
       "      <td>10.571509</td>\n",
       "      <td>-6.149192</td>\n",
       "    </tr>\n",
       "  </tbody>\n",
       "</table>\n",
       "</div>"
      ],
      "text/plain": [
       "                     UMAP_1     UMAP_2\n",
       "AAACATACACCCAA-1   3.975246  10.370767\n",
       "AAACATACCCCTCA-1   9.388674   1.431675\n",
       "AAACATACCGGAGA-1  12.206055  11.943375\n",
       "AAACATACTCTTCA-1  15.312049  -2.373958\n",
       "AAACATACTGGATC-1  10.571509  -6.149192"
      ]
     },
     "execution_count": 3,
     "metadata": {},
     "output_type": "execute_result"
    }
   ],
   "source": [
    "print(\"LOADING UMAP DATA...\")\n",
    "\n",
    "_umap = pd.read_csv('../data/Tcell50K_expression_log2TP10K_20210409.umap.tsv', sep='\\t', index_col=0)\n",
    "_umap.head()"
   ]
  },
  {
   "cell_type": "code",
   "execution_count": 4,
   "id": "killing-satisfaction",
   "metadata": {},
   "outputs": [
    {
     "name": "stdout",
     "output_type": "stream",
     "text": [
      "LOADING GENE EXPRESSION DATA...\n"
     ]
    },
    {
     "data": {
      "text/plain": [
       "<52899x12563 sparse matrix of type '<class 'numpy.float64'>'\n",
       "\twith 28209469 stored elements in COOrdinate format>"
      ]
     },
     "execution_count": 4,
     "metadata": {},
     "output_type": "execute_result"
    }
   ],
   "source": [
    "print(\"LOADING GENE EXPRESSION DATA...\")\n",
    "\n",
    "_expr_sparse = mmread('../data/Tcell50K_expression_log2TP10K_20210409.mtx')\n",
    "_expr_sparse"
   ]
  },
  {
   "cell_type": "code",
   "execution_count": 5,
   "id": "split-crime",
   "metadata": {},
   "outputs": [],
   "source": [
    "genes = pd.read_csv('../data/Tcell50K_expression_log2TP10K_20210409.genes.tsv', sep='\\t', header=None)\n",
    "barcodes = pd.read_csv('../data/Tcell50K_expression_log2TP10K_20210409.barcodes.tsv', sep='\\t', header=None)"
   ]
  },
  {
   "cell_type": "code",
   "execution_count": 6,
   "id": "humanitarian-investigator",
   "metadata": {},
   "outputs": [],
   "source": [
    "_expr = pd.DataFrame(_expr_sparse.todense(), columns=genes[0], index=barcodes[0])"
   ]
  },
  {
   "cell_type": "code",
   "execution_count": 7,
   "id": "continuous-spray",
   "metadata": {},
   "outputs": [
    {
     "data": {
      "text/html": [
       "<div>\n",
       "<style scoped>\n",
       "    .dataframe tbody tr th:only-of-type {\n",
       "        vertical-align: middle;\n",
       "    }\n",
       "\n",
       "    .dataframe tbody tr th {\n",
       "        vertical-align: top;\n",
       "    }\n",
       "\n",
       "    .dataframe thead th {\n",
       "        text-align: right;\n",
       "    }\n",
       "</style>\n",
       "<table border=\"1\" class=\"dataframe\">\n",
       "  <thead>\n",
       "    <tr style=\"text-align: right;\">\n",
       "      <th></th>\n",
       "      <th>LINC00115</th>\n",
       "      <th>FAM41C</th>\n",
       "      <th>NOC2L</th>\n",
       "      <th>KLHL17</th>\n",
       "      <th>PLEKHN1</th>\n",
       "      <th>HES4</th>\n",
       "      <th>ISG15</th>\n",
       "      <th>AGRN</th>\n",
       "      <th>C1orf159</th>\n",
       "      <th>TTLL10</th>\n",
       "      <th>...</th>\n",
       "      <th>MT-ATP6</th>\n",
       "      <th>MT-CO3</th>\n",
       "      <th>MT-ND3</th>\n",
       "      <th>MT-ND4L</th>\n",
       "      <th>MT-ND4</th>\n",
       "      <th>MT-ND5</th>\n",
       "      <th>MT-ND6</th>\n",
       "      <th>MT-CYB</th>\n",
       "      <th>PNRC2-1</th>\n",
       "      <th>SRSF10-1</th>\n",
       "    </tr>\n",
       "    <tr>\n",
       "      <th>0</th>\n",
       "      <th></th>\n",
       "      <th></th>\n",
       "      <th></th>\n",
       "      <th></th>\n",
       "      <th></th>\n",
       "      <th></th>\n",
       "      <th></th>\n",
       "      <th></th>\n",
       "      <th></th>\n",
       "      <th></th>\n",
       "      <th></th>\n",
       "      <th></th>\n",
       "      <th></th>\n",
       "      <th></th>\n",
       "      <th></th>\n",
       "      <th></th>\n",
       "      <th></th>\n",
       "      <th></th>\n",
       "      <th></th>\n",
       "      <th></th>\n",
       "      <th></th>\n",
       "    </tr>\n",
       "  </thead>\n",
       "  <tbody>\n",
       "    <tr>\n",
       "      <th>AAACATACACCCAA-1</th>\n",
       "      <td>0.0</td>\n",
       "      <td>0.0</td>\n",
       "      <td>0.0</td>\n",
       "      <td>0.0</td>\n",
       "      <td>0.0</td>\n",
       "      <td>0.0</td>\n",
       "      <td>0.0</td>\n",
       "      <td>0.0</td>\n",
       "      <td>0.0</td>\n",
       "      <td>0.0</td>\n",
       "      <td>...</td>\n",
       "      <td>0.0000</td>\n",
       "      <td>3.5257</td>\n",
       "      <td>2.2240</td>\n",
       "      <td>0.0</td>\n",
       "      <td>2.8615</td>\n",
       "      <td>2.2240</td>\n",
       "      <td>0.0</td>\n",
       "      <td>3.2477</td>\n",
       "      <td>2.224</td>\n",
       "      <td>0.0</td>\n",
       "    </tr>\n",
       "    <tr>\n",
       "      <th>AAACATACCCCTCA-1</th>\n",
       "      <td>0.0</td>\n",
       "      <td>0.0</td>\n",
       "      <td>0.0</td>\n",
       "      <td>0.0</td>\n",
       "      <td>0.0</td>\n",
       "      <td>0.0</td>\n",
       "      <td>0.0</td>\n",
       "      <td>0.0</td>\n",
       "      <td>0.0</td>\n",
       "      <td>0.0</td>\n",
       "      <td>...</td>\n",
       "      <td>2.1965</td>\n",
       "      <td>4.0423</td>\n",
       "      <td>0.0000</td>\n",
       "      <td>0.0</td>\n",
       "      <td>2.8325</td>\n",
       "      <td>2.1965</td>\n",
       "      <td>0.0</td>\n",
       "      <td>3.2181</td>\n",
       "      <td>0.000</td>\n",
       "      <td>0.0</td>\n",
       "    </tr>\n",
       "    <tr>\n",
       "      <th>AAACATACCGGAGA-1</th>\n",
       "      <td>0.0</td>\n",
       "      <td>0.0</td>\n",
       "      <td>0.0</td>\n",
       "      <td>0.0</td>\n",
       "      <td>0.0</td>\n",
       "      <td>0.0</td>\n",
       "      <td>0.0</td>\n",
       "      <td>0.0</td>\n",
       "      <td>0.0</td>\n",
       "      <td>0.0</td>\n",
       "      <td>...</td>\n",
       "      <td>0.0000</td>\n",
       "      <td>2.7820</td>\n",
       "      <td>0.0000</td>\n",
       "      <td>0.0</td>\n",
       "      <td>2.7820</td>\n",
       "      <td>3.1666</td>\n",
       "      <td>0.0</td>\n",
       "      <td>3.1666</td>\n",
       "      <td>0.000</td>\n",
       "      <td>0.0</td>\n",
       "    </tr>\n",
       "    <tr>\n",
       "      <th>AAACATACTCTTCA-1</th>\n",
       "      <td>0.0</td>\n",
       "      <td>0.0</td>\n",
       "      <td>0.0</td>\n",
       "      <td>0.0</td>\n",
       "      <td>0.0</td>\n",
       "      <td>0.0</td>\n",
       "      <td>0.0</td>\n",
       "      <td>0.0</td>\n",
       "      <td>0.0</td>\n",
       "      <td>0.0</td>\n",
       "      <td>...</td>\n",
       "      <td>0.0000</td>\n",
       "      <td>2.2008</td>\n",
       "      <td>2.2008</td>\n",
       "      <td>0.0</td>\n",
       "      <td>2.8370</td>\n",
       "      <td>0.0000</td>\n",
       "      <td>0.0</td>\n",
       "      <td>3.2227</td>\n",
       "      <td>0.000</td>\n",
       "      <td>0.0</td>\n",
       "    </tr>\n",
       "    <tr>\n",
       "      <th>AAACATACTGGATC-1</th>\n",
       "      <td>0.0</td>\n",
       "      <td>0.0</td>\n",
       "      <td>0.0</td>\n",
       "      <td>0.0</td>\n",
       "      <td>0.0</td>\n",
       "      <td>0.0</td>\n",
       "      <td>0.0</td>\n",
       "      <td>0.0</td>\n",
       "      <td>0.0</td>\n",
       "      <td>0.0</td>\n",
       "      <td>...</td>\n",
       "      <td>2.7849</td>\n",
       "      <td>2.7849</td>\n",
       "      <td>0.0000</td>\n",
       "      <td>0.0</td>\n",
       "      <td>3.1695</td>\n",
       "      <td>2.1516</td>\n",
       "      <td>0.0</td>\n",
       "      <td>2.1516</td>\n",
       "      <td>0.000</td>\n",
       "      <td>0.0</td>\n",
       "    </tr>\n",
       "  </tbody>\n",
       "</table>\n",
       "<p>5 rows × 12563 columns</p>\n",
       "</div>"
      ],
      "text/plain": [
       "0                 LINC00115  FAM41C  NOC2L  KLHL17  PLEKHN1  HES4  ISG15  \\\n",
       "0                                                                          \n",
       "AAACATACACCCAA-1        0.0     0.0    0.0     0.0      0.0   0.0    0.0   \n",
       "AAACATACCCCTCA-1        0.0     0.0    0.0     0.0      0.0   0.0    0.0   \n",
       "AAACATACCGGAGA-1        0.0     0.0    0.0     0.0      0.0   0.0    0.0   \n",
       "AAACATACTCTTCA-1        0.0     0.0    0.0     0.0      0.0   0.0    0.0   \n",
       "AAACATACTGGATC-1        0.0     0.0    0.0     0.0      0.0   0.0    0.0   \n",
       "\n",
       "0                 AGRN  C1orf159  TTLL10  ...  MT-ATP6  MT-CO3  MT-ND3  \\\n",
       "0                                         ...                            \n",
       "AAACATACACCCAA-1   0.0       0.0     0.0  ...   0.0000  3.5257  2.2240   \n",
       "AAACATACCCCTCA-1   0.0       0.0     0.0  ...   2.1965  4.0423  0.0000   \n",
       "AAACATACCGGAGA-1   0.0       0.0     0.0  ...   0.0000  2.7820  0.0000   \n",
       "AAACATACTCTTCA-1   0.0       0.0     0.0  ...   0.0000  2.2008  2.2008   \n",
       "AAACATACTGGATC-1   0.0       0.0     0.0  ...   2.7849  2.7849  0.0000   \n",
       "\n",
       "0                 MT-ND4L  MT-ND4  MT-ND5  MT-ND6  MT-CYB  PNRC2-1  SRSF10-1  \n",
       "0                                                                             \n",
       "AAACATACACCCAA-1      0.0  2.8615  2.2240     0.0  3.2477    2.224       0.0  \n",
       "AAACATACCCCTCA-1      0.0  2.8325  2.1965     0.0  3.2181    0.000       0.0  \n",
       "AAACATACCGGAGA-1      0.0  2.7820  3.1666     0.0  3.1666    0.000       0.0  \n",
       "AAACATACTCTTCA-1      0.0  2.8370  0.0000     0.0  3.2227    0.000       0.0  \n",
       "AAACATACTGGATC-1      0.0  3.1695  2.1516     0.0  2.1516    0.000       0.0  \n",
       "\n",
       "[5 rows x 12563 columns]"
      ]
     },
     "execution_count": 7,
     "metadata": {},
     "output_type": "execute_result"
    }
   ],
   "source": [
    "_expr.head()"
   ]
  },
  {
   "cell_type": "code",
   "execution_count": 9,
   "id": "sonic-injury",
   "metadata": {},
   "outputs": [],
   "source": [
    "_expr_sparse_csc= sparse.csc_matrix(_expr_sparse)"
   ]
  },
  {
   "cell_type": "code",
   "execution_count": 10,
   "id": "basic-funds",
   "metadata": {},
   "outputs": [
    {
     "name": "stdout",
     "output_type": "stream",
     "text": [
      "0.653817892074585 seconds to select and project cells\n",
      "Selected 352 cells\n",
      "Calculating correlations...\n"
     ]
    },
    {
     "name": "stderr",
     "output_type": "stream",
     "text": [
      "../umap_explorer/umap_explorer.py:499: RuntimeWarning: invalid value encountered in true_divide\n",
      "  rs = np.dot(DP, DO) / np.sqrt(np.sum(DO ** 2, 0) * np.sum(DP ** 2))\n"
     ]
    },
    {
     "name": "stdout",
     "output_type": "stream",
     "text": [
      "0.7709219455718994 seconds to calculate correlations. Sparsity:  False\n",
      "1.0532300472259521 seconds to select and project cells\n",
      "Selected 5388 cells\n",
      "Calculating correlations...\n",
      "7.078086853027344 seconds to calculate correlations. Sparsity:  False\n",
      "Selected mode 2\n",
      "0.4046480655670166 seconds to select and project cells\n",
      "Selected 327 cells\n",
      "Calculating differential expression...\n",
      "7.341778993606567 seconds to calculate genesums. Sparsity:  False\n",
      "21.91492199897766 seconds to calculate squared genesums. Sparsity:  False\n",
      "29.397571086883545 seconds to calculate differential expression. Sparsity:  False\n",
      "1.079200029373169 seconds to select and project cells\n",
      "Selected 5417 cells\n",
      "Calculating differential expression...\n",
      "3.2213268280029297 seconds to calculate differential expression. Sparsity:  False\n",
      "EXPORTING DATA...\n",
      "BYE\n"
     ]
    }
   ],
   "source": [
    "#from umap_explorer import UMAPexplorer\n",
    "import sys\n",
    "sys.path.append('../umap_explorer/')\n",
    "from umap_explorer import UMAPexplorer\n",
    "\n",
    "test = UMAPexplorer(_umap, _expr)\n",
    "test.explore_data()"
   ]
  },
  {
   "cell_type": "code",
   "execution_count": 11,
   "id": "legitimate-glory",
   "metadata": {},
   "outputs": [
    {
     "name": "stdout",
     "output_type": "stream",
     "text": [
      "0.4065132141113281 seconds to select and project cells\n",
      "Selected 396 cells\n",
      "Calculating correlations...\n",
      "1.6821730136871338 seconds to calculate correlations. Sparsity:  True\n",
      "1.0395939350128174 seconds to select and project cells\n",
      "Selected 5386 cells\n",
      "Calculating correlations...\n",
      "0.3787550926208496 seconds to calculate correlations. Sparsity:  True\n",
      "Selected mode 2\n",
      "0.5718369483947754 seconds to select and project cells\n",
      "Selected 352 cells\n",
      "Calculating differential expression...\n",
      "0.02233600616455078 seconds to calculate genesums. Sparsity:  True\n",
      "0.5646300315856934 seconds to calculate squared genesums. Sparsity:  True\n",
      "0.9102721214294434 seconds to calculate differential expression. Sparsity:  True\n",
      "1.1771621704101562 seconds to select and project cells\n",
      "Selected 5511 cells\n",
      "Calculating differential expression...\n",
      "0.45987510681152344 seconds to calculate differential expression. Sparsity:  True\n",
      "EXPORTING DATA...\n",
      "BYE\n"
     ]
    }
   ],
   "source": [
    "\n",
    "#from umap_explorer import UMAPexplorer\n",
    "import sys\n",
    "sys.path.append('../umap_explorer/')\n",
    "from umap_explorer import UMAPexplorer\n",
    "\n",
    "test_csc = UMAPexplorer(_umap, _expr_sparse_csc, gene_names=list(_expr.columns))\n",
    "test_csc.explore_data()"
   ]
  },
  {
   "cell_type": "code",
   "execution_count": 14,
   "id": "public-tsunami",
   "metadata": {},
   "outputs": [
    {
     "name": "stdout",
     "output_type": "stream",
     "text": [
      "Selected 5417 cells\n",
      "Calculating correlations...\n"
     ]
    },
    {
     "name": "stderr",
     "output_type": "stream",
     "text": [
      "../umap_explorer/umap_explorer.py:501: RuntimeWarning: invalid value encountered in true_divide\n",
      "  rs = np.dot(DP, DO) / np.sqrt(np.sum(DO ** 2, 0) * np.sum(DP ** 2))\n"
     ]
    },
    {
     "name": "stdout",
     "output_type": "stream",
     "text": [
      "7.411128044128418\n"
     ]
    },
    {
     "data": {
      "text/plain": [
       "[('GZMB', -0.32614949650363956, 1.8880639679280342e-134),\n",
       " ('LGALS1', -0.30899009118183757, 3.575087769004151e-120),\n",
       " ('IFITM2', -0.3003704186066798, 2.3650231020362216e-113),\n",
       " ('S100A4', -0.2690350367863648, 1.815662224562564e-90),\n",
       " ('ACTB', -0.2646374773239628, 1.7269390898892205e-87),\n",
       " ('PFN1', -0.25680451057771914, 2.531161022516179e-82),\n",
       " ('GNLY', -0.25290176188556096, 8.156254756160819e-80),\n",
       " ('GZMH', -0.25059266003907826, 2.3715143374972015e-78),\n",
       " ('NKG7', -0.23397949182279504, 2.8953231163685266e-68),\n",
       " ('CYBA', -0.22061098395621265, 1.0534763647712336e-60)]"
      ]
     },
     "execution_count": 14,
     "metadata": {},
     "output_type": "execute_result"
    }
   ],
   "source": [
    "start = time.time()\n",
    "z =test.calculateGeneCorrelations(test.renderer.indices)\n",
    "stop = time.time()\n",
    "print(stop-start)\n",
    "[(x.name,x.r, x.p) for x in z[:10]]"
   ]
  },
  {
   "cell_type": "code",
   "execution_count": 19,
   "id": "sticky-calendar",
   "metadata": {},
   "outputs": [
    {
     "data": {
      "text/plain": [
       "(-0.326149496503638, 1.8880639679313648e-134)"
      ]
     },
     "execution_count": 19,
     "metadata": {},
     "output_type": "execute_result"
    }
   ],
   "source": [
    "vproj = []\n",
    "ind = test.renderer.indices\n",
    "for i in ind:\n",
    "    vproj.append(test.cells[i].proj)\n",
    "vproj = np.array(vproj)\n",
    "\n",
    "from scipy.stats import pearsonr\n",
    "pearsonr(_expr['GZMB'].iloc[ind], vproj)"
   ]
  },
  {
   "cell_type": "code",
   "execution_count": 20,
   "id": "above-printer",
   "metadata": {},
   "outputs": [
    {
     "data": {
      "text/plain": [
       "(-0.22061098395621187, 1.0534763647710057e-60)"
      ]
     },
     "execution_count": 20,
     "metadata": {},
     "output_type": "execute_result"
    }
   ],
   "source": [
    "pearsonr(_expr['CYBA'].iloc[ind], vproj)"
   ]
  },
  {
   "cell_type": "code",
   "execution_count": null,
   "id": "developing-gibraltar",
   "metadata": {},
   "outputs": [],
   "source": []
  },
  {
   "cell_type": "code",
   "execution_count": null,
   "id": "endangered-kitchen",
   "metadata": {},
   "outputs": [],
   "source": []
  },
  {
   "cell_type": "code",
   "execution_count": null,
   "id": "crucial-copying",
   "metadata": {},
   "outputs": [],
   "source": []
  },
  {
   "cell_type": "code",
   "execution_count": null,
   "id": "treated-collapse",
   "metadata": {},
   "outputs": [],
   "source": []
  },
  {
   "cell_type": "code",
   "execution_count": 52,
   "id": "interstate-conclusion",
   "metadata": {},
   "outputs": [
    {
     "name": "stdout",
     "output_type": "stream",
     "text": [
      "Selected 381 cells\n",
      "Calculating correlations...\n",
      "0.7770411968231201\n"
     ]
    }
   ],
   "source": [
    "start = time.time()\n",
    "z2 =test_csc.calculateGeneCorrelations(test.renderer.indices)\n",
    "stop = time.time()\n",
    "print(stop-start)"
   ]
  },
  {
   "cell_type": "code",
   "execution_count": 53,
   "id": "continued-currency",
   "metadata": {},
   "outputs": [
    {
     "data": {
      "text/plain": [
       "[('RPL10', -0.35307996365881406),\n",
       " ('MALAT1', -0.3394227080084552),\n",
       " ('RPL13', -0.28944165407252226),\n",
       " ('RPS27', -0.27736833875230377),\n",
       " ('RPL21', -0.2703558952388874),\n",
       " ('RPL13A', -0.2633588718508012),\n",
       " ('DUSP1', -0.2587483077704914),\n",
       " ('JUNB', -0.25610997911907396),\n",
       " ('RPS6', -0.24284579955105534),\n",
       " ('RPL19', -0.23916837612053848)]"
      ]
     },
     "execution_count": 53,
     "metadata": {},
     "output_type": "execute_result"
    }
   ],
   "source": [
    "[(x.name,x.r) for x in z2[:10]]"
   ]
  },
  {
   "cell_type": "code",
   "execution_count": null,
   "id": "aware-compound",
   "metadata": {},
   "outputs": [],
   "source": []
  },
  {
   "cell_type": "code",
   "execution_count": 54,
   "id": "exempt-utilization",
   "metadata": {},
   "outputs": [
    {
     "data": {
      "text/plain": [
       "False"
      ]
     },
     "execution_count": 54,
     "metadata": {},
     "output_type": "execute_result"
    }
   ],
   "source": [
    "test.sparse"
   ]
  },
  {
   "cell_type": "code",
   "execution_count": null,
   "id": "offensive-reading",
   "metadata": {},
   "outputs": [],
   "source": []
  },
  {
   "cell_type": "code",
   "execution_count": 27,
   "id": "undefined-niger",
   "metadata": {},
   "outputs": [
    {
     "name": "stdout",
     "output_type": "stream",
     "text": [
      "Selected 358 cells\n",
      "Calculating correlations...\n"
     ]
    },
    {
     "name": "stderr",
     "output_type": "stream",
     "text": [
      "/Users/dylankotliar/miniconda3/envs/py5coding/lib/python3.8/site-packages/scipy/stats/stats.py:3913: PearsonRConstantInputWarning: An input array is constant; the correlation coefficent is not defined.\n",
      "  warnings.warn(PearsonRConstantInputWarning())\n"
     ]
    },
    {
     "name": "stdout",
     "output_type": "stream",
     "text": [
      "5.2252960205078125\n"
     ]
    }
   ],
   "source": [
    "start = time.time()\n",
    "z2 =test_csc.calculateGeneCorrelations_sparse2(test_csc.renderer.indices)\n",
    "stop = time.time()\n",
    "print(stop-start)"
   ]
  },
  {
   "cell_type": "code",
   "execution_count": 28,
   "id": "cultural-cologne",
   "metadata": {},
   "outputs": [
    {
     "data": {
      "text/plain": [
       "[-0.34916670926297905,\n",
       " -0.3243703083851144,\n",
       " -0.26787387818561215,\n",
       " -0.2515203152390925,\n",
       " -0.25118051443680894,\n",
       " -0.23623141563559003,\n",
       " -0.23395850251449749,\n",
       " -0.2294874950147458,\n",
       " -0.22708333139753697,\n",
       " -0.22281041213932282]"
      ]
     },
     "execution_count": 28,
     "metadata": {},
     "output_type": "execute_result"
    }
   ],
   "source": [
    "[x.r for x in z1[:10]]"
   ]
  },
  {
   "cell_type": "code",
   "execution_count": 29,
   "id": "productive-poland",
   "metadata": {},
   "outputs": [
    {
     "data": {
      "text/plain": [
       "[-0.34916670926296794,\n",
       " -0.32437030838511416,\n",
       " -0.2678738781856031,\n",
       " -0.25152031523909263,\n",
       " -0.2511805144368089,\n",
       " -0.23623141563558459,\n",
       " -0.23395850251449749,\n",
       " -0.22948749501474663,\n",
       " -0.22708333139753706,\n",
       " -0.22281041213932104]"
      ]
     },
     "execution_count": 29,
     "metadata": {},
     "output_type": "execute_result"
    }
   ],
   "source": [
    "[x.r for x in z2[:10]]"
   ]
  },
  {
   "cell_type": "code",
   "execution_count": null,
   "id": "painted-piano",
   "metadata": {},
   "outputs": [],
   "source": []
  },
  {
   "cell_type": "code",
   "execution_count": 20,
   "id": "comfortable-conflict",
   "metadata": {},
   "outputs": [],
   "source": [
    "_expr_sparse_csr= sparse.csr_matrix(_expr_sparse)"
   ]
  },
  {
   "cell_type": "code",
   "execution_count": 17,
   "id": "egyptian-alaska",
   "metadata": {},
   "outputs": [
    {
     "name": "stdout",
     "output_type": "stream",
     "text": [
      "1.2172541618347168\n"
     ]
    }
   ],
   "source": [
    "start = time.time()\n",
    "_expr_sparse.sum(axis=0)\n",
    "stop =time.time()\n",
    "print(stop - start)"
   ]
  },
  {
   "cell_type": "code",
   "execution_count": 19,
   "id": "historical-private",
   "metadata": {},
   "outputs": [
    {
     "name": "stdout",
     "output_type": "stream",
     "text": [
      "1.396860122680664\n"
     ]
    }
   ],
   "source": [
    "start = time.time()\n",
    "_expr_sparse_csc.sum(axis=0)\n",
    "stop =time.time()\n",
    "print(stop - start)"
   ]
  },
  {
   "cell_type": "code",
   "execution_count": 21,
   "id": "continuing-uzbekistan",
   "metadata": {},
   "outputs": [
    {
     "name": "stdout",
     "output_type": "stream",
     "text": [
      "0.4743938446044922\n"
     ]
    }
   ],
   "source": [
    "start = time.time()\n",
    "_expr_sparse_csr.sum(axis=0)\n",
    "stop =time.time()\n",
    "print(stop - start)"
   ]
  },
  {
   "cell_type": "code",
   "execution_count": 18,
   "id": "automotive-edgar",
   "metadata": {},
   "outputs": [
    {
     "name": "stdout",
     "output_type": "stream",
     "text": [
      "55.099639892578125\n"
     ]
    }
   ],
   "source": [
    "start = time.time()\n",
    "_expr.sum(axis=0)\n",
    "stop =time.time()\n",
    "print(stop - start)"
   ]
  },
  {
   "cell_type": "code",
   "execution_count": 23,
   "id": "accepted-postage",
   "metadata": {},
   "outputs": [
    {
     "data": {
      "text/plain": [
       "array([1.36004900e+03, 8.92537452e+01, 1.34238700e+04, ...,\n",
       "       4.34642691e+05, 6.58844935e+03, 6.05222260e+03])"
      ]
     },
     "execution_count": 23,
     "metadata": {},
     "output_type": "execute_result"
    }
   ],
   "source": [
    "(_expr_sparse_csc.A**2).sum(axis=0)"
   ]
  },
  {
   "cell_type": "code",
   "execution_count": 28,
   "id": "aware-suicide",
   "metadata": {},
   "outputs": [
    {
     "data": {
      "text/plain": [
       "False"
      ]
     },
     "execution_count": 28,
     "metadata": {},
     "output_type": "execute_result"
    }
   ],
   "source": [
    "np.array([1,3,5]) is None"
   ]
  },
  {
   "cell_type": "code",
   "execution_count": 25,
   "id": "comparative-woman",
   "metadata": {},
   "outputs": [
    {
     "ename": "AttributeError",
     "evalue": "'DataFrame' object has no attribute 'A'",
     "output_type": "error",
     "traceback": [
      "\u001b[0;31m---------------------------------------------------------------------------\u001b[0m",
      "\u001b[0;31mAttributeError\u001b[0m                            Traceback (most recent call last)",
      "\u001b[0;32m<ipython-input-25-994330f29275>\u001b[0m in \u001b[0;36m<module>\u001b[0;34m\u001b[0m\n\u001b[0;32m----> 1\u001b[0;31m \u001b[0m_expr\u001b[0m\u001b[0;34m.\u001b[0m\u001b[0mA\u001b[0m\u001b[0;34m\u001b[0m\u001b[0;34m\u001b[0m\u001b[0m\n\u001b[0m",
      "\u001b[0;32m~/miniconda3/envs/py5coding/lib/python3.8/site-packages/pandas/core/generic.py\u001b[0m in \u001b[0;36m__getattr__\u001b[0;34m(self, name)\u001b[0m\n\u001b[1;32m   5463\u001b[0m             \u001b[0;32mif\u001b[0m \u001b[0mself\u001b[0m\u001b[0;34m.\u001b[0m\u001b[0m_info_axis\u001b[0m\u001b[0;34m.\u001b[0m\u001b[0m_can_hold_identifiers_and_holds_name\u001b[0m\u001b[0;34m(\u001b[0m\u001b[0mname\u001b[0m\u001b[0;34m)\u001b[0m\u001b[0;34m:\u001b[0m\u001b[0;34m\u001b[0m\u001b[0;34m\u001b[0m\u001b[0m\n\u001b[1;32m   5464\u001b[0m                 \u001b[0;32mreturn\u001b[0m \u001b[0mself\u001b[0m\u001b[0;34m[\u001b[0m\u001b[0mname\u001b[0m\u001b[0;34m]\u001b[0m\u001b[0;34m\u001b[0m\u001b[0;34m\u001b[0m\u001b[0m\n\u001b[0;32m-> 5465\u001b[0;31m             \u001b[0;32mreturn\u001b[0m \u001b[0mobject\u001b[0m\u001b[0;34m.\u001b[0m\u001b[0m__getattribute__\u001b[0m\u001b[0;34m(\u001b[0m\u001b[0mself\u001b[0m\u001b[0;34m,\u001b[0m \u001b[0mname\u001b[0m\u001b[0;34m)\u001b[0m\u001b[0;34m\u001b[0m\u001b[0;34m\u001b[0m\u001b[0m\n\u001b[0m\u001b[1;32m   5466\u001b[0m \u001b[0;34m\u001b[0m\u001b[0m\n\u001b[1;32m   5467\u001b[0m     \u001b[0;32mdef\u001b[0m \u001b[0m__setattr__\u001b[0m\u001b[0;34m(\u001b[0m\u001b[0mself\u001b[0m\u001b[0;34m,\u001b[0m \u001b[0mname\u001b[0m\u001b[0;34m:\u001b[0m \u001b[0mstr\u001b[0m\u001b[0;34m,\u001b[0m \u001b[0mvalue\u001b[0m\u001b[0;34m)\u001b[0m \u001b[0;34m->\u001b[0m \u001b[0;32mNone\u001b[0m\u001b[0;34m:\u001b[0m\u001b[0;34m\u001b[0m\u001b[0;34m\u001b[0m\u001b[0m\n",
      "\u001b[0;31mAttributeError\u001b[0m: 'DataFrame' object has no attribute 'A'"
     ]
    }
   ],
   "source": [
    "_expr.A"
   ]
  },
  {
   "cell_type": "code",
   "execution_count": 24,
   "id": "alternative-transsexual",
   "metadata": {},
   "outputs": [
    {
     "data": {
      "text/plain": [
       "0\n",
       "LINC00115      1360.048998\n",
       "FAM41C           89.253745\n",
       "NOC2L         13423.870047\n",
       "KLHL17          316.153331\n",
       "PLEKHN1         200.692888\n",
       "                 ...      \n",
       "MT-ND5       119970.220405\n",
       "MT-ND6         3985.982488\n",
       "MT-CYB       434642.691190\n",
       "PNRC2-1        6588.449353\n",
       "SRSF10-1       6052.222600\n",
       "Length: 12563, dtype: float64"
      ]
     },
     "execution_count": 24,
     "metadata": {},
     "output_type": "execute_result"
    }
   ],
   "source": [
    "(_expr**2).sum(axis=0)"
   ]
  },
  {
   "cell_type": "raw",
   "id": "growing-debut",
   "metadata": {},
   "source": [
    "test.significant_genes.head()"
   ]
  },
  {
   "cell_type": "code",
   "execution_count": 47,
   "id": "false-nomination",
   "metadata": {},
   "outputs": [],
   "source": [
    "from scipy.stats import pearsonr\n",
    "import scipy as scipy\n",
    "import time\n",
    "#https://www.javaer101.com/en/article/18344934.html"
   ]
  },
  {
   "cell_type": "code",
   "execution_count": null,
   "id": "experienced-thursday",
   "metadata": {},
   "outputs": [],
   "source": [
    "_expr_sparse_csr= sparse.csr_matrix(_expr_sparse)\n",
    "_expr_sparse_csc= sparse.csc_matrix(_expr_sparse)"
   ]
  },
  {
   "cell_type": "code",
   "execution_count": 50,
   "id": "federal-acting",
   "metadata": {},
   "outputs": [
    {
     "data": {
      "text/plain": [
       "True"
      ]
     },
     "execution_count": 50,
     "metadata": {},
     "output_type": "execute_result"
    }
   ],
   "source": [
    "type(_expr_sparse_csc) in [scipy.sparse.csc.csc_matrix, np.ndarray]"
   ]
  },
  {
   "cell_type": "code",
   "execution_count": 32,
   "id": "scheduled-minneapolis",
   "metadata": {},
   "outputs": [
    {
     "data": {
      "text/plain": [
       "array([0., 0., 0., ..., 0., 0., 0.])"
      ]
     },
     "execution_count": 32,
     "metadata": {},
     "output_type": "execute_result"
    }
   ],
   "source": [
    "x = _expr_sparse_csc\n",
    "y = np.array(_expr_sparse_csc[:,100].todense()).reshape(-1)\n",
    "y"
   ]
  },
  {
   "cell_type": "code",
   "execution_count": 34,
   "id": "burning-manitoba",
   "metadata": {},
   "outputs": [],
   "source": [
    "nrow = x.shape[0]"
   ]
  },
  {
   "cell_type": "code",
   "execution_count": 35,
   "id": "amber-reviewer",
   "metadata": {},
   "outputs": [],
   "source": [
    "yy = y - y.mean()\n",
    "xm = x.mean(axis=0).A.ravel()\n",
    "ys = yy / np.sqrt(np.dot(yy, yy))\n",
    "xs = np.sqrt(np.add.reduceat(x.data**2, x.indptr[:-1]) - nrow*xm*xm)\n",
    "\n",
    "correl2 = np.add.reduceat(x.data * ys[x.indices], x.indptr[:-1]) / xs"
   ]
  },
  {
   "cell_type": "code",
   "execution_count": 41,
   "id": "approximate-driver",
   "metadata": {},
   "outputs": [
    {
     "data": {
      "text/plain": [
       "array([-0.00485106, -0.00130036,  0.00920662, ..., -0.00600907,\n",
       "       -0.00316376,  0.00169666])"
      ]
     },
     "execution_count": 41,
     "metadata": {},
     "output_type": "execute_result"
    }
   ],
   "source": [
    "correl2"
   ]
  },
  {
   "cell_type": "code",
   "execution_count": 42,
   "id": "located-wright",
   "metadata": {},
   "outputs": [
    {
     "data": {
      "text/plain": [
       "array([[ 1.        , -0.00485106],\n",
       "       [-0.00485106,  1.        ]])"
      ]
     },
     "execution_count": 42,
     "metadata": {},
     "output_type": "execute_result"
    }
   ],
   "source": [
    "np.corrcoef(_expr.values[:,0], y)"
   ]
  },
  {
   "cell_type": "code",
   "execution_count": 43,
   "id": "forced-finder",
   "metadata": {},
   "outputs": [
    {
     "data": {
      "text/plain": [
       "array([[1.        , 0.00169666],\n",
       "       [0.00169666, 1.        ]])"
      ]
     },
     "execution_count": 43,
     "metadata": {},
     "output_type": "execute_result"
    }
   ],
   "source": [
    "np.corrcoef(_expr.values[:,-1], y)"
   ]
  },
  {
   "cell_type": "code",
   "execution_count": 27,
   "id": "congressional-petite",
   "metadata": {},
   "outputs": [
    {
     "ename": "TypeError",
     "evalue": "sparse matrix length is ambiguous; use getnnz() or shape[0]",
     "output_type": "error",
     "traceback": [
      "\u001b[0;31m---------------------------------------------------------------------------\u001b[0m",
      "\u001b[0;31mTypeError\u001b[0m                                 Traceback (most recent call last)",
      "\u001b[0;32m<ipython-input-27-9f159a182b34>\u001b[0m in \u001b[0;36m<module>\u001b[0;34m\u001b[0m\n\u001b[0;32m----> 1\u001b[0;31m \u001b[0mpearsonr\u001b[0m\u001b[0;34m(\u001b[0m\u001b[0m_expr_sparse_csc\u001b[0m\u001b[0;34m[\u001b[0m\u001b[0;34m:\u001b[0m\u001b[0;34m,\u001b[0m\u001b[0;36m0\u001b[0m\u001b[0;34m]\u001b[0m\u001b[0;34m,\u001b[0m\u001b[0m_expr_sparse_csc\u001b[0m\u001b[0;34m[\u001b[0m\u001b[0;34m:\u001b[0m\u001b[0;34m,\u001b[0m\u001b[0;36m10\u001b[0m\u001b[0;34m]\u001b[0m\u001b[0;34m)\u001b[0m\u001b[0;34m\u001b[0m\u001b[0;34m\u001b[0m\u001b[0m\n\u001b[0m",
      "\u001b[0;32m~/miniconda3/envs/py5coding/lib/python3.8/site-packages/scipy/stats/stats.py\u001b[0m in \u001b[0;36mpearsonr\u001b[0;34m(x, y)\u001b[0m\n\u001b[1;32m   3899\u001b[0m \u001b[0;34m\u001b[0m\u001b[0m\n\u001b[1;32m   3900\u001b[0m     \"\"\"\n\u001b[0;32m-> 3901\u001b[0;31m     \u001b[0mn\u001b[0m \u001b[0;34m=\u001b[0m \u001b[0mlen\u001b[0m\u001b[0;34m(\u001b[0m\u001b[0mx\u001b[0m\u001b[0;34m)\u001b[0m\u001b[0;34m\u001b[0m\u001b[0;34m\u001b[0m\u001b[0m\n\u001b[0m\u001b[1;32m   3902\u001b[0m     \u001b[0;32mif\u001b[0m \u001b[0mn\u001b[0m \u001b[0;34m!=\u001b[0m \u001b[0mlen\u001b[0m\u001b[0;34m(\u001b[0m\u001b[0my\u001b[0m\u001b[0;34m)\u001b[0m\u001b[0;34m:\u001b[0m\u001b[0;34m\u001b[0m\u001b[0;34m\u001b[0m\u001b[0m\n\u001b[1;32m   3903\u001b[0m         \u001b[0;32mraise\u001b[0m \u001b[0mValueError\u001b[0m\u001b[0;34m(\u001b[0m\u001b[0;34m'x and y must have the same length.'\u001b[0m\u001b[0;34m)\u001b[0m\u001b[0;34m\u001b[0m\u001b[0;34m\u001b[0m\u001b[0m\n",
      "\u001b[0;32m~/miniconda3/envs/py5coding/lib/python3.8/site-packages/scipy/sparse/base.py\u001b[0m in \u001b[0;36m__len__\u001b[0;34m(self)\u001b[0m\n\u001b[1;32m    289\u001b[0m     \u001b[0;31m# non-zeros is more important.  For now, raise an exception!\u001b[0m\u001b[0;34m\u001b[0m\u001b[0;34m\u001b[0m\u001b[0;34m\u001b[0m\u001b[0m\n\u001b[1;32m    290\u001b[0m     \u001b[0;32mdef\u001b[0m \u001b[0m__len__\u001b[0m\u001b[0;34m(\u001b[0m\u001b[0mself\u001b[0m\u001b[0;34m)\u001b[0m\u001b[0;34m:\u001b[0m\u001b[0;34m\u001b[0m\u001b[0;34m\u001b[0m\u001b[0m\n\u001b[0;32m--> 291\u001b[0;31m         raise TypeError(\"sparse matrix length is ambiguous; use getnnz()\"\n\u001b[0m\u001b[1;32m    292\u001b[0m                         \" or shape[0]\")\n\u001b[1;32m    293\u001b[0m \u001b[0;34m\u001b[0m\u001b[0m\n",
      "\u001b[0;31mTypeError\u001b[0m: sparse matrix length is ambiguous; use getnnz() or shape[0]"
     ]
    }
   ],
   "source": [
    "pearsonr(_expr_sparse_csc[:,0],_expr_sparse_csc[:,10])"
   ]
  },
  {
   "cell_type": "code",
   "execution_count": 17,
   "id": "multiple-share",
   "metadata": {},
   "outputs": [
    {
     "data": {
      "text/plain": [
       "<52899x1 sparse matrix of type '<class 'numpy.float64'>'\n",
       "\twith 305 stored elements in Compressed Sparse Row format>"
      ]
     },
     "execution_count": 17,
     "metadata": {},
     "output_type": "execute_result"
    }
   ],
   "source": [
    "_expr_sparse.getcol(0)"
   ]
  },
  {
   "cell_type": "code",
   "execution_count": 18,
   "id": "indoor-enlargement",
   "metadata": {},
   "outputs": [
    {
     "data": {
      "text/plain": [
       "<1x12563 sparse matrix of type '<class 'numpy.float64'>'\n",
       "\twith 495 stored elements in Compressed Sparse Row format>"
      ]
     },
     "execution_count": 18,
     "metadata": {},
     "output_type": "execute_result"
    }
   ],
   "source": [
    "_expr_sparse.getrow(0)"
   ]
  },
  {
   "cell_type": "code",
   "execution_count": 23,
   "id": "improved-rebate",
   "metadata": {},
   "outputs": [
    {
     "data": {
      "text/plain": [
       "<52899x1 sparse matrix of type '<class 'numpy.float64'>'\n",
       "\twith 305 stored elements in Compressed Sparse Row format>"
      ]
     },
     "execution_count": 23,
     "metadata": {},
     "output_type": "execute_result"
    }
   ],
   "source": [
    "_expr_sparse_csr[:,0]"
   ]
  },
  {
   "cell_type": "code",
   "execution_count": 24,
   "id": "mounted-testing",
   "metadata": {},
   "outputs": [
    {
     "data": {
      "text/plain": [
       "<1x12563 sparse matrix of type '<class 'numpy.float64'>'\n",
       "\twith 495 stored elements in Compressed Sparse Row format>"
      ]
     },
     "execution_count": 24,
     "metadata": {},
     "output_type": "execute_result"
    }
   ],
   "source": [
    "_expr_sparse_csr[0,:]"
   ]
  },
  {
   "cell_type": "code",
   "execution_count": null,
   "id": "breeding-simple",
   "metadata": {},
   "outputs": [],
   "source": []
  }
 ],
 "metadata": {
  "kernelspec": {
   "display_name": "Python 3",
   "language": "python",
   "name": "python3"
  },
  "language_info": {
   "codemirror_mode": {
    "name": "ipython",
    "version": 3
   },
   "file_extension": ".py",
   "mimetype": "text/x-python",
   "name": "python",
   "nbconvert_exporter": "python",
   "pygments_lexer": "ipython3",
   "version": "3.8.8"
  }
 },
 "nbformat": 4,
 "nbformat_minor": 5
}
