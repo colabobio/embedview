{
 "cells": [
  {
   "cell_type": "markdown",
   "id": "legislative-attitude",
   "metadata": {},
   "source": [
    "## Fixes:\n",
    "- sort in absolute value\n",
    "- Put it in a module / pip / conda\n",
    "- Add differential expression feature\n",
    "- Calculate everything in matrices rather than for loops\n",
    "- When you color cells, what should the max and min expression be? Based on the selected cells or based on all of the cells. Currently it seems to remap based on only the selected cells but this is maybe misleading.\n",
    "\n",
    "- Pearson R vs. Spearman R?\n",
    "\n",
    "\n",
    "- Required input values: Pandas vs. numpy\n"
   ]
  },
  {
   "cell_type": "code",
   "execution_count": 1,
   "id": "growing-yugoslavia",
   "metadata": {},
   "outputs": [],
   "source": [
    "import pandas as pd\n",
    "import numpy as np\n",
    "from umap_explorer import UMAPexplorer\n"
   ]
  },
  {
   "cell_type": "code",
   "execution_count": 2,
   "id": "elect-darkness",
   "metadata": {},
   "outputs": [],
   "source": [
    "%load_ext py5\n",
    "%gui osx"
   ]
  },
  {
   "cell_type": "code",
   "execution_count": 4,
   "id": "scheduled-dodge",
   "metadata": {},
   "outputs": [
    {
     "name": "stdout",
     "output_type": "stream",
     "text": [
      "DOWNLOADING AND EXTRACTING EXAMPLE DATA\n",
      "--2021-02-27 14:25:08--  https://storage.googleapis.com/sabeti-public/dkotliar/scnavigator/pbmc3k/data/pbmc3k_umap.tsv\n",
      "Resolving storage.googleapis.com (storage.googleapis.com)... 172.217.11.48, 172.217.7.16, 142.250.64.80, ...\n",
      "Connecting to storage.googleapis.com (storage.googleapis.com)|172.217.11.48|:443... connected.\n",
      "HTTP request sent, awaiting response... 200 OK\n",
      "Length: 143969 (141K) [text/tab-separated-values]\n",
      "Saving to: ‘../data/pbmc3k_umap.tsv’\n",
      "\n",
      "../data/pbmc3k_umap 100%[===================>] 140.59K  --.-KB/s    in 0.07s   \n",
      "\n",
      "2021-02-27 14:25:08 (1.94 MB/s) - ‘../data/pbmc3k_umap.tsv’ saved [143969/143969]\n",
      "\n",
      "--2021-02-27 14:25:08--  https://storage.googleapis.com/sabeti-public/dkotliar/scnavigator/pbmc3k/data/pbmc3k_expression_filtered_normalized.tsv.gz\n",
      "Resolving storage.googleapis.com (storage.googleapis.com)... 172.217.11.48, 172.217.7.16, 142.250.64.80, ...\n",
      "Connecting to storage.googleapis.com (storage.googleapis.com)|172.217.11.48|:443... connected.\n",
      "HTTP request sent, awaiting response... 200 OK\n",
      "Length: 43477966 (41M) [text/tab-separated-values]\n",
      "Saving to: ‘../data/pbmc3k_expression_filtered_normalized.tsv.gz’\n",
      "\n",
      "../data/pbmc3k_expr 100%[===================>]  41.46M  9.63MB/s    in 4.3s    \n",
      "\n",
      "2021-02-27 14:25:13 (9.64 MB/s) - ‘../data/pbmc3k_expression_filtered_normalized.tsv.gz’ saved [43477966/43477966]\n",
      "\n",
      "pbmc3k_expression_filtered_normalized.tsv\n",
      "pbmc3k_umap.tsv\n"
     ]
    }
   ],
   "source": [
    "print('DOWNLOADING AND EXTRACTING EXAMPLE DATA')\n",
    "! mkdir -p ../data\n",
    "! wget https://storage.googleapis.com/sabeti-public/dkotliar/scnavigator/pbmc3k/data/pbmc3k_umap.tsv -O ../data/pbmc3k_umap.tsv\n",
    "! wget https://storage.googleapis.com/sabeti-public/dkotliar/scnavigator/pbmc3k/data/pbmc3k_expression_filtered_normalized.tsv.gz -O ../data/pbmc3k_expression_filtered_normalized.tsv.gz\n",
    "! gzip -df ../data/pbmc3k_expression_filtered_normalized.tsv.gz\n",
    "! ls ../data"
   ]
  },
  {
   "cell_type": "code",
   "execution_count": 3,
   "id": "experimental-joining",
   "metadata": {},
   "outputs": [
    {
     "name": "stdout",
     "output_type": "stream",
     "text": [
      "LOADING UMAP DATA...\n"
     ]
    },
    {
     "data": {
      "text/html": [
       "<div>\n",
       "<style scoped>\n",
       "    .dataframe tbody tr th:only-of-type {\n",
       "        vertical-align: middle;\n",
       "    }\n",
       "\n",
       "    .dataframe tbody tr th {\n",
       "        vertical-align: top;\n",
       "    }\n",
       "\n",
       "    .dataframe thead th {\n",
       "        text-align: right;\n",
       "    }\n",
       "</style>\n",
       "<table border=\"1\" class=\"dataframe\">\n",
       "  <thead>\n",
       "    <tr style=\"text-align: right;\">\n",
       "      <th></th>\n",
       "      <th>UMAP_1</th>\n",
       "      <th>UMAP_2</th>\n",
       "    </tr>\n",
       "    <tr>\n",
       "      <th>index</th>\n",
       "      <th></th>\n",
       "      <th></th>\n",
       "    </tr>\n",
       "  </thead>\n",
       "  <tbody>\n",
       "    <tr>\n",
       "      <th>AAACATACAACCAC-1</th>\n",
       "      <td>3.638991</td>\n",
       "      <td>3.122167</td>\n",
       "    </tr>\n",
       "    <tr>\n",
       "      <th>AAACATTGAGCTAC-1</th>\n",
       "      <td>-0.490064</td>\n",
       "      <td>10.553852</td>\n",
       "    </tr>\n",
       "    <tr>\n",
       "      <th>AAACATTGATCAGC-1</th>\n",
       "      <td>0.391078</td>\n",
       "      <td>4.035561</td>\n",
       "    </tr>\n",
       "    <tr>\n",
       "      <th>AAACCGTGCTTCCG-1</th>\n",
       "      <td>-6.747729</td>\n",
       "      <td>-0.600776</td>\n",
       "    </tr>\n",
       "    <tr>\n",
       "      <th>AAACCGTGTATGCG-1</th>\n",
       "      <td>1.887045</td>\n",
       "      <td>-1.526383</td>\n",
       "    </tr>\n",
       "  </tbody>\n",
       "</table>\n",
       "</div>"
      ],
      "text/plain": [
       "                    UMAP_1     UMAP_2\n",
       "index                                \n",
       "AAACATACAACCAC-1  3.638991   3.122167\n",
       "AAACATTGAGCTAC-1 -0.490064  10.553852\n",
       "AAACATTGATCAGC-1  0.391078   4.035561\n",
       "AAACCGTGCTTCCG-1 -6.747729  -0.600776\n",
       "AAACCGTGTATGCG-1  1.887045  -1.526383"
      ]
     },
     "execution_count": 3,
     "metadata": {},
     "output_type": "execute_result"
    }
   ],
   "source": [
    "print(\"LOADING UMAP DATA...\")\n",
    "\n",
    "_umap = pd.read_csv('../data/pbmc3k_umap.tsv', sep='\\t')\n",
    "_umap.index = _umap['index']\n",
    "_umap = _umap.iloc[:, 1:]\n",
    "_umap.head()"
   ]
  },
  {
   "cell_type": "code",
   "execution_count": 15,
   "id": "stupid-lucas",
   "metadata": {},
   "outputs": [
    {
     "data": {
      "text/plain": [
       "(2638, 2)"
      ]
     },
     "execution_count": 15,
     "metadata": {},
     "output_type": "execute_result"
    }
   ],
   "source": [
    "_umap.shape"
   ]
  },
  {
   "cell_type": "code",
   "execution_count": 11,
   "id": "formal-holmes",
   "metadata": {},
   "outputs": [
    {
     "data": {
      "text/plain": [
       "pandas.core.frame.DataFrame"
      ]
     },
     "execution_count": 11,
     "metadata": {},
     "output_type": "execute_result"
    }
   ],
   "source": [
    "type(_umap)"
   ]
  },
  {
   "cell_type": "code",
   "execution_count": 12,
   "id": "isolated-wireless",
   "metadata": {},
   "outputs": [],
   "source": [
    "z = _umap.values"
   ]
  },
  {
   "cell_type": "code",
   "execution_count": 13,
   "id": "greenhouse-delicious",
   "metadata": {},
   "outputs": [
    {
     "data": {
      "text/plain": [
       "numpy.ndarray"
      ]
     },
     "execution_count": 13,
     "metadata": {},
     "output_type": "execute_result"
    }
   ],
   "source": [
    "type(z)"
   ]
  },
  {
   "cell_type": "code",
   "execution_count": 14,
   "id": "sacred-prayer",
   "metadata": {},
   "outputs": [
    {
     "data": {
      "text/plain": [
       "False"
      ]
     },
     "execution_count": 14,
     "metadata": {},
     "output_type": "execute_result"
    }
   ],
   "source": [
    "z is np.ndarray"
   ]
  },
  {
   "cell_type": "code",
   "execution_count": null,
   "id": "whole-thailand",
   "metadata": {},
   "outputs": [],
   "source": []
  },
  {
   "cell_type": "code",
   "execution_count": 4,
   "id": "announced-independence",
   "metadata": {},
   "outputs": [
    {
     "name": "stdout",
     "output_type": "stream",
     "text": [
      "LOADING GENE EXPRESSION DATA...\n"
     ]
    },
    {
     "data": {
      "text/html": [
       "<div>\n",
       "<style scoped>\n",
       "    .dataframe tbody tr th:only-of-type {\n",
       "        vertical-align: middle;\n",
       "    }\n",
       "\n",
       "    .dataframe tbody tr th {\n",
       "        vertical-align: top;\n",
       "    }\n",
       "\n",
       "    .dataframe thead th {\n",
       "        text-align: right;\n",
       "    }\n",
       "</style>\n",
       "<table border=\"1\" class=\"dataframe\">\n",
       "  <thead>\n",
       "    <tr style=\"text-align: right;\">\n",
       "      <th></th>\n",
       "      <th>TNFRSF4</th>\n",
       "      <th>CPSF3L</th>\n",
       "      <th>ATAD3C</th>\n",
       "      <th>C1orf86</th>\n",
       "      <th>RER1</th>\n",
       "      <th>TNFRSF25</th>\n",
       "      <th>TNFRSF9</th>\n",
       "      <th>CTNNBIP1</th>\n",
       "      <th>SRM</th>\n",
       "      <th>UBIAD1</th>\n",
       "      <th>...</th>\n",
       "      <th>DSCR3</th>\n",
       "      <th>BRWD1</th>\n",
       "      <th>BACE2</th>\n",
       "      <th>SIK1</th>\n",
       "      <th>C21orf33</th>\n",
       "      <th>ICOSLG</th>\n",
       "      <th>SUMO3</th>\n",
       "      <th>SLC19A1</th>\n",
       "      <th>S100B</th>\n",
       "      <th>PRMT2</th>\n",
       "    </tr>\n",
       "    <tr>\n",
       "      <th>index</th>\n",
       "      <th></th>\n",
       "      <th></th>\n",
       "      <th></th>\n",
       "      <th></th>\n",
       "      <th></th>\n",
       "      <th></th>\n",
       "      <th></th>\n",
       "      <th></th>\n",
       "      <th></th>\n",
       "      <th></th>\n",
       "      <th></th>\n",
       "      <th></th>\n",
       "      <th></th>\n",
       "      <th></th>\n",
       "      <th></th>\n",
       "      <th></th>\n",
       "      <th></th>\n",
       "      <th></th>\n",
       "      <th></th>\n",
       "      <th></th>\n",
       "      <th></th>\n",
       "    </tr>\n",
       "  </thead>\n",
       "  <tbody>\n",
       "    <tr>\n",
       "      <th>AAACATACAACCAC-1</th>\n",
       "      <td>-0.171470</td>\n",
       "      <td>-0.280812</td>\n",
       "      <td>-0.046677</td>\n",
       "      <td>-0.475169</td>\n",
       "      <td>-0.544024</td>\n",
       "      <td>4.928496</td>\n",
       "      <td>-0.038028</td>\n",
       "      <td>-0.280573</td>\n",
       "      <td>-0.341788</td>\n",
       "      <td>-0.195361</td>\n",
       "      <td>...</td>\n",
       "      <td>-0.226570</td>\n",
       "      <td>-0.236269</td>\n",
       "      <td>-0.102943</td>\n",
       "      <td>-0.222116</td>\n",
       "      <td>-0.312401</td>\n",
       "      <td>-0.121678</td>\n",
       "      <td>-0.521229</td>\n",
       "      <td>-0.098269</td>\n",
       "      <td>-0.209095</td>\n",
       "      <td>-0.531203</td>\n",
       "    </tr>\n",
       "    <tr>\n",
       "      <th>AAACATTGAGCTAC-1</th>\n",
       "      <td>-0.214582</td>\n",
       "      <td>-0.372653</td>\n",
       "      <td>-0.054804</td>\n",
       "      <td>-0.683391</td>\n",
       "      <td>0.633951</td>\n",
       "      <td>-0.334837</td>\n",
       "      <td>-0.045589</td>\n",
       "      <td>-0.498264</td>\n",
       "      <td>-0.541914</td>\n",
       "      <td>-0.209017</td>\n",
       "      <td>...</td>\n",
       "      <td>-0.317531</td>\n",
       "      <td>2.568868</td>\n",
       "      <td>0.007155</td>\n",
       "      <td>-0.445372</td>\n",
       "      <td>1.629285</td>\n",
       "      <td>-0.058662</td>\n",
       "      <td>-0.857163</td>\n",
       "      <td>-0.266844</td>\n",
       "      <td>-0.313146</td>\n",
       "      <td>-0.596654</td>\n",
       "    </tr>\n",
       "    <tr>\n",
       "      <th>AAACATTGATCAGC-1</th>\n",
       "      <td>-0.376888</td>\n",
       "      <td>-0.295085</td>\n",
       "      <td>-0.057527</td>\n",
       "      <td>-0.520972</td>\n",
       "      <td>1.332648</td>\n",
       "      <td>-0.309362</td>\n",
       "      <td>-0.103108</td>\n",
       "      <td>-0.272526</td>\n",
       "      <td>-0.500799</td>\n",
       "      <td>-0.220228</td>\n",
       "      <td>...</td>\n",
       "      <td>-0.302938</td>\n",
       "      <td>-0.239801</td>\n",
       "      <td>-0.071774</td>\n",
       "      <td>-0.297857</td>\n",
       "      <td>-0.410920</td>\n",
       "      <td>-0.070431</td>\n",
       "      <td>-0.590720</td>\n",
       "      <td>-0.158656</td>\n",
       "      <td>-0.170876</td>\n",
       "      <td>1.379000</td>\n",
       "    </tr>\n",
       "    <tr>\n",
       "      <th>AAACCGTGCTTCCG-1</th>\n",
       "      <td>-0.285241</td>\n",
       "      <td>-0.281735</td>\n",
       "      <td>-0.052227</td>\n",
       "      <td>-0.484929</td>\n",
       "      <td>1.572680</td>\n",
       "      <td>-0.271825</td>\n",
       "      <td>-0.074552</td>\n",
       "      <td>-0.258875</td>\n",
       "      <td>-0.416752</td>\n",
       "      <td>-0.208471</td>\n",
       "      <td>...</td>\n",
       "      <td>-0.262978</td>\n",
       "      <td>-0.231807</td>\n",
       "      <td>-0.093818</td>\n",
       "      <td>-0.247770</td>\n",
       "      <td>2.552079</td>\n",
       "      <td>-0.097402</td>\n",
       "      <td>1.631684</td>\n",
       "      <td>-0.119462</td>\n",
       "      <td>-0.179120</td>\n",
       "      <td>-0.505669</td>\n",
       "    </tr>\n",
       "    <tr>\n",
       "      <th>AAACCGTGTATGCG-1</th>\n",
       "      <td>-0.256484</td>\n",
       "      <td>-0.220394</td>\n",
       "      <td>-0.046800</td>\n",
       "      <td>-0.345859</td>\n",
       "      <td>-0.333409</td>\n",
       "      <td>-0.208122</td>\n",
       "      <td>-0.069514</td>\n",
       "      <td>5.806440</td>\n",
       "      <td>-0.283112</td>\n",
       "      <td>-0.199355</td>\n",
       "      <td>...</td>\n",
       "      <td>-0.202237</td>\n",
       "      <td>-0.176765</td>\n",
       "      <td>-0.167350</td>\n",
       "      <td>-0.098665</td>\n",
       "      <td>-0.275836</td>\n",
       "      <td>-0.139482</td>\n",
       "      <td>-0.310095</td>\n",
       "      <td>-0.006877</td>\n",
       "      <td>-0.109614</td>\n",
       "      <td>-0.461946</td>\n",
       "    </tr>\n",
       "  </tbody>\n",
       "</table>\n",
       "<p>5 rows × 1838 columns</p>\n",
       "</div>"
      ],
      "text/plain": [
       "                   TNFRSF4    CPSF3L    ATAD3C   C1orf86      RER1  TNFRSF25  \\\n",
       "index                                                                          \n",
       "AAACATACAACCAC-1 -0.171470 -0.280812 -0.046677 -0.475169 -0.544024  4.928496   \n",
       "AAACATTGAGCTAC-1 -0.214582 -0.372653 -0.054804 -0.683391  0.633951 -0.334837   \n",
       "AAACATTGATCAGC-1 -0.376888 -0.295085 -0.057527 -0.520972  1.332648 -0.309362   \n",
       "AAACCGTGCTTCCG-1 -0.285241 -0.281735 -0.052227 -0.484929  1.572680 -0.271825   \n",
       "AAACCGTGTATGCG-1 -0.256484 -0.220394 -0.046800 -0.345859 -0.333409 -0.208122   \n",
       "\n",
       "                   TNFRSF9  CTNNBIP1       SRM    UBIAD1  ...     DSCR3  \\\n",
       "index                                                     ...             \n",
       "AAACATACAACCAC-1 -0.038028 -0.280573 -0.341788 -0.195361  ... -0.226570   \n",
       "AAACATTGAGCTAC-1 -0.045589 -0.498264 -0.541914 -0.209017  ... -0.317531   \n",
       "AAACATTGATCAGC-1 -0.103108 -0.272526 -0.500799 -0.220228  ... -0.302938   \n",
       "AAACCGTGCTTCCG-1 -0.074552 -0.258875 -0.416752 -0.208471  ... -0.262978   \n",
       "AAACCGTGTATGCG-1 -0.069514  5.806440 -0.283112 -0.199355  ... -0.202237   \n",
       "\n",
       "                     BRWD1     BACE2      SIK1  C21orf33    ICOSLG     SUMO3  \\\n",
       "index                                                                          \n",
       "AAACATACAACCAC-1 -0.236269 -0.102943 -0.222116 -0.312401 -0.121678 -0.521229   \n",
       "AAACATTGAGCTAC-1  2.568868  0.007155 -0.445372  1.629285 -0.058662 -0.857163   \n",
       "AAACATTGATCAGC-1 -0.239801 -0.071774 -0.297857 -0.410920 -0.070431 -0.590720   \n",
       "AAACCGTGCTTCCG-1 -0.231807 -0.093818 -0.247770  2.552079 -0.097402  1.631684   \n",
       "AAACCGTGTATGCG-1 -0.176765 -0.167350 -0.098665 -0.275836 -0.139482 -0.310095   \n",
       "\n",
       "                   SLC19A1     S100B     PRMT2  \n",
       "index                                           \n",
       "AAACATACAACCAC-1 -0.098269 -0.209095 -0.531203  \n",
       "AAACATTGAGCTAC-1 -0.266844 -0.313146 -0.596654  \n",
       "AAACATTGATCAGC-1 -0.158656 -0.170876  1.379000  \n",
       "AAACCGTGCTTCCG-1 -0.119462 -0.179120 -0.505669  \n",
       "AAACCGTGTATGCG-1 -0.006877 -0.109614 -0.461946  \n",
       "\n",
       "[5 rows x 1838 columns]"
      ]
     },
     "execution_count": 4,
     "metadata": {},
     "output_type": "execute_result"
    }
   ],
   "source": [
    "print(\"LOADING GENE EXPRESSION DATA...\")\n",
    "\n",
    "_expr = pd.read_csv('../data/pbmc3k_expression_filtered_normalized.tsv', sep='\\t')\n",
    "_expr.set_index('index', inplace=True)\n",
    "_expr.head()"
   ]
  },
  {
   "cell_type": "code",
   "execution_count": 6,
   "id": "passive-offset",
   "metadata": {},
   "outputs": [
    {
     "name": "stdout",
     "output_type": "stream",
     "text": [
      "Selected 1612 cells\n",
      "Calculating correlations...\n",
      "Done\n",
      "Selected gene NKG7\n",
      "Min/max expression level for gene NKG7 -1.0051720142364502 3.231872320175171\n",
      "Selected 40 cells\n",
      "Calculating correlations...\n",
      "Done\n",
      "Selected gene S100A11\n",
      "Min/max expression level for gene S100A11 -1.2426496744155884 1.1720069646835327\n",
      "Selected gene LGALS1\n",
      "Min/max expression level for gene LGALS1 -1.772784948348999 2.0967912673950195\n",
      "EXPORTING DATA...\n",
      "BYE\n"
     ]
    }
   ],
   "source": [
    "test = UMAPexplorer(_umap, _expr)\n",
    "test.explore_data()"
   ]
  },
  {
   "cell_type": "code",
   "execution_count": 7,
   "id": "macro-glasgow",
   "metadata": {},
   "outputs": [
    {
     "data": {
      "text/plain": [
       "'LGALS1'"
      ]
     },
     "execution_count": 7,
     "metadata": {},
     "output_type": "execute_result"
    }
   ],
   "source": [
    "test.selected_gene_name"
   ]
  },
  {
   "cell_type": "code",
   "execution_count": 8,
   "id": "requested-patch",
   "metadata": {},
   "outputs": [
    {
     "data": {
      "text/html": [
       "<div>\n",
       "<style scoped>\n",
       "    .dataframe tbody tr th:only-of-type {\n",
       "        vertical-align: middle;\n",
       "    }\n",
       "\n",
       "    .dataframe tbody tr th {\n",
       "        vertical-align: top;\n",
       "    }\n",
       "\n",
       "    .dataframe thead th {\n",
       "        text-align: right;\n",
       "    }\n",
       "</style>\n",
       "<table border=\"1\" class=\"dataframe\">\n",
       "  <thead>\n",
       "    <tr style=\"text-align: right;\">\n",
       "      <th></th>\n",
       "      <th>R</th>\n",
       "      <th>P</th>\n",
       "    </tr>\n",
       "  </thead>\n",
       "  <tbody>\n",
       "    <tr>\n",
       "      <th>S100A11</th>\n",
       "      <td>-0.835240</td>\n",
       "      <td>2.056491e-11</td>\n",
       "    </tr>\n",
       "    <tr>\n",
       "      <th>LGALS1</th>\n",
       "      <td>-0.822007</td>\n",
       "      <td>7.894840e-11</td>\n",
       "    </tr>\n",
       "    <tr>\n",
       "      <th>S100A6</th>\n",
       "      <td>-0.761210</td>\n",
       "      <td>1.182626e-08</td>\n",
       "    </tr>\n",
       "    <tr>\n",
       "      <th>MRM1</th>\n",
       "      <td>-0.759937</td>\n",
       "      <td>1.292410e-08</td>\n",
       "    </tr>\n",
       "    <tr>\n",
       "      <th>NPHP3</th>\n",
       "      <td>-0.759909</td>\n",
       "      <td>1.294982e-08</td>\n",
       "    </tr>\n",
       "    <tr>\n",
       "      <th>...</th>\n",
       "      <td>...</td>\n",
       "      <td>...</td>\n",
       "    </tr>\n",
       "    <tr>\n",
       "      <th>AP4B1-AS1</th>\n",
       "      <td>0.759626</td>\n",
       "      <td>1.320659e-08</td>\n",
       "    </tr>\n",
       "    <tr>\n",
       "      <th>ZNF653</th>\n",
       "      <td>0.759800</td>\n",
       "      <td>1.304779e-08</td>\n",
       "    </tr>\n",
       "    <tr>\n",
       "      <th>GZMA</th>\n",
       "      <td>0.759911</td>\n",
       "      <td>1.294799e-08</td>\n",
       "    </tr>\n",
       "    <tr>\n",
       "      <th>ARVCF</th>\n",
       "      <td>0.759912</td>\n",
       "      <td>1.294687e-08</td>\n",
       "    </tr>\n",
       "    <tr>\n",
       "      <th>RP11-324I22.4</th>\n",
       "      <td>0.759922</td>\n",
       "      <td>1.293767e-08</td>\n",
       "    </tr>\n",
       "  </tbody>\n",
       "</table>\n",
       "<p>508 rows × 2 columns</p>\n",
       "</div>"
      ],
      "text/plain": [
       "                      R             P\n",
       "S100A11       -0.835240  2.056491e-11\n",
       "LGALS1        -0.822007  7.894840e-11\n",
       "S100A6        -0.761210  1.182626e-08\n",
       "MRM1          -0.759937  1.292410e-08\n",
       "NPHP3         -0.759909  1.294982e-08\n",
       "...                 ...           ...\n",
       "AP4B1-AS1      0.759626  1.320659e-08\n",
       "ZNF653         0.759800  1.304779e-08\n",
       "GZMA           0.759911  1.294799e-08\n",
       "ARVCF          0.759912  1.294687e-08\n",
       "RP11-324I22.4  0.759922  1.293767e-08\n",
       "\n",
       "[508 rows x 2 columns]"
      ]
     },
     "execution_count": 8,
     "metadata": {},
     "output_type": "execute_result"
    }
   ],
   "source": [
    "test.significant_genes"
   ]
  },
  {
   "cell_type": "code",
   "execution_count": 10,
   "id": "creative-speed",
   "metadata": {},
   "outputs": [
    {
     "data": {
      "text/html": [
       "<div>\n",
       "<style scoped>\n",
       "    .dataframe tbody tr th:only-of-type {\n",
       "        vertical-align: middle;\n",
       "    }\n",
       "\n",
       "    .dataframe tbody tr th {\n",
       "        vertical-align: top;\n",
       "    }\n",
       "\n",
       "    .dataframe thead th {\n",
       "        text-align: right;\n",
       "    }\n",
       "</style>\n",
       "<table border=\"1\" class=\"dataframe\">\n",
       "  <thead>\n",
       "    <tr style=\"text-align: right;\">\n",
       "      <th></th>\n",
       "      <th>TNFRSF4</th>\n",
       "      <th>CPSF3L</th>\n",
       "      <th>ATAD3C</th>\n",
       "      <th>C1orf86</th>\n",
       "      <th>RER1</th>\n",
       "    </tr>\n",
       "    <tr>\n",
       "      <th>index</th>\n",
       "      <th></th>\n",
       "      <th></th>\n",
       "      <th></th>\n",
       "      <th></th>\n",
       "      <th></th>\n",
       "    </tr>\n",
       "  </thead>\n",
       "  <tbody>\n",
       "    <tr>\n",
       "      <th>AAGATTACCGCCTT-1</th>\n",
       "      <td>-0.301721</td>\n",
       "      <td>-0.296775</td>\n",
       "      <td>-0.054012</td>\n",
       "      <td>-0.519665</td>\n",
       "      <td>1.360318</td>\n",
       "    </tr>\n",
       "    <tr>\n",
       "      <th>AAGCCATGAACTGC-1</th>\n",
       "      <td>-0.503118</td>\n",
       "      <td>1.479483</td>\n",
       "      <td>-0.072903</td>\n",
       "      <td>1.115734</td>\n",
       "      <td>-1.124419</td>\n",
       "    </tr>\n",
       "    <tr>\n",
       "      <th>AATGCGTGGACGGA-1</th>\n",
       "      <td>-0.331269</td>\n",
       "      <td>-0.347050</td>\n",
       "      <td>-0.058748</td>\n",
       "      <td>-0.634051</td>\n",
       "      <td>0.811052</td>\n",
       "    </tr>\n",
       "    <tr>\n",
       "      <th>AATTACGAATTCCT-1</th>\n",
       "      <td>-0.353952</td>\n",
       "      <td>-0.348535</td>\n",
       "      <td>-0.059940</td>\n",
       "      <td>-0.638905</td>\n",
       "      <td>0.787735</td>\n",
       "    </tr>\n",
       "    <tr>\n",
       "      <th>ACCCGTTGCTTCTA-1</th>\n",
       "      <td>1.831818</td>\n",
       "      <td>1.710093</td>\n",
       "      <td>-0.068488</td>\n",
       "      <td>0.654415</td>\n",
       "      <td>-0.997644</td>\n",
       "    </tr>\n",
       "  </tbody>\n",
       "</table>\n",
       "</div>"
      ],
      "text/plain": [
       "                   TNFRSF4    CPSF3L    ATAD3C   C1orf86      RER1\n",
       "index                                                             \n",
       "AAGATTACCGCCTT-1 -0.301721 -0.296775 -0.054012 -0.519665  1.360318\n",
       "AAGCCATGAACTGC-1 -0.503118  1.479483 -0.072903  1.115734 -1.124419\n",
       "AATGCGTGGACGGA-1 -0.331269 -0.347050 -0.058748 -0.634051  0.811052\n",
       "AATTACGAATTCCT-1 -0.353952 -0.348535 -0.059940 -0.638905  0.787735\n",
       "ACCCGTTGCTTCTA-1  1.831818  1.710093 -0.068488  0.654415 -0.997644"
      ]
     },
     "execution_count": 10,
     "metadata": {},
     "output_type": "execute_result"
    }
   ],
   "source": [
    "_expr.loc[test.selected_cells['index'], :].iloc[:5, :5]"
   ]
  }
 ],
 "metadata": {
  "kernelspec": {
   "display_name": "Python 3",
   "language": "python",
   "name": "python3"
  },
  "language_info": {
   "codemirror_mode": {
    "name": "ipython",
    "version": 3
   },
   "file_extension": ".py",
   "mimetype": "text/x-python",
   "name": "python",
   "nbconvert_exporter": "python",
   "pygments_lexer": "ipython3",
   "version": "3.8.8"
  }
 },
 "nbformat": 4,
 "nbformat_minor": 5
}
