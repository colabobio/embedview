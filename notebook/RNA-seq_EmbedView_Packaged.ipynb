{
 "cells": [
  {
   "cell_type": "markdown",
   "id": "listed-palestine",
   "metadata": {},
   "source": [
    "## Fixes:\n",
    "- sort in absolute value\n",
    "- Put it in a module / pip / conda\n",
    "- Add differential expression feature\n",
    "- Calculate everything in matrices rather than for loops\n",
    "- When you color cells, what should the max and min expression be? Based on the selected cells or based on all of the cells. Currently it seems to remap based on only the selected cells but this is maybe misleading.\n",
    "\n",
    "- Pearson R vs. Spearman R?\n",
    "\n",
    "\n",
    "- Required input values: Pandas vs. numpy\n",
    "\n",
    "\n",
    "\n",
    "\n",
    "## Installation:\n",
    "Currently:\n",
    "conda env create -n py5coding -f http://py5.ixora.io/install/py5_environment.yml\n",
    "conda install scipy\n",
    "python setup.py install ## within embedview directory "
   ]
  },
  {
   "cell_type": "code",
   "execution_count": 13,
   "id": "macro-degree",
   "metadata": {},
   "outputs": [],
   "source": [
    "import pandas as pd\n",
    "import numpy as np\n",
    "from umap_explorer import UMAPexplorer\n"
   ]
  },
  {
   "cell_type": "code",
   "execution_count": 14,
   "id": "given-spice",
   "metadata": {},
   "outputs": [
    {
     "name": "stdout",
     "output_type": "stream",
     "text": [
      "The py5 extension is already loaded. To reload it, use:\n",
      "  %reload_ext py5\n"
     ]
    }
   ],
   "source": [
    "%load_ext py5\n",
    "%gui osx"
   ]
  },
  {
   "cell_type": "code",
   "execution_count": 15,
   "id": "detailed-printer",
   "metadata": {},
   "outputs": [
    {
     "name": "stdout",
     "output_type": "stream",
     "text": [
      "DOWNLOADING AND EXTRACTING EXAMPLE DATA\n",
      "--2021-03-24 19:37:46--  https://storage.googleapis.com/sabeti-public/dkotliar/scnavigator/pbmc3k/data/pbmc3k_umap_20210324.tsv\n",
      "Resolving storage.googleapis.com (storage.googleapis.com)... 172.217.12.208, 172.217.9.240, 142.250.64.112, ...\n",
      "Connecting to storage.googleapis.com (storage.googleapis.com)|172.217.12.208|:443... connected.\n",
      "HTTP request sent, awaiting response... 200 OK\n",
      "Length: 96413 (94K) [text/tab-separated-values]\n",
      "Saving to: ‘../data/pbmc3k_umap_20210324.tsv’\n",
      "\n",
      "../data/pbmc3k_umap 100%[===================>]  94.15K  --.-KB/s    in 0.04s   \n",
      "\n",
      "2021-03-24 19:37:46 (2.28 MB/s) - ‘../data/pbmc3k_umap_20210324.tsv’ saved [96413/96413]\n",
      "\n",
      "--2021-03-24 19:37:47--  https://storage.googleapis.com/sabeti-public/dkotliar/scnavigator/pbmc3k/data/pbmc3k_expression_log2TP10K_20210324.tsv.gz\n",
      "Resolving storage.googleapis.com (storage.googleapis.com)... 172.217.12.208, 172.217.9.240, 142.250.64.112, ...\n",
      "Connecting to storage.googleapis.com (storage.googleapis.com)|172.217.12.208|:443... connected.\n",
      "HTTP request sent, awaiting response... 200 OK\n",
      "Length: 3733671 (3.6M) [text/tab-separated-values]\n",
      "Saving to: ‘../data/pbmc3k_expression_log2TP10K_20210324.tsv.gz’\n",
      "\n",
      "../data/pbmc3k_expr 100%[===================>]   3.56M  8.03MB/s    in 0.4s    \n",
      "\n",
      "2021-03-24 19:37:47 (8.03 MB/s) - ‘../data/pbmc3k_expression_log2TP10K_20210324.tsv.gz’ saved [3733671/3733671]\n",
      "\n",
      "pbmc3k_expression_log2TP10K_20210324.tsv\n",
      "pbmc3k_umap_20210324.tsv\n"
     ]
    }
   ],
   "source": [
    "print('DOWNLOADING AND EXTRACTING EXAMPLE DATA')\n",
    "! mkdir -p ../data\n",
    "! wget https://storage.googleapis.com/sabeti-public/dkotliar/scnavigator/pbmc3k/data/pbmc3k_umap_20210324.tsv -O ../data/pbmc3k_umap_20210324.tsv\n",
    "! wget https://storage.googleapis.com/sabeti-public/dkotliar/scnavigator/pbmc3k/data/pbmc3k_expression_log2TP10K_20210324.tsv.gz -O ../data/pbmc3k_expression_log2TP10K_20210324.tsv.gz\n",
    "! gzip -df ../data/pbmc3k_expression_log2TP10K_20210324.tsv.gz\n",
    "! ls ../data"
   ]
  },
  {
   "cell_type": "code",
   "execution_count": 16,
   "id": "connected-interpretation",
   "metadata": {},
   "outputs": [
    {
     "name": "stdout",
     "output_type": "stream",
     "text": [
      "LOADING UMAP DATA...\n"
     ]
    },
    {
     "data": {
      "text/html": [
       "<div>\n",
       "<style scoped>\n",
       "    .dataframe tbody tr th:only-of-type {\n",
       "        vertical-align: middle;\n",
       "    }\n",
       "\n",
       "    .dataframe tbody tr th {\n",
       "        vertical-align: top;\n",
       "    }\n",
       "\n",
       "    .dataframe thead th {\n",
       "        text-align: right;\n",
       "    }\n",
       "</style>\n",
       "<table border=\"1\" class=\"dataframe\">\n",
       "  <thead>\n",
       "    <tr style=\"text-align: right;\">\n",
       "      <th></th>\n",
       "      <th>UMAP_1</th>\n",
       "      <th>UMAP_2</th>\n",
       "    </tr>\n",
       "  </thead>\n",
       "  <tbody>\n",
       "    <tr>\n",
       "      <th>AAACATACAACCAC-1</th>\n",
       "      <td>11.257295</td>\n",
       "      <td>12.561447</td>\n",
       "    </tr>\n",
       "    <tr>\n",
       "      <th>AAACATTGAGCTAC-1</th>\n",
       "      <td>7.166475</td>\n",
       "      <td>-2.057729</td>\n",
       "    </tr>\n",
       "    <tr>\n",
       "      <th>AAACATTGATCAGC-1</th>\n",
       "      <td>15.217629</td>\n",
       "      <td>12.554446</td>\n",
       "    </tr>\n",
       "    <tr>\n",
       "      <th>AAACCGTGCTTCCG-1</th>\n",
       "      <td>-1.826561</td>\n",
       "      <td>6.781221</td>\n",
       "    </tr>\n",
       "    <tr>\n",
       "      <th>AAACCGTGTATGCG-1</th>\n",
       "      <td>7.656905</td>\n",
       "      <td>17.598440</td>\n",
       "    </tr>\n",
       "  </tbody>\n",
       "</table>\n",
       "</div>"
      ],
      "text/plain": [
       "                     UMAP_1     UMAP_2\n",
       "AAACATACAACCAC-1  11.257295  12.561447\n",
       "AAACATTGAGCTAC-1   7.166475  -2.057729\n",
       "AAACATTGATCAGC-1  15.217629  12.554446\n",
       "AAACCGTGCTTCCG-1  -1.826561   6.781221\n",
       "AAACCGTGTATGCG-1   7.656905  17.598440"
      ]
     },
     "execution_count": 16,
     "metadata": {},
     "output_type": "execute_result"
    }
   ],
   "source": [
    "print(\"LOADING UMAP DATA...\")\n",
    "\n",
    "_umap = pd.read_csv('../data/pbmc3k_umap_20210324.tsv', sep='\\t', index_col=0)\n",
    "_umap.head()"
   ]
  },
  {
   "cell_type": "code",
   "execution_count": 17,
   "id": "statewide-couple",
   "metadata": {},
   "outputs": [
    {
     "name": "stdout",
     "output_type": "stream",
     "text": [
      "LOADING GENE EXPRESSION DATA...\n"
     ]
    },
    {
     "data": {
      "text/html": [
       "<div>\n",
       "<style scoped>\n",
       "    .dataframe tbody tr th:only-of-type {\n",
       "        vertical-align: middle;\n",
       "    }\n",
       "\n",
       "    .dataframe tbody tr th {\n",
       "        vertical-align: top;\n",
       "    }\n",
       "\n",
       "    .dataframe thead th {\n",
       "        text-align: right;\n",
       "    }\n",
       "</style>\n",
       "<table border=\"1\" class=\"dataframe\">\n",
       "  <thead>\n",
       "    <tr style=\"text-align: right;\">\n",
       "      <th></th>\n",
       "      <th>LINC00115</th>\n",
       "      <th>NOC2L</th>\n",
       "      <th>KLHL17</th>\n",
       "      <th>PLEKHN1</th>\n",
       "      <th>HES4</th>\n",
       "      <th>ISG15</th>\n",
       "      <th>AGRN</th>\n",
       "      <th>C1orf159</th>\n",
       "      <th>TNFRSF18</th>\n",
       "      <th>TNFRSF4</th>\n",
       "      <th>...</th>\n",
       "      <th>COL6A2</th>\n",
       "      <th>SPATC1L</th>\n",
       "      <th>LSS</th>\n",
       "      <th>MCM3AP</th>\n",
       "      <th>YBEY</th>\n",
       "      <th>C21orf58</th>\n",
       "      <th>PCNT</th>\n",
       "      <th>DIP2A</th>\n",
       "      <th>S100B</th>\n",
       "      <th>PRMT2</th>\n",
       "    </tr>\n",
       "  </thead>\n",
       "  <tbody>\n",
       "    <tr>\n",
       "      <th>AAACATACAACCAC-1</th>\n",
       "      <td>0.0</td>\n",
       "      <td>0.0</td>\n",
       "      <td>0.0</td>\n",
       "      <td>0.0</td>\n",
       "      <td>0.0</td>\n",
       "      <td>0.000000</td>\n",
       "      <td>0.0</td>\n",
       "      <td>0.0</td>\n",
       "      <td>0.000000</td>\n",
       "      <td>0.0</td>\n",
       "      <td>...</td>\n",
       "      <td>0.0</td>\n",
       "      <td>0.0</td>\n",
       "      <td>0.0</td>\n",
       "      <td>0.0</td>\n",
       "      <td>0.000000</td>\n",
       "      <td>0.0</td>\n",
       "      <td>0.0</td>\n",
       "      <td>0.0</td>\n",
       "      <td>0.0</td>\n",
       "      <td>0.000000</td>\n",
       "    </tr>\n",
       "    <tr>\n",
       "      <th>AAACATTGAGCTAC-1</th>\n",
       "      <td>0.0</td>\n",
       "      <td>0.0</td>\n",
       "      <td>0.0</td>\n",
       "      <td>0.0</td>\n",
       "      <td>0.0</td>\n",
       "      <td>0.000000</td>\n",
       "      <td>0.0</td>\n",
       "      <td>0.0</td>\n",
       "      <td>2.251269</td>\n",
       "      <td>0.0</td>\n",
       "      <td>...</td>\n",
       "      <td>0.0</td>\n",
       "      <td>0.0</td>\n",
       "      <td>0.0</td>\n",
       "      <td>0.0</td>\n",
       "      <td>1.658208</td>\n",
       "      <td>0.0</td>\n",
       "      <td>0.0</td>\n",
       "      <td>0.0</td>\n",
       "      <td>0.0</td>\n",
       "      <td>0.000000</td>\n",
       "    </tr>\n",
       "    <tr>\n",
       "      <th>AAACATTGATCAGC-1</th>\n",
       "      <td>0.0</td>\n",
       "      <td>0.0</td>\n",
       "      <td>0.0</td>\n",
       "      <td>0.0</td>\n",
       "      <td>0.0</td>\n",
       "      <td>1.830715</td>\n",
       "      <td>0.0</td>\n",
       "      <td>0.0</td>\n",
       "      <td>0.000000</td>\n",
       "      <td>0.0</td>\n",
       "      <td>...</td>\n",
       "      <td>0.0</td>\n",
       "      <td>0.0</td>\n",
       "      <td>0.0</td>\n",
       "      <td>0.0</td>\n",
       "      <td>0.000000</td>\n",
       "      <td>0.0</td>\n",
       "      <td>0.0</td>\n",
       "      <td>0.0</td>\n",
       "      <td>0.0</td>\n",
       "      <td>1.830715</td>\n",
       "    </tr>\n",
       "    <tr>\n",
       "      <th>AAACCGTGCTTCCG-1</th>\n",
       "      <td>0.0</td>\n",
       "      <td>0.0</td>\n",
       "      <td>0.0</td>\n",
       "      <td>0.0</td>\n",
       "      <td>0.0</td>\n",
       "      <td>3.918842</td>\n",
       "      <td>0.0</td>\n",
       "      <td>0.0</td>\n",
       "      <td>0.000000</td>\n",
       "      <td>0.0</td>\n",
       "      <td>...</td>\n",
       "      <td>0.0</td>\n",
       "      <td>0.0</td>\n",
       "      <td>0.0</td>\n",
       "      <td>0.0</td>\n",
       "      <td>0.000000</td>\n",
       "      <td>0.0</td>\n",
       "      <td>0.0</td>\n",
       "      <td>0.0</td>\n",
       "      <td>0.0</td>\n",
       "      <td>0.000000</td>\n",
       "    </tr>\n",
       "    <tr>\n",
       "      <th>AAACCGTGTATGCG-1</th>\n",
       "      <td>0.0</td>\n",
       "      <td>0.0</td>\n",
       "      <td>0.0</td>\n",
       "      <td>0.0</td>\n",
       "      <td>0.0</td>\n",
       "      <td>0.000000</td>\n",
       "      <td>0.0</td>\n",
       "      <td>0.0</td>\n",
       "      <td>0.000000</td>\n",
       "      <td>0.0</td>\n",
       "      <td>...</td>\n",
       "      <td>0.0</td>\n",
       "      <td>0.0</td>\n",
       "      <td>0.0</td>\n",
       "      <td>0.0</td>\n",
       "      <td>0.000000</td>\n",
       "      <td>0.0</td>\n",
       "      <td>0.0</td>\n",
       "      <td>0.0</td>\n",
       "      <td>0.0</td>\n",
       "      <td>0.000000</td>\n",
       "    </tr>\n",
       "  </tbody>\n",
       "</table>\n",
       "<p>5 rows × 12037 columns</p>\n",
       "</div>"
      ],
      "text/plain": [
       "                  LINC00115  NOC2L  KLHL17  PLEKHN1  HES4     ISG15  AGRN  \\\n",
       "AAACATACAACCAC-1        0.0    0.0     0.0      0.0   0.0  0.000000   0.0   \n",
       "AAACATTGAGCTAC-1        0.0    0.0     0.0      0.0   0.0  0.000000   0.0   \n",
       "AAACATTGATCAGC-1        0.0    0.0     0.0      0.0   0.0  1.830715   0.0   \n",
       "AAACCGTGCTTCCG-1        0.0    0.0     0.0      0.0   0.0  3.918842   0.0   \n",
       "AAACCGTGTATGCG-1        0.0    0.0     0.0      0.0   0.0  0.000000   0.0   \n",
       "\n",
       "                  C1orf159  TNFRSF18  TNFRSF4  ...  COL6A2  SPATC1L  LSS  \\\n",
       "AAACATACAACCAC-1       0.0  0.000000      0.0  ...     0.0      0.0  0.0   \n",
       "AAACATTGAGCTAC-1       0.0  2.251269      0.0  ...     0.0      0.0  0.0   \n",
       "AAACATTGATCAGC-1       0.0  0.000000      0.0  ...     0.0      0.0  0.0   \n",
       "AAACCGTGCTTCCG-1       0.0  0.000000      0.0  ...     0.0      0.0  0.0   \n",
       "AAACCGTGTATGCG-1       0.0  0.000000      0.0  ...     0.0      0.0  0.0   \n",
       "\n",
       "                  MCM3AP      YBEY  C21orf58  PCNT  DIP2A  S100B     PRMT2  \n",
       "AAACATACAACCAC-1     0.0  0.000000       0.0   0.0    0.0    0.0  0.000000  \n",
       "AAACATTGAGCTAC-1     0.0  1.658208       0.0   0.0    0.0    0.0  0.000000  \n",
       "AAACATTGATCAGC-1     0.0  0.000000       0.0   0.0    0.0    0.0  1.830715  \n",
       "AAACCGTGCTTCCG-1     0.0  0.000000       0.0   0.0    0.0    0.0  0.000000  \n",
       "AAACCGTGTATGCG-1     0.0  0.000000       0.0   0.0    0.0    0.0  0.000000  \n",
       "\n",
       "[5 rows x 12037 columns]"
      ]
     },
     "execution_count": 17,
     "metadata": {},
     "output_type": "execute_result"
    }
   ],
   "source": [
    "print(\"LOADING GENE EXPRESSION DATA...\")\n",
    "\n",
    "_expr = pd.read_csv('../data/pbmc3k_expression_log2TP10K_20210324.tsv', sep='\\t', index_col=0)\n",
    "_expr.head()"
   ]
  },
  {
   "cell_type": "code",
   "execution_count": 20,
   "id": "requested-newark",
   "metadata": {},
   "outputs": [
    {
     "name": "stdout",
     "output_type": "stream",
     "text": [
      "Selected 91 cells\n",
      "Calculating correlations...\n"
     ]
    },
    {
     "name": "stderr",
     "output_type": "stream",
     "text": [
      "/Users/dylankotliar/miniconda3/envs/py5coding/lib/python3.8/site-packages/scipy/stats/stats.py:3913: PearsonRConstantInputWarning: An input array is constant; the correlation coefficent is not defined.\n",
      "  warnings.warn(PearsonRConstantInputWarning())\n"
     ]
    },
    {
     "name": "stdout",
     "output_type": "stream",
     "text": [
      "Selected gene FTL\n",
      "Min/max expression level for gene FTL 3.676511 6.5617685\n"
     ]
    }
   ],
   "source": [
    "test = UMAPexplorer(_umap, _expr)\n",
    "test.explore_data()"
   ]
  },
  {
   "cell_type": "code",
   "execution_count": 19,
   "id": "processed-directive",
   "metadata": {},
   "outputs": [
    {
     "data": {
      "text/html": [
       "<div>\n",
       "<style scoped>\n",
       "    .dataframe tbody tr th:only-of-type {\n",
       "        vertical-align: middle;\n",
       "    }\n",
       "\n",
       "    .dataframe tbody tr th {\n",
       "        vertical-align: top;\n",
       "    }\n",
       "\n",
       "    .dataframe thead th {\n",
       "        text-align: right;\n",
       "    }\n",
       "</style>\n",
       "<table border=\"1\" class=\"dataframe\">\n",
       "  <thead>\n",
       "    <tr style=\"text-align: right;\">\n",
       "      <th></th>\n",
       "      <th>R</th>\n",
       "      <th>P</th>\n",
       "    </tr>\n",
       "  </thead>\n",
       "  <tbody>\n",
       "    <tr>\n",
       "      <th>FTL</th>\n",
       "      <td>-0.874422</td>\n",
       "      <td>7.532036e-27</td>\n",
       "    </tr>\n",
       "    <tr>\n",
       "      <th>S100A9</th>\n",
       "      <td>-0.774694</td>\n",
       "      <td>1.356165e-17</td>\n",
       "    </tr>\n",
       "    <tr>\n",
       "      <th>S100A8</th>\n",
       "      <td>-0.758603</td>\n",
       "      <td>1.517670e-16</td>\n",
       "    </tr>\n",
       "    <tr>\n",
       "      <th>FCN1</th>\n",
       "      <td>-0.743129</td>\n",
       "      <td>1.304848e-15</td>\n",
       "    </tr>\n",
       "    <tr>\n",
       "      <th>CTSS</th>\n",
       "      <td>-0.679352</td>\n",
       "      <td>2.279104e-12</td>\n",
       "    </tr>\n",
       "  </tbody>\n",
       "</table>\n",
       "</div>"
      ],
      "text/plain": [
       "               R             P\n",
       "FTL    -0.874422  7.532036e-27\n",
       "S100A9 -0.774694  1.356165e-17\n",
       "S100A8 -0.758603  1.517670e-16\n",
       "FCN1   -0.743129  1.304848e-15\n",
       "CTSS   -0.679352  2.279104e-12"
      ]
     },
     "execution_count": 19,
     "metadata": {},
     "output_type": "execute_result"
    }
   ],
   "source": [
    "test.significant_genes.head()"
   ]
  },
  {
   "cell_type": "code",
   "execution_count": 8,
   "id": "related-status",
   "metadata": {},
   "outputs": [],
   "source": [
    "from scipy.stats import pearsonr, spearmanr, ttest_ind"
   ]
  },
  {
   "cell_type": "code",
   "execution_count": 9,
   "id": "stretch-stamp",
   "metadata": {},
   "outputs": [],
   "source": [
    "selected = _expr.loc[test.selected_cells['index'], :]\n",
    "remainder = _expr.loc[~_expr.index.isin(test.selected_cells['index']), :]"
   ]
  },
  {
   "cell_type": "code",
   "execution_count": 10,
   "id": "ruled-tourism",
   "metadata": {},
   "outputs": [
    {
     "name": "stdout",
     "output_type": "stream",
     "text": [
      "(2638, 10) (2638,)\n"
     ]
    }
   ],
   "source": [
    "A = _expr.iloc[:,:10].values\n",
    "B = _expr.iloc[:,11].values\n",
    "print(A.shape, B.shape)"
   ]
  },
  {
   "cell_type": "code",
   "execution_count": 19,
   "id": "gentle-bible",
   "metadata": {},
   "outputs": [],
   "source": [
    "res = ttest_ind(selected.values, remainder.values, axis=0, equal_var=False, nan_policy='propagate', alternative='two-sided')\n",
    "res = pd.DataFrame([res.statistic, res.pvalue], columns=_expr.columns, index=['T', 'P']).T"
   ]
  },
  {
   "cell_type": "code",
   "execution_count": 20,
   "id": "chinese-pierre",
   "metadata": {},
   "outputs": [
    {
     "data": {
      "text/html": [
       "<div>\n",
       "<style scoped>\n",
       "    .dataframe tbody tr th:only-of-type {\n",
       "        vertical-align: middle;\n",
       "    }\n",
       "\n",
       "    .dataframe tbody tr th {\n",
       "        vertical-align: top;\n",
       "    }\n",
       "\n",
       "    .dataframe thead th {\n",
       "        text-align: right;\n",
       "    }\n",
       "</style>\n",
       "<table border=\"1\" class=\"dataframe\">\n",
       "  <thead>\n",
       "    <tr style=\"text-align: right;\">\n",
       "      <th></th>\n",
       "      <th>T</th>\n",
       "      <th>P</th>\n",
       "    </tr>\n",
       "  </thead>\n",
       "  <tbody>\n",
       "    <tr>\n",
       "      <th>CDA</th>\n",
       "      <td>-19.105316</td>\n",
       "      <td>3.239770e-24</td>\n",
       "    </tr>\n",
       "    <tr>\n",
       "      <th>ASB8</th>\n",
       "      <td>-18.150373</td>\n",
       "      <td>5.595836e-37</td>\n",
       "    </tr>\n",
       "    <tr>\n",
       "      <th>TNFRSF25</th>\n",
       "      <td>-16.968708</td>\n",
       "      <td>1.782821e-50</td>\n",
       "    </tr>\n",
       "    <tr>\n",
       "      <th>DCAF8</th>\n",
       "      <td>-16.148441</td>\n",
       "      <td>5.402525e-44</td>\n",
       "    </tr>\n",
       "    <tr>\n",
       "      <th>PRR5</th>\n",
       "      <td>-15.726354</td>\n",
       "      <td>9.606228e-47</td>\n",
       "    </tr>\n",
       "  </tbody>\n",
       "</table>\n",
       "</div>"
      ],
      "text/plain": [
       "                  T             P\n",
       "CDA      -19.105316  3.239770e-24\n",
       "ASB8     -18.150373  5.595836e-37\n",
       "TNFRSF25 -16.968708  1.782821e-50\n",
       "DCAF8    -16.148441  5.402525e-44\n",
       "PRR5     -15.726354  9.606228e-47"
      ]
     },
     "execution_count": 20,
     "metadata": {},
     "output_type": "execute_result"
    }
   ],
   "source": [
    "res.loc[test.significant_genes.index, :].head()"
   ]
  },
  {
   "cell_type": "code",
   "execution_count": null,
   "id": "united-colonial",
   "metadata": {},
   "outputs": [],
   "source": []
  },
  {
   "cell_type": "code",
   "execution_count": null,
   "id": "excess-speaking",
   "metadata": {},
   "outputs": [],
   "source": []
  },
  {
   "cell_type": "code",
   "execution_count": null,
   "id": "introductory-antigua",
   "metadata": {},
   "outputs": [],
   "source": []
  },
  {
   "cell_type": "code",
   "execution_count": null,
   "id": "related-queens",
   "metadata": {},
   "outputs": [],
   "source": []
  },
  {
   "cell_type": "code",
   "execution_count": 15,
   "id": "substantial-windsor",
   "metadata": {},
   "outputs": [
    {
     "ename": "ValueError",
     "evalue": "all the input array dimensions for the concatenation axis must match exactly, but along dimension 0, the array at index 0 has size 26380 and the array at index 1 has size 2638",
     "output_type": "error",
     "traceback": [
      "\u001b[0;31m---------------------------------------------------------------------------\u001b[0m",
      "\u001b[0;31mValueError\u001b[0m                                Traceback (most recent call last)",
      "\u001b[0;32m<ipython-input-15-f32dd4daecb2>\u001b[0m in \u001b[0;36m<module>\u001b[0;34m\u001b[0m\n\u001b[0;32m----> 1\u001b[0;31m \u001b[0mres\u001b[0m \u001b[0;34m=\u001b[0m \u001b[0mspearmanr\u001b[0m\u001b[0;34m(\u001b[0m\u001b[0mA\u001b[0m\u001b[0;34m,\u001b[0m\u001b[0mB\u001b[0m\u001b[0;34m.\u001b[0m\u001b[0mreshape\u001b[0m\u001b[0;34m(\u001b[0m\u001b[0;34m-\u001b[0m\u001b[0;36m1\u001b[0m\u001b[0;34m,\u001b[0m\u001b[0;36m1\u001b[0m\u001b[0;34m)\u001b[0m\u001b[0;34m,\u001b[0m \u001b[0maxis\u001b[0m\u001b[0;34m=\u001b[0m\u001b[0;32mNone\u001b[0m\u001b[0;34m)\u001b[0m\u001b[0;34m\u001b[0m\u001b[0;34m\u001b[0m\u001b[0m\n\u001b[0m",
      "\u001b[0;32m~/miniconda3/envs/py5/lib/python3.8/site-packages/scipy/stats/stats.py\u001b[0m in \u001b[0;36mspearmanr\u001b[0;34m(a, b, axis, nan_policy)\u001b[0m\n\u001b[1;32m   4249\u001b[0m         \u001b[0mb\u001b[0m\u001b[0;34m,\u001b[0m \u001b[0m_\u001b[0m \u001b[0;34m=\u001b[0m \u001b[0m_chk_asarray\u001b[0m\u001b[0;34m(\u001b[0m\u001b[0mb\u001b[0m\u001b[0;34m,\u001b[0m \u001b[0maxis\u001b[0m\u001b[0;34m)\u001b[0m\u001b[0;34m\u001b[0m\u001b[0;34m\u001b[0m\u001b[0m\n\u001b[1;32m   4250\u001b[0m         \u001b[0;32mif\u001b[0m \u001b[0maxisout\u001b[0m \u001b[0;34m==\u001b[0m \u001b[0;36m0\u001b[0m\u001b[0;34m:\u001b[0m\u001b[0;34m\u001b[0m\u001b[0;34m\u001b[0m\u001b[0m\n\u001b[0;32m-> 4251\u001b[0;31m             \u001b[0ma\u001b[0m \u001b[0;34m=\u001b[0m \u001b[0mnp\u001b[0m\u001b[0;34m.\u001b[0m\u001b[0mcolumn_stack\u001b[0m\u001b[0;34m(\u001b[0m\u001b[0;34m(\u001b[0m\u001b[0ma\u001b[0m\u001b[0;34m,\u001b[0m \u001b[0mb\u001b[0m\u001b[0;34m)\u001b[0m\u001b[0;34m)\u001b[0m\u001b[0;34m\u001b[0m\u001b[0;34m\u001b[0m\u001b[0m\n\u001b[0m\u001b[1;32m   4252\u001b[0m         \u001b[0;32melse\u001b[0m\u001b[0;34m:\u001b[0m\u001b[0;34m\u001b[0m\u001b[0;34m\u001b[0m\u001b[0m\n\u001b[1;32m   4253\u001b[0m             \u001b[0ma\u001b[0m \u001b[0;34m=\u001b[0m \u001b[0mnp\u001b[0m\u001b[0;34m.\u001b[0m\u001b[0mrow_stack\u001b[0m\u001b[0;34m(\u001b[0m\u001b[0;34m(\u001b[0m\u001b[0ma\u001b[0m\u001b[0;34m,\u001b[0m \u001b[0mb\u001b[0m\u001b[0;34m)\u001b[0m\u001b[0;34m)\u001b[0m\u001b[0;34m\u001b[0m\u001b[0;34m\u001b[0m\u001b[0m\n",
      "\u001b[0;32m<__array_function__ internals>\u001b[0m in \u001b[0;36mcolumn_stack\u001b[0;34m(*args, **kwargs)\u001b[0m\n",
      "\u001b[0;32m~/miniconda3/envs/py5/lib/python3.8/site-packages/numpy/lib/shape_base.py\u001b[0m in \u001b[0;36mcolumn_stack\u001b[0;34m(tup)\u001b[0m\n\u001b[1;32m    654\u001b[0m             \u001b[0marr\u001b[0m \u001b[0;34m=\u001b[0m \u001b[0marray\u001b[0m\u001b[0;34m(\u001b[0m\u001b[0marr\u001b[0m\u001b[0;34m,\u001b[0m \u001b[0mcopy\u001b[0m\u001b[0;34m=\u001b[0m\u001b[0;32mFalse\u001b[0m\u001b[0;34m,\u001b[0m \u001b[0msubok\u001b[0m\u001b[0;34m=\u001b[0m\u001b[0;32mTrue\u001b[0m\u001b[0;34m,\u001b[0m \u001b[0mndmin\u001b[0m\u001b[0;34m=\u001b[0m\u001b[0;36m2\u001b[0m\u001b[0;34m)\u001b[0m\u001b[0;34m.\u001b[0m\u001b[0mT\u001b[0m\u001b[0;34m\u001b[0m\u001b[0;34m\u001b[0m\u001b[0m\n\u001b[1;32m    655\u001b[0m         \u001b[0marrays\u001b[0m\u001b[0;34m.\u001b[0m\u001b[0mappend\u001b[0m\u001b[0;34m(\u001b[0m\u001b[0marr\u001b[0m\u001b[0;34m)\u001b[0m\u001b[0;34m\u001b[0m\u001b[0;34m\u001b[0m\u001b[0m\n\u001b[0;32m--> 656\u001b[0;31m     \u001b[0;32mreturn\u001b[0m \u001b[0m_nx\u001b[0m\u001b[0;34m.\u001b[0m\u001b[0mconcatenate\u001b[0m\u001b[0;34m(\u001b[0m\u001b[0marrays\u001b[0m\u001b[0;34m,\u001b[0m \u001b[0;36m1\u001b[0m\u001b[0;34m)\u001b[0m\u001b[0;34m\u001b[0m\u001b[0;34m\u001b[0m\u001b[0m\n\u001b[0m\u001b[1;32m    657\u001b[0m \u001b[0;34m\u001b[0m\u001b[0m\n\u001b[1;32m    658\u001b[0m \u001b[0;34m\u001b[0m\u001b[0m\n",
      "\u001b[0;32m<__array_function__ internals>\u001b[0m in \u001b[0;36mconcatenate\u001b[0;34m(*args, **kwargs)\u001b[0m\n",
      "\u001b[0;31mValueError\u001b[0m: all the input array dimensions for the concatenation axis must match exactly, but along dimension 0, the array at index 0 has size 26380 and the array at index 1 has size 2638"
     ]
    }
   ],
   "source": [
    "res = spearmanr(A,B.reshape(-1,1), axis=None)"
   ]
  },
  {
   "cell_type": "code",
   "execution_count": 16,
   "id": "respective-liabilities",
   "metadata": {},
   "outputs": [
    {
     "data": {
      "text/plain": [
       "(2638, 10)"
      ]
     },
     "execution_count": 16,
     "metadata": {},
     "output_type": "execute_result"
    }
   ],
   "source": [
    "A.shape"
   ]
  },
  {
   "cell_type": "code",
   "execution_count": 24,
   "id": "drawn-caribbean",
   "metadata": {},
   "outputs": [
    {
     "ename": "ValueError",
     "evalue": "all the input array dimensions for the concatenation axis must match exactly, but along dimension 1, the array at index 0 has size 10 and the array at index 1 has size 2638",
     "output_type": "error",
     "traceback": [
      "\u001b[0;31m---------------------------------------------------------------------------\u001b[0m",
      "\u001b[0;31mValueError\u001b[0m                                Traceback (most recent call last)",
      "\u001b[0;32m<ipython-input-24-4ca43f0d4336>\u001b[0m in \u001b[0;36m<module>\u001b[0;34m\u001b[0m\n\u001b[0;32m----> 1\u001b[0;31m \u001b[0mnp\u001b[0m\u001b[0;34m.\u001b[0m\u001b[0mcorrcoef\u001b[0m\u001b[0;34m(\u001b[0m\u001b[0mA\u001b[0m\u001b[0;34m,\u001b[0m \u001b[0mB\u001b[0m\u001b[0;34m)\u001b[0m\u001b[0;34m\u001b[0m\u001b[0;34m\u001b[0m\u001b[0m\n\u001b[0m",
      "\u001b[0;32m<__array_function__ internals>\u001b[0m in \u001b[0;36mcorrcoef\u001b[0;34m(*args, **kwargs)\u001b[0m\n",
      "\u001b[0;32m~/miniconda3/envs/py5/lib/python3.8/site-packages/numpy/lib/function_base.py\u001b[0m in \u001b[0;36mcorrcoef\u001b[0;34m(x, y, rowvar, bias, ddof)\u001b[0m\n\u001b[1;32m   2549\u001b[0m         warnings.warn('bias and ddof have no effect and are deprecated',\n\u001b[1;32m   2550\u001b[0m                       DeprecationWarning, stacklevel=3)\n\u001b[0;32m-> 2551\u001b[0;31m     \u001b[0mc\u001b[0m \u001b[0;34m=\u001b[0m \u001b[0mcov\u001b[0m\u001b[0;34m(\u001b[0m\u001b[0mx\u001b[0m\u001b[0;34m,\u001b[0m \u001b[0my\u001b[0m\u001b[0;34m,\u001b[0m \u001b[0mrowvar\u001b[0m\u001b[0;34m)\u001b[0m\u001b[0;34m\u001b[0m\u001b[0;34m\u001b[0m\u001b[0m\n\u001b[0m\u001b[1;32m   2552\u001b[0m     \u001b[0;32mtry\u001b[0m\u001b[0;34m:\u001b[0m\u001b[0;34m\u001b[0m\u001b[0;34m\u001b[0m\u001b[0m\n\u001b[1;32m   2553\u001b[0m         \u001b[0md\u001b[0m \u001b[0;34m=\u001b[0m \u001b[0mdiag\u001b[0m\u001b[0;34m(\u001b[0m\u001b[0mc\u001b[0m\u001b[0;34m)\u001b[0m\u001b[0;34m\u001b[0m\u001b[0;34m\u001b[0m\u001b[0m\n",
      "\u001b[0;32m<__array_function__ internals>\u001b[0m in \u001b[0;36mcov\u001b[0;34m(*args, **kwargs)\u001b[0m\n",
      "\u001b[0;32m~/miniconda3/envs/py5/lib/python3.8/site-packages/numpy/lib/function_base.py\u001b[0m in \u001b[0;36mcov\u001b[0;34m(m, y, rowvar, bias, ddof, fweights, aweights)\u001b[0m\n\u001b[1;32m   2413\u001b[0m         \u001b[0;32mif\u001b[0m \u001b[0;32mnot\u001b[0m \u001b[0mrowvar\u001b[0m \u001b[0;32mand\u001b[0m \u001b[0my\u001b[0m\u001b[0;34m.\u001b[0m\u001b[0mshape\u001b[0m\u001b[0;34m[\u001b[0m\u001b[0;36m0\u001b[0m\u001b[0;34m]\u001b[0m \u001b[0;34m!=\u001b[0m \u001b[0;36m1\u001b[0m\u001b[0;34m:\u001b[0m\u001b[0;34m\u001b[0m\u001b[0;34m\u001b[0m\u001b[0m\n\u001b[1;32m   2414\u001b[0m             \u001b[0my\u001b[0m \u001b[0;34m=\u001b[0m \u001b[0my\u001b[0m\u001b[0;34m.\u001b[0m\u001b[0mT\u001b[0m\u001b[0;34m\u001b[0m\u001b[0;34m\u001b[0m\u001b[0m\n\u001b[0;32m-> 2415\u001b[0;31m         \u001b[0mX\u001b[0m \u001b[0;34m=\u001b[0m \u001b[0mnp\u001b[0m\u001b[0;34m.\u001b[0m\u001b[0mconcatenate\u001b[0m\u001b[0;34m(\u001b[0m\u001b[0;34m(\u001b[0m\u001b[0mX\u001b[0m\u001b[0;34m,\u001b[0m \u001b[0my\u001b[0m\u001b[0;34m)\u001b[0m\u001b[0;34m,\u001b[0m \u001b[0maxis\u001b[0m\u001b[0;34m=\u001b[0m\u001b[0;36m0\u001b[0m\u001b[0;34m)\u001b[0m\u001b[0;34m\u001b[0m\u001b[0;34m\u001b[0m\u001b[0m\n\u001b[0m\u001b[1;32m   2416\u001b[0m \u001b[0;34m\u001b[0m\u001b[0m\n\u001b[1;32m   2417\u001b[0m     \u001b[0;32mif\u001b[0m \u001b[0mddof\u001b[0m \u001b[0;32mis\u001b[0m \u001b[0;32mNone\u001b[0m\u001b[0;34m:\u001b[0m\u001b[0;34m\u001b[0m\u001b[0;34m\u001b[0m\u001b[0m\n",
      "\u001b[0;32m<__array_function__ internals>\u001b[0m in \u001b[0;36mconcatenate\u001b[0;34m(*args, **kwargs)\u001b[0m\n",
      "\u001b[0;31mValueError\u001b[0m: all the input array dimensions for the concatenation axis must match exactly, but along dimension 1, the array at index 0 has size 10 and the array at index 1 has size 2638"
     ]
    }
   ],
   "source": [
    "np.corrcoef(A, B)"
   ]
  },
  {
   "cell_type": "code",
   "execution_count": 13,
   "id": "exotic-salad",
   "metadata": {},
   "outputs": [
    {
     "data": {
      "text/plain": [
       "(33, 1838)"
      ]
     },
     "execution_count": 13,
     "metadata": {},
     "output_type": "execute_result"
    }
   ],
   "source": [
    "selected.shape"
   ]
  },
  {
   "cell_type": "code",
   "execution_count": 14,
   "id": "changing-ranch",
   "metadata": {},
   "outputs": [
    {
     "data": {
      "text/plain": [
       "(2605, 1838)"
      ]
     },
     "execution_count": 14,
     "metadata": {},
     "output_type": "execute_result"
    }
   ],
   "source": [
    "remainder.shape"
   ]
  },
  {
   "cell_type": "code",
   "execution_count": 15,
   "id": "adult-monte",
   "metadata": {},
   "outputs": [],
   "source": []
  },
  {
   "cell_type": "code",
   "execution_count": 17,
   "id": "complex-supervisor",
   "metadata": {},
   "outputs": [],
   "source": []
  },
  {
   "cell_type": "code",
   "execution_count": 18,
   "id": "afraid-athletics",
   "metadata": {},
   "outputs": [
    {
     "data": {
      "text/plain": [
       "array([-4.35918297e+00,  2.72819241e-01, -4.04673577e+00, ...,\n",
       "        1.71800118e-01, -1.31253541e+01, -1.50082618e-03])"
      ]
     },
     "execution_count": 18,
     "metadata": {},
     "output_type": "execute_result"
    }
   ],
   "source": [
    "res.statistic"
   ]
  },
  {
   "cell_type": "code",
   "execution_count": 19,
   "id": "decent-philadelphia",
   "metadata": {},
   "outputs": [
    {
     "data": {
      "text/plain": [
       "array([9.78690737e-05, 7.86695233e-01, 5.34310250e-05, ...,\n",
       "       8.64664668e-01, 9.94317294e-37, 9.98811460e-01])"
      ]
     },
     "execution_count": 19,
     "metadata": {},
     "output_type": "execute_result"
    }
   ],
   "source": [
    "res.pvalue"
   ]
  },
  {
   "cell_type": "code",
   "execution_count": null,
   "id": "technological-catalog",
   "metadata": {},
   "outputs": [],
   "source": []
  },
  {
   "cell_type": "code",
   "execution_count": null,
   "id": "executive-telling",
   "metadata": {},
   "outputs": [],
   "source": []
  },
  {
   "cell_type": "code",
   "execution_count": null,
   "id": "outstanding-charlotte",
   "metadata": {},
   "outputs": [],
   "source": []
  },
  {
   "cell_type": "code",
   "execution_count": null,
   "id": "extraordinary-credits",
   "metadata": {},
   "outputs": [],
   "source": []
  },
  {
   "cell_type": "code",
   "execution_count": null,
   "id": "refined-terror",
   "metadata": {},
   "outputs": [],
   "source": []
  },
  {
   "cell_type": "code",
   "execution_count": null,
   "id": "specialized-falls",
   "metadata": {},
   "outputs": [],
   "source": []
  },
  {
   "cell_type": "code",
   "execution_count": 9,
   "id": "acceptable-mentor",
   "metadata": {},
   "outputs": [],
   "source": [
    "z = _umap.values.copy()"
   ]
  },
  {
   "cell_type": "code",
   "execution_count": 6,
   "id": "complex-taylor",
   "metadata": {},
   "outputs": [
    {
     "data": {
      "text/html": [
       "<div>\n",
       "<style scoped>\n",
       "    .dataframe tbody tr th:only-of-type {\n",
       "        vertical-align: middle;\n",
       "    }\n",
       "\n",
       "    .dataframe tbody tr th {\n",
       "        vertical-align: top;\n",
       "    }\n",
       "\n",
       "    .dataframe thead th {\n",
       "        text-align: right;\n",
       "    }\n",
       "</style>\n",
       "<table border=\"1\" class=\"dataframe\">\n",
       "  <thead>\n",
       "    <tr style=\"text-align: right;\">\n",
       "      <th></th>\n",
       "      <th>R</th>\n",
       "      <th>P</th>\n",
       "    </tr>\n",
       "  </thead>\n",
       "  <tbody>\n",
       "    <tr>\n",
       "      <th>LGALS1</th>\n",
       "      <td>-0.776084</td>\n",
       "      <td>4.668194e-07</td>\n",
       "    </tr>\n",
       "    <tr>\n",
       "      <th>LGALS3</th>\n",
       "      <td>-0.770768</td>\n",
       "      <td>6.255527e-07</td>\n",
       "    </tr>\n",
       "    <tr>\n",
       "      <th>AIF1</th>\n",
       "      <td>-0.760379</td>\n",
       "      <td>1.084620e-06</td>\n",
       "    </tr>\n",
       "    <tr>\n",
       "      <th>PCP2</th>\n",
       "      <td>-0.723926</td>\n",
       "      <td>6.138661e-06</td>\n",
       "    </tr>\n",
       "    <tr>\n",
       "      <th>URB2</th>\n",
       "      <td>-0.723828</td>\n",
       "      <td>6.165109e-06</td>\n",
       "    </tr>\n",
       "    <tr>\n",
       "      <th>...</th>\n",
       "      <td>...</td>\n",
       "      <td>...</td>\n",
       "    </tr>\n",
       "    <tr>\n",
       "      <th>RP11-432I5.1</th>\n",
       "      <td>0.723548</td>\n",
       "      <td>6.241083e-06</td>\n",
       "    </tr>\n",
       "    <tr>\n",
       "      <th>SPRY1</th>\n",
       "      <td>0.723828</td>\n",
       "      <td>6.165200e-06</td>\n",
       "    </tr>\n",
       "    <tr>\n",
       "      <th>CDKN2A</th>\n",
       "      <td>0.723898</td>\n",
       "      <td>6.146322e-06</td>\n",
       "    </tr>\n",
       "    <tr>\n",
       "      <th>RFPL2</th>\n",
       "      <td>0.723902</td>\n",
       "      <td>6.145310e-06</td>\n",
       "    </tr>\n",
       "    <tr>\n",
       "      <th>KLRB1</th>\n",
       "      <td>0.723928</td>\n",
       "      <td>6.138258e-06</td>\n",
       "    </tr>\n",
       "  </tbody>\n",
       "</table>\n",
       "<p>429 rows × 2 columns</p>\n",
       "</div>"
      ],
      "text/plain": [
       "                     R             P\n",
       "LGALS1       -0.776084  4.668194e-07\n",
       "LGALS3       -0.770768  6.255527e-07\n",
       "AIF1         -0.760379  1.084620e-06\n",
       "PCP2         -0.723926  6.138661e-06\n",
       "URB2         -0.723828  6.165109e-06\n",
       "...                ...           ...\n",
       "RP11-432I5.1  0.723548  6.241083e-06\n",
       "SPRY1         0.723828  6.165200e-06\n",
       "CDKN2A        0.723898  6.146322e-06\n",
       "RFPL2         0.723902  6.145310e-06\n",
       "KLRB1         0.723928  6.138258e-06\n",
       "\n",
       "[429 rows x 2 columns]"
      ]
     },
     "execution_count": 6,
     "metadata": {},
     "output_type": "execute_result"
    }
   ],
   "source": [
    "test.significant_genes"
   ]
  },
  {
   "cell_type": "code",
   "execution_count": 7,
   "id": "local-aquarium",
   "metadata": {},
   "outputs": [
    {
     "data": {
      "text/html": [
       "<div>\n",
       "<style scoped>\n",
       "    .dataframe tbody tr th:only-of-type {\n",
       "        vertical-align: middle;\n",
       "    }\n",
       "\n",
       "    .dataframe tbody tr th {\n",
       "        vertical-align: top;\n",
       "    }\n",
       "\n",
       "    .dataframe thead th {\n",
       "        text-align: right;\n",
       "    }\n",
       "</style>\n",
       "<table border=\"1\" class=\"dataframe\">\n",
       "  <thead>\n",
       "    <tr style=\"text-align: right;\">\n",
       "      <th></th>\n",
       "      <th>index</th>\n",
       "      <th>proj</th>\n",
       "    </tr>\n",
       "  </thead>\n",
       "  <tbody>\n",
       "    <tr>\n",
       "      <th>0</th>\n",
       "      <td>AAGATTACCGCCTT-1</td>\n",
       "      <td>0.254572</td>\n",
       "    </tr>\n",
       "    <tr>\n",
       "      <th>1</th>\n",
       "      <td>AAGCCATGAACTGC-1</td>\n",
       "      <td>0.525927</td>\n",
       "    </tr>\n",
       "    <tr>\n",
       "      <th>2</th>\n",
       "      <td>AATGCGTGGACGGA-1</td>\n",
       "      <td>0.118430</td>\n",
       "    </tr>\n",
       "    <tr>\n",
       "      <th>3</th>\n",
       "      <td>AATTACGAATTCCT-1</td>\n",
       "      <td>0.195944</td>\n",
       "    </tr>\n",
       "    <tr>\n",
       "      <th>4</th>\n",
       "      <td>ACGAGGGACAGGAG-1</td>\n",
       "      <td>0.658741</td>\n",
       "    </tr>\n",
       "    <tr>\n",
       "      <th>5</th>\n",
       "      <td>ACGTGATGCCATGA-1</td>\n",
       "      <td>0.330072</td>\n",
       "    </tr>\n",
       "    <tr>\n",
       "      <th>6</th>\n",
       "      <td>ACTTAAGATTACTC-1</td>\n",
       "      <td>0.096151</td>\n",
       "    </tr>\n",
       "    <tr>\n",
       "      <th>7</th>\n",
       "      <td>AGCACTGATGCTTT-1</td>\n",
       "      <td>0.424344</td>\n",
       "    </tr>\n",
       "    <tr>\n",
       "      <th>8</th>\n",
       "      <td>ATACCACTCTAAGC-1</td>\n",
       "      <td>0.184605</td>\n",
       "    </tr>\n",
       "    <tr>\n",
       "      <th>9</th>\n",
       "      <td>ATACCGGAATGCTG-1</td>\n",
       "      <td>0.418610</td>\n",
       "    </tr>\n",
       "    <tr>\n",
       "      <th>10</th>\n",
       "      <td>ATGTAAACGGGATG-1</td>\n",
       "      <td>0.005927</td>\n",
       "    </tr>\n",
       "    <tr>\n",
       "      <th>11</th>\n",
       "      <td>ATTGTAGATTCCCG-1</td>\n",
       "      <td>0.009129</td>\n",
       "    </tr>\n",
       "    <tr>\n",
       "      <th>12</th>\n",
       "      <td>CGATCAGATGTGAC-1</td>\n",
       "      <td>0.831659</td>\n",
       "    </tr>\n",
       "    <tr>\n",
       "      <th>13</th>\n",
       "      <td>CTCCACGAGAGATA-1</td>\n",
       "      <td>0.304461</td>\n",
       "    </tr>\n",
       "    <tr>\n",
       "      <th>14</th>\n",
       "      <td>GAAAGTGAAAGTGA-1</td>\n",
       "      <td>0.502925</td>\n",
       "    </tr>\n",
       "    <tr>\n",
       "      <th>15</th>\n",
       "      <td>GAAGGTCTTAAAGG-1</td>\n",
       "      <td>0.437255</td>\n",
       "    </tr>\n",
       "    <tr>\n",
       "      <th>16</th>\n",
       "      <td>GACATTCTCCACCT-1</td>\n",
       "      <td>0.368181</td>\n",
       "    </tr>\n",
       "    <tr>\n",
       "      <th>17</th>\n",
       "      <td>GCGTAAACACGGTT-1</td>\n",
       "      <td>0.707984</td>\n",
       "    </tr>\n",
       "    <tr>\n",
       "      <th>18</th>\n",
       "      <td>GGACCGTGGGAACG-1</td>\n",
       "      <td>0.114186</td>\n",
       "    </tr>\n",
       "    <tr>\n",
       "      <th>19</th>\n",
       "      <td>GGGCCAACCTTGGA-1</td>\n",
       "      <td>0.798096</td>\n",
       "    </tr>\n",
       "    <tr>\n",
       "      <th>20</th>\n",
       "      <td>GTTAACCTTGCTTT-1</td>\n",
       "      <td>0.421150</td>\n",
       "    </tr>\n",
       "    <tr>\n",
       "      <th>21</th>\n",
       "      <td>TAGGCATGCTCTCG-1</td>\n",
       "      <td>0.721983</td>\n",
       "    </tr>\n",
       "    <tr>\n",
       "      <th>22</th>\n",
       "      <td>TCTAACACGAGCAG-1</td>\n",
       "      <td>0.284855</td>\n",
       "    </tr>\n",
       "    <tr>\n",
       "      <th>23</th>\n",
       "      <td>TGCAATCTTCAGGT-1</td>\n",
       "      <td>0.912272</td>\n",
       "    </tr>\n",
       "    <tr>\n",
       "      <th>24</th>\n",
       "      <td>TGTAGGTGCTCTAT-1</td>\n",
       "      <td>0.616002</td>\n",
       "    </tr>\n",
       "    <tr>\n",
       "      <th>25</th>\n",
       "      <td>TTACTCGACGCAAT-1</td>\n",
       "      <td>0.378805</td>\n",
       "    </tr>\n",
       "    <tr>\n",
       "      <th>26</th>\n",
       "      <td>TTATGGCTTATGGC-1</td>\n",
       "      <td>0.422987</td>\n",
       "    </tr>\n",
       "    <tr>\n",
       "      <th>27</th>\n",
       "      <td>TTGAGGACTACGCA-1</td>\n",
       "      <td>0.544432</td>\n",
       "    </tr>\n",
       "    <tr>\n",
       "      <th>28</th>\n",
       "      <td>TTTAGCTGTACTCT-1</td>\n",
       "      <td>0.689446</td>\n",
       "    </tr>\n",
       "    <tr>\n",
       "      <th>29</th>\n",
       "      <td>TTTCGAACACCTGA-1</td>\n",
       "      <td>0.915720</td>\n",
       "    </tr>\n",
       "  </tbody>\n",
       "</table>\n",
       "</div>"
      ],
      "text/plain": [
       "               index      proj\n",
       "0   AAGATTACCGCCTT-1  0.254572\n",
       "1   AAGCCATGAACTGC-1  0.525927\n",
       "2   AATGCGTGGACGGA-1  0.118430\n",
       "3   AATTACGAATTCCT-1  0.195944\n",
       "4   ACGAGGGACAGGAG-1  0.658741\n",
       "5   ACGTGATGCCATGA-1  0.330072\n",
       "6   ACTTAAGATTACTC-1  0.096151\n",
       "7   AGCACTGATGCTTT-1  0.424344\n",
       "8   ATACCACTCTAAGC-1  0.184605\n",
       "9   ATACCGGAATGCTG-1  0.418610\n",
       "10  ATGTAAACGGGATG-1  0.005927\n",
       "11  ATTGTAGATTCCCG-1  0.009129\n",
       "12  CGATCAGATGTGAC-1  0.831659\n",
       "13  CTCCACGAGAGATA-1  0.304461\n",
       "14  GAAAGTGAAAGTGA-1  0.502925\n",
       "15  GAAGGTCTTAAAGG-1  0.437255\n",
       "16  GACATTCTCCACCT-1  0.368181\n",
       "17  GCGTAAACACGGTT-1  0.707984\n",
       "18  GGACCGTGGGAACG-1  0.114186\n",
       "19  GGGCCAACCTTGGA-1  0.798096\n",
       "20  GTTAACCTTGCTTT-1  0.421150\n",
       "21  TAGGCATGCTCTCG-1  0.721983\n",
       "22  TCTAACACGAGCAG-1  0.284855\n",
       "23  TGCAATCTTCAGGT-1  0.912272\n",
       "24  TGTAGGTGCTCTAT-1  0.616002\n",
       "25  TTACTCGACGCAAT-1  0.378805\n",
       "26  TTATGGCTTATGGC-1  0.422987\n",
       "27  TTGAGGACTACGCA-1  0.544432\n",
       "28  TTTAGCTGTACTCT-1  0.689446\n",
       "29  TTTCGAACACCTGA-1  0.915720"
      ]
     },
     "execution_count": 7,
     "metadata": {},
     "output_type": "execute_result"
    }
   ],
   "source": [
    "test.selected_cells"
   ]
  },
  {
   "cell_type": "code",
   "execution_count": 6,
   "id": "occupational-portuguese",
   "metadata": {},
   "outputs": [
    {
     "name": "stdout",
     "output_type": "stream",
     "text": [
      "Selected 37 cells\n",
      "Calculating correlations...\n",
      "Done\n",
      "Selected gene 1797\n",
      "Min/max expression level for gene 1797 -0.979315221309662 2.0967912673950195\n",
      "EXPORTING DATA...\n",
      "BYE\n"
     ]
    }
   ],
   "source": [
    "test = UMAPexplorer(_umap.values, _expr.values)\n",
    "test.explore_data()"
   ]
  },
  {
   "cell_type": "code",
   "execution_count": null,
   "id": "educational-corps",
   "metadata": {},
   "outputs": [],
   "source": []
  }
 ],
 "metadata": {
  "kernelspec": {
   "display_name": "Python 3",
   "language": "python",
   "name": "python3"
  },
  "language_info": {
   "codemirror_mode": {
    "name": "ipython",
    "version": 3
   },
   "file_extension": ".py",
   "mimetype": "text/x-python",
   "name": "python",
   "nbconvert_exporter": "python",
   "pygments_lexer": "ipython3",
   "version": "3.8.8"
  }
 },
 "nbformat": 4,
 "nbformat_minor": 5
}
