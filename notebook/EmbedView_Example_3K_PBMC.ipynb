{
 "cells": [
  {
   "cell_type": "markdown",
   "id": "competent-bicycle",
   "metadata": {},
   "source": [
    "## Fixes:\n",
    "- Add violin plots\n",
    "- Put it in a module / pip / conda\n",
    "- should go positive to negative rather than reverse\n",
    "- should we normalize the expression matrix to be between 0 and 1 for each gene, up front for efficiency\n",
    "- Pearson R vs. Spearman R?\n",
    "\n",
    "## Installation:\n",
    "Currently:\n",
    "conda env create -n py5coding -f http://py5.ixora.io/install/py5_environment.yml\n",
    "conda install scipy\n",
    "python setup.py install ## within embedview directory "
   ]
  },
  {
   "cell_type": "code",
   "execution_count": 1,
   "id": "comparable-slovak",
   "metadata": {},
   "outputs": [],
   "source": [
    "%load_ext py5\n",
    "%gui osx\n",
    "%load_ext autoreload\n",
    "%autoreload 2"
   ]
  },
  {
   "cell_type": "code",
   "execution_count": 2,
   "id": "outstanding-mixture",
   "metadata": {},
   "outputs": [],
   "source": [
    "import pandas as pd\n",
    "import numpy as np\n",
    "\n",
    "#from umap_explorer import UMAPexplorer"
   ]
  },
  {
   "cell_type": "raw",
   "id": "liable-apollo",
   "metadata": {},
   "source": [
    "print('DOWNLOADING AND EXTRACTING EXAMPLE DATA')\n",
    "! mkdir -p ../data\n",
    "! wget https://storage.googleapis.com/sabeti-public/dkotliar/scnavigator/pbmc3k/data/pbmc3k_umap_20210324.tsv -O ../data/pbmc3k_umap_20210324.tsv\n",
    "! wget https://storage.googleapis.com/sabeti-public/dkotliar/scnavigator/pbmc3k/data/pbmc3k_expression_log2TP10K_20210324.tsv.gz -O ../data/pbmc3k_expression_log2TP10K_20210324.tsv.gz\n",
    "! gzip -df ../data/pbmc3k_expression_log2TP10K_20210324.tsv.gz\n",
    "! ls ../data"
   ]
  },
  {
   "cell_type": "code",
   "execution_count": 3,
   "id": "organic-professor",
   "metadata": {},
   "outputs": [
    {
     "name": "stdout",
     "output_type": "stream",
     "text": [
      "LOADING UMAP DATA...\n"
     ]
    },
    {
     "data": {
      "text/html": [
       "<div>\n",
       "<style scoped>\n",
       "    .dataframe tbody tr th:only-of-type {\n",
       "        vertical-align: middle;\n",
       "    }\n",
       "\n",
       "    .dataframe tbody tr th {\n",
       "        vertical-align: top;\n",
       "    }\n",
       "\n",
       "    .dataframe thead th {\n",
       "        text-align: right;\n",
       "    }\n",
       "</style>\n",
       "<table border=\"1\" class=\"dataframe\">\n",
       "  <thead>\n",
       "    <tr style=\"text-align: right;\">\n",
       "      <th></th>\n",
       "      <th>UMAP_1</th>\n",
       "      <th>UMAP_2</th>\n",
       "    </tr>\n",
       "  </thead>\n",
       "  <tbody>\n",
       "    <tr>\n",
       "      <th>AAACATACAACCAC-1</th>\n",
       "      <td>11.257295</td>\n",
       "      <td>12.561447</td>\n",
       "    </tr>\n",
       "    <tr>\n",
       "      <th>AAACATTGAGCTAC-1</th>\n",
       "      <td>7.166475</td>\n",
       "      <td>-2.057729</td>\n",
       "    </tr>\n",
       "    <tr>\n",
       "      <th>AAACATTGATCAGC-1</th>\n",
       "      <td>15.217629</td>\n",
       "      <td>12.554446</td>\n",
       "    </tr>\n",
       "    <tr>\n",
       "      <th>AAACCGTGCTTCCG-1</th>\n",
       "      <td>-1.826561</td>\n",
       "      <td>6.781221</td>\n",
       "    </tr>\n",
       "    <tr>\n",
       "      <th>AAACCGTGTATGCG-1</th>\n",
       "      <td>7.656905</td>\n",
       "      <td>17.598440</td>\n",
       "    </tr>\n",
       "  </tbody>\n",
       "</table>\n",
       "</div>"
      ],
      "text/plain": [
       "                     UMAP_1     UMAP_2\n",
       "AAACATACAACCAC-1  11.257295  12.561447\n",
       "AAACATTGAGCTAC-1   7.166475  -2.057729\n",
       "AAACATTGATCAGC-1  15.217629  12.554446\n",
       "AAACCGTGCTTCCG-1  -1.826561   6.781221\n",
       "AAACCGTGTATGCG-1   7.656905  17.598440"
      ]
     },
     "execution_count": 3,
     "metadata": {},
     "output_type": "execute_result"
    }
   ],
   "source": [
    "print(\"LOADING UMAP DATA...\")\n",
    "\n",
    "_umap = pd.read_csv('../data/pbmc3k_umap_20210324.tsv', sep='\\t', index_col=0)\n",
    "_umap.head()"
   ]
  },
  {
   "cell_type": "code",
   "execution_count": 4,
   "id": "heated-bride",
   "metadata": {},
   "outputs": [
    {
     "name": "stdout",
     "output_type": "stream",
     "text": [
      "LOADING GENE EXPRESSION DATA...\n"
     ]
    },
    {
     "data": {
      "text/html": [
       "<div>\n",
       "<style scoped>\n",
       "    .dataframe tbody tr th:only-of-type {\n",
       "        vertical-align: middle;\n",
       "    }\n",
       "\n",
       "    .dataframe tbody tr th {\n",
       "        vertical-align: top;\n",
       "    }\n",
       "\n",
       "    .dataframe thead th {\n",
       "        text-align: right;\n",
       "    }\n",
       "</style>\n",
       "<table border=\"1\" class=\"dataframe\">\n",
       "  <thead>\n",
       "    <tr style=\"text-align: right;\">\n",
       "      <th></th>\n",
       "      <th>LINC00115</th>\n",
       "      <th>NOC2L</th>\n",
       "      <th>KLHL17</th>\n",
       "      <th>PLEKHN1</th>\n",
       "      <th>HES4</th>\n",
       "      <th>ISG15</th>\n",
       "      <th>AGRN</th>\n",
       "      <th>C1orf159</th>\n",
       "      <th>TNFRSF18</th>\n",
       "      <th>TNFRSF4</th>\n",
       "      <th>...</th>\n",
       "      <th>COL6A2</th>\n",
       "      <th>SPATC1L</th>\n",
       "      <th>LSS</th>\n",
       "      <th>MCM3AP</th>\n",
       "      <th>YBEY</th>\n",
       "      <th>C21orf58</th>\n",
       "      <th>PCNT</th>\n",
       "      <th>DIP2A</th>\n",
       "      <th>S100B</th>\n",
       "      <th>PRMT2</th>\n",
       "    </tr>\n",
       "  </thead>\n",
       "  <tbody>\n",
       "    <tr>\n",
       "      <th>AAACATACAACCAC-1</th>\n",
       "      <td>0.0</td>\n",
       "      <td>0.0</td>\n",
       "      <td>0.0</td>\n",
       "      <td>0.0</td>\n",
       "      <td>0.0</td>\n",
       "      <td>0.000000</td>\n",
       "      <td>0.0</td>\n",
       "      <td>0.0</td>\n",
       "      <td>0.000000</td>\n",
       "      <td>0.0</td>\n",
       "      <td>...</td>\n",
       "      <td>0.0</td>\n",
       "      <td>0.0</td>\n",
       "      <td>0.0</td>\n",
       "      <td>0.0</td>\n",
       "      <td>0.000000</td>\n",
       "      <td>0.0</td>\n",
       "      <td>0.0</td>\n",
       "      <td>0.0</td>\n",
       "      <td>0.0</td>\n",
       "      <td>0.000000</td>\n",
       "    </tr>\n",
       "    <tr>\n",
       "      <th>AAACATTGAGCTAC-1</th>\n",
       "      <td>0.0</td>\n",
       "      <td>0.0</td>\n",
       "      <td>0.0</td>\n",
       "      <td>0.0</td>\n",
       "      <td>0.0</td>\n",
       "      <td>0.000000</td>\n",
       "      <td>0.0</td>\n",
       "      <td>0.0</td>\n",
       "      <td>2.251269</td>\n",
       "      <td>0.0</td>\n",
       "      <td>...</td>\n",
       "      <td>0.0</td>\n",
       "      <td>0.0</td>\n",
       "      <td>0.0</td>\n",
       "      <td>0.0</td>\n",
       "      <td>1.658208</td>\n",
       "      <td>0.0</td>\n",
       "      <td>0.0</td>\n",
       "      <td>0.0</td>\n",
       "      <td>0.0</td>\n",
       "      <td>0.000000</td>\n",
       "    </tr>\n",
       "    <tr>\n",
       "      <th>AAACATTGATCAGC-1</th>\n",
       "      <td>0.0</td>\n",
       "      <td>0.0</td>\n",
       "      <td>0.0</td>\n",
       "      <td>0.0</td>\n",
       "      <td>0.0</td>\n",
       "      <td>1.830715</td>\n",
       "      <td>0.0</td>\n",
       "      <td>0.0</td>\n",
       "      <td>0.000000</td>\n",
       "      <td>0.0</td>\n",
       "      <td>...</td>\n",
       "      <td>0.0</td>\n",
       "      <td>0.0</td>\n",
       "      <td>0.0</td>\n",
       "      <td>0.0</td>\n",
       "      <td>0.000000</td>\n",
       "      <td>0.0</td>\n",
       "      <td>0.0</td>\n",
       "      <td>0.0</td>\n",
       "      <td>0.0</td>\n",
       "      <td>1.830715</td>\n",
       "    </tr>\n",
       "    <tr>\n",
       "      <th>AAACCGTGCTTCCG-1</th>\n",
       "      <td>0.0</td>\n",
       "      <td>0.0</td>\n",
       "      <td>0.0</td>\n",
       "      <td>0.0</td>\n",
       "      <td>0.0</td>\n",
       "      <td>3.918842</td>\n",
       "      <td>0.0</td>\n",
       "      <td>0.0</td>\n",
       "      <td>0.000000</td>\n",
       "      <td>0.0</td>\n",
       "      <td>...</td>\n",
       "      <td>0.0</td>\n",
       "      <td>0.0</td>\n",
       "      <td>0.0</td>\n",
       "      <td>0.0</td>\n",
       "      <td>0.000000</td>\n",
       "      <td>0.0</td>\n",
       "      <td>0.0</td>\n",
       "      <td>0.0</td>\n",
       "      <td>0.0</td>\n",
       "      <td>0.000000</td>\n",
       "    </tr>\n",
       "    <tr>\n",
       "      <th>AAACCGTGTATGCG-1</th>\n",
       "      <td>0.0</td>\n",
       "      <td>0.0</td>\n",
       "      <td>0.0</td>\n",
       "      <td>0.0</td>\n",
       "      <td>0.0</td>\n",
       "      <td>0.000000</td>\n",
       "      <td>0.0</td>\n",
       "      <td>0.0</td>\n",
       "      <td>0.000000</td>\n",
       "      <td>0.0</td>\n",
       "      <td>...</td>\n",
       "      <td>0.0</td>\n",
       "      <td>0.0</td>\n",
       "      <td>0.0</td>\n",
       "      <td>0.0</td>\n",
       "      <td>0.000000</td>\n",
       "      <td>0.0</td>\n",
       "      <td>0.0</td>\n",
       "      <td>0.0</td>\n",
       "      <td>0.0</td>\n",
       "      <td>0.000000</td>\n",
       "    </tr>\n",
       "  </tbody>\n",
       "</table>\n",
       "<p>5 rows × 12037 columns</p>\n",
       "</div>"
      ],
      "text/plain": [
       "                  LINC00115  NOC2L  KLHL17  PLEKHN1  HES4     ISG15  AGRN  \\\n",
       "AAACATACAACCAC-1        0.0    0.0     0.0      0.0   0.0  0.000000   0.0   \n",
       "AAACATTGAGCTAC-1        0.0    0.0     0.0      0.0   0.0  0.000000   0.0   \n",
       "AAACATTGATCAGC-1        0.0    0.0     0.0      0.0   0.0  1.830715   0.0   \n",
       "AAACCGTGCTTCCG-1        0.0    0.0     0.0      0.0   0.0  3.918842   0.0   \n",
       "AAACCGTGTATGCG-1        0.0    0.0     0.0      0.0   0.0  0.000000   0.0   \n",
       "\n",
       "                  C1orf159  TNFRSF18  TNFRSF4  ...  COL6A2  SPATC1L  LSS  \\\n",
       "AAACATACAACCAC-1       0.0  0.000000      0.0  ...     0.0      0.0  0.0   \n",
       "AAACATTGAGCTAC-1       0.0  2.251269      0.0  ...     0.0      0.0  0.0   \n",
       "AAACATTGATCAGC-1       0.0  0.000000      0.0  ...     0.0      0.0  0.0   \n",
       "AAACCGTGCTTCCG-1       0.0  0.000000      0.0  ...     0.0      0.0  0.0   \n",
       "AAACCGTGTATGCG-1       0.0  0.000000      0.0  ...     0.0      0.0  0.0   \n",
       "\n",
       "                  MCM3AP      YBEY  C21orf58  PCNT  DIP2A  S100B     PRMT2  \n",
       "AAACATACAACCAC-1     0.0  0.000000       0.0   0.0    0.0    0.0  0.000000  \n",
       "AAACATTGAGCTAC-1     0.0  1.658208       0.0   0.0    0.0    0.0  0.000000  \n",
       "AAACATTGATCAGC-1     0.0  0.000000       0.0   0.0    0.0    0.0  1.830715  \n",
       "AAACCGTGCTTCCG-1     0.0  0.000000       0.0   0.0    0.0    0.0  0.000000  \n",
       "AAACCGTGTATGCG-1     0.0  0.000000       0.0   0.0    0.0    0.0  0.000000  \n",
       "\n",
       "[5 rows x 12037 columns]"
      ]
     },
     "execution_count": 4,
     "metadata": {},
     "output_type": "execute_result"
    }
   ],
   "source": [
    "print(\"LOADING GENE EXPRESSION DATA...\")\n",
    "\n",
    "_expr = pd.read_csv('../data/pbmc3k_expression_log2TP10K_20210324.tsv', sep='\\t', index_col=0)\n",
    "_expr.head()"
   ]
  },
  {
   "cell_type": "code",
   "execution_count": 5,
   "id": "applied-father",
   "metadata": {},
   "outputs": [
    {
     "name": "stdout",
     "output_type": "stream",
     "text": [
      "Selected 522 cells\n",
      "Calculating correlations...\n"
     ]
    },
    {
     "name": "stderr",
     "output_type": "stream",
     "text": [
      "/Users/dylankotliar/miniconda3/envs/py5coding/lib/python3.8/site-packages/scipy/stats/stats.py:3913: PearsonRConstantInputWarning: An input array is constant; the correlation coefficent is not defined.\n",
      "  warnings.warn(PearsonRConstantInputWarning())\n"
     ]
    },
    {
     "name": "stdout",
     "output_type": "stream",
     "text": [
      "Selected gene EEF1A1\n",
      "Min/max expression level for gene EEF1A1 2.3281806 5.788061\n",
      "Selected mode 2\n",
      "Selected 666 cells\n",
      "Calculating differential expression...\n",
      "Selected gene S100A6\n",
      "Min/max expression level for gene S100A6 0.0 5.706114\n",
      "Selected gene PSAP\n",
      "Min/max expression level for gene PSAP 0.0 4.99935\n",
      "Selected mode 2\n",
      "Selected 325 cells\n",
      "Calculating differential expression...\n"
     ]
    }
   ],
   "source": [
    "import sys\n",
    "sys.path.append('../umap_explorer/')\n",
    "from umap_explorer import UMAPexplorer\n",
    "\n",
    "test = UMAPexplorer(_umap, _expr)\n",
    "test.explore_data()"
   ]
  },
  {
   "cell_type": "code",
   "execution_count": 6,
   "id": "silent-middle",
   "metadata": {},
   "outputs": [],
   "source": [
    "%matplotlib inline\n",
    "import matplotlib.pyplot as plt"
   ]
  },
  {
   "cell_type": "code",
   "execution_count": 7,
   "id": "owned-password",
   "metadata": {},
   "outputs": [
    {
     "data": {
      "image/png": "[encoded data removed]",
      "text/plain": [
       "<Figure size 300x300 with 1 Axes>"
      ]
     },
     "metadata": {
      "needs_background": "light"
     },
     "output_type": "display_data"
    }
   ],
   "source": [
    "(fig,ax) = plt.subplots(1,1, figsize=(3,3), dpi=100)\n",
    "_ = ax.violin(test.renderer.selected_stats + test.renderer.excluded_stats)"
   ]
  },
  {
   "cell_type": "code",
   "execution_count": 9,
   "id": "hollow-treaty",
   "metadata": {},
   "outputs": [
    {
     "data": {
      "text/plain": [
       "[<matplotlib.lines.Line2D at 0x7ff30e9fceb0>]"
      ]
     },
     "execution_count": 9,
     "metadata": {},
     "output_type": "execute_result"
    },
    {
     "data": {
      "image/png": "[encoded data removed]",
      "text/plain": [
       "<Figure size 432x288 with 1 Axes>"
      ]
     },
     "metadata": {
      "needs_background": "light"
     },
     "output_type": "display_data"
    }
   ],
   "source": [
    "plt.plot(test.renderer.selected_stats[0]['coords'], test.renderer.selected_stats[0]['vals'])"
   ]
  },
  {
   "cell_type": "code",
   "execution_count": 10,
   "id": "sudden-advertising",
   "metadata": {},
   "outputs": [
    {
     "data": {
      "text/plain": [
       "[<matplotlib.lines.Line2D at 0x7ff30e2c8ee0>]"
      ]
     },
     "execution_count": 10,
     "metadata": {},
     "output_type": "execute_result"
    },
    {
     "data": {
      "image/png": "[encoded data removed]",
      "text/plain": [
       "<Figure size 432x288 with 1 Axes>"
      ]
     },
     "metadata": {
      "needs_background": "light"
     },
     "output_type": "display_data"
    }
   ],
   "source": [
    "plt.plot(test.renderer.excluded_stats[0]['coords'], test.renderer.excluded_stats[0]['vals'])"
   ]
  },
  {
   "cell_type": "code",
   "execution_count": 11,
   "id": "fossil-roads",
   "metadata": {},
   "outputs": [
    {
     "data": {
      "text/plain": [
       "{'vals': array([1.67035049e-02, 1.59811903e-02, 1.39963136e-02, 1.12207334e-02,\n",
       "        8.23439890e-03, 5.53153846e-03, 3.40145928e-03, 1.91470802e-03,\n",
       "        9.86825759e-04, 4.66251060e-04, 2.03587759e-04, 8.63775108e-05,\n",
       "        4.52784532e-05, 4.54763781e-05, 7.45272076e-05, 1.31881005e-04,\n",
       "        2.21121990e-04, 3.44894427e-04, 5.03507290e-04, 6.99222317e-04,\n",
       "        9.47275810e-04, 1.29113630e-03, 1.81491313e-03, 2.64351785e-03,\n",
       "        3.92412884e-03, 5.79077520e-03, 8.32354652e-03, 1.15192135e-02,\n",
       "        1.52873316e-02, 1.94770416e-02, 2.39306463e-02, 2.85546012e-02,\n",
       "        3.33942832e-02, 3.86903670e-02, 4.48841513e-02, 5.25417413e-02,\n",
       "        6.21981816e-02, 7.41760313e-02, 8.84724107e-02, 1.04792652e-01,\n",
       "        1.22730921e-01, 1.42004591e-01, 1.62608406e-01, 1.84801505e-01,\n",
       "        2.08944125e-01, 2.35286359e-01, 2.63819991e-01, 2.94238557e-01,\n",
       "        3.25968476e-01, 3.58199933e-01, 3.89880087e-01, 4.19695978e-01,\n",
       "        4.46109657e-01, 4.67482856e-01, 4.82268276e-01, 4.89205116e-01,\n",
       "        4.87468669e-01, 4.76765757e-01, 4.57392569e-01, 4.30258912e-01,\n",
       "        3.96856680e-01, 3.59145411e-01, 3.19353066e-01, 2.79725732e-01,\n",
       "        2.42283001e-01, 2.08637249e-01, 1.79916222e-01, 1.56793009e-01,\n",
       "        1.39586172e-01, 1.28366514e-01, 1.23015174e-01, 1.23218570e-01,\n",
       "        1.28431063e-01, 1.37854176e-01, 1.50462822e-01, 1.65074325e-01,\n",
       "        1.80433745e-01, 1.95291728e-01, 2.08469307e-01, 2.18919066e-01,\n",
       "        2.25792056e-01, 2.28507086e-01, 2.26804867e-01, 2.20765243e-01,\n",
       "        2.10775131e-01, 1.97452434e-01, 1.81547360e-01, 1.63848850e-01,\n",
       "        1.45117870e-01, 1.26054876e-01, 1.07293293e-01, 8.94012481e-02,\n",
       "        7.28738357e-02, 5.81074149e-02, 4.53618262e-02, 3.47289419e-02,\n",
       "        2.61287625e-02, 1.93435335e-02, 1.40811316e-02, 1.00435294e-02]),\n",
       " 'coords': array([0.        , 0.07104731, 0.14209463, 0.21314194, 0.28418925,\n",
       "        0.35523657, 0.42628388, 0.49733119, 0.56837851, 0.63942582,\n",
       "        0.71047313, 0.78152044, 0.85256776, 0.92361507, 0.99466238,\n",
       "        1.0657097 , 1.13675701, 1.20780432, 1.27885164, 1.34989895,\n",
       "        1.42094626, 1.49199358, 1.56304089, 1.6340882 , 1.70513552,\n",
       "        1.77618283, 1.84723014, 1.91827745, 1.98932477, 2.06037208,\n",
       "        2.13141939, 2.20246671, 2.27351402, 2.34456133, 2.41560865,\n",
       "        2.48665596, 2.55770327, 2.62875059, 2.6997979 , 2.77084521,\n",
       "        2.84189253, 2.91293984, 2.98398715, 3.05503446, 3.12608178,\n",
       "        3.19712909, 3.2681764 , 3.33922372, 3.41027103, 3.48131834,\n",
       "        3.55236566, 3.62341297, 3.69446028, 3.7655076 , 3.83655491,\n",
       "        3.90760222, 3.97864954, 4.04969685, 4.12074416, 4.19179147,\n",
       "        4.26283879, 4.3338861 , 4.40493341, 4.47598073, 4.54702804,\n",
       "        4.61807535, 4.68912267, 4.76016998, 4.83121729, 4.90226461,\n",
       "        4.97331192, 5.04435923, 5.11540655, 5.18645386, 5.25750117,\n",
       "        5.32854848, 5.3995958 , 5.47064311, 5.54169042, 5.61273774,\n",
       "        5.68378505, 5.75483236, 5.82587968, 5.89692699, 5.9679743 ,\n",
       "        6.03902162, 6.11006893, 6.18111624, 6.25216356, 6.32321087,\n",
       "        6.39425818, 6.46530549, 6.53635281, 6.60740012, 6.67844743,\n",
       "        6.74949475, 6.82054206, 6.89158937, 6.96263669, 7.033684  ]),\n",
       " 'mean': 4.329581724184428,\n",
       " 'median': 4.1097503,\n",
       " 'min': 0.0,\n",
       " 'max': 7.033684,\n",
       " 'quantiles': array([], dtype=float64)}"
      ]
     },
     "execution_count": 11,
     "metadata": {},
     "output_type": "execute_result"
    }
   ],
   "source": [
    "test.renderer.excluded_stats[0]"
   ]
  },
  {
   "cell_type": "code",
   "execution_count": 10,
   "id": "amber-financing",
   "metadata": {},
   "outputs": [
    {
     "data": {
      "text/plain": [
       "[0, 6, 7, 8, 14, 30, 39, 40, 41, 81]"
      ]
     },
     "execution_count": 10,
     "metadata": {},
     "output_type": "execute_result"
    }
   ],
   "source": [
    "test.renderer.indices[:10]"
   ]
  },
  {
   "cell_type": "code",
   "execution_count": 11,
   "id": "combined-smart",
   "metadata": {},
   "outputs": [
    {
     "data": {
      "text/plain": [
       "[1, 2, 3, 4, 5, 9, 10, 11, 12, 13]"
      ]
     },
     "execution_count": 11,
     "metadata": {},
     "output_type": "execute_result"
    }
   ],
   "source": [
    "test.renderer.excluded_indices[:10]"
   ]
  },
  {
   "cell_type": "code",
   "execution_count": 12,
   "id": "polyphonic-lambda",
   "metadata": {},
   "outputs": [
    {
     "data": {
      "text/plain": [
       "array([0.       , 0.       , 2.8591888, ..., 0.       , 0.       ,\n",
       "       0.       ])"
      ]
     },
     "execution_count": 12,
     "metadata": {},
     "output_type": "execute_result"
    }
   ],
   "source": [
    "test.expr[test.renderer.excluded_indices, test.renderer.selGene]"
   ]
  },
  {
   "cell_type": "code",
   "execution_count": 16,
   "id": "arctic-kansas",
   "metadata": {},
   "outputs": [
    {
     "data": {
      "text/plain": [
       "[0.0,\n",
       " 0.0,\n",
       " 0.0,\n",
       " 0.0,\n",
       " 0.0,\n",
       " 0.0,\n",
       " 0.0,\n",
       " 0.0,\n",
       " 0.0,\n",
       " 0.0,\n",
       " 0.0,\n",
       " 0.0,\n",
       " 0.0,\n",
       " 0.0,\n",
       " 0.0,\n",
       " 0.0,\n",
       " 0.0,\n",
       " 0.0,\n",
       " 0.0,\n",
       " 0.0,\n",
       " 0.0,\n",
       " 0.0,\n",
       " 0.0,\n",
       " 0.0,\n",
       " 0.0,\n",
       " 0.0,\n",
       " 0.0,\n",
       " 0.0,\n",
       " 0.0,\n",
       " 0.0,\n",
       " 0.0,\n",
       " 0.0,\n",
       " 0.0,\n",
       " 0.0,\n",
       " 0.0,\n",
       " 0.0,\n",
       " 0.0,\n",
       " 0.0,\n",
       " 2.3140957,\n",
       " 0.0,\n",
       " 0.0,\n",
       " 0.0,\n",
       " 0.0,\n",
       " 0.0,\n",
       " 0.0,\n",
       " 0.0,\n",
       " 0.0,\n",
       " 0.0,\n",
       " 0.0,\n",
       " 0.0,\n",
       " 0.0,\n",
       " 0.0,\n",
       " 0.0,\n",
       " 0.0,\n",
       " 2.2072425,\n",
       " 0.0,\n",
       " 0.0,\n",
       " 0.0,\n",
       " 0.0,\n",
       " 0.0,\n",
       " 0.0,\n",
       " 0.0,\n",
       " 0.0,\n",
       " 0.0,\n",
       " 0.0,\n",
       " 0.0,\n",
       " 0.0,\n",
       " 0.0,\n",
       " 0.0,\n",
       " 0.0,\n",
       " 0.0,\n",
       " 0.0,\n",
       " 0.0,\n",
       " 0.0,\n",
       " 0.0,\n",
       " 0.0,\n",
       " 0.0,\n",
       " 0.0,\n",
       " 0.0,\n",
       " 0.0,\n",
       " 0.0,\n",
       " 0.0,\n",
       " 0.0,\n",
       " 1.8690995,\n",
       " 0.0,\n",
       " 0.0,\n",
       " 0.0,\n",
       " 0.0,\n",
       " 0.0,\n",
       " 0.0,\n",
       " 0.0,\n",
       " 0.0,\n",
       " 0.0,\n",
       " 0.0,\n",
       " 2.3772445,\n",
       " 0.0,\n",
       " 0.0,\n",
       " 0.0,\n",
       " 0.0,\n",
       " 0.0,\n",
       " 0.0,\n",
       " 0.0,\n",
       " 0.0,\n",
       " 0.0,\n",
       " 0.0,\n",
       " 0.0,\n",
       " 0.0,\n",
       " 0.0,\n",
       " 0.0,\n",
       " 0.0,\n",
       " 0.0,\n",
       " 0.0,\n",
       " 0.0,\n",
       " 0.0,\n",
       " 0.0,\n",
       " 0.0,\n",
       " 1.8346845,\n",
       " 0.0,\n",
       " 0.0,\n",
       " 0.0,\n",
       " 0.0,\n",
       " 0.0,\n",
       " 0.0,\n",
       " 0.0,\n",
       " 0.0,\n",
       " 0.0,\n",
       " 0.0,\n",
       " 0.0,\n",
       " 0.0,\n",
       " 0.0,\n",
       " 0.0,\n",
       " 0.0,\n",
       " 0.0,\n",
       " 0.0,\n",
       " 0.0,\n",
       " 0.0,\n",
       " 0.0,\n",
       " 0.0,\n",
       " 0.0,\n",
       " 0.0,\n",
       " 0.0,\n",
       " 0.0,\n",
       " 0.0,\n",
       " 0.0,\n",
       " 0.0,\n",
       " 0.0,\n",
       " 0.0,\n",
       " 0.0,\n",
       " 0.0,\n",
       " 0.0,\n",
       " 0.0,\n",
       " 0.0,\n",
       " 0.0,\n",
       " 0.0,\n",
       " 0.0,\n",
       " 0.0,\n",
       " 0.0,\n",
       " 0.0,\n",
       " 0.0,\n",
       " 0.0,\n",
       " 0.0,\n",
       " 0.0,\n",
       " 0.0,\n",
       " 0.0,\n",
       " 0.0,\n",
       " 0.0,\n",
       " 0.0,\n",
       " 0.0,\n",
       " 0.0,\n",
       " 0.0,\n",
       " 0.0,\n",
       " 2.2358274,\n",
       " 0.0,\n",
       " 0.0,\n",
       " 0.0,\n",
       " 0.0,\n",
       " 0.0,\n",
       " 0.0,\n",
       " 0.0,\n",
       " 0.0,\n",
       " 0.0,\n",
       " 0.0,\n",
       " 0.0,\n",
       " 0.0,\n",
       " 0.0,\n",
       " 2.454301,\n",
       " 0.0,\n",
       " 2.0736878,\n",
       " 0.0,\n",
       " 0.0,\n",
       " 0.0,\n",
       " 0.0,\n",
       " 1.9184766,\n",
       " 0.0,\n",
       " 0.0,\n",
       " 0.0,\n",
       " 0.0,\n",
       " 0.0,\n",
       " 0.0,\n",
       " 0.0,\n",
       " 0.0,\n",
       " 0.0,\n",
       " 0.0,\n",
       " 0.0,\n",
       " 0.0,\n",
       " 0.0,\n",
       " 0.0,\n",
       " 0.0,\n",
       " 0.0,\n",
       " 0.0,\n",
       " 0.0,\n",
       " 0.0,\n",
       " 0.0,\n",
       " 0.0,\n",
       " 0.0,\n",
       " 0.0,\n",
       " 0.0,\n",
       " 0.0,\n",
       " 0.0,\n",
       " 0.0,\n",
       " 0.0,\n",
       " 0.0,\n",
       " 0.0,\n",
       " 0.0,\n",
       " 0.0,\n",
       " 0.0,\n",
       " 0.0,\n",
       " 0.0,\n",
       " 0.0,\n",
       " 0.0,\n",
       " 0.0,\n",
       " 0.0,\n",
       " 0.0,\n",
       " 0.0,\n",
       " 0.0,\n",
       " 0.0,\n",
       " 0.0,\n",
       " 0.0,\n",
       " 0.0,\n",
       " 2.049153,\n",
       " 0.0,\n",
       " 0.0,\n",
       " 0.0,\n",
       " 0.0,\n",
       " 0.0,\n",
       " 0.0,\n",
       " 0.0,\n",
       " 0.0,\n",
       " 0.0,\n",
       " 0.0,\n",
       " 0.0,\n",
       " 0.0,\n",
       " 2.1972246,\n",
       " 0.0,\n",
       " 0.0,\n",
       " 0.0,\n",
       " 0.0,\n",
       " 0.0,\n",
       " 0.0,\n",
       " 0.0,\n",
       " 0.0,\n",
       " 0.0,\n",
       " 0.0,\n",
       " 0.0,\n",
       " 0.0,\n",
       " 0.0,\n",
       " 2.2380688,\n",
       " 0.0,\n",
       " 0.0,\n",
       " 0.0,\n",
       " 0.0,\n",
       " 0.0,\n",
       " 0.0,\n",
       " 0.0,\n",
       " 0.0,\n",
       " 0.0,\n",
       " 0.0,\n",
       " 0.0,\n",
       " 0.0,\n",
       " 0.0,\n",
       " 0.0,\n",
       " 0.0,\n",
       " 0.0,\n",
       " 0.0,\n",
       " 2.3969867,\n",
       " 0.0,\n",
       " 0.0,\n",
       " 0.0,\n",
       " 1.622036,\n",
       " 0.0,\n",
       " 0.0,\n",
       " 0.0,\n",
       " 0.0,\n",
       " 0.0,\n",
       " 0.0,\n",
       " 0.0,\n",
       " 0.0,\n",
       " 0.0,\n",
       " 0.0,\n",
       " 0.0,\n",
       " 0.0,\n",
       " 0.0,\n",
       " 0.0,\n",
       " 0.0,\n",
       " 0.0,\n",
       " 0.0,\n",
       " 0.0,\n",
       " 0.0,\n",
       " 0.0,\n",
       " 0.0,\n",
       " 0.0,\n",
       " 0.0,\n",
       " 0.0,\n",
       " 0.0,\n",
       " 2.153638,\n",
       " 0.0,\n",
       " 0.0,\n",
       " 0.0,\n",
       " 0.0,\n",
       " 0.0,\n",
       " 0.0,\n",
       " 0.0,\n",
       " 0.0,\n",
       " 0.0,\n",
       " 0.0,\n",
       " 0.0,\n",
       " 0.0,\n",
       " 0.0,\n",
       " 2.6273441,\n",
       " 0.0,\n",
       " 0.0,\n",
       " 0.0,\n",
       " 0.0,\n",
       " 0.0,\n",
       " 0.0,\n",
       " 0.0,\n",
       " 0.0,\n",
       " 0.0,\n",
       " 0.0,\n",
       " 0.0,\n",
       " 0.0,\n",
       " 0.0,\n",
       " 0.0,\n",
       " 2.7363145,\n",
       " 0.0,\n",
       " 0.0,\n",
       " 0.0,\n",
       " 0.0,\n",
       " 0.0,\n",
       " 0.0,\n",
       " 0.0,\n",
       " 0.0,\n",
       " 0.0,\n",
       " 0.0,\n",
       " 0.0,\n",
       " 0.0,\n",
       " 0.0,\n",
       " 0.0,\n",
       " 0.0,\n",
       " 0.0,\n",
       " 0.0,\n",
       " 0.0,\n",
       " 0.0,\n",
       " 0.0,\n",
       " 0.0,\n",
       " 0.0,\n",
       " 0.0,\n",
       " 0.0,\n",
       " 0.0,\n",
       " 0.0,\n",
       " 0.0,\n",
       " 0.0,\n",
       " 0.0,\n",
       " 0.0,\n",
       " 0.0,\n",
       " 0.0,\n",
       " 0.0,\n",
       " 0.0,\n",
       " 0.0,\n",
       " 0.0]"
      ]
     },
     "execution_count": 16,
     "metadata": {},
     "output_type": "execute_result"
    }
   ],
   "source": [
    "list(_expr['S100A8'].iloc[test.renderer.indices])"
   ]
  },
  {
   "cell_type": "code",
   "execution_count": null,
   "id": "willing-airplane",
   "metadata": {},
   "outputs": [],
   "source": []
  },
  {
   "cell_type": "code",
   "execution_count": null,
   "id": "obvious-princess",
   "metadata": {},
   "outputs": [],
   "source": []
  },
  {
   "cell_type": "code",
   "execution_count": 7,
   "id": "educated-target",
   "metadata": {},
   "outputs": [
    {
     "data": {
      "text/html": [
       "<div>\n",
       "<style scoped>\n",
       "    .dataframe tbody tr th:only-of-type {\n",
       "        vertical-align: middle;\n",
       "    }\n",
       "\n",
       "    .dataframe tbody tr th {\n",
       "        vertical-align: top;\n",
       "    }\n",
       "\n",
       "    .dataframe thead th {\n",
       "        text-align: right;\n",
       "    }\n",
       "</style>\n",
       "<table border=\"1\" class=\"dataframe\">\n",
       "  <thead>\n",
       "    <tr style=\"text-align: right;\">\n",
       "      <th></th>\n",
       "      <th>R</th>\n",
       "      <th>P</th>\n",
       "    </tr>\n",
       "  </thead>\n",
       "  <tbody>\n",
       "    <tr>\n",
       "      <th>LYZ</th>\n",
       "      <td>-0.846425</td>\n",
       "      <td>5.858087e-125</td>\n",
       "    </tr>\n",
       "    <tr>\n",
       "      <th>LGALS2</th>\n",
       "      <td>-0.771447</td>\n",
       "      <td>3.388540e-90</td>\n",
       "    </tr>\n",
       "    <tr>\n",
       "      <th>S100A8</th>\n",
       "      <td>-0.770657</td>\n",
       "      <td>6.654309e-90</td>\n",
       "    </tr>\n",
       "    <tr>\n",
       "      <th>S100A9</th>\n",
       "      <td>-0.747734</td>\n",
       "      <td>7.148332e-82</td>\n",
       "    </tr>\n",
       "    <tr>\n",
       "      <th>GPX1</th>\n",
       "      <td>-0.679768</td>\n",
       "      <td>1.938162e-62</td>\n",
       "    </tr>\n",
       "  </tbody>\n",
       "</table>\n",
       "</div>"
      ],
      "text/plain": [
       "               R              P\n",
       "LYZ    -0.846425  5.858087e-125\n",
       "LGALS2 -0.771447   3.388540e-90\n",
       "S100A8 -0.770657   6.654309e-90\n",
       "S100A9 -0.747734   7.148332e-82\n",
       "GPX1   -0.679768   1.938162e-62"
      ]
     },
     "execution_count": 7,
     "metadata": {},
     "output_type": "execute_result"
    }
   ],
   "source": [
    "test.significant_genes.head()"
   ]
  },
  {
   "cell_type": "code",
   "execution_count": null,
   "id": "difficult-supervisor",
   "metadata": {},
   "outputs": [
    {
     "name": "stdout",
     "output_type": "stream",
     "text": [
      "Selected 382 cells\n",
      "Calculating correlations...\n"
     ]
    },
    {
     "name": "stderr",
     "output_type": "stream",
     "text": [
      "/Users/dylankotliar/miniconda3/envs/py5coding/lib/python3.8/site-packages/scipy/stats/stats.py:3913: PearsonRConstantInputWarning: An input array is constant; the correlation coefficent is not defined.\n",
      "  warnings.warn(PearsonRConstantInputWarning())\n"
     ]
    },
    {
     "name": "stdout",
     "output_type": "stream",
     "text": [
      "Selected gene LTB\n",
      "Min/max expression level for gene LTB 0.0 6.2515173\n"
     ]
    }
   ],
   "source": [
    "from scipy.stats import pearsonr, spearmanr, ttest_ind"
   ]
  },
  {
   "cell_type": "code",
   "execution_count": 9,
   "id": "double-frontier",
   "metadata": {},
   "outputs": [],
   "source": [
    "selected = _expr.loc[test.selected_cells['index'], :]\n",
    "remainder = _expr.loc[~_expr.index.isin(test.selected_cells['index']), :]"
   ]
  },
  {
   "cell_type": "code",
   "execution_count": 10,
   "id": "generous-fifty",
   "metadata": {},
   "outputs": [
    {
     "name": "stdout",
     "output_type": "stream",
     "text": [
      "(2638, 10) (2638,)\n"
     ]
    }
   ],
   "source": [
    "A = _expr.iloc[:,:10].values\n",
    "B = _expr.iloc[:,11].values\n",
    "print(A.shape, B.shape)"
   ]
  },
  {
   "cell_type": "code",
   "execution_count": 19,
   "id": "wound-surgeon",
   "metadata": {},
   "outputs": [],
   "source": [
    "res = ttest_ind(selected.values, remainder.values, axis=0, equal_var=False, nan_policy='propagate', alternative='two-sided')\n",
    "res = pd.DataFrame([res.statistic, res.pvalue], columns=_expr.columns, index=['T', 'P']).T"
   ]
  },
  {
   "cell_type": "code",
   "execution_count": 20,
   "id": "correct-sharp",
   "metadata": {},
   "outputs": [
    {
     "data": {
      "text/html": [
       "<div>\n",
       "<style scoped>\n",
       "    .dataframe tbody tr th:only-of-type {\n",
       "        vertical-align: middle;\n",
       "    }\n",
       "\n",
       "    .dataframe tbody tr th {\n",
       "        vertical-align: top;\n",
       "    }\n",
       "\n",
       "    .dataframe thead th {\n",
       "        text-align: right;\n",
       "    }\n",
       "</style>\n",
       "<table border=\"1\" class=\"dataframe\">\n",
       "  <thead>\n",
       "    <tr style=\"text-align: right;\">\n",
       "      <th></th>\n",
       "      <th>T</th>\n",
       "      <th>P</th>\n",
       "    </tr>\n",
       "  </thead>\n",
       "  <tbody>\n",
       "    <tr>\n",
       "      <th>CDA</th>\n",
       "      <td>-19.105316</td>\n",
       "      <td>3.239770e-24</td>\n",
       "    </tr>\n",
       "    <tr>\n",
       "      <th>ASB8</th>\n",
       "      <td>-18.150373</td>\n",
       "      <td>5.595836e-37</td>\n",
       "    </tr>\n",
       "    <tr>\n",
       "      <th>TNFRSF25</th>\n",
       "      <td>-16.968708</td>\n",
       "      <td>1.782821e-50</td>\n",
       "    </tr>\n",
       "    <tr>\n",
       "      <th>DCAF8</th>\n",
       "      <td>-16.148441</td>\n",
       "      <td>5.402525e-44</td>\n",
       "    </tr>\n",
       "    <tr>\n",
       "      <th>PRR5</th>\n",
       "      <td>-15.726354</td>\n",
       "      <td>9.606228e-47</td>\n",
       "    </tr>\n",
       "  </tbody>\n",
       "</table>\n",
       "</div>"
      ],
      "text/plain": [
       "                  T             P\n",
       "CDA      -19.105316  3.239770e-24\n",
       "ASB8     -18.150373  5.595836e-37\n",
       "TNFRSF25 -16.968708  1.782821e-50\n",
       "DCAF8    -16.148441  5.402525e-44\n",
       "PRR5     -15.726354  9.606228e-47"
      ]
     },
     "execution_count": 20,
     "metadata": {},
     "output_type": "execute_result"
    }
   ],
   "source": [
    "res.loc[test.significant_genes.index, :].head()"
   ]
  },
  {
   "cell_type": "code",
   "execution_count": null,
   "id": "meaningful-evanescence",
   "metadata": {},
   "outputs": [],
   "source": []
  },
  {
   "cell_type": "code",
   "execution_count": null,
   "id": "frequent-apartment",
   "metadata": {},
   "outputs": [],
   "source": []
  },
  {
   "cell_type": "code",
   "execution_count": null,
   "id": "outer-offset",
   "metadata": {},
   "outputs": [],
   "source": []
  },
  {
   "cell_type": "code",
   "execution_count": null,
   "id": "hybrid-maker",
   "metadata": {},
   "outputs": [],
   "source": []
  },
  {
   "cell_type": "code",
   "execution_count": 15,
   "id": "gothic-sierra",
   "metadata": {},
   "outputs": [
    {
     "ename": "ValueError",
     "evalue": "all the input array dimensions for the concatenation axis must match exactly, but along dimension 0, the array at index 0 has size 26380 and the array at index 1 has size 2638",
     "output_type": "error",
     "traceback": [
      "\u001b[0;31m---------------------------------------------------------------------------\u001b[0m",
      "\u001b[0;31mValueError\u001b[0m                                Traceback (most recent call last)",
      "\u001b[0;32m<ipython-input-15-f32dd4daecb2>\u001b[0m in \u001b[0;36m<module>\u001b[0;34m\u001b[0m\n\u001b[0;32m----> 1\u001b[0;31m \u001b[0mres\u001b[0m \u001b[0;34m=\u001b[0m \u001b[0mspearmanr\u001b[0m\u001b[0;34m(\u001b[0m\u001b[0mA\u001b[0m\u001b[0;34m,\u001b[0m\u001b[0mB\u001b[0m\u001b[0;34m.\u001b[0m\u001b[0mreshape\u001b[0m\u001b[0;34m(\u001b[0m\u001b[0;34m-\u001b[0m\u001b[0;36m1\u001b[0m\u001b[0;34m,\u001b[0m\u001b[0;36m1\u001b[0m\u001b[0;34m)\u001b[0m\u001b[0;34m,\u001b[0m \u001b[0maxis\u001b[0m\u001b[0;34m=\u001b[0m\u001b[0;32mNone\u001b[0m\u001b[0;34m)\u001b[0m\u001b[0;34m\u001b[0m\u001b[0;34m\u001b[0m\u001b[0m\n\u001b[0m",
      "\u001b[0;32m~/miniconda3/envs/py5/lib/python3.8/site-packages/scipy/stats/stats.py\u001b[0m in \u001b[0;36mspearmanr\u001b[0;34m(a, b, axis, nan_policy)\u001b[0m\n\u001b[1;32m   4249\u001b[0m         \u001b[0mb\u001b[0m\u001b[0;34m,\u001b[0m \u001b[0m_\u001b[0m \u001b[0;34m=\u001b[0m \u001b[0m_chk_asarray\u001b[0m\u001b[0;34m(\u001b[0m\u001b[0mb\u001b[0m\u001b[0;34m,\u001b[0m \u001b[0maxis\u001b[0m\u001b[0;34m)\u001b[0m\u001b[0;34m\u001b[0m\u001b[0;34m\u001b[0m\u001b[0m\n\u001b[1;32m   4250\u001b[0m         \u001b[0;32mif\u001b[0m \u001b[0maxisout\u001b[0m \u001b[0;34m==\u001b[0m \u001b[0;36m0\u001b[0m\u001b[0;34m:\u001b[0m\u001b[0;34m\u001b[0m\u001b[0;34m\u001b[0m\u001b[0m\n\u001b[0;32m-> 4251\u001b[0;31m             \u001b[0ma\u001b[0m \u001b[0;34m=\u001b[0m \u001b[0mnp\u001b[0m\u001b[0;34m.\u001b[0m\u001b[0mcolumn_stack\u001b[0m\u001b[0;34m(\u001b[0m\u001b[0;34m(\u001b[0m\u001b[0ma\u001b[0m\u001b[0;34m,\u001b[0m \u001b[0mb\u001b[0m\u001b[0;34m)\u001b[0m\u001b[0;34m)\u001b[0m\u001b[0;34m\u001b[0m\u001b[0;34m\u001b[0m\u001b[0m\n\u001b[0m\u001b[1;32m   4252\u001b[0m         \u001b[0;32melse\u001b[0m\u001b[0;34m:\u001b[0m\u001b[0;34m\u001b[0m\u001b[0;34m\u001b[0m\u001b[0m\n\u001b[1;32m   4253\u001b[0m             \u001b[0ma\u001b[0m \u001b[0;34m=\u001b[0m \u001b[0mnp\u001b[0m\u001b[0;34m.\u001b[0m\u001b[0mrow_stack\u001b[0m\u001b[0;34m(\u001b[0m\u001b[0;34m(\u001b[0m\u001b[0ma\u001b[0m\u001b[0;34m,\u001b[0m \u001b[0mb\u001b[0m\u001b[0;34m)\u001b[0m\u001b[0;34m)\u001b[0m\u001b[0;34m\u001b[0m\u001b[0;34m\u001b[0m\u001b[0m\n",
      "\u001b[0;32m<__array_function__ internals>\u001b[0m in \u001b[0;36mcolumn_stack\u001b[0;34m(*args, **kwargs)\u001b[0m\n",
      "\u001b[0;32m~/miniconda3/envs/py5/lib/python3.8/site-packages/numpy/lib/shape_base.py\u001b[0m in \u001b[0;36mcolumn_stack\u001b[0;34m(tup)\u001b[0m\n\u001b[1;32m    654\u001b[0m             \u001b[0marr\u001b[0m \u001b[0;34m=\u001b[0m \u001b[0marray\u001b[0m\u001b[0;34m(\u001b[0m\u001b[0marr\u001b[0m\u001b[0;34m,\u001b[0m \u001b[0mcopy\u001b[0m\u001b[0;34m=\u001b[0m\u001b[0;32mFalse\u001b[0m\u001b[0;34m,\u001b[0m \u001b[0msubok\u001b[0m\u001b[0;34m=\u001b[0m\u001b[0;32mTrue\u001b[0m\u001b[0;34m,\u001b[0m \u001b[0mndmin\u001b[0m\u001b[0;34m=\u001b[0m\u001b[0;36m2\u001b[0m\u001b[0;34m)\u001b[0m\u001b[0;34m.\u001b[0m\u001b[0mT\u001b[0m\u001b[0;34m\u001b[0m\u001b[0;34m\u001b[0m\u001b[0m\n\u001b[1;32m    655\u001b[0m         \u001b[0marrays\u001b[0m\u001b[0;34m.\u001b[0m\u001b[0mappend\u001b[0m\u001b[0;34m(\u001b[0m\u001b[0marr\u001b[0m\u001b[0;34m)\u001b[0m\u001b[0;34m\u001b[0m\u001b[0;34m\u001b[0m\u001b[0m\n\u001b[0;32m--> 656\u001b[0;31m     \u001b[0;32mreturn\u001b[0m \u001b[0m_nx\u001b[0m\u001b[0;34m.\u001b[0m\u001b[0mconcatenate\u001b[0m\u001b[0;34m(\u001b[0m\u001b[0marrays\u001b[0m\u001b[0;34m,\u001b[0m \u001b[0;36m1\u001b[0m\u001b[0;34m)\u001b[0m\u001b[0;34m\u001b[0m\u001b[0;34m\u001b[0m\u001b[0m\n\u001b[0m\u001b[1;32m    657\u001b[0m \u001b[0;34m\u001b[0m\u001b[0m\n\u001b[1;32m    658\u001b[0m \u001b[0;34m\u001b[0m\u001b[0m\n",
      "\u001b[0;32m<__array_function__ internals>\u001b[0m in \u001b[0;36mconcatenate\u001b[0;34m(*args, **kwargs)\u001b[0m\n",
      "\u001b[0;31mValueError\u001b[0m: all the input array dimensions for the concatenation axis must match exactly, but along dimension 0, the array at index 0 has size 26380 and the array at index 1 has size 2638"
     ]
    }
   ],
   "source": [
    "res = spearmanr(A,B.reshape(-1,1), axis=None)"
   ]
  },
  {
   "cell_type": "code",
   "execution_count": 16,
   "id": "enormous-bobby",
   "metadata": {},
   "outputs": [
    {
     "data": {
      "text/plain": [
       "(2638, 10)"
      ]
     },
     "execution_count": 16,
     "metadata": {},
     "output_type": "execute_result"
    }
   ],
   "source": [
    "A.shape"
   ]
  },
  {
   "cell_type": "code",
   "execution_count": 24,
   "id": "variable-rolling",
   "metadata": {},
   "outputs": [
    {
     "ename": "ValueError",
     "evalue": "all the input array dimensions for the concatenation axis must match exactly, but along dimension 1, the array at index 0 has size 10 and the array at index 1 has size 2638",
     "output_type": "error",
     "traceback": [
      "\u001b[0;31m---------------------------------------------------------------------------\u001b[0m",
      "\u001b[0;31mValueError\u001b[0m                                Traceback (most recent call last)",
      "\u001b[0;32m<ipython-input-24-4ca43f0d4336>\u001b[0m in \u001b[0;36m<module>\u001b[0;34m\u001b[0m\n\u001b[0;32m----> 1\u001b[0;31m \u001b[0mnp\u001b[0m\u001b[0;34m.\u001b[0m\u001b[0mcorrcoef\u001b[0m\u001b[0;34m(\u001b[0m\u001b[0mA\u001b[0m\u001b[0;34m,\u001b[0m \u001b[0mB\u001b[0m\u001b[0;34m)\u001b[0m\u001b[0;34m\u001b[0m\u001b[0;34m\u001b[0m\u001b[0m\n\u001b[0m",
      "\u001b[0;32m<__array_function__ internals>\u001b[0m in \u001b[0;36mcorrcoef\u001b[0;34m(*args, **kwargs)\u001b[0m\n",
      "\u001b[0;32m~/miniconda3/envs/py5/lib/python3.8/site-packages/numpy/lib/function_base.py\u001b[0m in \u001b[0;36mcorrcoef\u001b[0;34m(x, y, rowvar, bias, ddof)\u001b[0m\n\u001b[1;32m   2549\u001b[0m         warnings.warn('bias and ddof have no effect and are deprecated',\n\u001b[1;32m   2550\u001b[0m                       DeprecationWarning, stacklevel=3)\n\u001b[0;32m-> 2551\u001b[0;31m     \u001b[0mc\u001b[0m \u001b[0;34m=\u001b[0m \u001b[0mcov\u001b[0m\u001b[0;34m(\u001b[0m\u001b[0mx\u001b[0m\u001b[0;34m,\u001b[0m \u001b[0my\u001b[0m\u001b[0;34m,\u001b[0m \u001b[0mrowvar\u001b[0m\u001b[0;34m)\u001b[0m\u001b[0;34m\u001b[0m\u001b[0;34m\u001b[0m\u001b[0m\n\u001b[0m\u001b[1;32m   2552\u001b[0m     \u001b[0;32mtry\u001b[0m\u001b[0;34m:\u001b[0m\u001b[0;34m\u001b[0m\u001b[0;34m\u001b[0m\u001b[0m\n\u001b[1;32m   2553\u001b[0m         \u001b[0md\u001b[0m \u001b[0;34m=\u001b[0m \u001b[0mdiag\u001b[0m\u001b[0;34m(\u001b[0m\u001b[0mc\u001b[0m\u001b[0;34m)\u001b[0m\u001b[0;34m\u001b[0m\u001b[0;34m\u001b[0m\u001b[0m\n",
      "\u001b[0;32m<__array_function__ internals>\u001b[0m in \u001b[0;36mcov\u001b[0;34m(*args, **kwargs)\u001b[0m\n",
      "\u001b[0;32m~/miniconda3/envs/py5/lib/python3.8/site-packages/numpy/lib/function_base.py\u001b[0m in \u001b[0;36mcov\u001b[0;34m(m, y, rowvar, bias, ddof, fweights, aweights)\u001b[0m\n\u001b[1;32m   2413\u001b[0m         \u001b[0;32mif\u001b[0m \u001b[0;32mnot\u001b[0m \u001b[0mrowvar\u001b[0m \u001b[0;32mand\u001b[0m \u001b[0my\u001b[0m\u001b[0;34m.\u001b[0m\u001b[0mshape\u001b[0m\u001b[0;34m[\u001b[0m\u001b[0;36m0\u001b[0m\u001b[0;34m]\u001b[0m \u001b[0;34m!=\u001b[0m \u001b[0;36m1\u001b[0m\u001b[0;34m:\u001b[0m\u001b[0;34m\u001b[0m\u001b[0;34m\u001b[0m\u001b[0m\n\u001b[1;32m   2414\u001b[0m             \u001b[0my\u001b[0m \u001b[0;34m=\u001b[0m \u001b[0my\u001b[0m\u001b[0;34m.\u001b[0m\u001b[0mT\u001b[0m\u001b[0;34m\u001b[0m\u001b[0;34m\u001b[0m\u001b[0m\n\u001b[0;32m-> 2415\u001b[0;31m         \u001b[0mX\u001b[0m \u001b[0;34m=\u001b[0m \u001b[0mnp\u001b[0m\u001b[0;34m.\u001b[0m\u001b[0mconcatenate\u001b[0m\u001b[0;34m(\u001b[0m\u001b[0;34m(\u001b[0m\u001b[0mX\u001b[0m\u001b[0;34m,\u001b[0m \u001b[0my\u001b[0m\u001b[0;34m)\u001b[0m\u001b[0;34m,\u001b[0m \u001b[0maxis\u001b[0m\u001b[0;34m=\u001b[0m\u001b[0;36m0\u001b[0m\u001b[0;34m)\u001b[0m\u001b[0;34m\u001b[0m\u001b[0;34m\u001b[0m\u001b[0m\n\u001b[0m\u001b[1;32m   2416\u001b[0m \u001b[0;34m\u001b[0m\u001b[0m\n\u001b[1;32m   2417\u001b[0m     \u001b[0;32mif\u001b[0m \u001b[0mddof\u001b[0m \u001b[0;32mis\u001b[0m \u001b[0;32mNone\u001b[0m\u001b[0;34m:\u001b[0m\u001b[0;34m\u001b[0m\u001b[0;34m\u001b[0m\u001b[0m\n",
      "\u001b[0;32m<__array_function__ internals>\u001b[0m in \u001b[0;36mconcatenate\u001b[0;34m(*args, **kwargs)\u001b[0m\n",
      "\u001b[0;31mValueError\u001b[0m: all the input array dimensions for the concatenation axis must match exactly, but along dimension 1, the array at index 0 has size 10 and the array at index 1 has size 2638"
     ]
    }
   ],
   "source": [
    "np.corrcoef(A, B)"
   ]
  },
  {
   "cell_type": "code",
   "execution_count": 13,
   "id": "alpine-fighter",
   "metadata": {},
   "outputs": [
    {
     "data": {
      "text/plain": [
       "(33, 1838)"
      ]
     },
     "execution_count": 13,
     "metadata": {},
     "output_type": "execute_result"
    }
   ],
   "source": [
    "selected.shape"
   ]
  },
  {
   "cell_type": "code",
   "execution_count": 14,
   "id": "accessory-spouse",
   "metadata": {},
   "outputs": [
    {
     "data": {
      "text/plain": [
       "(2605, 1838)"
      ]
     },
     "execution_count": 14,
     "metadata": {},
     "output_type": "execute_result"
    }
   ],
   "source": [
    "remainder.shape"
   ]
  },
  {
   "cell_type": "code",
   "execution_count": 15,
   "id": "threatened-disposition",
   "metadata": {},
   "outputs": [],
   "source": []
  },
  {
   "cell_type": "code",
   "execution_count": 17,
   "id": "hungarian-poetry",
   "metadata": {},
   "outputs": [],
   "source": []
  },
  {
   "cell_type": "code",
   "execution_count": 18,
   "id": "charitable-hardwood",
   "metadata": {},
   "outputs": [
    {
     "data": {
      "text/plain": [
       "array([-4.35918297e+00,  2.72819241e-01, -4.04673577e+00, ...,\n",
       "        1.71800118e-01, -1.31253541e+01, -1.50082618e-03])"
      ]
     },
     "execution_count": 18,
     "metadata": {},
     "output_type": "execute_result"
    }
   ],
   "source": [
    "res.statistic"
   ]
  },
  {
   "cell_type": "code",
   "execution_count": 19,
   "id": "greatest-contrast",
   "metadata": {},
   "outputs": [
    {
     "data": {
      "text/plain": [
       "array([9.78690737e-05, 7.86695233e-01, 5.34310250e-05, ...,\n",
       "       8.64664668e-01, 9.94317294e-37, 9.98811460e-01])"
      ]
     },
     "execution_count": 19,
     "metadata": {},
     "output_type": "execute_result"
    }
   ],
   "source": [
    "res.pvalue"
   ]
  },
  {
   "cell_type": "code",
   "execution_count": null,
   "id": "answering-orleans",
   "metadata": {},
   "outputs": [],
   "source": []
  },
  {
   "cell_type": "code",
   "execution_count": null,
   "id": "considerable-product",
   "metadata": {},
   "outputs": [],
   "source": []
  },
  {
   "cell_type": "code",
   "execution_count": null,
   "id": "historical-installation",
   "metadata": {},
   "outputs": [],
   "source": []
  },
  {
   "cell_type": "code",
   "execution_count": null,
   "id": "confident-mambo",
   "metadata": {},
   "outputs": [],
   "source": []
  },
  {
   "cell_type": "code",
   "execution_count": null,
   "id": "paperback-offer",
   "metadata": {},
   "outputs": [],
   "source": []
  },
  {
   "cell_type": "code",
   "execution_count": null,
   "id": "sought-wealth",
   "metadata": {},
   "outputs": [],
   "source": []
  },
  {
   "cell_type": "code",
   "execution_count": 9,
   "id": "unlimited-webster",
   "metadata": {},
   "outputs": [],
   "source": [
    "z = _umap.values.copy()"
   ]
  },
  {
   "cell_type": "code",
   "execution_count": 6,
   "id": "rising-orleans",
   "metadata": {},
   "outputs": [
    {
     "data": {
      "text/html": [
       "<div>\n",
       "<style scoped>\n",
       "    .dataframe tbody tr th:only-of-type {\n",
       "        vertical-align: middle;\n",
       "    }\n",
       "\n",
       "    .dataframe tbody tr th {\n",
       "        vertical-align: top;\n",
       "    }\n",
       "\n",
       "    .dataframe thead th {\n",
       "        text-align: right;\n",
       "    }\n",
       "</style>\n",
       "<table border=\"1\" class=\"dataframe\">\n",
       "  <thead>\n",
       "    <tr style=\"text-align: right;\">\n",
       "      <th></th>\n",
       "      <th>R</th>\n",
       "      <th>P</th>\n",
       "    </tr>\n",
       "  </thead>\n",
       "  <tbody>\n",
       "    <tr>\n",
       "      <th>LGALS1</th>\n",
       "      <td>-0.776084</td>\n",
       "      <td>4.668194e-07</td>\n",
       "    </tr>\n",
       "    <tr>\n",
       "      <th>LGALS3</th>\n",
       "      <td>-0.770768</td>\n",
       "      <td>6.255527e-07</td>\n",
       "    </tr>\n",
       "    <tr>\n",
       "      <th>AIF1</th>\n",
       "      <td>-0.760379</td>\n",
       "      <td>1.084620e-06</td>\n",
       "    </tr>\n",
       "    <tr>\n",
       "      <th>PCP2</th>\n",
       "      <td>-0.723926</td>\n",
       "      <td>6.138661e-06</td>\n",
       "    </tr>\n",
       "    <tr>\n",
       "      <th>URB2</th>\n",
       "      <td>-0.723828</td>\n",
       "      <td>6.165109e-06</td>\n",
       "    </tr>\n",
       "    <tr>\n",
       "      <th>...</th>\n",
       "      <td>...</td>\n",
       "      <td>...</td>\n",
       "    </tr>\n",
       "    <tr>\n",
       "      <th>RP11-432I5.1</th>\n",
       "      <td>0.723548</td>\n",
       "      <td>6.241083e-06</td>\n",
       "    </tr>\n",
       "    <tr>\n",
       "      <th>SPRY1</th>\n",
       "      <td>0.723828</td>\n",
       "      <td>6.165200e-06</td>\n",
       "    </tr>\n",
       "    <tr>\n",
       "      <th>CDKN2A</th>\n",
       "      <td>0.723898</td>\n",
       "      <td>6.146322e-06</td>\n",
       "    </tr>\n",
       "    <tr>\n",
       "      <th>RFPL2</th>\n",
       "      <td>0.723902</td>\n",
       "      <td>6.145310e-06</td>\n",
       "    </tr>\n",
       "    <tr>\n",
       "      <th>KLRB1</th>\n",
       "      <td>0.723928</td>\n",
       "      <td>6.138258e-06</td>\n",
       "    </tr>\n",
       "  </tbody>\n",
       "</table>\n",
       "<p>429 rows × 2 columns</p>\n",
       "</div>"
      ],
      "text/plain": [
       "                     R             P\n",
       "LGALS1       -0.776084  4.668194e-07\n",
       "LGALS3       -0.770768  6.255527e-07\n",
       "AIF1         -0.760379  1.084620e-06\n",
       "PCP2         -0.723926  6.138661e-06\n",
       "URB2         -0.723828  6.165109e-06\n",
       "...                ...           ...\n",
       "RP11-432I5.1  0.723548  6.241083e-06\n",
       "SPRY1         0.723828  6.165200e-06\n",
       "CDKN2A        0.723898  6.146322e-06\n",
       "RFPL2         0.723902  6.145310e-06\n",
       "KLRB1         0.723928  6.138258e-06\n",
       "\n",
       "[429 rows x 2 columns]"
      ]
     },
     "execution_count": 6,
     "metadata": {},
     "output_type": "execute_result"
    }
   ],
   "source": [
    "test.significant_genes"
   ]
  },
  {
   "cell_type": "code",
   "execution_count": 7,
   "id": "homeless-calvin",
   "metadata": {},
   "outputs": [
    {
     "data": {
      "text/html": [
       "<div>\n",
       "<style scoped>\n",
       "    .dataframe tbody tr th:only-of-type {\n",
       "        vertical-align: middle;\n",
       "    }\n",
       "\n",
       "    .dataframe tbody tr th {\n",
       "        vertical-align: top;\n",
       "    }\n",
       "\n",
       "    .dataframe thead th {\n",
       "        text-align: right;\n",
       "    }\n",
       "</style>\n",
       "<table border=\"1\" class=\"dataframe\">\n",
       "  <thead>\n",
       "    <tr style=\"text-align: right;\">\n",
       "      <th></th>\n",
       "      <th>index</th>\n",
       "      <th>proj</th>\n",
       "    </tr>\n",
       "  </thead>\n",
       "  <tbody>\n",
       "    <tr>\n",
       "      <th>0</th>\n",
       "      <td>AAGATTACCGCCTT-1</td>\n",
       "      <td>0.254572</td>\n",
       "    </tr>\n",
       "    <tr>\n",
       "      <th>1</th>\n",
       "      <td>AAGCCATGAACTGC-1</td>\n",
       "      <td>0.525927</td>\n",
       "    </tr>\n",
       "    <tr>\n",
       "      <th>2</th>\n",
       "      <td>AATGCGTGGACGGA-1</td>\n",
       "      <td>0.118430</td>\n",
       "    </tr>\n",
       "    <tr>\n",
       "      <th>3</th>\n",
       "      <td>AATTACGAATTCCT-1</td>\n",
       "      <td>0.195944</td>\n",
       "    </tr>\n",
       "    <tr>\n",
       "      <th>4</th>\n",
       "      <td>ACGAGGGACAGGAG-1</td>\n",
       "      <td>0.658741</td>\n",
       "    </tr>\n",
       "    <tr>\n",
       "      <th>5</th>\n",
       "      <td>ACGTGATGCCATGA-1</td>\n",
       "      <td>0.330072</td>\n",
       "    </tr>\n",
       "    <tr>\n",
       "      <th>6</th>\n",
       "      <td>ACTTAAGATTACTC-1</td>\n",
       "      <td>0.096151</td>\n",
       "    </tr>\n",
       "    <tr>\n",
       "      <th>7</th>\n",
       "      <td>AGCACTGATGCTTT-1</td>\n",
       "      <td>0.424344</td>\n",
       "    </tr>\n",
       "    <tr>\n",
       "      <th>8</th>\n",
       "      <td>ATACCACTCTAAGC-1</td>\n",
       "      <td>0.184605</td>\n",
       "    </tr>\n",
       "    <tr>\n",
       "      <th>9</th>\n",
       "      <td>ATACCGGAATGCTG-1</td>\n",
       "      <td>0.418610</td>\n",
       "    </tr>\n",
       "    <tr>\n",
       "      <th>10</th>\n",
       "      <td>ATGTAAACGGGATG-1</td>\n",
       "      <td>0.005927</td>\n",
       "    </tr>\n",
       "    <tr>\n",
       "      <th>11</th>\n",
       "      <td>ATTGTAGATTCCCG-1</td>\n",
       "      <td>0.009129</td>\n",
       "    </tr>\n",
       "    <tr>\n",
       "      <th>12</th>\n",
       "      <td>CGATCAGATGTGAC-1</td>\n",
       "      <td>0.831659</td>\n",
       "    </tr>\n",
       "    <tr>\n",
       "      <th>13</th>\n",
       "      <td>CTCCACGAGAGATA-1</td>\n",
       "      <td>0.304461</td>\n",
       "    </tr>\n",
       "    <tr>\n",
       "      <th>14</th>\n",
       "      <td>GAAAGTGAAAGTGA-1</td>\n",
       "      <td>0.502925</td>\n",
       "    </tr>\n",
       "    <tr>\n",
       "      <th>15</th>\n",
       "      <td>GAAGGTCTTAAAGG-1</td>\n",
       "      <td>0.437255</td>\n",
       "    </tr>\n",
       "    <tr>\n",
       "      <th>16</th>\n",
       "      <td>GACATTCTCCACCT-1</td>\n",
       "      <td>0.368181</td>\n",
       "    </tr>\n",
       "    <tr>\n",
       "      <th>17</th>\n",
       "      <td>GCGTAAACACGGTT-1</td>\n",
       "      <td>0.707984</td>\n",
       "    </tr>\n",
       "    <tr>\n",
       "      <th>18</th>\n",
       "      <td>GGACCGTGGGAACG-1</td>\n",
       "      <td>0.114186</td>\n",
       "    </tr>\n",
       "    <tr>\n",
       "      <th>19</th>\n",
       "      <td>GGGCCAACCTTGGA-1</td>\n",
       "      <td>0.798096</td>\n",
       "    </tr>\n",
       "    <tr>\n",
       "      <th>20</th>\n",
       "      <td>GTTAACCTTGCTTT-1</td>\n",
       "      <td>0.421150</td>\n",
       "    </tr>\n",
       "    <tr>\n",
       "      <th>21</th>\n",
       "      <td>TAGGCATGCTCTCG-1</td>\n",
       "      <td>0.721983</td>\n",
       "    </tr>\n",
       "    <tr>\n",
       "      <th>22</th>\n",
       "      <td>TCTAACACGAGCAG-1</td>\n",
       "      <td>0.284855</td>\n",
       "    </tr>\n",
       "    <tr>\n",
       "      <th>23</th>\n",
       "      <td>TGCAATCTTCAGGT-1</td>\n",
       "      <td>0.912272</td>\n",
       "    </tr>\n",
       "    <tr>\n",
       "      <th>24</th>\n",
       "      <td>TGTAGGTGCTCTAT-1</td>\n",
       "      <td>0.616002</td>\n",
       "    </tr>\n",
       "    <tr>\n",
       "      <th>25</th>\n",
       "      <td>TTACTCGACGCAAT-1</td>\n",
       "      <td>0.378805</td>\n",
       "    </tr>\n",
       "    <tr>\n",
       "      <th>26</th>\n",
       "      <td>TTATGGCTTATGGC-1</td>\n",
       "      <td>0.422987</td>\n",
       "    </tr>\n",
       "    <tr>\n",
       "      <th>27</th>\n",
       "      <td>TTGAGGACTACGCA-1</td>\n",
       "      <td>0.544432</td>\n",
       "    </tr>\n",
       "    <tr>\n",
       "      <th>28</th>\n",
       "      <td>TTTAGCTGTACTCT-1</td>\n",
       "      <td>0.689446</td>\n",
       "    </tr>\n",
       "    <tr>\n",
       "      <th>29</th>\n",
       "      <td>TTTCGAACACCTGA-1</td>\n",
       "      <td>0.915720</td>\n",
       "    </tr>\n",
       "  </tbody>\n",
       "</table>\n",
       "</div>"
      ],
      "text/plain": [
       "               index      proj\n",
       "0   AAGATTACCGCCTT-1  0.254572\n",
       "1   AAGCCATGAACTGC-1  0.525927\n",
       "2   AATGCGTGGACGGA-1  0.118430\n",
       "3   AATTACGAATTCCT-1  0.195944\n",
       "4   ACGAGGGACAGGAG-1  0.658741\n",
       "5   ACGTGATGCCATGA-1  0.330072\n",
       "6   ACTTAAGATTACTC-1  0.096151\n",
       "7   AGCACTGATGCTTT-1  0.424344\n",
       "8   ATACCACTCTAAGC-1  0.184605\n",
       "9   ATACCGGAATGCTG-1  0.418610\n",
       "10  ATGTAAACGGGATG-1  0.005927\n",
       "11  ATTGTAGATTCCCG-1  0.009129\n",
       "12  CGATCAGATGTGAC-1  0.831659\n",
       "13  CTCCACGAGAGATA-1  0.304461\n",
       "14  GAAAGTGAAAGTGA-1  0.502925\n",
       "15  GAAGGTCTTAAAGG-1  0.437255\n",
       "16  GACATTCTCCACCT-1  0.368181\n",
       "17  GCGTAAACACGGTT-1  0.707984\n",
       "18  GGACCGTGGGAACG-1  0.114186\n",
       "19  GGGCCAACCTTGGA-1  0.798096\n",
       "20  GTTAACCTTGCTTT-1  0.421150\n",
       "21  TAGGCATGCTCTCG-1  0.721983\n",
       "22  TCTAACACGAGCAG-1  0.284855\n",
       "23  TGCAATCTTCAGGT-1  0.912272\n",
       "24  TGTAGGTGCTCTAT-1  0.616002\n",
       "25  TTACTCGACGCAAT-1  0.378805\n",
       "26  TTATGGCTTATGGC-1  0.422987\n",
       "27  TTGAGGACTACGCA-1  0.544432\n",
       "28  TTTAGCTGTACTCT-1  0.689446\n",
       "29  TTTCGAACACCTGA-1  0.915720"
      ]
     },
     "execution_count": 7,
     "metadata": {},
     "output_type": "execute_result"
    }
   ],
   "source": [
    "test.selected_cells"
   ]
  },
  {
   "cell_type": "code",
   "execution_count": 6,
   "id": "occupational-judgment",
   "metadata": {},
   "outputs": [
    {
     "name": "stdout",
     "output_type": "stream",
     "text": [
      "Selected 37 cells\n",
      "Calculating correlations...\n",
      "Done\n",
      "Selected gene 1797\n",
      "Min/max expression level for gene 1797 -0.979315221309662 2.0967912673950195\n",
      "EXPORTING DATA...\n",
      "BYE\n"
     ]
    }
   ],
   "source": [
    "test = UMAPexplorer(_umap.values, _expr.values)\n",
    "test.explore_data()"
   ]
  },
  {
   "cell_type": "code",
   "execution_count": null,
   "id": "thousand-viewer",
   "metadata": {},
   "outputs": [],
   "source": []
  }
 ],
 "metadata": {
  "kernelspec": {
   "display_name": "Python 3",
   "language": "python",
   "name": "python3"
  },
  "language_info": {
   "codemirror_mode": {
    "name": "ipython",
    "version": 3
   },
   "file_extension": ".py",
   "mimetype": "text/x-python",
   "name": "python",
   "nbconvert_exporter": "python",
   "pygments_lexer": "ipython3",
   "version": "3.8.8"
  }
 },
 "nbformat": 4,
 "nbformat_minor": 5
}
