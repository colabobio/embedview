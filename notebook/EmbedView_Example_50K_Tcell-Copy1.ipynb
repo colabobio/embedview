{
 "cells": [
  {
   "cell_type": "markdown",
   "id": "acting-bearing",
   "metadata": {},
   "source": [
    "## Fixes:\n",
    "- sort in absolute value\n",
    "- Put it in a module / pip / conda\n",
    "- Add differential expression feature\n",
    "- Calculate everything in matrices rather than for loops\n",
    "- When you color cells, what should the max and min expression be? Based on the selected cells or based on all of the cells. Currently it seems to remap based on only the selected cells but this is maybe misleading.\n",
    "\n",
    "- Pearson R vs. Spearman R?\n",
    "\n",
    "\n",
    "- Required input values: Pandas vs. numpy\n",
    "\n",
    "\n",
    "\n",
    "\n",
    "## Installation:\n",
    "Currently:\n",
    "conda env create -n py5coding -f http://py5.ixora.io/install/py5_environment.yml\n",
    "conda install scipy\n",
    "python setup.py install ## within embedview directory "
   ]
  },
  {
   "cell_type": "code",
   "execution_count": 1,
   "id": "palestinian-worthy",
   "metadata": {},
   "outputs": [],
   "source": [
    "import pandas as pd\n",
    "import numpy as np\n",
    "from scipy.io import mmread"
   ]
  },
  {
   "cell_type": "code",
   "execution_count": 2,
   "id": "lucky-spelling",
   "metadata": {},
   "outputs": [],
   "source": [
    "%load_ext py5\n",
    "%gui osx\n",
    "%load_ext autoreload\n",
    "%autoreload 2"
   ]
  },
  {
   "cell_type": "code",
   "execution_count": 7,
   "id": "further-irrigation",
   "metadata": {
    "tags": []
   },
   "outputs": [
    {
     "name": "stdout",
     "output_type": "stream",
     "text": [
      "DOWNLOADING AND EXTRACTING EXAMPLE DATA\n",
      "--2021-04-09 20:32:16--  https://storage.googleapis.com/sabeti-public/dkotliar/scnavigator/pbmc68k_Tcell/data/Tcell50K_expression_log2TP10K_20210409.umap.tsv\n",
      "Resolving storage.googleapis.com (storage.googleapis.com)... 172.217.7.16, 172.217.10.48, 172.217.10.80, ...\n",
      "Connecting to storage.googleapis.com (storage.googleapis.com)|172.217.7.16|:443... connected.\n",
      "HTTP request sent, awaiting response... 200 OK\n",
      "Length: 1948398 (1.9M) [text/tab-separated-values]\n",
      "Saving to: ‘../data/Tcell50K_expression_log2TP10K_20210409.umap.tsv’\n",
      "\n",
      "../data/Tcell50K_ex 100%[===================>]   1.86M  9.74MB/s    in 0.2s    \n",
      "\n",
      "2021-04-09 20:32:16 (9.74 MB/s) - ‘../data/Tcell50K_expression_log2TP10K_20210409.umap.tsv’ saved [1948398/1948398]\n",
      "\n"
     ]
    }
   ],
   "source": [
    "print('DOWNLOADING AND EXTRACTING EXAMPLE DATA')\n",
    "! mkdir -p ../data\n",
    "! wget https://storage.googleapis.com/sabeti-public/dkotliar/scnavigator/pbmc68k_Tcell/data/Tcell50K_expression_log2TP10K_20210409.barcodes.tsv -O ../data/Tcell50K_expression_log2TP10K_20210409.barcodes.tsv\n",
    "! wget https://storage.googleapis.com/sabeti-public/dkotliar/scnavigator/pbmc68k_Tcell/data/Tcell50K_expression_log2TP10K_20210409.genes.tsv -O ../data/Tcell50K_expression_log2TP10K_20210409.genes.tsv\n",
    "! wget https://storage.googleapis.com/sabeti-public/dkotliar/scnavigator/pbmc68k_Tcell/data/Tcell50K_expression_log2TP10K_20210409.umap.tsv -O ../data/Tcell50K_expression_log2TP10K_20210409.umap.tsv\n",
    "! wget https://storage.googleapis.com/sabeti-public/dkotliar/scnavigator/pbmc68k_Tcell/data/Tcell50K_expression_log2TP10K_20210409.mtx -O ../data/Tcell50K_expression_log2TP10K_20210409.mtx"
   ]
  },
  {
   "cell_type": "code",
   "execution_count": 3,
   "id": "deadly-washer",
   "metadata": {},
   "outputs": [
    {
     "name": "stdout",
     "output_type": "stream",
     "text": [
      "LOADING UMAP DATA...\n"
     ]
    },
    {
     "data": {
      "text/html": [
       "<div>\n",
       "<style scoped>\n",
       "    .dataframe tbody tr th:only-of-type {\n",
       "        vertical-align: middle;\n",
       "    }\n",
       "\n",
       "    .dataframe tbody tr th {\n",
       "        vertical-align: top;\n",
       "    }\n",
       "\n",
       "    .dataframe thead th {\n",
       "        text-align: right;\n",
       "    }\n",
       "</style>\n",
       "<table border=\"1\" class=\"dataframe\">\n",
       "  <thead>\n",
       "    <tr style=\"text-align: right;\">\n",
       "      <th></th>\n",
       "      <th>UMAP_1</th>\n",
       "      <th>UMAP_2</th>\n",
       "    </tr>\n",
       "  </thead>\n",
       "  <tbody>\n",
       "    <tr>\n",
       "      <th>AAACATACACCCAA-1</th>\n",
       "      <td>3.975246</td>\n",
       "      <td>10.370767</td>\n",
       "    </tr>\n",
       "    <tr>\n",
       "      <th>AAACATACCCCTCA-1</th>\n",
       "      <td>9.388674</td>\n",
       "      <td>1.431675</td>\n",
       "    </tr>\n",
       "    <tr>\n",
       "      <th>AAACATACCGGAGA-1</th>\n",
       "      <td>12.206055</td>\n",
       "      <td>11.943375</td>\n",
       "    </tr>\n",
       "    <tr>\n",
       "      <th>AAACATACTCTTCA-1</th>\n",
       "      <td>15.312049</td>\n",
       "      <td>-2.373958</td>\n",
       "    </tr>\n",
       "    <tr>\n",
       "      <th>AAACATACTGGATC-1</th>\n",
       "      <td>10.571509</td>\n",
       "      <td>-6.149192</td>\n",
       "    </tr>\n",
       "  </tbody>\n",
       "</table>\n",
       "</div>"
      ],
      "text/plain": [
       "                     UMAP_1     UMAP_2\n",
       "AAACATACACCCAA-1   3.975246  10.370767\n",
       "AAACATACCCCTCA-1   9.388674   1.431675\n",
       "AAACATACCGGAGA-1  12.206055  11.943375\n",
       "AAACATACTCTTCA-1  15.312049  -2.373958\n",
       "AAACATACTGGATC-1  10.571509  -6.149192"
      ]
     },
     "execution_count": 3,
     "metadata": {},
     "output_type": "execute_result"
    }
   ],
   "source": [
    "print(\"LOADING UMAP DATA...\")\n",
    "\n",
    "_umap = pd.read_csv('../data/Tcell50K_expression_log2TP10K_20210409.umap.tsv', sep='\\t', index_col=0)\n",
    "_umap.head()"
   ]
  },
  {
   "cell_type": "code",
   "execution_count": 4,
   "id": "complicated-check",
   "metadata": {},
   "outputs": [
    {
     "name": "stdout",
     "output_type": "stream",
     "text": [
      "LOADING GENE EXPRESSION DATA...\n"
     ]
    },
    {
     "data": {
      "text/plain": [
       "<52899x12563 sparse matrix of type '<class 'numpy.float64'>'\n",
       "\twith 28209469 stored elements in COOrdinate format>"
      ]
     },
     "execution_count": 4,
     "metadata": {},
     "output_type": "execute_result"
    }
   ],
   "source": [
    "print(\"LOADING GENE EXPRESSION DATA...\")\n",
    "\n",
    "_expr = mmread('../data/Tcell50K_expression_log2TP10K_20210409.mtx')\n",
    "_expr"
   ]
  },
  {
   "cell_type": "code",
   "execution_count": 5,
   "id": "heated-nowhere",
   "metadata": {},
   "outputs": [],
   "source": [
    "genes = pd.read_csv('../data/Tcell50K_expression_log2TP10K_20210409.genes.tsv', sep='\\t', header=None)\n",
    "barcodes = pd.read_csv('../data/Tcell50K_expression_log2TP10K_20210409.barcodes.tsv', sep='\\t', header=None)"
   ]
  },
  {
   "cell_type": "code",
   "execution_count": 6,
   "id": "comprehensive-dover",
   "metadata": {},
   "outputs": [],
   "source": [
    "_expr = pd.DataFrame(_expr.todense(), columns=genes[0], index=barcodes[0])"
   ]
  },
  {
   "cell_type": "code",
   "execution_count": 7,
   "id": "social-height",
   "metadata": {},
   "outputs": [
    {
     "data": {
      "text/html": [
       "<div>\n",
       "<style scoped>\n",
       "    .dataframe tbody tr th:only-of-type {\n",
       "        vertical-align: middle;\n",
       "    }\n",
       "\n",
       "    .dataframe tbody tr th {\n",
       "        vertical-align: top;\n",
       "    }\n",
       "\n",
       "    .dataframe thead th {\n",
       "        text-align: right;\n",
       "    }\n",
       "</style>\n",
       "<table border=\"1\" class=\"dataframe\">\n",
       "  <thead>\n",
       "    <tr style=\"text-align: right;\">\n",
       "      <th></th>\n",
       "      <th>LINC00115</th>\n",
       "      <th>FAM41C</th>\n",
       "      <th>NOC2L</th>\n",
       "      <th>KLHL17</th>\n",
       "      <th>PLEKHN1</th>\n",
       "      <th>HES4</th>\n",
       "      <th>ISG15</th>\n",
       "      <th>AGRN</th>\n",
       "      <th>C1orf159</th>\n",
       "      <th>TTLL10</th>\n",
       "      <th>...</th>\n",
       "      <th>MT-ATP6</th>\n",
       "      <th>MT-CO3</th>\n",
       "      <th>MT-ND3</th>\n",
       "      <th>MT-ND4L</th>\n",
       "      <th>MT-ND4</th>\n",
       "      <th>MT-ND5</th>\n",
       "      <th>MT-ND6</th>\n",
       "      <th>MT-CYB</th>\n",
       "      <th>PNRC2-1</th>\n",
       "      <th>SRSF10-1</th>\n",
       "    </tr>\n",
       "    <tr>\n",
       "      <th>0</th>\n",
       "      <th></th>\n",
       "      <th></th>\n",
       "      <th></th>\n",
       "      <th></th>\n",
       "      <th></th>\n",
       "      <th></th>\n",
       "      <th></th>\n",
       "      <th></th>\n",
       "      <th></th>\n",
       "      <th></th>\n",
       "      <th></th>\n",
       "      <th></th>\n",
       "      <th></th>\n",
       "      <th></th>\n",
       "      <th></th>\n",
       "      <th></th>\n",
       "      <th></th>\n",
       "      <th></th>\n",
       "      <th></th>\n",
       "      <th></th>\n",
       "      <th></th>\n",
       "    </tr>\n",
       "  </thead>\n",
       "  <tbody>\n",
       "    <tr>\n",
       "      <th>AAACATACACCCAA-1</th>\n",
       "      <td>0.0</td>\n",
       "      <td>0.0</td>\n",
       "      <td>0.0</td>\n",
       "      <td>0.0</td>\n",
       "      <td>0.0</td>\n",
       "      <td>0.0</td>\n",
       "      <td>0.0</td>\n",
       "      <td>0.0</td>\n",
       "      <td>0.0</td>\n",
       "      <td>0.0</td>\n",
       "      <td>...</td>\n",
       "      <td>0.0000</td>\n",
       "      <td>3.5257</td>\n",
       "      <td>2.2240</td>\n",
       "      <td>0.0</td>\n",
       "      <td>2.8615</td>\n",
       "      <td>2.2240</td>\n",
       "      <td>0.0</td>\n",
       "      <td>3.2477</td>\n",
       "      <td>2.224</td>\n",
       "      <td>0.0</td>\n",
       "    </tr>\n",
       "    <tr>\n",
       "      <th>AAACATACCCCTCA-1</th>\n",
       "      <td>0.0</td>\n",
       "      <td>0.0</td>\n",
       "      <td>0.0</td>\n",
       "      <td>0.0</td>\n",
       "      <td>0.0</td>\n",
       "      <td>0.0</td>\n",
       "      <td>0.0</td>\n",
       "      <td>0.0</td>\n",
       "      <td>0.0</td>\n",
       "      <td>0.0</td>\n",
       "      <td>...</td>\n",
       "      <td>2.1965</td>\n",
       "      <td>4.0423</td>\n",
       "      <td>0.0000</td>\n",
       "      <td>0.0</td>\n",
       "      <td>2.8325</td>\n",
       "      <td>2.1965</td>\n",
       "      <td>0.0</td>\n",
       "      <td>3.2181</td>\n",
       "      <td>0.000</td>\n",
       "      <td>0.0</td>\n",
       "    </tr>\n",
       "    <tr>\n",
       "      <th>AAACATACCGGAGA-1</th>\n",
       "      <td>0.0</td>\n",
       "      <td>0.0</td>\n",
       "      <td>0.0</td>\n",
       "      <td>0.0</td>\n",
       "      <td>0.0</td>\n",
       "      <td>0.0</td>\n",
       "      <td>0.0</td>\n",
       "      <td>0.0</td>\n",
       "      <td>0.0</td>\n",
       "      <td>0.0</td>\n",
       "      <td>...</td>\n",
       "      <td>0.0000</td>\n",
       "      <td>2.7820</td>\n",
       "      <td>0.0000</td>\n",
       "      <td>0.0</td>\n",
       "      <td>2.7820</td>\n",
       "      <td>3.1666</td>\n",
       "      <td>0.0</td>\n",
       "      <td>3.1666</td>\n",
       "      <td>0.000</td>\n",
       "      <td>0.0</td>\n",
       "    </tr>\n",
       "    <tr>\n",
       "      <th>AAACATACTCTTCA-1</th>\n",
       "      <td>0.0</td>\n",
       "      <td>0.0</td>\n",
       "      <td>0.0</td>\n",
       "      <td>0.0</td>\n",
       "      <td>0.0</td>\n",
       "      <td>0.0</td>\n",
       "      <td>0.0</td>\n",
       "      <td>0.0</td>\n",
       "      <td>0.0</td>\n",
       "      <td>0.0</td>\n",
       "      <td>...</td>\n",
       "      <td>0.0000</td>\n",
       "      <td>2.2008</td>\n",
       "      <td>2.2008</td>\n",
       "      <td>0.0</td>\n",
       "      <td>2.8370</td>\n",
       "      <td>0.0000</td>\n",
       "      <td>0.0</td>\n",
       "      <td>3.2227</td>\n",
       "      <td>0.000</td>\n",
       "      <td>0.0</td>\n",
       "    </tr>\n",
       "    <tr>\n",
       "      <th>AAACATACTGGATC-1</th>\n",
       "      <td>0.0</td>\n",
       "      <td>0.0</td>\n",
       "      <td>0.0</td>\n",
       "      <td>0.0</td>\n",
       "      <td>0.0</td>\n",
       "      <td>0.0</td>\n",
       "      <td>0.0</td>\n",
       "      <td>0.0</td>\n",
       "      <td>0.0</td>\n",
       "      <td>0.0</td>\n",
       "      <td>...</td>\n",
       "      <td>2.7849</td>\n",
       "      <td>2.7849</td>\n",
       "      <td>0.0000</td>\n",
       "      <td>0.0</td>\n",
       "      <td>3.1695</td>\n",
       "      <td>2.1516</td>\n",
       "      <td>0.0</td>\n",
       "      <td>2.1516</td>\n",
       "      <td>0.000</td>\n",
       "      <td>0.0</td>\n",
       "    </tr>\n",
       "  </tbody>\n",
       "</table>\n",
       "<p>5 rows × 12563 columns</p>\n",
       "</div>"
      ],
      "text/plain": [
       "0                 LINC00115  FAM41C  NOC2L  KLHL17  PLEKHN1  HES4  ISG15  \\\n",
       "0                                                                          \n",
       "AAACATACACCCAA-1        0.0     0.0    0.0     0.0      0.0   0.0    0.0   \n",
       "AAACATACCCCTCA-1        0.0     0.0    0.0     0.0      0.0   0.0    0.0   \n",
       "AAACATACCGGAGA-1        0.0     0.0    0.0     0.0      0.0   0.0    0.0   \n",
       "AAACATACTCTTCA-1        0.0     0.0    0.0     0.0      0.0   0.0    0.0   \n",
       "AAACATACTGGATC-1        0.0     0.0    0.0     0.0      0.0   0.0    0.0   \n",
       "\n",
       "0                 AGRN  C1orf159  TTLL10  ...  MT-ATP6  MT-CO3  MT-ND3  \\\n",
       "0                                         ...                            \n",
       "AAACATACACCCAA-1   0.0       0.0     0.0  ...   0.0000  3.5257  2.2240   \n",
       "AAACATACCCCTCA-1   0.0       0.0     0.0  ...   2.1965  4.0423  0.0000   \n",
       "AAACATACCGGAGA-1   0.0       0.0     0.0  ...   0.0000  2.7820  0.0000   \n",
       "AAACATACTCTTCA-1   0.0       0.0     0.0  ...   0.0000  2.2008  2.2008   \n",
       "AAACATACTGGATC-1   0.0       0.0     0.0  ...   2.7849  2.7849  0.0000   \n",
       "\n",
       "0                 MT-ND4L  MT-ND4  MT-ND5  MT-ND6  MT-CYB  PNRC2-1  SRSF10-1  \n",
       "0                                                                             \n",
       "AAACATACACCCAA-1      0.0  2.8615  2.2240     0.0  3.2477    2.224       0.0  \n",
       "AAACATACCCCTCA-1      0.0  2.8325  2.1965     0.0  3.2181    0.000       0.0  \n",
       "AAACATACCGGAGA-1      0.0  2.7820  3.1666     0.0  3.1666    0.000       0.0  \n",
       "AAACATACTCTTCA-1      0.0  2.8370  0.0000     0.0  3.2227    0.000       0.0  \n",
       "AAACATACTGGATC-1      0.0  3.1695  2.1516     0.0  2.1516    0.000       0.0  \n",
       "\n",
       "[5 rows x 12563 columns]"
      ]
     },
     "execution_count": 7,
     "metadata": {},
     "output_type": "execute_result"
    }
   ],
   "source": [
    "_expr.head()"
   ]
  },
  {
   "cell_type": "code",
   "execution_count": 8,
   "id": "liable-pixel",
   "metadata": {},
   "outputs": [
    {
     "data": {
      "text/plain": [
       "(52899, 12563)"
      ]
     },
     "execution_count": 8,
     "metadata": {},
     "output_type": "execute_result"
    }
   ],
   "source": [
    "_expr.shape"
   ]
  },
  {
   "cell_type": "code",
   "execution_count": 9,
   "id": "revised-heritage",
   "metadata": {},
   "outputs": [
    {
     "name": "stdout",
     "output_type": "stream",
     "text": [
      "A\n",
      "B\n",
      "C\n",
      "Selected 5587 cells\n",
      "Calculating correlations...\n"
     ]
    },
    {
     "name": "stderr",
     "output_type": "stream",
     "text": [
      "/Users/dylankotliar/miniconda3/envs/py5coding/lib/python3.8/site-packages/scipy/stats/stats.py:3913: PearsonRConstantInputWarning: An input array is constant; the correlation coefficent is not defined.\n",
      "  warnings.warn(PearsonRConstantInputWarning())\n"
     ]
    }
   ],
   "source": [
    "#from umap_explorer import UMAPexplorer\n",
    "import sys\n",
    "sys.path.append('../umap_explorer/')\n",
    "from umap_explorer import UMAPexplorer\n",
    "\n",
    "test = UMAPexplorer(_umap, _expr)\n",
    "test.explore_data()"
   ]
  },
  {
   "cell_type": "code",
   "execution_count": 7,
   "id": "biological-brunei",
   "metadata": {},
   "outputs": [
    {
     "data": {
      "text/html": [
       "<div>\n",
       "<style scoped>\n",
       "    .dataframe tbody tr th:only-of-type {\n",
       "        vertical-align: middle;\n",
       "    }\n",
       "\n",
       "    .dataframe tbody tr th {\n",
       "        vertical-align: top;\n",
       "    }\n",
       "\n",
       "    .dataframe thead th {\n",
       "        text-align: right;\n",
       "    }\n",
       "</style>\n",
       "<table border=\"1\" class=\"dataframe\">\n",
       "  <thead>\n",
       "    <tr style=\"text-align: right;\">\n",
       "      <th></th>\n",
       "      <th>R</th>\n",
       "      <th>P</th>\n",
       "    </tr>\n",
       "  </thead>\n",
       "  <tbody>\n",
       "    <tr>\n",
       "      <th>NKG7</th>\n",
       "      <td>-0.849035</td>\n",
       "      <td>0.000000e+00</td>\n",
       "    </tr>\n",
       "    <tr>\n",
       "      <th>CST7</th>\n",
       "      <td>-0.783443</td>\n",
       "      <td>0.000000e+00</td>\n",
       "    </tr>\n",
       "    <tr>\n",
       "      <th>GZMA</th>\n",
       "      <td>-0.743934</td>\n",
       "      <td>1.619564e-281</td>\n",
       "    </tr>\n",
       "    <tr>\n",
       "      <th>GZMB</th>\n",
       "      <td>-0.738800</td>\n",
       "      <td>1.166037e-275</td>\n",
       "    </tr>\n",
       "    <tr>\n",
       "      <th>PRF1</th>\n",
       "      <td>-0.725407</td>\n",
       "      <td>5.188725e-261</td>\n",
       "    </tr>\n",
       "  </tbody>\n",
       "</table>\n",
       "</div>"
      ],
      "text/plain": [
       "             R              P\n",
       "NKG7 -0.849035   0.000000e+00\n",
       "CST7 -0.783443   0.000000e+00\n",
       "GZMA -0.743934  1.619564e-281\n",
       "GZMB -0.738800  1.166037e-275\n",
       "PRF1 -0.725407  5.188725e-261"
      ]
     },
     "execution_count": 7,
     "metadata": {},
     "output_type": "execute_result"
    }
   ],
   "source": [
    "test.significant_genes.head()"
   ]
  }
 ],
 "metadata": {
  "kernelspec": {
   "display_name": "Python 3",
   "language": "python",
   "name": "python3"
  },
  "language_info": {
   "codemirror_mode": {
    "name": "ipython",
    "version": 3
   },
   "file_extension": ".py",
   "mimetype": "text/x-python",
   "name": "python",
   "nbconvert_exporter": "python",
   "pygments_lexer": "ipython3",
   "version": "3.8.8"
  }
 },
 "nbformat": 4,
 "nbformat_minor": 5
}
